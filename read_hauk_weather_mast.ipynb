{
 "cells": [
  {
   "cell_type": "markdown",
   "metadata": {},
   "source": [
    "# Read temperature data from weather mast at Haukeliseter site"
   ]
  },
  {
   "cell_type": "code",
   "execution_count": 1,
   "metadata": {
    "collapsed": true
   },
   "outputs": [],
   "source": [
    "import matplotlib.pyplot as plt\n",
    "import matplotlib.dates as dates\n",
    "import numpy as np \n",
    "import csv\n",
    "import pandas as pd\n",
    "import datetime\n",
    "from datetime import date\n",
    "import calendar\n",
    "\n",
    "\n",
    "%matplotlib inline    \n",
    "\n"
   ]
  },
  {
   "cell_type": "code",
   "execution_count": 2,
   "metadata": {
    "collapsed": true
   },
   "outputs": [],
   "source": [
    "Hauke = pd.read_csv('../Retrieval/201612.Haukeliseter_SC_copy.txt',\\\n",
    "                    sep = ',',header=0)"
   ]
  },
  {
   "cell_type": "code",
   "execution_count": 3,
   "metadata": {
    "collapsed": true
   },
   "outputs": [],
   "source": [
    "dd = Hauke['Date']\n",
    "time = Hauke['TimeStamp']     # Time Stamp\n",
    "df1 = Hauke['RA1'].astype(float)            # total accumulation from Geonor inside DOUBLE FENCE [mm] RA1\n",
    "df2 = Hauke['RA2'].astype(float)\n",
    "df3 = Hauke['RA3'].astype(float)\n",
    "sf1 = Hauke['X2RA1'].astype(float)          # Total accumulation from Geonor South, shielded with SINGLE FENCE [mm] X2RA1\n",
    "sf2 = Hauke['X2RA2'].astype(float)\n",
    "sf3 = Hauke['X2RA3'].astype(float)\n",
    "temp = Hauke['TA'].astype(float)            # Air temperature, PT100 [deg C] TA\n",
    "wind45 = Hauke['3DFFL4']      # wind speed 4.5m @ mast 2 [m/s] 3DFFL4\n",
    "\n",
    "\n",
    "df1 = df1.where(df1 != -999.00)\n",
    "df2 = df2.where(df2 != -999.00)\n",
    "df3 = df3.where(df3 != -999.00)\n",
    "sf1 = sf1.where(sf1 != -999.00)\n",
    "sf2 = sf2.where(sf2 != -999.00)\n",
    "sf3 = sf3.where(sf3 != -999.00)\n",
    "temp = temp.where(temp != -999.00)\n",
    "wind45 = wind45.where(wind45 != -999.00)"
   ]
  },
  {
   "cell_type": "code",
   "execution_count": 4,
   "metadata": {
    "collapsed": true
   },
   "outputs": [],
   "source": [
    "# --------- SET DAYS WHERE 1440 MIN PER 24H ----------------------------------------------\n",
    "dy = np.zeros((32,1))\n",
    "\n",
    "for i in range(0,32):\n",
    "    dy[i,:] = i*1440.     # begin of the new day 00:00:00\n",
    "    \n"
   ]
  },
  {
   "cell_type": "code",
   "execution_count": null,
   "metadata": {},
   "outputs": [],
   "source": [
    "# --------- PRINT OUT TEMP FILES FOR A PRIORI GUESS --------------------------------------\n",
    "idx = np.arange((1440))\n",
    "t = np.zeros((1440,32))\n",
    "filename = []\n",
    "\n",
    "\n",
    "for i in range(0,31):\n",
    "    t[:,i] = temp[i*1440:(i+1)*1440]\n",
    "print(t[:,0])\n",
    "\n",
    "for day in range(1,32):\n",
    "    if day < 10:\n",
    "        day = str(day)\n",
    "        day = '0%s' %day\n",
    "    else:\n",
    "        day = str(day)\n",
    "\n",
    "    filename.append('../Observations/hauk_temp/surftemp_201612%s.dat' %day)\n",
    "\n",
    "for i in range(0,31):\n",
    "    np.savetxt(filename[i], np.transpose([idx,t[:,i]]), fmt = '%1.i %2.5f')\n"
   ]
  },
  {
   "cell_type": "code",
   "execution_count": 5,
   "metadata": {
    "collapsed": true
   },
   "outputs": [],
   "source": [
    "# --------- CALCULATE DAILY TOTAL SNOWFALL -----------------------------------------------\n",
    "acc1_day = np.zeros((32,1))\n",
    "acc2_day = np.zeros((32,1))\n",
    "acc3_day = np.zeros((32,1))\n",
    "\n",
    "for i in range(0,31):\n",
    "    bot = dy[i]                                       # lower amount of snow from previous day\n",
    "    top = dy[i+1]-1                                   # top of snow amount after 1 day snowfall\n",
    "    acc1_day[i,:] = float(df1[top])-float(df1[bot])   # Sensor 1 DOUBLE FENCE\n",
    "                                                      # daily snowfall by subtracting the snow accumulation of the end of the day from the\n",
    "                                                      # end of the previous day\n",
    "    acc2_day[i,:] = float(df2[top])-float(df2[bot])   # Sensor 2 DOUBLE FENCE\n",
    "    acc3_day[i,:] = float(df3[top])-float(df3[bot])   # Sensor 3 DOUBLE FENCE\n",
    "\n",
    "acc_avg = (acc1_day+acc2_day+acc3_day)/3.\n",
    "acc_day = np.c_[acc1_day, acc2_day, acc3_day]\n",
    "acc_avg = np.mean(acc_day,axis =1)\n",
    "#print(acc1_day)\n",
    "#print(acc2_day)\n",
    "#print(acc3_day)\n",
    "\n",
    "\n"
   ]
  },
  {
   "cell_type": "code",
   "execution_count": 6,
   "metadata": {
    "collapsed": true
   },
   "outputs": [],
   "source": [
    "# --------- CALCULATE ACCUMULATION DURING A GIVEN DAY ------------------------------------\n",
    "df = np.c_[df1, df2, df3]\n",
    "sf = np.c_[sf1, sf2, sf3]\n",
    "\n",
    "# axis=1 will return the mean of every single row in the DataFrame\n",
    "dfavg = np.mean(df, axis = 1)       # arithmetic mean of the total accumulation DOUBLE FENCE for each minute\n",
    "sfavg = np.mean(df, axis = 1)       #                                           SINGLE FENCE\n",
    "\n",
    "#print(dfavg[8640+0+1],dfavg[8640+1+1])\n",
    "#(df1+df2+df3)/3.\n"
   ]
  },
  {
   "cell_type": "code",
   "execution_count": null,
   "metadata": {
    "collapsed": true
   },
   "outputs": [],
   "source": [
    "tt = np.empty((1,1440))\n",
    "tt[:] = np.NAN\n",
    "\n",
    "accDF = np.zeros((1440,33))\n",
    "accSF = np.zeros((1440,33))\n",
    "\n",
    "for k in range(0,30):\n",
    "    dy_no = int(dy[k,:])                     # index is day of month minus one\n",
    "                                             # select  day through index (e.g. 0 is Day 1)\n",
    "    totDF = 0.\n",
    "    totSF = 0.\n",
    "    for j in range(0,1440):\n",
    "        tt[:,j] = (1/60)*float(j)                        # convert time from minute to 100th of an hour\n",
    "        #tt[:,j] = float(j)\n",
    "        ## DOUBLE FENCE\n",
    "        totDF = totDF + (dfavg[dy_no+j+1] - dfavg[dy_no+j]) # snow accumulation per minute plus previous amount\n",
    "        accDF[j,k] = totDF                                  # DOUBLE FENCE accumulation of the day by using the mean \n",
    "                                                            # of the three double fence values per minute\n",
    "        ## SINGLE FENCE\n",
    "        totSF = totSF + (sfavg[dy_no+j+1] - sfavg[dy_no+j])\n",
    "        accSF[j,k] = totSF\n",
    "        \n"
   ]
  },
  {
   "cell_type": "code",
   "execution_count": null,
   "metadata": {},
   "outputs": [],
   "source": [
    "filename = '../Observations/hauk_temp/accDF.dat' \n",
    "np.savetxt(filename, accDF, fmt = '%2.5f')"
   ]
  },
  {
   "cell_type": "code",
   "execution_count": 7,
   "metadata": {},
   "outputs": [
    {
     "ename": "NameError",
     "evalue": "name 'tt' is not defined",
     "output_type": "error",
     "traceback": [
      "\u001b[0;31m---------------------------------------------------------------------------\u001b[0m",
      "\u001b[0;31mNameError\u001b[0m                                 Traceback (most recent call last)",
      "\u001b[0;32m<ipython-input-7-23c5a871f14b>\u001b[0m in \u001b[0;36m<module>\u001b[0;34m()\u001b[0m\n\u001b[1;32m     20\u001b[0m     \u001b[0mfig\u001b[0m \u001b[0;34m=\u001b[0m \u001b[0mplt\u001b[0m\u001b[0;34m.\u001b[0m\u001b[0mfigure\u001b[0m\u001b[0;34m(\u001b[0m\u001b[0mfigsize\u001b[0m\u001b[0;34m=\u001b[0m\u001b[0;34m(\u001b[0m\u001b[0;36m15\u001b[0m\u001b[0;34m,\u001b[0m\u001b[0;36m12.5\u001b[0m\u001b[0;34m)\u001b[0m\u001b[0;34m)\u001b[0m\u001b[0;34m\u001b[0m\u001b[0m\n\u001b[1;32m     21\u001b[0m     \u001b[0max\u001b[0m \u001b[0;34m=\u001b[0m \u001b[0mfig\u001b[0m\u001b[0;34m.\u001b[0m\u001b[0madd_subplot\u001b[0m\u001b[0;34m(\u001b[0m\u001b[0;36m1\u001b[0m\u001b[0;34m,\u001b[0m\u001b[0;36m1\u001b[0m\u001b[0;34m,\u001b[0m\u001b[0;36m1\u001b[0m\u001b[0;34m)\u001b[0m\u001b[0;34m\u001b[0m\u001b[0m\n\u001b[0;32m---> 22\u001b[0;31m     \u001b[0mplt\u001b[0m\u001b[0;34m.\u001b[0m\u001b[0mplot\u001b[0m\u001b[0;34m(\u001b[0m\u001b[0mnp\u001b[0m\u001b[0;34m.\u001b[0m\u001b[0mtranspose\u001b[0m\u001b[0;34m(\u001b[0m\u001b[0mtt\u001b[0m\u001b[0;34m)\u001b[0m\u001b[0;34m,\u001b[0m\u001b[0maccDF\u001b[0m\u001b[0;34m[\u001b[0m\u001b[0;34m:\u001b[0m\u001b[0;34m,\u001b[0m\u001b[0;34m(\u001b[0m\u001b[0mdy\u001b[0m\u001b[0;34m)\u001b[0m\u001b[0;34m]\u001b[0m\u001b[0;34m)\u001b[0m\u001b[0;34m\u001b[0m\u001b[0m\n\u001b[0m\u001b[1;32m     23\u001b[0m     \u001b[0;31m#,np.transpose(tt),accSF[:,(dy-1)],'bs')\u001b[0m\u001b[0;34m\u001b[0m\u001b[0;34m\u001b[0m\u001b[0m\n\u001b[1;32m     24\u001b[0m \u001b[0;34m\u001b[0m\u001b[0m\n",
      "\u001b[0;31mNameError\u001b[0m: name 'tt' is not defined"
     ]
    },
    {
     "data": {
      "image/png": "[encoded data removed]",
      "text/plain": [
       "<matplotlib.figure.Figure at 0x11fad9940>"
      ]
     },
     "metadata": {},
     "output_type": "display_data"
    }
   ],
   "source": [
    "times = [0, 3, 6, 9, 12, 15, 18, 21, 24]\n",
    "yr = int(2016)\n",
    "mo = int(12)\n",
    "\n",
    "for day in range(5,32):  # start from 6th December\n",
    "    day = day\n",
    "    if day < 10:\n",
    "        day = str(day)\n",
    "        day = '0%s' %day\n",
    "    else:\n",
    "        day = str(day)\n",
    " \n",
    "\n",
    "   \n",
    "    dy = int(day)\n",
    "    my_date = date(yr,mo,dy)\n",
    "    calday = calendar.day_name[my_date.weekday()]\n",
    "    calmon = calendar.month_abbr[mo]\n",
    "    \n",
    "    fig = plt.figure(figsize=(15,12.5))\n",
    "    ax = fig.add_subplot(1,1,1)\n",
    "    plt.plot(np.transpose(tt),accDF[:,(dy)])\n",
    "    #,np.transpose(tt),accSF[:,(dy-1)],'bs')\n",
    "    \n",
    "    \n",
    "    \n",
    "    fig.suptitle('%s, %s %s %s' %(calday, day, calmon, yr), fontsize=16, fontweight='bold')\n",
    "    \n",
    "    ax.set_xlim([0,24])\n",
    "    ax.set_xticks(times)\n",
    "    ax.set_xlabel('Hour', fontsize = 16)\n",
    "        \n",
    "    timer = ['00Z', '03Z','06Z','09Z','12Z','15Z','18Z','21Z','24Z']\n",
    "    ax.set_xticklabels(timer, fontsize = 16)#, rotation=45,fontsize=10)    # rotate x label\n",
    "    \n",
    "    \n",
    "    #ax.set_yticks(np.arange(0,13))\n",
    "    ax.set_ylabel('Accumulation (mm)', fontsize = 16)\n",
    "    #ax.set_yticklabels(np.arange(0,13),fontsize = 16)\n",
    "    \n",
    "    ### Save\n",
    "    plt.savefig('../Observations/figs/%s%s%s_acc.png' % (yr, mo, day))\n",
    "    plt.close(fig)\n",
    "        #ax.set_ylim([0,70])\n",
    "    #ax.set_ylabel('Accumulation (mm)', fontsize = 16)"
   ]
  },
  {
   "cell_type": "code",
   "execution_count": null,
   "metadata": {
    "collapsed": true
   },
   "outputs": [],
   "source": []
  }
 ],
 "metadata": {
  "kernelspec": {
   "display_name": "Python 3",
   "language": "python",
   "name": "python3"
  },
  "language_info": {
   "codemirror_mode": {
    "name": "ipython",
    "version": 3
   },
   "file_extension": ".py",
   "mimetype": "text/x-python",
   "name": "python",
   "nbconvert_exporter": "python",
   "pygments_lexer": "ipython3",
   "version": "3.6.1"
  }
 },
 "nbformat": 4,
 "nbformat_minor": 2
}

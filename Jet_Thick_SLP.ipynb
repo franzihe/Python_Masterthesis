{
 "cells": [
  {
   "cell_type": "markdown",
   "metadata": {},
   "source": [
    "# Jet, Thickness, SLP, and Moisture Map\n",
    "http://www.atmos.albany.edu/student/heathera/2016.html\n",
    " The Thickness, SLP, and Moisture map contains\n",
    "    - 250-hPa wind speed (m s^-1, shaded according to the color bar)\n",
    "    - 1000-500-hPa thickness (dashed contours every 6 dam)\n",
    "    - SLP (solid contours every 4 hPa)\n",
    "    - total precipitable water (mm, shaded according to gray scale)\n",
    "\n",
    "\n",
    "\n",
    " http://apps.ecmwf.int/codes/grib/param-db\n",
    " #### Parameters from ECMWF\n",
    "    - name = 'U component of wind',        shortName = 'u',      [m s^-1]\n",
    "    - name = 'V component of wind',        shortName = 'v',      [m s^-1]\n",
    "    - name = 'Geopotential',               shortName = 'z',      [m^2 s^-2]\n",
    "    - name = 'Mean sea level pressure',    shortName = 'msl',    [Pa]\n",
    "    - name = 'Total column water vapour',  shortName = 'tcwv',   [kg m-2]\n",
    "\n"
   ]
  },
  {
   "cell_type": "markdown",
   "metadata": {},
   "source": [
    "https://software.ecmwf.int/wiki/display/CKB/How+to+plot+GRIB+files+with+Python+and+matplotlib"
   ]
  },
  {
   "cell_type": "code",
   "execution_count": 57,
   "metadata": {
    "collapsed": true
   },
   "outputs": [],
   "source": [
    "import pygrib\n",
    "import matplotlib.pyplot as plt\n",
    "import matplotlib.colors as colors\n",
    "from mpl_toolkits.basemap import Basemap\n",
    "from mpl_toolkits.basemap import shiftgrid\n",
    "from datetime import date\n",
    "import calendar\n",
    "import numpy as np\n",
    "%matplotlib inline\n",
    "\n"
   ]
  },
  {
   "cell_type": "code",
   "execution_count": 58,
   "metadata": {
    "collapsed": true
   },
   "outputs": [],
   "source": [
    "# set the file name of your input GRIB file\n",
    "year = '2016'\n",
    "mon  = '12'\n",
    "day = '10'     # day_time\n",
    "time = '18'\n",
    "#for day in range(10,28):\n",
    "gribUV = '../test_dataECMWF/SCA/pl/uv/param_uv_%s%s%s_%s00.grib' % (year, mon, day, time)    #20161210_0000.grib'\n",
    "\n",
    "gribZ =  '../test_dataECMWF/SCA/pl/z/param_z_%s%s%s_%s00.grib' % (year, mon, day, time)        #20161210_0000.grib'\n",
    "\n",
    "gribMSL = '../test_dataECMWF/SCA/sfc/msl/param_msl_%s%s%s_%s00.grib' % (year, mon, day, time)    #20161210_0000.grib'\n",
    "\n",
    "gribPW = '../test_dataECMWF/SCA/sfc/tcwv/param_tcwv_%s%s%s_%s00.grib' % (year, mon, day, time)    #20161210_0000.grib'\n",
    "\n",
    "# open GRIB file\n",
    "\n",
    "grbsUV = pygrib.open(gribUV)             # U, V component of wind\n",
    "\n",
    "grbsZ = pygrib.open(gribZ)               # Geopotential\n",
    "\n",
    "grbsMSL = pygrib.open(gribMSL)           # Mean Sea Level Pressure\n",
    "\n",
    "grbsPW = pygrib.open(gribPW)             # Total colum water vapour"
   ]
  },
  {
   "cell_type": "code",
   "execution_count": 59,
   "metadata": {
    "collapsed": true
   },
   "outputs": [],
   "source": [
    "grbUV = grbsUV.select()[0]           # finds the first grib message, if grbs.select(name='Maximum temperature') \n",
    "                                     # then first with matching name\n",
    "grbZ = grbsZ.select()[0]\n",
    "grbMSL = grbsMSL.select()[0]\n",
    "grbPW = grbsPW.select()[0]"
   ]
  },
  {
   "cell_type": "code",
   "execution_count": 60,
   "metadata": {
    "collapsed": true
   },
   "outputs": [],
   "source": [
    "#print('U, V component of wind:', grbUV.dataDate,grbUV.dataTime)     # gives the date and forecast time\n",
    "#print('Geopotential:', grbZ.dataDate,grbZ.dataTime)\n",
    "#print('MSL:', grbMSL.dataDate,grbMSL.dataTime)   \n",
    "#print('Precipitable water:', grbPW.dataDate,grbPW.dataTime)"
   ]
  },
  {
   "cell_type": "code",
   "execution_count": 61,
   "metadata": {
    "collapsed": true
   },
   "outputs": [],
   "source": [
    "### print an inventory of the file\n",
    "# U, V component of wind\n",
    "#grbsUV.seek(0)\n",
    "#for grbUV in grbsUV:\n",
    "#    print(grbUV)\n",
    "\n",
    "# Geopotential\n",
    "#grbsZ.seek(0)\n",
    "#for grbZ in grbsZ:\n",
    "#    print(grbZ)\n",
    "    \n",
    "# Mean sea level pressure\n",
    "#grbsMSL.seek(0)\n",
    "#for grbMSL in grbsMSL:\n",
    "#    print(grbMSL)\n",
    "\n",
    "# Total colum water vapour\n",
    "#grbsPW.seek(0)\n",
    "#for grbPW in grbsPW:\n",
    "#    print(grbPW)"
   ]
  },
  {
   "cell_type": "code",
   "execution_count": 62,
   "metadata": {
    "collapsed": true,
    "scrolled": true
   },
   "outputs": [],
   "source": [
    "### get the values into python\n",
    "# find the first grib message with a matching name:\n",
    "\n",
    "## Wind\n",
    "# U component of wind\n",
    "wind_u = grbsUV.select()[0]\n",
    "wind_u = grbsUV.select(shortName = 'u', typeOfLevel = 'isobaricInhPa', level = 250)[0]\n",
    "wind_u = wind_u.values\n",
    "\n",
    "# V component of wind\n",
    "wind_v = grbsUV.select()[0]\n",
    "wind_v = grbsUV.select(shortName = 'v', typeOfLevel = 'isobaricInhPa', level = 250)[0]\n",
    "#print(wind_v)\n",
    "wind_v = wind_v.values"
   ]
  },
  {
   "cell_type": "code",
   "execution_count": 63,
   "metadata": {
    "collapsed": true
   },
   "outputs": [],
   "source": [
    "### Calculate wind speed\n",
    "Uabs = np.sqrt(wind_u**2 + wind_v**2)\n"
   ]
  },
  {
   "cell_type": "code",
   "execution_count": 64,
   "metadata": {
    "collapsed": true
   },
   "outputs": [],
   "source": [
    "## Geopotential\n",
    "# 1000 hPa\n",
    "G1000 = grbsZ.select()[0]\n",
    "G1000 = grbsZ.select(shortName = 'z', typeOfLevel = 'isobaricInhPa', level = 1000)[0]\n",
    "G1000 = G1000.values\n",
    "#print(G1000)\n",
    "\n",
    "# 500 hPa\n",
    "G500 = grbsZ.select()[0]\n",
    "G500 = grbsZ.select(shortName = 'z', typeOfLevel = 'isobaricInhPa', level = 500)[0]\n",
    "G500 = G500.values"
   ]
  },
  {
   "cell_type": "code",
   "execution_count": 65,
   "metadata": {
    "collapsed": true
   },
   "outputs": [],
   "source": [
    "### convert Geopotential to height\n",
    "# https://en.wikipedia.org/wiki/Geopotential\n",
    "a = 6.378*10**6     # average radius of the earth  [m]\n",
    "G = 6.673*10**(-11) # gravitational constant       [Nm2/kg2]\n",
    "ma = 5.975*10**24   #  mass of the earth           [kg]\n",
    "\n",
    "Z1000 = (-a**2 * G1000)/(a*G1000 - G* ma) \n",
    "Z500 = (-a**2 * G500)/(a*G500 - G* ma) \n",
    "\n",
    "Z = (Z500 - Z1000)/10\n"
   ]
  },
  {
   "cell_type": "code",
   "execution_count": 66,
   "metadata": {
    "collapsed": true
   },
   "outputs": [],
   "source": [
    "## Mean sea level pressure\n",
    "MSL = grbsMSL.select()[0]\n",
    "MSL = grbsMSL.select(shortName = 'msl', typeOfLevel = 'surface', level = 0)[0]\n",
    "MSL = MSL.values\n",
    "#print(MSL)"
   ]
  },
  {
   "cell_type": "code",
   "execution_count": 67,
   "metadata": {
    "collapsed": true
   },
   "outputs": [],
   "source": [
    "### converst MSL from Pa --> hPa\n",
    "MSL = 0.01 * MSL\n",
    "#print(MSL)\n"
   ]
  },
  {
   "cell_type": "code",
   "execution_count": 68,
   "metadata": {
    "collapsed": true
   },
   "outputs": [],
   "source": [
    "## Total colum water vapour\n",
    "PW = grbsPW.select()[0]\n",
    "PW = grbsPW.select(shortName = 'tcwv', typeOfLevel = 'surface', level = 0)[0]\n",
    "PW = PW.values\n",
    "#PW.min(), PW.max()"
   ]
  },
  {
   "cell_type": "code",
   "execution_count": 69,
   "metadata": {
    "collapsed": true
   },
   "outputs": [],
   "source": [
    "### Latitudes, Longitudes and shiftgrid\n",
    "# get the latitudes and longitudes of the grid\n",
    "latUV,lonUV = grbUV.latlons()           # Set the names of the latitude and longitude variables in your input GRIB \n",
    "                                        # file \n",
    "latZ,lonZ = grbZ.latlons()\n",
    "latMSL,lonMSL = grbMSL.latlons()\n",
    "latPW,lonPW = grbPW.latlons()\n",
    "\n",
    "lonsUV = lonUV[1]                       # use only one row\n",
    "lonsZ = lonZ[1]\n",
    "lonsMSL = lonMSL[1]\n",
    "lonsPW = lonPW[1]\n",
    "\n",
    "#wind_u,lonsUV = shiftgrid(180.,wind_u,lonsUV,start=False)    #shift all values from >180 deg\n",
    "Uabs,lonsUV = shiftgrid(180.,Uabs,lonsUV,start=False)\n",
    "Z,lonsZ = shiftgrid(180.,Z,lonsZ,start=False)    \n",
    "MSL,lonsMSL = shiftgrid(180.,MSL,lonsMSL,start=False)\n",
    "PW,lonsPW = shiftgrid(180.,PW,lonsPW,start=False)\n",
    "\n",
    "latsUV = latUV[:,0]                   # use only first column\n",
    "latsZ = latZ[:,0]\n",
    "latsMSL = latMSL[:,0]\n",
    "latsPW = latPW[:,0]\n",
    "\n",
    "#print(lonsUV.shape,latsUV.shape, Uabs.shape)\n",
    "#print(lonsZ.shape,latsZ.shape, G1000.shape)\n",
    "#print(lonsMSL.shape,latsMSL.shape, MSL.shape)\n",
    "#print(lonsPW.shape,latsPW.shape, PW.shape)"
   ]
  },
  {
   "cell_type": "markdown",
   "metadata": {},
   "source": [
    "### Plotting data on a map (Example Gallery) https://matplotlib.org/basemap/users/examples.html\n",
    "\n"
   ]
  },
  {
   "cell_type": "code",
   "execution_count": null,
   "metadata": {
    "collapsed": true
   },
   "outputs": [],
   "source": [
    "# Plotting data on a map (Example Gallery) https://matplotlib.org/basemap/users/examples.html\n",
    "m = Basemap(projection='merc', \\\n",
    "            llcrnrlon=-60., urcrnrlon=50., \\\n",
    "            llcrnrlat=30.,urcrnrlat=75., \\\n",
    "            resolution='l')\n",
    "\n",
    "#m = Basemap(projection='merc', \\\n",
    "#            llcrnrlon=-160., urcrnrlon=-60., \\\n",
    "#            llcrnrlat=20.,urcrnrlat=60., \\\n",
    "#            resolution='c')\n",
    "\n",
    "#m = Basemap(projection='cyl', \\\n",
    "#            llcrnrlon=-180., urcrnrlon=180., \\\n",
    "#            llcrnrlat=latsUV.min(),urcrnrlat=latsUV.max(), \\\n",
    "#            resolution='c')\n"
   ]
  },
  {
   "cell_type": "code",
   "execution_count": null,
   "metadata": {
    "collapsed": true
   },
   "outputs": [],
   "source": [
    "lonsUV,latsUV = np.meshgrid(lonsUV,latsUV)            #creates a grid with values of the size of PT\n",
    "lonsZ,latsZ = np.meshgrid(lonsZ,latsZ)\n",
    "lonsMSL,latsMSL = np.meshgrid(lonsMSL,latsMSL)\n",
    "lonsPW,latsPW = np.meshgrid(lonsPW,latsPW)\n",
    "\n",
    "plonsUV, platsUV = m(lonsUV,latsUV)\n",
    "plonsZ, platsZ = m(lonsZ,latsZ)\n",
    "plonsMSL, platsMSL = m(lonsMSL,latsMSL)\n",
    "plonsPW, platsPW = m(lonsPW,latsPW)\n",
    "\n"
   ]
  },
  {
   "cell_type": "code",
   "execution_count": null,
   "metadata": {
    "collapsed": true
   },
   "outputs": [],
   "source": [
    "### Define colorbar colors\n",
    "champ = 255.\n",
    "# tot. precipitable water (grey scale)\n",
    "no1 = np.array([255,255,255])/champ\n",
    "no2 = np.array([231,231,231])/champ\n",
    "no3 = np.array([201,201,201])/champ\n",
    "no4 = np.array([171,171,171])/champ\n",
    "no5 = np.array([140,140,140])/champ\n",
    "no6 = np.array([110,110,110])/champ\n",
    "no7 = np.array([80,80,80])/champ\n",
    "\n",
    "# 250 hPa wind speed (colored scale)\n",
    "no11 = np.array([255,255,255])/champ\n",
    "no12 = np.array([196,225,255])/champ\n",
    "no13 = np.array([131,158,255])/champ\n",
    "no14 = np.array([255,209,177])/champ\n",
    "no15 = np.array([255,118,86])/champ\n",
    "no16 = np.array([239,102,178])/champ\n",
    "no17 = np.array([243,0,146])/champ"
   ]
  },
  {
   "cell_type": "code",
   "execution_count": null,
   "metadata": {
    "collapsed": true
   },
   "outputs": [],
   "source": [
    "### Dates for plotting\n",
    "yr = int(year)\n",
    "mo = int(mon)\n",
    "dy = int(day)\n",
    "my_date = date(yr,mo,dy)\n",
    "calday = calendar.day_name[my_date.weekday()]\n",
    "calmon = calendar.month_abbr[mo]"
   ]
  },
  {
   "cell_type": "code",
   "execution_count": null,
   "metadata": {},
   "outputs": [],
   "source": [
    "### PLOT FIGURE\n",
    "fig = plt.figure(figsize=(15,12))\n",
    "ax = fig.add_subplot(1,1,1)\n",
    "\n",
    "### Draw Latitude Lines\n",
    "m.drawparallels(np.arange(-90.,120.,10.),labels=[1,0,0,0],fontsize=10,linewidth=0.2)\n",
    "\n",
    "### Draw Longitude Lines\n",
    "m.drawmeridians(np.arange(-180.,180.,10.),labels=[0,0,0,1],fontsize=10,linewidth=0.2)\n",
    "\n",
    "### Draw Map\n",
    "m.drawcoastlines()\n",
    "m.drawmapboundary()\n",
    "m.drawcountries()\n",
    "#m.fillcontinents(color='grey',alpha=0.1)\n",
    "\n",
    "\n",
    "### Plot contour lines for 250-hPa wind and fill\n",
    "Ulevels = np.arange(40,120,10)\n",
    "Umap = colors.ListedColormap([no11, no12, no13, no14, no15, no16, no17])\n",
    "norm = colors.BoundaryNorm(boundaries = Ulevels, ncolors=Umap.N)\n",
    "cs = m.contourf(plonsUV, platsUV, Uabs, Ulevels, norm = norm, cmap=Umap)\n",
    "\n",
    "### Plot MSL pressure every 4 hPa\n",
    "clevs = np.arange(900,1100.,4.)\n",
    "cc = m.contour(plonsMSL, platsMSL, MSL, clevs, colors='k', linewidths = 1.8)\n",
    "plt.clabel(cc, fontsize=10, inline = 1, fmt ='%1.0f')\n",
    "\n",
    "### Plot the 1000-500 hPa thickness\n",
    "thlevs1 = np.arange(450., 540., 6.)\n",
    "thlevs2 = np.arange(546., 650., 6.)\n",
    "\n",
    "cth1 = m.contour(plonsZ, platsZ, Z, thlevs1, colors='b', linewidths = 2., linestyles = 'dashed')\n",
    "cth2 = m.contour(plonsZ, platsZ, Z, thlevs2, colors='r', linewidths = 2., linestyles = 'dashed')\n",
    "plt.clabel(cth1, fontsize = 10, inline = 1, fmt = '%1.0f')\n",
    "plt.clabel(cth2, fontsize = 10, inline = 1, fmt = '%1.0f')\n",
    "\n",
    "### Plot contour lines for precipitable water\n",
    "PWlevs = np.arange(22.,78.,8.)\n",
    "Pmap = colors.ListedColormap([no1, no2, no3, no4, no5, no6, no7])\n",
    "normP = colors.BoundaryNorm(boundaries = PWlevs, ncolors=Pmap.N)\n",
    "cp = m.contourf(plonsPW, platsPW, PW, PWlevs, norm = normP, cmap = Pmap)\n",
    "\n",
    "### Add Colorbar\n",
    "cbaxes = fig.add_axes([0.57, 0.05, 0.3, 0.03]) \n",
    "cbar = plt.colorbar(cs,orientation='horizontal', cax = cbaxes)\n",
    "cbar.ax.set_xlabel('250-hPa wind speed')\n",
    "\n",
    "\n",
    "cbaxesP = fig.add_axes([0.15, 0.05, 0.3, 0.03]) \n",
    "cbarP = plt.colorbar(cp,orientation='horizontal', cax = cbaxesP)\n",
    "cbarP.ax.set_xlabel('total colum water vapour')\n",
    "\n",
    "### Add Textbox\n",
    "ax.text(0.98,0.95, '%s, %s %s %s   %s$\\,$UTC' %(calday, day, calmon, year, time),\n",
    "            verticalalignment = 'bottom',  horizontalalignment='right',\n",
    "            transform = ax.transAxes,\n",
    "            color ='blue', fontsize=16,\n",
    "            bbox={'facecolor':'white','alpha':1., 'pad':10})\n",
    "\n",
    "### Add Title\n",
    "#    fig.suptitle('Jet, Thickness, SLP, and Moisture', fontsize=16, fontweight='bold') \n",
    "#    ax.set_title('MSLP (solid contours every 4$\\,$hPa), \\n \\\n",
    "#    250$\\,$hPa wind speed (m$\\,$s$^{-1}$, shaded according to the color bar), \\n \\\n",
    "#    1000-500$\\,$hPa thickness (dashed contours every 6 dam), \\n \\\n",
    "#    total precipitable water (mm, shaded according to gray scale)', \\\n",
    "#            fontsize=13)\n",
    "#plt.title('') \n",
    "\n",
    "\n",
    "### Save\n",
    "plt.savefig('../synoptic_figs/Jet_Thick_SLP/%s%s%s_%s.png' % (year, mon, day,time))\n",
    "## with header\n",
    "#    plt.savefig('../synoptic_figs/Jet_Thick_SLP/%s%s%s_%s_header.png' % (year, mon, day,time))\n",
    "\n",
    "\n",
    "\n",
    "###\n",
    "plt.show()"
   ]
  },
  {
   "cell_type": "code",
   "execution_count": null,
   "metadata": {
    "collapsed": true
   },
   "outputs": [],
   "source": []
  }
 ],
 "metadata": {
  "kernelspec": {
   "display_name": "Python 3",
   "language": "python",
   "name": "python3"
  },
  "language_info": {
   "codemirror_mode": {
    "name": "ipython",
    "version": 3
   },
   "file_extension": ".py",
   "mimetype": "text/x-python",
   "name": "python",
   "nbconvert_exporter": "python",
   "pygments_lexer": "ipython3",
   "version": "3.6.1"
  }
 },
 "nbformat": 4,
 "nbformat_minor": 2
}

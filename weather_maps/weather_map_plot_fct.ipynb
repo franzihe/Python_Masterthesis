{
 "cells": [
  {
   "cell_type": "code",
   "execution_count": null,
   "metadata": {
    "collapsed": true
   },
   "outputs": [],
   "source": [
    "import sys\n",
    "sys.path.append('/Volumes/SANDISK128/Documents/Thesis/Python/')\n",
    "import numpy as np\n",
    "import matplotlib.pyplot as plt\n",
    "import matplotlib.colors as colors\n",
    "from mpl_toolkits.basemap import Basemap\n",
    "from mpl_toolkits.basemap import shiftgrid\n",
    "\n",
    "import save_fig as SF"
   ]
  },
  {
   "cell_type": "code",
   "execution_count": null,
   "metadata": {
    "collapsed": true
   },
   "outputs": [],
   "source": [
    "# Plotting data on a map (Example Gallery) https://matplotlib.org/basemap/users/examples.html\n",
    "def create_basemap():\n",
    "    m = Basemap(projection='merc',             \n",
    "                llcrnrlon=-80., urcrnrlon=50.,             \n",
    "                llcrnrlat=15.,urcrnrlat=75.,             \n",
    "                resolution='l')\n",
    "    return(m);\n"
   ]
  },
  {
   "cell_type": "code",
   "execution_count": null,
   "metadata": {
    "collapsed": true
   },
   "outputs": [],
   "source": [
    "### PLOT FIGURE\n",
    "def create_figure(m,fillcon):\n",
    "    fig = plt.figure(figsize = (20,14.15))\n",
    "    ax = fig.add_subplot(1,1,1)\n",
    "\n",
    "### Draw Latitude Lines\n",
    "    m.drawparallels(np.arange(-90.,120.,10.),labels=[1,0,0,0],fontsize=20,linewidth=0.2)\n",
    "### Draw Longitude Lines\n",
    "    m.drawmeridians(np.arange(-180.,180.,10.),labels=[0,0,0,1],fontsize=20,linewidth=0.2)\n",
    "\n",
    "### Draw Map\n",
    "\n",
    "    if fillcon == 1:\n",
    "        # AR, IWV\n",
    "        m.drawcoastlines(color=[np.array([50,50,50])/champ])\n",
    "        m.fillcontinents(color='grey',alpha=0.18)\n",
    "    else:\n",
    "        # DT, JTMSLP\n",
    "        m.drawcoastlines()\n",
    "\n",
    "    m.drawmapboundary()\n",
    "    m.drawcountries()\n",
    "    \n",
    "    return(fig, ax);"
   ]
  },
  {
   "cell_type": "code",
   "execution_count": null,
   "metadata": {
    "collapsed": true
   },
   "outputs": [],
   "source": [
    "### Define colorbar colors\n",
    "champ = 255.\n",
    "date_blue = np.array([1,74,159])/champ           # for the date\n",
    "\n",
    "no01 = np.array([255,255,255])/champ\n",
    "no02 = np.array([255,0,0])/champ\n",
    "no03 = np.array([255,209,177])/champ\n",
    "no04 = np.array([255,118,86])/champ"
   ]
  },
  {
   "cell_type": "code",
   "execution_count": null,
   "metadata": {
    "collapsed": true
   },
   "outputs": [],
   "source": [
    "# Atmospheric River\n",
    "def AR_colorbar():\n",
    "# IVT\n",
    "    no1 = no01\n",
    "    no2 = np.array([250,255,0])/champ\n",
    "    no3 = np.array([255,203,0])/champ\n",
    "    no4 = np.array([255,121,0])/champ\n",
    "    no5 = no02\n",
    "    no6 = np.array([148,0,97])/champ\n",
    "    no7 = np.array([101,0,137])/champ\n",
    "# contour color between IVT levels    \n",
    "    no8 = np.array([130,102,0])/champ\n",
    "    \n",
    "    I_map = colors.ListedColormap([no1, no2, no3, no4, no5, no6, no7])\n",
    "    I_levels = np.arange(0,1900,250)\n",
    "    I_norm = colors.BoundaryNorm(boundaries = I_levels, ncolors=I_map.N)\n",
    "    \n",
    "    return(I_levels, I_norm, I_map, no8);"
   ]
  },
  {
   "cell_type": "code",
   "execution_count": null,
   "metadata": {
    "collapsed": true
   },
   "outputs": [],
   "source": [
    "# Dynamic Tropopause map\n",
    "\n",
    "def DT_colorbar():\n",
    "# potential Temperature\n",
    "    no1 = np.array([231,231,231])/champ\n",
    "    no2 = np.array([201,201,201])/champ\n",
    "    no3 = np.array([171,171,171])/champ\n",
    "    no4 = np.array([140,140,140])/champ\n",
    "    no5 = np.array([110,110,110])/champ\n",
    "    no6 = np.array([102,81,224])/champ\n",
    "    no7 = np.array([105,115,224])/champ\n",
    "    no8 = np.array([103,134,255])/champ\n",
    "    no9 = np.array([132,159,254])/champ\n",
    "    no10= np.array([178,202,255])/champ\n",
    "    no11= np.array([217,241,255])/champ\n",
    "    no12= no03\n",
    "    no13= np.array([255,165,133])/champ\n",
    "    no14= no04\n",
    "    no15= np.array([255,62,12])/champ\n",
    "    no16= no02\n",
    "    no17= np.array([244,0,146])/champ\n",
    "    no18= no3\n",
    "    no19= no2\n",
    "    no20= no1\n",
    "    no21= no01\n",
    "# barbcolor\n",
    "    no22 = np.array([80,80,81])/champ\n",
    "    \n",
    "    PT_map = colors.ListedColormap([no1, no2, no3, no4, no5, no6, no7, no8, no9, no10,                                     no11, no12, no13, no14, no15, no16, no17, no18, no19, no20,                                     no21])\n",
    "    PT_levels = np.arange(258,390,6)\n",
    "    PT_norm = colors.BoundaryNorm(boundaries = PT_levels, ncolors=PT_map.N)\n",
    "    \n",
    "    return(PT_levels, PT_norm, PT_map, no22);\n"
   ]
  },
  {
   "cell_type": "code",
   "execution_count": null,
   "metadata": {
    "collapsed": true
   },
   "outputs": [],
   "source": [
    "# Jet, Thickness, MSLP\n",
    "\n",
    "def JTM_PW_colorbar():\n",
    "# tot. precipitable water (grey scale)\n",
    "    no1 = np.array([245,245,245])/champ\n",
    "    no2 = np.array([222,222,222])/champ\n",
    "    no3 = np.array([193,193,193])/champ\n",
    "    no4 = np.array([164,164,164])/champ\n",
    "    no5 = np.array([135,135,135])/champ\n",
    "    no6 = np.array([106,106,106])/champ\n",
    "    no7 = np.array([77,77,77])/champ\n",
    "    \n",
    "    PW_map = colors.ListedColormap([no1, no2, no3, no4, no5, no6, no7])\n",
    "    PW_levels = np.arange(14.,78.,8.)\n",
    "    PW_norm = colors.BoundaryNorm(boundaries = PW_levels, ncolors=PW_map.N)\n",
    "    \n",
    "    return(PW_levels, PW_norm, PW_map);"
   ]
  },
  {
   "cell_type": "code",
   "execution_count": null,
   "metadata": {
    "collapsed": true
   },
   "outputs": [],
   "source": [
    "def JTM_wind_colorbar():\n",
    "# 250 hPa wind speed (colored scale)\n",
    "    no11 = no01\n",
    "    no12 = np.array([196,225,255])/champ\n",
    "    no13 = np.array([131,158,255])/champ\n",
    "    no14 = no03\n",
    "    no15 = no04\n",
    "    no16 = np.array([239,102,178])/champ\n",
    "    no17 = np.array([243,0,146])/champ\n",
    "    \n",
    "    U_map = colors.ListedColormap([no11, no12, no13, no14, no15, no16, no17])\n",
    "    U_levels = np.arange(40,120,10)\n",
    "    U_norm = colors.BoundaryNorm(boundaries = U_levels, ncolors=U_map.N)\n",
    "    \n",
    "    return(U_levels, U_norm, U_map);"
   ]
  },
  {
   "cell_type": "code",
   "execution_count": null,
   "metadata": {
    "collapsed": true
   },
   "outputs": [],
   "source": [
    "def IWV_U850_colorbar():\n",
    "# tot. precipitable water (colorbar)\n",
    "    no1 = np.array([255,255,255])/champ\n",
    "    no2 = np.array([70,0,255])/champ\n",
    "    no3 = np.array([6,109,255])/champ\n",
    "    no4 = np.array([0,196,38])/champ\n",
    "    no5 = np.array([14,223,11])/champ\n",
    "    no6 = np.array([255,228,0])/champ\n",
    "    no7 = np.array([255,180,0])/champ\n",
    "    no8 = np.array([255,94,0])/champ\n",
    "    no9 = np.array([255,0,0])/champ\n",
    "    no10 = np.array([225,0,0])/champ\n",
    "    no11 = np.array([139,0,106])/champ\n",
    "    no12 = np.array([102,0,137])/champ\n",
    "\n",
    "# pressure lines\n",
    "    no13 = np.array([16,16,16])/champ\n",
    "    \n",
    "    PW_map = colors.ListedColormap([no1, no2, no3, no4, no5, no6, no7, no8, no9, no10, no11])\n",
    "    PW_levels = (np.append(np.arange(16,56,4),[62]))\n",
    "    PW_norm = colors.BoundaryNorm(boundaries = PW_levels, ncolors=PW_map.N)\n",
    "\n",
    "    return(PW_levels, PW_norm, PW_map, no13)"
   ]
  },
  {
   "cell_type": "code",
   "execution_count": null,
   "metadata": {
    "collapsed": true
   },
   "outputs": [],
   "source": [
    "def add_colorbar(cs, cbaxes, lev_ticks, label, xticks):\n",
    "    if len(lev_ticks) == 0:\n",
    "        # AR, DT\n",
    "        cbar = plt.colorbar(cs,orientation='horizontal', cax = cbaxes)\n",
    "    else:\n",
    "        cbar = plt.colorbar(cs,orientation='horizontal',cax = cbaxes, ticks=lev_ticks)\n",
    "    \n",
    "    cbar.ax.set_xlabel(label,fontsize = 22)\n",
    "    cbar.ax.set_xticklabels(xticks)  # horizontal colorbar\n",
    "    cbar.ax.tick_params(labelsize=20)\n",
    "    return(cbar);"
   ]
  },
  {
   "cell_type": "code",
   "execution_count": null,
   "metadata": {
    "collapsed": true
   },
   "outputs": [],
   "source": [
    "# Add colorbar\n",
    "def add_colorbar_one(fig, cs, lev_ticks, label, xticks ):\n",
    "    \n",
    "    cbaxes = fig.add_axes([0.14, 0.05, .75, .045] )   #[left, bottom, width, height] \n",
    "        \n",
    "    cbar = add_colorbar(cs, cbaxes, lev_ticks, label, xticks)\n",
    "\n",
    "    return(cbar);\n"
   ]
  },
  {
   "cell_type": "code",
   "execution_count": null,
   "metadata": {
    "collapsed": true
   },
   "outputs": [],
   "source": [
    "# Two colorbars at bottom\n",
    "def add_colorbar_two(fig, cs1, cs2,  lev_ticks1, lev_ticks2, label1, label2, xticks1, xticks2):\n",
    "    cbaxes1 = fig.add_axes([0.57, 0.05, 0.3, 0.045]) \n",
    "    cbaxes2 = fig.add_axes([0.15, 0.05, 0.3, 0.045]) \n",
    "\n",
    "    cbar1 = add_colorbar(cs1, cbaxes1, lev_ticks1, label1, xticks1)\n",
    "    cbar2 = add_colorbar(cs2, cbaxes2, lev_ticks2, label2, xticks2)\n",
    "    \n",
    "    return(cbar1, cbar2)"
   ]
  },
  {
   "cell_type": "code",
   "execution_count": null,
   "metadata": {
    "collapsed": true
   },
   "outputs": [],
   "source": [
    "# Add Textbox\n",
    "def add_textbox(ax,calday, day, calmon, year, hour):\n",
    "    ax.text(0.98,0.94, '%s, %s %s %s   %s$\\,$UTC' %(calday, day, calmon, year, hour),     # x, y\n",
    "            verticalalignment = 'bottom',  horizontalalignment='right',\n",
    "            transform = ax.transAxes,\n",
    "            color =date_blue, fontsize=26,\n",
    "            bbox={'facecolor':'white','alpha':1., 'pad':10})\n"
   ]
  },
  {
   "cell_type": "code",
   "execution_count": null,
   "metadata": {
    "collapsed": true
   },
   "outputs": [],
   "source": [
    "def plot_DTmap(m, plonsPT, platsPT, PT,\n",
    "               plonsVO, platsVO, rel_vort,\n",
    "               plonsU, platsU, wind_u, wind_v, \n",
    "               sfig, directory, figure_name, form,\n",
    "               calday, day, calmon, year, time):\n",
    "    fillcontinents = 0\n",
    "    fig, ax = create_figure(m,fillcontinents)\n",
    "### Plot contour lines for pot. temp and fill\n",
    "    PT_levels, PT_norm, PT_map, PT_no22 = DT_colorbar()\n",
    "    cs = m.contourf(plonsPT, platsPT, PT, PT_levels, norm = PT_norm, cmap = PT_map)\n",
    "### Plot contour lines for layer averaged rel. vort 925-850 hPa\n",
    "    thickness = np.arange(.5*10**(-4), 6*10**(-4),.5*10**(-4))\n",
    "    CVO = m.contour(plonsVO, platsVO, rel_vort, thickness, colors='k')\n",
    "\n",
    "### plot wind barbs\n",
    "# use only every 20, 35 value from the wind\n",
    "    m.barbs(plonsU[::20,::35], platsU[::20,::35], wind_u[::20,::35], wind_v[::20,::35], barbcolor=[PT_no22])\n",
    "\n",
    "### Add one Colorbar\n",
    "    lev_ticks = []\n",
    "    label = 'Potential temperature [K]'\n",
    "    xticks = ['','276', '294', '312', '330', '348', '366', '']\n",
    "    add_colorbar_one(fig, cs, lev_ticks, label, xticks )\n",
    "\n",
    "\n",
    "### Add Textbox\n",
    "    add_textbox(ax, calday, day, calmon, year, time)\n",
    "    \n",
    "### Save\n",
    "\n",
    "    if sfig == 1:\n",
    "        SF.save_figure_landscape(directory, figure_name, form)\n",
    "\n"
   ]
  },
  {
   "cell_type": "code",
   "execution_count": null,
   "metadata": {
    "collapsed": true
   },
   "outputs": [],
   "source": [
    "def plot_ARmap(m, plonsIVT, platsIVT, IVT,\n",
    "              lon_flux, lat_flux, u_flux, v_flux,\n",
    "              sfig, directory, figure_name, form,\n",
    "               calday, day, calmon, year, time):\n",
    "    fillcontinents = 1\n",
    "    fig, ax = create_figure(m,fillcontinents)\n",
    "\n",
    "### Plot contour lines for IVT and fill\n",
    "    IVT_levels, IVT_norm, IVT_map, IVT_no8 = AR_colorbar()\n",
    "    cs = m.contourf(plonsIVT, platsIVT, IVT, IVT_levels, norm = IVT_norm, cmap=IVT_map)\n",
    "    CS2 = plt.contour(cs, levels = cs.levels, linewidths=0.4, colors=[IVT_no8])\n",
    "\n",
    "# Add arrows to show the IVT vectors\n",
    "# every 20, 35th value\n",
    "# scale_units is ‘inches’, scale is 10000.0, and (u,v) = (400,300) = 500 kg/(ms), then the vector will be \n",
    "# U/scale = 0.05 inches long.\n",
    "# For 0.6 inch == 1.524cm --> U(=500)/0.6 = 833.3\n",
    "    ref_key = 500.   # equals U\n",
    "    scale = 10*ref_key/0.6 \n",
    "    Q = m.quiver(lon_flux[::700],lat_flux[::700],u_flux[::700],v_flux[::700],scale = scale,scale_units = 'inches',\n",
    "             pivot='middle',zorder=6)\n",
    "    qk = plt.quiverkey(Q, 0.9, 0.9, ref_key*10, '500$\\,$kg$\\,$m$^{-1}\\,$s$^{-1}$', labelpos ='W', \n",
    "                   fontproperties = {'size': 20})\n",
    "\n",
    "### Add one Colorbar \n",
    "    lev_ticks = []\n",
    "    label = 'IWT [kg$\\,$m$^{-1}\\,$s$^{-1}$]'\n",
    "    xticks = ['', '250', '500', '750', '1000', '1250', '1500']  \n",
    "    cbar = add_colorbar_one(fig, cs, lev_ticks, label, xticks)\n",
    "# Make a colorbar for the ContourSet returned by the contourf call.\n",
    "# Add the contour line levels to the colorbar\n",
    "    cbar.add_lines(CS2)\n",
    "\n",
    "### Add Textbox\n",
    "    add_textbox(ax, calday, day, calmon, year, time)\n",
    "\n",
    "### Save\n",
    "    if sfig == 1:\n",
    "        SF.save_figure_landscape(directory, figure_name, form)\n",
    "\n",
    "\n"
   ]
  },
  {
   "cell_type": "code",
   "execution_count": null,
   "metadata": {
    "collapsed": true
   },
   "outputs": [],
   "source": [
    "def plot_IWV_U850map(m, plonsPW, platsPW, PW,\n",
    "              plonsMSL, platsMSL, MSL, \n",
    "              plonsU, platsU, wind_u, wind_v,\n",
    "              sfig, directory, figure_name, form,\n",
    "               calday, day, calmon, year, time):\n",
    "    fillcontinents = 1\n",
    "    fig, ax = create_figure(m,fillcontinents)\n",
    "### Plot contour lines for precipitable water\n",
    "    PW_levels, PW_norm, PW_map, PW_no13 = IWV_U850_colorbar()\n",
    "    cp = m.contourf(plonsPW, platsPW, PW, PW_levels, norm = PW_norm, cmap = PW_map)\n",
    "\n",
    "### Plot MSL pressure every 2 hPa\n",
    "    clevs = np.arange(900,1100.,4.)\n",
    "    cc = m.contour(plonsMSL, platsMSL, MSL, clevs, colors = [PW_no13], linewidths = 1.8, linestyles = 'dashed')\n",
    "    plt.clabel(cc, fontsize=16, inline = 1, fmt ='%1.0f')\n",
    "\n",
    "### Plot contour lines for 850-hPa wind \n",
    "# every 20,35 values from the wind\n",
    "    cs = m.quiver(plonsU[::20,::35], platsU[::20,::35], wind_u[::20,::35], wind_v[::20,::35])#, Ulevels, norm = norm, cmap=Umap)\n",
    "\n",
    "### Add one Colorbar\n",
    "    lev_ticks = PW_levels\n",
    "    label = 'TCWV [mm]'\n",
    "    xtick = ['', '24', '28', '32', '36', '40', '44', '48', '52','62']\n",
    "    add_colorbar_one(fig, cp, lev_ticks, label, xtick )\n",
    "\n",
    "### Add Textbox\n",
    "    add_textbox(ax, calday, day, calmon, year, time)    \n",
    "### Save\n",
    "    if sfig == 1:\n",
    "        SF.save_figure_landscape(directory, figure_name, form)"
   ]
  },
  {
   "cell_type": "code",
   "execution_count": null,
   "metadata": {
    "collapsed": true
   },
   "outputs": [],
   "source": [
    "def plot_JTHMSPL(m, plonsPW, platsPW, PW,\n",
    "              plonsMSL, platsMSL, MSL, \n",
    "              plonsUV, platsUV, Uabs,\n",
    "              sfig, directory, figure_name, form,\n",
    "               calday, day, calmon, year, time):\n",
    "    fillcontinents = 0\n",
    "    fig, ax = create_figure(m,fillcontinents)\n",
    "### Plot contour lines for precipitable water\n",
    "    PW_levels, PW_norm, PW_map = JTM_PW_colorbar()\n",
    "    cs1 = m.contourf(plonsPW, platsPW, PW, PW_levels, norm = PW_norm, cmap = PW_map)\n",
    "\n",
    "\n",
    "### Plot contour lines for 250-hPa wind and fill\n",
    "    U_levels, U_norm, U_map = JTM_wind_colorbar()\n",
    "    cs2 = m.contourf(plonsUV, platsUV, Uabs, U_levels, norm = U_norm, cmap=U_map)\n",
    "\n",
    "### Plot MSL pressure every 4 hPa\n",
    "    clevs = np.arange(900,1100.,4.)\n",
    "    cc = m.contour(plonsMSL, platsMSL, MSL, clevs, colors='k', linewidths = 1.8)\n",
    "    plt.clabel(cc, fontsize=16, inline = 1, fmt ='%1.0f')\n",
    "\n",
    "### Plot the 1000-500 hPa thickness\n",
    "    thlevs1 = np.arange(450., 540., 6.)\n",
    "    thlevs2 = np.arange(546., 650., 6.)\n",
    "\n",
    "    cth1 = m.contour(plonsZ, platsZ, Z, thlevs1, colors='b', linewidths = 2., linestyles = 'dashed')\n",
    "    cth2 = m.contour(plonsZ, platsZ, Z, thlevs2, colors='r', linewidths = 2., linestyles = 'dashed')\n",
    "    plt.clabel(cth1, fontsize = 16, inline = 1, fmt = '%1.0f')\n",
    "    plt.clabel(cth2, fontsize = 16, inline = 1, fmt = '%1.0f')\n",
    "\n",
    "\n",
    "### Add two Colorbars\n",
    "    lev_tick1 = []\n",
    "    lev_tick2 = []\n",
    "    label1 = label1 = 'U$_250\\,hPa$ [m$\\,$s$^{-1}$]'\n",
    "    label2 = 'TCWV [mm]'\n",
    "    xticks1 = ['', '50', '60', '70', '80', '90', '100']\n",
    "    xticks2 = ['', '22', '30', '38', '46', '54', '62']\n",
    "    add_colorbar_two(fig, cs1, cs2,  lev_tick1, lev_tick2, label1, label2, xticks1, xticks2)\n",
    "\n",
    "\n",
    "### Add Textbox\n",
    "    add_textbox(ax, calday, day, calmon, year, time)    \n",
    "### Save\n",
    "    if sfig == 1:\n",
    "        SF.save_figure_landscape(directory, figure_name, form)"
   ]
  }
 ],
 "metadata": {
  "kernelspec": {
   "display_name": "Python 3",
   "language": "python",
   "name": "python3"
  },
  "language_info": {
   "codemirror_mode": {
    "name": "ipython",
    "version": 3
   },
   "file_extension": ".py",
   "mimetype": "text/x-python",
   "name": "python",
   "nbconvert_exporter": "python",
   "pygments_lexer": "ipython3",
   "version": "3.6.1"
  }
 },
 "nbformat": 4,
 "nbformat_minor": 2
}

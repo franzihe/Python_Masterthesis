{
 "cells": [
  {
   "cell_type": "code",
   "execution_count": 1,
   "metadata": {
    "collapsed": true
   },
   "outputs": [],
   "source": [
    "import sys\n",
    "sys.path.append('/Volumes/SANDISK128/Documents/Thesis/Python/')\n",
    "import numpy as np\n",
    "import matplotlib.pyplot as plt\n",
    "\n",
    "import createFolder\n",
    "import weather_map_plot_fct as PF\n",
    "import ECMWF_grb as grib\n",
    "import calc_date\n"
   ]
  },
  {
   "cell_type": "code",
   "execution_count": 2,
   "metadata": {
    "collapsed": true
   },
   "outputs": [],
   "source": [
    "year = '2016'\n",
    "mon = '12'\n",
    "#day = '10'\n",
    "#time = '00'\n",
    "\n"
   ]
  },
  {
   "cell_type": "code",
   "execution_count": 3,
   "metadata": {
    "collapsed": true
   },
   "outputs": [],
   "source": [
    "pathPV2000 = '../../test_dataECMWF/SCA/PV2000'\n",
    "pathPL = '../../test_dataECMWF/SCA/pl'\n",
    "pathSFC = '../../test_dataECMWF/SCA/sfc'"
   ]
  },
  {
   "cell_type": "code",
   "execution_count": 4,
   "metadata": {
    "collapsed": true
   },
   "outputs": [],
   "source": [
    "directory_DT = '../../synoptic_figs/DynTropo'\n",
    "directory_AR = '../../synoptic_figs/Atm_Riv'\n",
    "directory_IWV = '../../synoptic_figs/TCWV_U850'\n",
    "directory_JTM = '../../synoptic_figs/Geopot_Jet'\n",
    "createFolder.createFolder(directory_DT)\n",
    "createFolder.createFolder(directory_AR)\n",
    "createFolder.createFolder(directory_IWV)\n",
    "createFolder.createFolder(directory_JTM)"
   ]
  },
  {
   "cell_type": "code",
   "execution_count": 5,
   "metadata": {
    "collapsed": true
   },
   "outputs": [],
   "source": [
    "\n",
    "form = 'png'\n",
    "savefigure = 1"
   ]
  },
  {
   "cell_type": "code",
   "execution_count": 6,
   "metadata": {
    "scrolled": true
   },
   "outputs": [
    {
     "ename": "OSError",
     "evalue": "[Errno could not open %s] ../../test_dataECMWF/SCA/PV2000/pt/param_pt_20161210_0600.grib",
     "output_type": "error",
     "traceback": [
      "\u001b[0;31m---------------------------------------------------------------------------\u001b[0m",
      "\u001b[0;31mOSError\u001b[0m                                   Traceback (most recent call last)",
      "\u001b[0;32m<ipython-input-6-075fd6ac7e6e>\u001b[0m in \u001b[0;36m<module>\u001b[0;34m()\u001b[0m\n\u001b[1;32m     16\u001b[0m \u001b[0;31m# DT\u001b[0m\u001b[0;34m\u001b[0m\u001b[0;34m\u001b[0m\u001b[0m\n\u001b[1;32m     17\u001b[0m         grbPT, PT, grbUV_DT, wind_u_DT, wind_v_DT, grbVO, rel_vort = grib.DT_values(pathPV2000, pathPL, \n\u001b[0;32m---> 18\u001b[0;31m                                                                                     year,mon,day,time)\n\u001b[0m\u001b[1;32m     19\u001b[0m \u001b[0;31m# AR\u001b[0m\u001b[0;34m\u001b[0m\u001b[0;34m\u001b[0m\u001b[0m\n\u001b[1;32m     20\u001b[0m         \u001b[0mgrbUV_AR\u001b[0m\u001b[0;34m,\u001b[0m \u001b[0mIVT\u001b[0m\u001b[0;34m,\u001b[0m \u001b[0mIVT_u\u001b[0m\u001b[0;34m,\u001b[0m \u001b[0mIVT_v\u001b[0m \u001b[0;34m=\u001b[0m \u001b[0mgrib\u001b[0m\u001b[0;34m.\u001b[0m\u001b[0mAR_values\u001b[0m\u001b[0;34m(\u001b[0m\u001b[0mpathPL\u001b[0m\u001b[0;34m,\u001b[0m \u001b[0mpathSFC\u001b[0m\u001b[0;34m,\u001b[0m \u001b[0myear\u001b[0m\u001b[0;34m,\u001b[0m\u001b[0mmon\u001b[0m\u001b[0;34m,\u001b[0m\u001b[0mday\u001b[0m\u001b[0;34m,\u001b[0m\u001b[0mtime\u001b[0m\u001b[0;34m)\u001b[0m\u001b[0;34m\u001b[0m\u001b[0m\n",
      "\u001b[0;32m/Volumes/SANDISK128/Documents/Thesis/Python/weather_maps/ECMWF_grb.py\u001b[0m in \u001b[0;36mDT_values\u001b[0;34m(pathPV2000, pathPL, year, mon, day, time)\u001b[0m\n\u001b[1;32m     63\u001b[0m \u001b[0;31m### PT\u001b[0m\u001b[0;34m\u001b[0m\u001b[0;34m\u001b[0m\u001b[0m\n\u001b[1;32m     64\u001b[0m     \u001b[0mparameter\u001b[0m \u001b[0;34m=\u001b[0m \u001b[0;34m'pt'\u001b[0m\u001b[0;34m\u001b[0m\u001b[0m\n\u001b[0;32m---> 65\u001b[0;31m     \u001b[0mgrbsPT\u001b[0m \u001b[0;34m=\u001b[0m \u001b[0mopengrib\u001b[0m\u001b[0;34m(\u001b[0m\u001b[0myyyy\u001b[0m \u001b[0;34m=\u001b[0m \u001b[0myear\u001b[0m\u001b[0;34m,\u001b[0m \u001b[0mmm\u001b[0m \u001b[0;34m=\u001b[0m \u001b[0mmon\u001b[0m\u001b[0;34m,\u001b[0m \u001b[0mdd\u001b[0m \u001b[0;34m=\u001b[0m \u001b[0mday\u001b[0m\u001b[0;34m,\u001b[0m \u001b[0mtt\u001b[0m \u001b[0;34m=\u001b[0m \u001b[0mtime\u001b[0m\u001b[0;34m,\u001b[0m \u001b[0mpm\u001b[0m \u001b[0;34m=\u001b[0m \u001b[0mparameter\u001b[0m\u001b[0;34m,\u001b[0m \u001b[0mpath\u001b[0m \u001b[0;34m=\u001b[0m \u001b[0mpathPV2000\u001b[0m\u001b[0;34m)\u001b[0m\u001b[0;34m\u001b[0m\u001b[0m\n\u001b[0m\u001b[1;32m     66\u001b[0m \u001b[0;34m\u001b[0m\u001b[0m\n\u001b[1;32m     67\u001b[0m \u001b[0;31m### Wind\u001b[0m\u001b[0;34m\u001b[0m\u001b[0;34m\u001b[0m\u001b[0m\n",
      "\u001b[0;32m/Volumes/SANDISK128/Documents/Thesis/Python/weather_maps/ECMWF_grb.py\u001b[0m in \u001b[0;36mopengrib\u001b[0;34m(yyyy, mm, dd, tt, pm, path)\u001b[0m\n\u001b[1;32m     22\u001b[0m \u001b[0;32mdef\u001b[0m \u001b[0mopengrib\u001b[0m\u001b[0;34m(\u001b[0m\u001b[0myyyy\u001b[0m\u001b[0;34m,\u001b[0m \u001b[0mmm\u001b[0m\u001b[0;34m,\u001b[0m \u001b[0mdd\u001b[0m\u001b[0;34m,\u001b[0m \u001b[0mtt\u001b[0m\u001b[0;34m,\u001b[0m \u001b[0mpm\u001b[0m\u001b[0;34m,\u001b[0m \u001b[0mpath\u001b[0m\u001b[0;34m)\u001b[0m\u001b[0;34m:\u001b[0m\u001b[0;34m\u001b[0m\u001b[0m\n\u001b[1;32m     23\u001b[0m     \u001b[0mgrib\u001b[0m \u001b[0;34m=\u001b[0m \u001b[0;34m'%s/%s/param_%s_%s%s%s_%s00.grib'\u001b[0m \u001b[0;34m%\u001b[0m \u001b[0;34m(\u001b[0m\u001b[0mpath\u001b[0m\u001b[0;34m,\u001b[0m\u001b[0mpm\u001b[0m\u001b[0;34m,\u001b[0m\u001b[0mpm\u001b[0m\u001b[0;34m,\u001b[0m\u001b[0myyyy\u001b[0m\u001b[0;34m,\u001b[0m\u001b[0mmm\u001b[0m\u001b[0;34m,\u001b[0m\u001b[0mdd\u001b[0m\u001b[0;34m,\u001b[0m\u001b[0mtt\u001b[0m\u001b[0;34m)\u001b[0m\u001b[0;34m\u001b[0m\u001b[0m\n\u001b[0;32m---> 24\u001b[0;31m     \u001b[0mgrbs\u001b[0m \u001b[0;34m=\u001b[0m \u001b[0mpygrib\u001b[0m\u001b[0;34m.\u001b[0m\u001b[0mopen\u001b[0m\u001b[0;34m(\u001b[0m\u001b[0mgrib\u001b[0m\u001b[0;34m)\u001b[0m\u001b[0;34m\u001b[0m\u001b[0m\n\u001b[0m\u001b[1;32m     25\u001b[0m     \u001b[0;32mreturn\u001b[0m\u001b[0;34m(\u001b[0m\u001b[0mgrbs\u001b[0m\u001b[0;34m)\u001b[0m\u001b[0;34m;\u001b[0m\u001b[0;34m\u001b[0m\u001b[0m\n\u001b[1;32m     26\u001b[0m \u001b[0;34m\u001b[0m\u001b[0m\n",
      "\u001b[0;32mpygrib.pyx\u001b[0m in \u001b[0;36mpygrib.open.__cinit__ (pygrib.c:2947)\u001b[0;34m()\u001b[0m\n",
      "\u001b[0;31mOSError\u001b[0m: [Errno could not open %s] ../../test_dataECMWF/SCA/PV2000/pt/param_pt_20161210_0600.grib"
     ]
    }
   ],
   "source": [
    "for day in range(10,11):\n",
    "    day = str(day)\n",
    "    for time in range(0,24,6):\n",
    "        if time ==0:\n",
    "            time = '00'\n",
    "        elif time == 6:\n",
    "            time = '06'\n",
    "        time = str(time)\n",
    "        \n",
    "\n",
    "### Dates for plotting\n",
    "        calday, calmon = calc_date.get_dayname(year, mon, day)\n",
    "        figure_name = '%s%s%s_%s.png' % (year, mon, day,time)\n",
    "\n",
    "\n",
    "# DT\n",
    "        grbPT, PT, grbUV_DT, wind_u_DT, wind_v_DT, grbVO, rel_vort = grib.DT_values(pathPV2000, pathPL, \n",
    "                                                                                    year,mon,day,time)\n",
    "# AR\n",
    "        grbUV_AR, IVT, IVT_u, IVT_v = grib.AR_values(pathPL, pathSFC, year,mon,day,time)\n",
    "\n",
    "# IWV - U850\n",
    "        grbUV_IWV, wind_u_IWV, wind_v_IWV, grbMSL_IWV, MSL_IWV, grbPW_IWV, PW_IWV = grib.IWV_U850_values(pathPL, \n",
    "                                                                                   pathSFC, year,mon,day,time)\n",
    "\n",
    "# JTHMSLP\n",
    "        grbUV_JTM, Uabs, grbZ, Z, grbMSL_JTM, MSL_JTM, grbPW_JTM, PW_JTM = grib.JTHMSLP_values(pathPL, pathSFC, \n",
    "                                                                                               year,mon,day,time)\n",
    "\n",
    "# Plotting data on a map (Example Gallery) https://matplotlib.org/basemap/users/examples.html\n",
    "        m = PF.create_basemap()\n",
    "\n",
    "### Latitudes, Longitudes and shiftgrid\n",
    "\n",
    "# DT\n",
    "        lonsPT,latsPT, PT = grib.shiftgrb(grbPT,PT,m)\n",
    "        lonsVO,latsVO, RelVo = grib.shiftgrb(grbVO,rel_vort,m)\n",
    "        lonsU_DT,latsU_DT, wind_u_DT = grib.shiftgrb(grbUV_DT,wind_u_DT,m)\n",
    "        lonsV_DT,latsV_DT, wind_v_DT = grib.shiftgrb(grbUV_DT,wind_v_DT,m)\n",
    "\n",
    "# AR\n",
    "        lonsIVT,latsIVT, IVT = grib.shiftgrb(grbUV_AR,IVT,m)\n",
    "        lonsIU,latsIU, IVT_u = grib.shiftgrb(grbUV_AR,IVT_u,m)\n",
    "        lonsIV,latsIV, IVT_v = grib.shiftgrb(grbUV_AR,IVT_v,m)\n",
    "# find values larger 250 \n",
    "        lon_flux, lat_flux, u_flux, v_flux = grib.larger250(IVT, IVT_u, IVT_v, lonsIU, latsIV)\n",
    "\n",
    "\n",
    "# IWV - U850\n",
    "        lonsU_IWV,latsU_IWV, wind_u_IWV = grib.shiftgrb(grbUV_IWV,wind_u_IWV, m)\n",
    "        lonsV_IWV,latsV_IWV, wind_v_IWV = grib.shiftgrb(grbUV_IWV,wind_v_IWV, m)\n",
    "        lonsMSL_IWV,latsMSL_IWV, MSL_IWV = grib.shiftgrb(grbMSL_IWV,MSL_IWV, m)\n",
    "        lonsPW_IWV,latsPW_IWV, PW_IWV = grib.shiftgrb(grbPW_IWV,PW_IWV, m)\n",
    "\n",
    "# JTHMSLP\n",
    "        lonsUV_JTM,latsUV_JTM, Uabs = grib.shiftgrb(grbUV_JTM,Uabs,m)\n",
    "        lonsZ,latsZ, Z = grib.shiftgrb(grbZ,Z,m)\n",
    "        lonsMSL_JTM,latsMSL_JTM, MSL_JTM = grib.shiftgrb(grbMSL_JTM,MSL_JTM,m)\n",
    "        lonsPW_JTM,latsPW_JTM, PW_JTM = grib.shiftgrb(grbPW_JTM,PW_JTM,m)\n",
    "\n",
    "### Plotting Map\n",
    "# DT\n",
    "        PF.plot_DTmap(m, lonsPT, latsPT, PT,\n",
    "               lonsVO, latsVO, RelVo,\n",
    "               lonsU_DT, latsU_DT, wind_u_DT, wind_v_DT, \n",
    "               savefigure, directory_DT, figure_name, form,\n",
    "               calday, day, calmon, year, time)\n",
    "\n",
    "\n",
    "        plt.close()\n",
    "\n",
    "# AR\n",
    "        m = PF.create_basemap()\n",
    "        PF.plot_ARmap(m, lonsIVT, latsIVT, IVT,\n",
    "              lon_flux, lat_flux, u_flux, v_flux,\n",
    "              savefigure, directory_AR, figure_name, form,\n",
    "               calday, day, calmon, year, time)\n",
    "\n",
    "        plt.close()\n",
    "\n",
    "# IWV - U850\n",
    "\n",
    "        m = PF.create_basemap()\n",
    "        PF.plot_IWV_U850map(m, lonsPW_IWV, latsPW_IWV, PW_IWV,\n",
    "              lonsMSL_IWV, latsMSL_IWV, MSL_IWV, \n",
    "              lonsU_IWV, latsU_IWV, wind_u_IWV, wind_v_IWV,\n",
    "              savefigure, directory_IWV, figure_name, form,\n",
    "               calday, day, calmon, year, time)\n",
    "\n",
    "        plt.close()\n",
    "        \n",
    "# Jet - Thickness - MSLP\n",
    "\n",
    "        m = PF.create_basemap()\n",
    "        PF.plot_JTHMSPL(m, lonsPW_JTM, latsPW_JTM, PW_JTM,\n",
    "              lonsMSL_JTM, latsMSL_JTM, MSL_JTM, \n",
    "              lonsUV_JTM, latsUV_JTM, Uabs,\n",
    "              lonsZ,latsZ, Z,\n",
    "              savefigure, directory_JTM, figure_name, form,\n",
    "               calday, day, calmon, year, time)\n",
    "\n",
    "        plt.close()"
   ]
  },
  {
   "cell_type": "code",
   "execution_count": null,
   "metadata": {
    "collapsed": true
   },
   "outputs": [],
   "source": []
  }
 ],
 "metadata": {
  "kernelspec": {
   "display_name": "Python 3",
   "language": "python",
   "name": "python3"
  },
  "language_info": {
   "codemirror_mode": {
    "name": "ipython",
    "version": 3
   },
   "file_extension": ".py",
   "mimetype": "text/x-python",
   "name": "python",
   "nbconvert_exporter": "python",
   "pygments_lexer": "ipython3",
   "version": "3.6.1"
  }
 },
 "nbformat": 4,
 "nbformat_minor": 2
}

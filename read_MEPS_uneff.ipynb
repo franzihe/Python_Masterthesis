{
 "cells": [
  {
   "cell_type": "code",
   "execution_count": 1,
   "metadata": {
    "collapsed": true
   },
   "outputs": [],
   "source": [
    "%matplotlib inline\n",
    "import netCDF4\n",
    "import numpy as np\n",
    "from mpl_toolkits.basemap import Basemap\n",
    "import matplotlib.pyplot as plt\n",
    "import datetime\n",
    "import os"
   ]
  },
  {
   "cell_type": "code",
   "execution_count": 2,
   "metadata": {
    "collapsed": true
   },
   "outputs": [],
   "source": [
    "thredds = 'http://thredds.met.no/thredds/dodsC/meps25epsarchive'\n",
    "year = '2016'\n",
    "month = '12'\n",
    "day = '17'\n",
    "time = '00'\n",
    "filename = '%s/%s/%s/%s/meps_full_2_5km_%s%s%sT%sZ.nc' %(thredds,year,month,day,year,month,day,time)\n",
    "fn = netCDF4.Dataset('%s/%s/%s/%s/meps_full_2_5km_%s%s%sT%sZ.nc' %(thredds,year,month,day,year,month,day,time),'r')\n",
    "#fn = netCDF4.Dataset('http://thredds.met.no/thredds/dodsC/meps25epsarchive/2016/12/18/meps_full_2_5km_20161218T00Z.nc', 'r')"
   ]
  },
  {
   "cell_type": "raw",
   "metadata": {},
   "source": [
    "for day in range(10,32):\n",
    "    try:\n",
    "        # Open the netCDF file and read it.\n",
    "        fn = netCDF4.Dataset('%s/%s/%s/%s/meps_full_2_5km_%s%s%sT%sZ.nc' %(thredds,year,month,day,year,month,day,time),'r')\n",
    "    except OSError:\n",
    "        print('{} failed in process {}')\n",
    "        continue\n",
    "#if (not os.path.isfile(_php)):\n",
    " #   print(\"Error: %s file not found\" % _php)\n",
    "#else:\n",
    " #   print(\"using %s \" % _php)\n",
    "#print(fn)"
   ]
  },
  {
   "cell_type": "code",
   "execution_count": 3,
   "metadata": {
    "scrolled": true
   },
   "outputs": [
    {
     "name": "stdout",
     "output_type": "stream",
     "text": [
      "initialization time 2016-12-17 00:00:00\n"
     ]
    }
   ],
   "source": [
    "time = fn.variables['time']\n",
    "# What time is it?\n",
    "# Start date\n",
    "print('initialization time',datetime.datetime.utcfromtimestamp(time[0]))\n"
   ]
  },
  {
   "cell_type": "code",
   "execution_count": 4,
   "metadata": {
    "collapsed": true
   },
   "outputs": [],
   "source": [
    "## Latitudes\n",
    "## [y = 949][x = 739]\n",
    "latitude = fn.variables['latitude']\n",
    "\n",
    "## Longitudes \n",
    "## [y = 949][x = 739]\n",
    "longitude = fn.variables['longitude']"
   ]
  },
  {
   "cell_type": "code",
   "execution_count": 5,
   "metadata": {
    "collapsed": true
   },
   "outputs": [],
   "source": [
    "### From the with Vertical Levels ( height0 ) : 0.0 m\n",
    "\n",
    "## 1. air_temperature_0m = Surface temperature (T0M)\n",
    "## [time = 56][height0 = 1][ensemble_member = 10][y = 949][x = 739]\n",
    "var_name = 'air_temperature_0m'\n",
    "temp_sfc = fn.variables[var_name]    # [K]\n",
    "#print(sfc_temp)"
   ]
  },
  {
   "cell_type": "raw",
   "metadata": {
    "scrolled": true
   },
   "source": [
    "## 2. graupelfall_amount = Instantaneous graupel\n",
    "## [time = 56][height0 = 1][ensemble_member = 10][y = 949][x = 739]\n",
    "var_name = 'graupelfall_amount'\n",
    "graupel_sfc = fn.variables[var_name]   # [kg/m^2]\n",
    "#print(sfc_graup)\n",
    "\n",
    "## 3. liquid_water_content_of_surface_snow = Snow Water Equivivalent (SWE) \n",
    "## [time = 56][height0 = 1][ensemble_member = 10][y = 949][x = 739]\n",
    "var_name = 'liquid_water_content_of_surface_snow'\n",
    "SWE = fn.variables[var_name]         # [kg/m^2]\n",
    "\n",
    "## 4. precipitation_amount_acc = Accumulated total precipitation\n",
    "##[time = 56][height0 = 1][ensemble_member = 10][y = 949][x = 739]\n",
    "var_name = 'precipitation_amount_acc'\n",
    "precip_sfc = fn.variables[var_name]  # [kg/m^2]\n",
    "#print(precip_sfc)\n",
    "\n",
    "## 5. rainfall_amount = Instantanous rainfall at surface\n",
    "## [time = 56][height0 = 1][ensemble_member = 10][y = 949][x = 739]\n",
    "var_name = 'rainfall_amount'\n",
    "rain_sfc = fn.variables[var_name]    # [kg/m^2]\n",
    "#print(rain_sfc)\n",
    "\n",
    "## 6. snowfall_amount = Instantaneous snowfall amount at surface\n",
    "## [time = 56][height0 = 1][ensemble_member = 10][y = 949][x = 739]\n",
    "var_name = 'snowfall_amount'\n",
    "snow_sfc = fn.variables[var_name]    # [kg/m^2]\n",
    "#print(snow_sfc)"
   ]
  },
  {
   "cell_type": "raw",
   "metadata": {
    "collapsed": true
   },
   "source": [
    "### with Vertical Levels ( height_above_msl ) : 0.0 m\n",
    "\n",
    "## 7. air_pressure_at_sea_level = Mean Sea Level Pressure (MSLP)\n",
    "## [time = 56][height_above_msl = 1][ensemble_member = 10][y = 949][x = 739]\n",
    "var_name = 'air_pressure_at_sea_level' \n",
    "mslp = fn.variables[var_name]        # [Pa]\n",
    "#print(mslp)"
   ]
  },
  {
   "cell_type": "raw",
   "metadata": {
    "collapsed": true
   },
   "source": [
    "### From with Vertical Levels ( hybrid ) \n",
    "\n",
    "## 8. air_temperature_ml = Air temperature model levels\n",
    "## [time = 56][hybrid = 65][ensemble_member = 10][y = 949][x = 739]\n",
    "var_name = 'air_temperature_ml' \n",
    "temp_ml = fn.variables[var_name]     # [K]\n",
    "#print(temp_ml)\n",
    "\n",
    "## 9. atmosphere_cloud_condensed_water_content_ml = Atmospheric cloud condensed water content in model levels\n",
    "## [time = 56][hybrid = 65][ensemble_member = 10][y = 949][x = 739]\n",
    "var_name = 'atmosphere_cloud_condensed_water_content_ml'\n",
    "CWC_ml = fn.variables[var_name]      # [kg/m^2]\n",
    "#print(CWC_ml)\n",
    "\n",
    "## 10. atmosphere_cloud_ice_content_ml = Cloud ice in model levels\n",
    "## [time = 56][hybrid = 65][ensemble_member = 10][y = 949][x = 739]\n",
    "var_name = 'atmosphere_cloud_ice_content_ml'\n",
    "CI_ml = fn.variables[var_name]       # [kg/m^2]\n",
    "#print(CI_ml)\n",
    "\n",
    "## 11. graupelfall_amount_ml = Instantaneous graupel in model levels\n",
    "## [time = 56][hybrid = 65][ensemble_member = 10][y = 949][x = 739]\n",
    "var_name = 'graupelfall_amount_ml'\n",
    "graupel_ml = fn.variables[var_name]  # [kg/m^2]\n",
    "#print(graupel_ml)\n",
    "\n",
    "## 12. pressure_departure = Nonhydrostatic departure from hydrostatic pressure\n",
    "## [time = 56][hybrid = 65][ensemble_member = 10][y = 949][x = 739]\n",
    "var_name = 'pressure_departure'\n",
    "pres_ml = fn.variables[var_name]    # [Pa]\n",
    "#print(pres_ml)\n",
    "\n",
    "## 13. rainfall_amount_ml = Instantanous rain in model levels\n",
    "## [time = 56][hybrid = 65][ensemble_member = 10][y = 949][x = 739]\n",
    "var_name = 'rainfall_amount_ml'\n",
    "rain_ml = fn.variables[var_name]     # [kg/m^2]\n",
    "#print(rain_ml)\n",
    "\n",
    "## 14. snowfall_amount_ml = Instantaneous snow in model levels\n",
    "## [time = 56][hybrid = 65][ensemble_member = 10][y = 949][x = 739]\n",
    "var_name = 'snowfall_amount_ml'\n",
    "snow_ml = fn.variables[var_name]     # [kg/m^2]\n",
    "#print(snow_ml)\n",
    "\n",
    "## 15. specific_humidity_ml = Specific humidity model levels\n",
    "## [time = 56][hybrid = 65][ensemble_member = 10][y = 949][x = 739]\n",
    "var_name = 'specific_humidity_ml'\n",
    "q_ml = fn.variables[var_name]        # [kg/kg]\n"
   ]
  },
  {
   "cell_type": "code",
   "execution_count": 6,
   "metadata": {
    "collapsed": true
   },
   "outputs": [],
   "source": [
    "# Stations latitude longitude, the nearest gridpoint we are looking for\n",
    "stn_lat = 59.8\n",
    "stn_lon = 7.2\n"
   ]
  },
  {
   "cell_type": "code",
   "execution_count": 7,
   "metadata": {
    "collapsed": true
   },
   "outputs": [],
   "source": [
    "# plot the simulated gridded model data and the point of interest\n",
    "# Create a basemap to show the data\n",
    "m = Basemap(llcrnrlon=longitude[:,:].min(), \\\n",
    "            llcrnrlat=latitude[:,:].min(), \\\n",
    "            urcrnrlon=longitude[:,:].max(), \\\n",
    "            urcrnrlat=latitude[:,:].max())\n",
    "\n"
   ]
  },
  {
   "cell_type": "code",
   "execution_count": 8,
   "metadata": {
    "collapsed": true
   },
   "outputs": [],
   "source": [
    "# Now find the absolute value of the difference between the  station's lat/lon with every point in the grid. \n",
    "# This tells us how close a point is to the particular latitude and longitude.\n",
    "\n",
    "abslat = np.abs(latitude[:,:]-stn_lat)\n",
    "abslon= np.abs(longitude[:,:]-stn_lon)"
   ]
  },
  {
   "cell_type": "code",
   "execution_count": null,
   "metadata": {
    "collapsed": true
   },
   "outputs": [],
   "source": [
    "## If you plot abslat and abslon, you'll see what we have done...we have created two new arrays with that tell us \n",
    "## how close each latitude and longitude is to the grid point we are interested in.\n",
    "#m.drawcoastlines()\n",
    "#m.pcolormesh(longitude, latitude, abslat)"
   ]
  },
  {
   "cell_type": "code",
   "execution_count": null,
   "metadata": {
    "collapsed": true
   },
   "outputs": [],
   "source": [
    "#m.drawcoastlines()\n",
    "#m.pcolormesh(longitude, latitude, abslon)"
   ]
  },
  {
   "cell_type": "code",
   "execution_count": 9,
   "metadata": {
    "collapsed": true
   },
   "outputs": [],
   "source": [
    "# Now we need to combine these two results. We will use numpy.maximum, which takes two arrays and finds the local \n",
    "# maximum.\n",
    "c = np.maximum(abslon, abslat)\n"
   ]
  },
  {
   "cell_type": "code",
   "execution_count": 10,
   "metadata": {
    "collapsed": true
   },
   "outputs": [],
   "source": [
    "# The dark blue point is the nearest grid location to our station. You can find the index location on the grid of \n",
    "# this by using the min function.\n",
    "latlon_idx = np.argmin(c)\n",
    "\n",
    "#m.drawcoastlines()\n",
    "#m.pcolormesh(longitude, latitude, c)\n"
   ]
  },
  {
   "cell_type": "code",
   "execution_count": 11,
   "metadata": {},
   "outputs": [
    {
     "name": "stdout",
     "output_type": "stream",
     "text": [
      "Value of 270.032 at 59.8029204273 7.21592695744\n",
      "59.8029204273 7.21592695744 is the nearest grid to 59.8 7.2\n"
     ]
    }
   ],
   "source": [
    "# If you don't like flattened arrays, you can also get the row/column index like this\n",
    "y, x = np.where(c == np.min(c))\n",
    "grid_data = temp_sfc[0,0,0,y[0], x[0]]\n",
    "grid_lat = latitude[y[0], x[0]]\n",
    "grid_lon = longitude[y[0], x[0]]\n",
    "\n",
    "print(\"Value of %s at %s %s\" % (grid_data, grid_lat, grid_lon))\n",
    "print(\"%s %s is the nearest grid to %s %s\" % (grid_lat, grid_lon, stn_lat, stn_lon))"
   ]
  },
  {
   "cell_type": "code",
   "execution_count": 12,
   "metadata": {},
   "outputs": [
    {
     "data": {
      "text/plain": [
       "<matplotlib.text.Text at 0x1207e3b38>"
      ]
     },
     "execution_count": 12,
     "metadata": {},
     "output_type": "execute_result"
    },
    {
     "data": {
      "image/png": "[encoded data removed]",
      "text/plain": [
       "<matplotlib.figure.Figure at 0x11e4040b8>"
      ]
     },
     "metadata": {},
     "output_type": "display_data"
    }
   ],
   "source": [
    "m.drawcoastlines()\n",
    "m.pcolormesh(longitude, latitude, c)\n",
    "m.scatter(grid_lon, grid_lat, s=100, c='w')\n",
    "plt.text(grid_lon+.5, grid_lat+.5, grid_data, color='w')"
   ]
  },
  {
   "cell_type": "code",
   "execution_count": 13,
   "metadata": {
    "collapsed": true
   },
   "outputs": [],
   "source": [
    "### fill values of missing data\n",
    "mask = temp_sfc[:,:,:,y[0],x[0]].mask\n",
    "\n",
    "fill_value = temp_sfc[:,:,:,y[0],x[0]].fill_value\n",
    "\n",
    "marr = np.ma.array(temp_sfc[:,:,:,y[0],x[0]], mask = mask, fill_value = fill_value)\n",
    "\n",
    "#t_sfc = np.zeros((67,1,10,1,1))\n",
    "#t_sfc = marr.filled()"
   ]
  },
  {
   "cell_type": "code",
   "execution_count": 14,
   "metadata": {
    "collapsed": true
   },
   "outputs": [],
   "source": [
    "### write netCDF file \n",
    "f_sfc = netCDF4.Dataset('%s%s%s.nc' %(year,month,day), 'w')\n",
    "f_sfc.createDimension('time', 67)            # [time = 67]\n",
    "f_sfc.createDimension('height0', 1)          # [height0 = 1]\n",
    "f_sfc.createDimension('hybrid', 65)          # [hybrid = 65]\n",
    "f_sfc.createDimension('height_above_msl', 1) # [height_above_msl = 1]\n",
    "f_sfc.createDimension('ensemble_member', 10)  # [ensemble_member = 10]\n",
    "f_sfc.createDimension('y', 1)                # [y = 1]\n",
    "f_sfc.createDimension('x', 1)                # [x = 1]\n",
    "\n",
    "grid_temp_sfc = f_sfc.createVariable('air_temperature_0m', marr.filled().dtype, \\\n",
    "                                     ('time','height0','ensemble_member','y','x'), \\\n",
    "                                     fill_value = temp_sfc[:,:,:,y[0],x[0]].fill_value ,zlib=True)"
   ]
  },
  {
   "cell_type": "code",
   "execution_count": 15,
   "metadata": {},
   "outputs": [
    {
     "data": {
      "text/plain": [
       "(67, 1, 10, 1, 1)"
      ]
     },
     "execution_count": 15,
     "metadata": {},
     "output_type": "execute_result"
    }
   ],
   "source": [
    "grid_temp_sfc.shape"
   ]
  },
  {
   "cell_type": "code",
   "execution_count": null,
   "metadata": {
    "collapsed": true
   },
   "outputs": [],
   "source": [
    "SWE[:,:,2,y[0],x[0]]\n",
    "mask = SWE[:,:,2,y[0],x[0]].mask\n",
    "fill_value = SWE[:,:,2,y[0],x[0]].fill_value\n",
    "\n",
    "marr = np.ma.array(SWE[:,:,2,y[0],x[0]], mask=mask,fill_value = fill_value)\n",
    "dt = marr.filled().dtype"
   ]
  },
  {
   "cell_type": "code",
   "execution_count": null,
   "metadata": {
    "collapsed": true
   },
   "outputs": [],
   "source": [
    "### Surface values\n",
    "f_sfc = netCDF4.Dataset('../test_dataMEPS/%s%s%s_00_sfc.nc' %(year,month,day), 'w')\n",
    "\n",
    "f_sfc.createDimension('time', 67)            # [time = 67]\n",
    "f_sfc.createDimension('height0', 1)          # [height0 = 1]\n",
    "f_sfc.createDimension('height_above_msl', 1) # [height_above_msl = 1]\n",
    "f_sfc.createDimension('ensemble_member', 10)  # [ensemble_member = 10]\n",
    "f_sfc.createDimension('y', 1)                # [y = 1]\n",
    "f_sfc.createDimension('x', 1)                # [x = 1]\n",
    "\n",
    "grid_time_sfc = f_sfc.createVariable('time', np.float64, ('time',),zlib=True)\n",
    "\n",
    "grid_temp_sfc = f_sfc.createVariable('temp_sfc', np.float32, ('time','height0','ensemble_member','y','x'),zlib=True)\n",
    "grid_graupel_sfc = f_sfc.createVariable('graupel_sfc', np.float32, ('time','height0','ensemble_member','y','x'),zlib=True)\n",
    "grid_SWE = f_sfc.createVariable('Snow Water Equivivalent', np.float32, ('time','height0','ensemble_member','y','x'),zlib=True)\n",
    "grid_precip_sfc = f_sfc.createVariable('precip_sfc', np.float32, ('time','height0','ensemble_member','y','x'),zlib=True) \n",
    "grid_rain_sfc = f_sfc.createVariable('rain_sfc', np.float32, ('time','height0','ensemble_member','y','x'),zlib=True)\n",
    "grid_snow_sfc = f_sfc.createVariable('snow_sfc', np.float32, ('time','height0','ensemble_member','y','x'),zlib=True)\n",
    "grid_mslp = f_sfc.createVariable('mslp', np.float32, ('time','height_above_msl','ensemble_member','y','x'),zlib=True)\n",
    "\n",
    "\n",
    "# get the row/column index like this\n",
    "y, x = np.where(c == np.min(c))\n",
    "\n",
    "grid_time_sfc[:] = time[:,]\n",
    "\n",
    "\n",
    "grid_temp_sfc[:] = temp_sfc[:,:,:,y[0], x[0]]\n",
    "grid_graupel_sfc[:] = graupel_sfc[:,:,:,y[0], x[0]] \n",
    "grid_SWE[:] = SWE[:,:,:,y[0], x[0]] \n",
    "grid_precip_sfc[:] = precip_sfc[:,:,:,y[0], x[0]] \n",
    "grid_rain_sfc[:] = rain_sfc[:,:,:,y[0], x[0]]  \n",
    "grid_snow_sfc[:] = snow_sfc[:,:,:,y[0], x[0]] \n",
    "grid_mslp[:] = mslp[:,:,:,y[0], x[0]]\n"
   ]
  },
  {
   "cell_type": "code",
   "execution_count": null,
   "metadata": {
    "collapsed": true
   },
   "outputs": [],
   "source": [
    "f_sfc.close()"
   ]
  },
  {
   "cell_type": "code",
   "execution_count": null,
   "metadata": {
    "collapsed": true
   },
   "outputs": [],
   "source": []
  },
  {
   "cell_type": "code",
   "execution_count": null,
   "metadata": {
    "collapsed": true
   },
   "outputs": [],
   "source": [
    "### model level values\n",
    "for EM in range(0,10):\n",
    "    f_ml = netCDF4.Dataset('../test_dataMEPS/%s%s%s_%d.nc' %(year,month,day,EM), 'w')\n",
    "\n",
    "\n",
    "    f_ml.createDimension('time', 67)            # [time = 56]\n",
    "    f_ml.createDimension('hybrid', 65)          # [hybrid = 65]\n",
    "    f_ml.createDimension('ensemble_member', 1)  # [ensemble_member = 1]\n",
    "    f_ml.createDimension('y', 1)                # [y = 1]\n",
    "    f_ml.createDimension('x', 1)                # [x = 1]\n",
    "\n",
    "    grid_time_ml = f_ml.createVariable('time', np.float64, ('time',),zlib=True)\n",
    "\n",
    "\n",
    "    grid_temp_ml = f_ml.createVariable('temp_ml', np.int32, ('time','hybrid','ensemble_member','y','x'), zlib=True) \n",
    "#grid_CWC_ml = f_ml.createVariable('Cloud_water_content_ml', np.float32, ('time','hybrid','ensemble_member','y','x'), zlib=True)\n",
    "#grid_CI_ml = f_ml.createVariable('cloud_ice', np.float32, ('time','hybrid','ensemble_member','y','x'), zlib=True)\n",
    "#grid_graupel_ml = f_ml.createVariable('graupel_ml', np.int32, ('time','hybrid','ensemble_member','y','x'), zlib=True)\n",
    "#grid_pres_ml = f_ml.createVariable('press_ml', np.float32, ('time','hybrid','ensemble_member','y','x'), zlib=True)\n",
    "#grid_rain_ml = f_ml.createVariable('rain_ml', np.int32, ('time','hybrid','ensemble_member','y','x'), zlib=True)\n",
    "#grid_snow_ml = f_ml.createVariable('snow_ml', np.float32, ('time','hybrid','ensemble_member','y','x'), zlib=True)\n",
    "#grid_q_ml = f_ml.createVariable('specific_humididty_ml', np.int32, ('time','hybrid','ensemble_member','y','x'), zlib=True)\n",
    "\n",
    "    grid_time_ml[:] = time[:,]\n",
    "\n",
    "\n",
    "    grid_temp_ml[:] = temp_ml[:,:,EM,y[0], x[0]] \n",
    "#grid_CWC_ml[:] = CWC_ml[:,:,:,y[0], x[0]]\n",
    "#grid_CI_ml[:] = CI_ml[:,:,:,y[0], x[0]]\n",
    "#grid_graupel_ml[:] = graupel_ml[:,:,:,y[0], x[0]]\n",
    "#grid_pres_ml[:] = pres_ml[:,:,:,y[0], x[0]]\n",
    "#grid_rain_ml[:] = rain_ml[:,:,:,y[0], x[0]]\n",
    "#grid_snow_ml[:] = snow_ml[:,:,:,y[0], x[0]] \n",
    "#grid_q_ml[:] = q_ml[:,:,:,y[0], x[0]]\n",
    "\n",
    "    f_ml.close()"
   ]
  },
  {
   "cell_type": "code",
   "execution_count": null,
   "metadata": {
    "collapsed": true
   },
   "outputs": [],
   "source": []
  },
  {
   "cell_type": "code",
   "execution_count": null,
   "metadata": {
    "collapsed": true
   },
   "outputs": [],
   "source": []
  }
 ],
 "metadata": {
  "kernelspec": {
   "display_name": "Python 3",
   "language": "python",
   "name": "python3"
  },
  "language_info": {
   "codemirror_mode": {
    "name": "ipython",
    "version": 3
   },
   "file_extension": ".py",
   "mimetype": "text/x-python",
   "name": "python",
   "nbconvert_exporter": "python",
   "pygments_lexer": "ipython3",
   "version": "3.6.1"
  }
 },
 "nbformat": 4,
 "nbformat_minor": 2
}

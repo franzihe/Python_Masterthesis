{
 "cells": [
  {
   "cell_type": "code",
   "execution_count": null,
   "metadata": {
    "collapsed": true
   },
   "outputs": [],
   "source": [
    "%matplotlib inline\n",
    "import sys\n",
    "sys.path.append('/Volumes/SANDISK128/Documents/Thesis/Python/')\n",
    "import datetime\n",
    "from datetime import date\n",
    "import pandas as pd\n",
    "import math\n",
    "\n",
    "\n",
    "\n",
    "import os"
   ]
  },
  {
   "cell_type": "code",
   "execution_count": null,
   "metadata": {
    "collapsed": true
   },
   "outputs": [],
   "source": [
    "def create_Hauk_obs(txtdir, txt_filename):\n",
    "    Haukeli = pd.read_csv('%s/%s' %(txtdir, txt_filename),\\\n",
    "                    sep = ',',header=0)\n",
    "    dd = Haukeli['Date']\n",
    "    time = Haukeli['TimeStamp']     # Time Stamp\n",
    "    dofe1 = Haukeli['RA1'].astype(float)            # total accumulation from Geonor inside DOUBLE FENCE [mm] RA1\n",
    "    dofe2 = Haukeli['RA2'].astype(float)\n",
    "    dofe3 = Haukeli['RA3'].astype(float)\n",
    "    t = Haukeli['TA'].astype(float)            # Air temperature, PT100 [deg C] \n",
    "\n",
    "    speed = Haukeli['FF'].astype(float)         # wind speed 10 m @ mast 1 [m/s] FF\n",
    "    direction = Haukeli['DD'].astype(float)     # wind direction 10 m @mast 1 [deg] DD\n",
    "    ### find date \n",
    "    dd[::1440]\n",
    "    year = []\n",
    "    month = []\n",
    "    day = []\n",
    "    for k in range(0,31):\n",
    "        idx = datetime.datetime.strptime(str(dd[k*1440]), '%Y%m%d')\n",
    "        year.append(int(idx.year))\n",
    "        month.append(int(idx.month))\n",
    "        day.append(int(idx.day))\n",
    "### exclude missing values\n",
    "    dofe1 = dofe1.where(dofe1 != -999.00)\n",
    "    dofe2 = dofe2.where(dofe2 != -999.00)\n",
    "    dofe3 = dofe3.where(dofe3 != -999.00)\n",
    "    t = t.where(t != -999.00)\n",
    "    speed = speed.where(speed != -999.00)\n",
    "    direction = direction.where(direction != -999.00)\n",
    "    \n",
    "### calculate the U, V wind component for barb plot\n",
    "# http://colaweb.gmu.edu/dev/clim301/lectures/wind/wind-uv.html\n",
    "\n",
    "# first calculate the mathematical wind direction in deg\n",
    "    md_deg = 270 - direction\n",
    "    for k in range(0,md_deg.shape[0]):\n",
    "        if md_deg[k] <0 :\n",
    "            md_deg[k] = md_deg[k] +360\n",
    "    md_rad = math.pi/180. * md_deg\n",
    "    u_wind = speed*np.cos(md_rad)\n",
    "    v_wind = speed*np.sin(md_rad)\n",
    "    \n",
    "# --------- connect values from double fence and calculate mean  -------------------------------------------------------------------------\n",
    "\n",
    "    dofe = pd.concat([dofe1, dofe2, dofe3], axis = 1)\n",
    "    dofe = np.nanmean(dofe, axis = 1)\n",
    "    \n",
    "# --------- create array with all daily values in column  -------------------------------------------------------------------------\n",
    "    df1 = []\n",
    "    df2 = []\n",
    "    df3 = []\n",
    "    df = []\n",
    "    temp = []\n",
    "    wind_u = []\n",
    "    wind_v = []\n",
    "\n",
    "    for i in range(0,31):\n",
    "        df1.append(dofe1[i*1440: (i+1)*1440])\n",
    "        df2.append(dofe2[i*1440: (i+1)*1440])\n",
    "        df3.append(dofe3[i*1440: (i+1)*1440])\n",
    "        df.append(dofe[i*1440: (i+1)*1440])\n",
    "        temp.append(t[i*1440: (i+1)*1440])\n",
    "        wind_u.append(u_wind[i*1440: (i+1)*1440])\n",
    "        wind_v.append(v_wind[i*1440: (i+1)*1440])\n",
    "\n",
    "    df1 = np.transpose(df1)\n",
    "    df2 = np.transpose(df2)\n",
    "    df3 = np.transpose(df3)\n",
    "    df = np.transpose(df)\n",
    "    temp = np.transpose(temp)\n",
    "    wind_u = np.transpose(wind_u)\n",
    "    wind_v = np.transpose(wind_v)\n",
    "    return(df, temp, wind_u, wind_v, year, month, day);"
   ]
  }
 ],
 "metadata": {
  "kernelspec": {
   "display_name": "Python 3",
   "language": "python",
   "name": "python3"
  },
  "language_info": {
   "codemirror_mode": {
    "name": "ipython",
    "version": 3
   },
   "file_extension": ".py",
   "mimetype": "text/x-python",
   "name": "python",
   "nbconvert_exporter": "python",
   "pygments_lexer": "ipython3",
   "version": "3.6.1"
  }
 },
 "nbformat": 4,
 "nbformat_minor": 2
}

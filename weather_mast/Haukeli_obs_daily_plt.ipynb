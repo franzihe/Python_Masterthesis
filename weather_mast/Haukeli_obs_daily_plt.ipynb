{
 "cells": [
  {
   "cell_type": "markdown",
   "metadata": {},
   "source": [
    "# Read observational data from weather mast at Haukeliseter site\n",
    "\n",
    "Needed for the plot:\n",
    "- precipitation\n",
    "- temperature\n",
    "- wind speed\n",
    "- wind direction\n"
   ]
  },
  {
   "cell_type": "code",
   "execution_count": null,
   "metadata": {
    "collapsed": true
   },
   "outputs": [],
   "source": [
    "import sys\n",
    "sys.path.append('/Volumes/SANDISK128/Documents/Thesis/Python/')\n",
    "import matplotlib.pyplot as plt\n",
    "import numpy as np \n",
    "import pandas as pd\n",
    "import datetime\n",
    "from datetime import date\n",
    "import math\n",
    "\n",
    "import get_Haukeli_obs_data as obsDat\n",
    "import TPU_savefig as PF\n",
    "import calc_date as cd\n",
    "import save_fig as SF\n",
    "import createFolder as cF\n"
   ]
  },
  {
   "cell_type": "code",
   "execution_count": null,
   "metadata": {
    "collapsed": true
   },
   "outputs": [],
   "source": [
    "sfig = 0\n",
    "txtdir = '../../Data/eklima'\n",
    "txt_filename = 'Observations-hour_minutes.txt'\n",
    "figdir = '../../Figures/Haukeli_weathermast'\n",
    "cF.createFolder(figdir)\n",
    "form = 'png'"
   ]
  },
  {
   "cell_type": "code",
   "execution_count": null,
   "metadata": {
    "collapsed": true
   },
   "outputs": [],
   "source": [
    "### define colors for colorbar\n",
    "champ = 255\n",
    "blue = np.array([1,74,159])/champ           # for the date\n",
    "\n"
   ]
  },
  {
   "cell_type": "code",
   "execution_count": null,
   "metadata": {
    "collapsed": true
   },
   "outputs": [],
   "source": [
    "### Mean wind speed and direction\n",
    "# http://www.intellovations.com/2011/01/16/wind-observation-calculations-in-fortran-and-python/\n"
   ]
  },
  {
   "cell_type": "code",
   "execution_count": null,
   "metadata": {
    "collapsed": true
   },
   "outputs": [],
   "source": [
    "Haukeli = pd.read_csv('%s/%s' %(txtdir, txt_filename),\\\n",
    "                    sep = ';',header=19, skipfooter = 11, engine= 'python')"
   ]
  },
  {
   "cell_type": "code",
   "execution_count": null,
   "metadata": {
    "collapsed": true
   },
   "outputs": [],
   "source": [
    "#pd.DataFrame(Haukeli)"
   ]
  },
  {
   "cell_type": "code",
   "execution_count": null,
   "metadata": {
    "collapsed": true
   },
   "outputs": [],
   "source": [
    "DateHour = Haukeli['Date-Hour(UTC)']\n",
    "\n",
    "RR_1 = Haukeli['RR_1'].astype(float)           # Precipitation (1 hour); [mm]\n",
    "TA = Haukeli['TA'].astype(float)               # Air temperature; [deg C] \n",
    "\n",
    "FF = Haukeli['FF'].astype(float)         # Wind speed (10 meters above ground); [m/s]\n",
    "DD = Haukeli['DD'].astype(float)     # Wind direction (FF); [degrees]"
   ]
  },
  {
   "cell_type": "code",
   "execution_count": null,
   "metadata": {
    "collapsed": true
   },
   "outputs": [],
   "source": [
    "idxFF = np.where(FF[:] == -9999)\n",
    "idxDD = np.where(DD[:] == -9999)\n",
    "\n",
    "FF[idxFF[0][:]] = np.nan\n",
    "DD[idxDD[0][:]] = np.nan\n",
    "\n",
    "### calculate the U, V wind component for barb plot\n",
    "# http://colaweb.gmu.edu/dev/clim301/lectures/wind/wind-uv.html\n",
    "\n",
    "# first calculate the mathematical wind direction in deg\n",
    "md_deg = 270 - DD\n",
    "for k in range(0,md_deg.shape[0]):\n",
    "    if md_deg[k] <0 :\n",
    "        md_deg[k] = md_deg[k] +360\n",
    "md_rad = math.pi/180. * md_deg\n",
    "uwind = FF*np.cos(md_rad)\n",
    "vwind = FF*np.sin(md_rad)"
   ]
  },
  {
   "cell_type": "code",
   "execution_count": null,
   "metadata": {
    "collapsed": true
   },
   "outputs": [],
   "source": [
    "precip, dt_precip, hour_precip, day_precip, month_precip, year_precip = obsDat.valid_values(RR_1, DateHour)\n",
    "temp, dt_temp, hour_temp, day_temp, month_temp, year_temp = obsDat.valid_values(TA, DateHour)\n",
    "U_wind, V_wind, dt_wind, hour_wind, day_wind, month_wind, year_wind = obsDat.valid_values_wind(uwind, vwind, DateHour)\n"
   ]
  },
  {
   "cell_type": "code",
   "execution_count": null,
   "metadata": {},
   "outputs": [],
   "source": [
    "for k in range(0,31):\n",
    "    if not (day_precip[k][:].any()):\n",
    "        print('list is empty')\n",
    "        continue\n",
    "    \n",
    "    if day_precip[k][0]< 10:\n",
    "        dd = '0%s' %day_precip[k][0]\n",
    "    else: \n",
    "        dd = '%s' %day_precip[k][0]\n",
    "    calday, calmon = cd.get_dayname(year_precip[k][0],month_precip[k][0],day_precip[k][0])\n",
    "    print('%s, %s %s %g' %(calday, (dd), calmon, (year_precip[k][0])))\n",
    "\n",
    "    \n",
    "\n",
    "    \n",
    "    \n",
    "    la0 = np.where(precip[k][:] > 0.0)\n",
    "    if len(precip[k][la0]) == 0.:\n",
    "        h_p = np.zeros((hour_temp[k][:].shape[0]))\n",
    "        pp = np.zeros(temp[k][:].shape[0])\n",
    "    else:\n",
    "        h_p = hour_precip[k][la0]\n",
    "        pp = precip[k][la0]\n",
    "    \n",
    "    figname = 'T_P_U_%s%s%s.png' % (year_precip[k][0], month_precip[k][0], dd)\n",
    "    \n",
    "    fig = plt.figure(figsize=(20,7))\n",
    "    fontsize = 30\n",
    "    \n",
    "    if sfig ==1:\n",
    "        PF.plot_TPU(fig, h_p, pp,\n",
    "             hour_temp[k][:], temp[k][:], \n",
    "             hour_wind[k][:], np.zeros((hour_wind[k]).shape[0]), U_wind[k][:], V_wind[k][:],\n",
    "             calday, dd, calmon, year_precip[k][0], fs = fontsize)\n",
    "        SF.save_figure_landscape(figdir, figname, form)\n",
    "    else:\n",
    "        PF.plot_TPU(fig, h_p, pp,\n",
    "             hour_temp[k][:], temp[k][:], \n",
    "             hour_wind[k][:], np.zeros((hour_wind[k]).shape[0]), U_wind[k][:], V_wind[k][:],\n",
    "             calday, dd, calmon, year_precip[k][0], fs = fontsize)\n",
    "        plt.show()\n",
    "        \n",
    "    plt.close()\n",
    "    \n"
   ]
  },
  {
   "cell_type": "code",
   "execution_count": null,
   "metadata": {
    "collapsed": true
   },
   "outputs": [],
   "source": []
  }
 ],
 "metadata": {
  "kernelspec": {
   "display_name": "Python 3",
   "language": "python",
   "name": "python3"
  },
  "language_info": {
   "codemirror_mode": {
    "name": "ipython",
    "version": 3
   },
   "file_extension": ".py",
   "mimetype": "text/x-python",
   "name": "python",
   "nbconvert_exporter": "python",
   "pygments_lexer": "ipython3",
   "version": "3.6.1"
  }
 },
 "nbformat": 4,
 "nbformat_minor": 2
}

{
 "cells": [
  {
   "cell_type": "code",
   "execution_count": null,
   "metadata": {
    "collapsed": true
   },
   "outputs": [],
   "source": [
    "import sys\n",
    "sys.path.append('/Volumes/SANDISK128/Documents/Thesis/Python/')\n",
    "import matplotlib.pyplot as plt\n",
    "from matplotlib import gridspec\n",
    "import numpy as np \n",
    "import pandas as pd\n",
    "import datetime\n",
    "from datetime import date\n",
    "import calendar\n",
    "import math\n",
    "\n",
    "import TPU_savefig as PF\n",
    "import calc_date as cd\n",
    "import autolabel_bar as ab\n",
    "import save_fig as SF\n",
    "import get_Haukeli_obs_data as obsDat\n",
    "\n",
    "\n",
    "%matplotlib inline "
   ]
  },
  {
   "cell_type": "code",
   "execution_count": null,
   "metadata": {
    "collapsed": true
   },
   "outputs": [],
   "source": [
    "savefig = 1\n",
    "txtdir = '../../Retrieval'\n",
    "txt_filename = '201612.Haukeliseter_SC_copy.txt'\n",
    "figdir = '../../Observations_results/Haukeli_weathermast/'\n",
    "form = 'png'\n"
   ]
  },
  {
   "cell_type": "code",
   "execution_count": null,
   "metadata": {
    "collapsed": true
   },
   "outputs": [],
   "source": [
    "### define colors for colorbar\n",
    "champ = 255\n",
    "blue = np.array([1,74,159])/champ           # for the date\n"
   ]
  },
  {
   "cell_type": "code",
   "execution_count": null,
   "metadata": {
    "collapsed": true
   },
   "outputs": [],
   "source": [
    "df, temp, wind_u, wind_v, year, month, day = osbDat.create_Hauk_obs(txtdir, txt_filename)"
   ]
  },
  {
   "cell_type": "code",
   "execution_count": null,
   "metadata": {
    "scrolled": true
   },
   "outputs": [],
   "source": [
    "# --------- calculate daily mean of wind  -------------------------------------------------------------------------\n",
    "wind_u_day = np.nanmean(wind_u, axis = 0)\n",
    "wind_v_day = np.nanmean(wind_v, axis = 0)"
   ]
  },
  {
   "cell_type": "code",
   "execution_count": null,
   "metadata": {
    "collapsed": true
   },
   "outputs": [],
   "source": [
    "# --------- calculate daily accumulation -------------------------------------------------------------------------\n",
    "df_day = []\n",
    "for k in range(0,31):\n",
    "    df_day.append(df[-1,k] - df[0,k])\n"
   ]
  },
  {
   "cell_type": "code",
   "execution_count": null,
   "metadata": {
    "collapsed": true
   },
   "outputs": [],
   "source": [
    "# --------- calculate Tmax, Tmin -------------------------------------------------------------------------\n",
    "Tmax = []\n",
    "Tmin = []\n",
    "for k in range(0,31):\n",
    "    for i in range(0,4):\n",
    "        t_idx = temp[i*60*6 : (i+1)*60*6, k]\n",
    "        Tmax.append(np.nanmax(t_idx))\n",
    "        Tmin.append(np.nanmin(t_idx))\n",
    "\n",
    "# --------- calculate Tmean every 6hours -------------------------------------------------------------------------\n",
    "t_mean = []\n",
    "for i in range(0,4):\n",
    "    t_6 = temp[i*60*6 : (i+1)*60*6, :]\n",
    "    t_mean.append(np.nanmean(t_6, axis = 0))\n",
    "t_mean = pd.DataFrame.from_dict(t_mean)\n",
    "t_mean = pd.melt(t_mean)\n",
    "\n"
   ]
  },
  {
   "cell_type": "code",
   "execution_count": null,
   "metadata": {
    "collapsed": true
   },
   "outputs": [],
   "source": [
    "calday, calmon = cd.get_dayname(year[0],month[0],day[0])\n",
    "fig_name = 'T_P_U_%s%s.png' %(year[0],month[0])"
   ]
  },
  {
   "cell_type": "code",
   "execution_count": null,
   "metadata": {
    "collapsed": true
   },
   "outputs": [],
   "source": [
    "prec_tick = np.arange(0,round(np.nanmax(df_day))+5,5)"
   ]
  },
  {
   "cell_type": "code",
   "execution_count": null,
   "metadata": {
    "collapsed": true
   },
   "outputs": [],
   "source": [
    "T = np.arange(round(np.nanmin(t_mean)-1),round(np.nanmax(t_mean)+1),5)"
   ]
  },
  {
   "cell_type": "code",
   "execution_count": null,
   "metadata": {
    "collapsed": true
   },
   "outputs": [],
   "source": [
    "X = np.arange(0.5,31)\n",
    "Y = np.zeros((np.asarray(day).shape[0]))\n",
    "\n"
   ]
  },
  {
   "cell_type": "code",
   "execution_count": null,
   "metadata": {
    "collapsed": true
   },
   "outputs": [],
   "source": [
    "df_day = np.asarray(df_day)\n",
    "days = np.arange(0,31)\n",
    "days = days[~np.isnan(df_day)]\n",
    "df_day = df_day[~np.isnan(df_day)]\n",
    "days = days[np.where(df_day > 0.05)]\n",
    "df_day = df_day[np.where(df_day > 0.05)]"
   ]
  },
  {
   "cell_type": "code",
   "execution_count": null,
   "metadata": {},
   "outputs": [],
   "source": [
    "fig = plt.figure(figsize = (20,14))\n",
    "fs = 30\n",
    "gs = gridspec.GridSpec(7,1)\n",
    "ax1 = fig.add_subplot(gs[:6,:])\n",
    "\n",
    "\n",
    "barfont = fs-6\n",
    "yfont = fs\n",
    "tickfont = fs-2\n",
    "legenfont = fs+2\n",
    "# Precipitation\n",
    "\n",
    "bar = ax1.bar(days,df_day,width = 1,align='edge',label = 'DF accumulation', color='lightblue',\n",
    "              edgecolor ='deepskyblue')\n",
    "ab.autolabel(bar,ax1,barfont)\n",
    "ax1.grid()\n",
    "plt.setp(ax1.get_xticklabels(), visible=False)\n",
    "\n",
    "# Temperature\n",
    "ax2 = ax1.twinx()\n",
    "line = ax2.plot(np.arange(0,4*31), t_mean['value'],color = 'r',label='Temp',linewidth = 4)\n",
    "#linemin = ax2.plot(np.arange(0,4*31), Tmin, color = 'b', label = 'Temp$_{min}$', linewidth = 2, linestyle= '--')\n",
    "#linemax = ax2.plot(np.arange(0,4*31), Tmax, color = 'darkred', label = 'Temp$_{max}$', linewidth = 2, linestyle= '--')\n",
    "ax2.axhline(y = 0., c ='darkgray', linewidth = 2.5, zorder = 0, linestyle = '--')\n",
    "ax2.axhline(y = -7.5, c ='darkgreen', linewidth = 2, zorder = 0, linestyle = '--')\n",
    "\n",
    "# labeling Precip\n",
    "ax1.set_ylabel('Accumulation [mm]',fontsize = yfont)\n",
    "#ax1.set_yticklabels(prec_tick,fontsize = tickfont)\n",
    "ax1.set_xticks(np.asarray(day)-0.5)\n",
    "ax1.set_xticklabels(day, fontsize=tickfont)\n",
    "ax1.set_xlim([0,31])\n",
    "ax1.set_ylim([0.,np.nanmax(df_day)+1])\n",
    "ax1.legend(loc='upper left', fontsize=legenfont )\n",
    "plt.setp(ax1.get_yticklabels(), visible=False)\n",
    "\n",
    "    # labeling Temp\n",
    "ax2.set_yticks(T)\n",
    "ax2.set_ylabel('Temperature [$^\\circ$C]',fontsize = yfont)\n",
    "ax2.tick_params(axis='both', which= 'major', labelsize=tickfont)\n",
    "ax2.legend(loc='upper right', fontsize = legenfont )\n",
    "\n",
    "    \n",
    "# Wind\n",
    "# share x only\n",
    "ax3 = plt.subplot(gs[6,:])#, sharex=ax1)\n",
    "\n",
    "ax3.barbs(X,Y,wind_u_day, wind_u_day, length = 9, pivot='middle')\n",
    "# labeling Wind\n",
    "ax3.axes.get_yaxis().set_visible(False)\n",
    "ax3.tick_params(axis='both', which= 'major', labelsize=tickfont)\n",
    "ax3.set_xticks(np.asarray(day[::2])-0.5)\n",
    "ax3.set_xticklabels(np.asarray(day[::2]), fontsize=tickfont)\n",
    "ax3.set_xlim([0,31])\n",
    "ax3.set_ylim([-0.001,0.001])\n",
    "ax3.grid()\n",
    "        \n",
    "ax1.set_title('%s %s' %(calmon, (year[0])),fontsize=fs, color=blue)\n",
    "if savefig == 1:\n",
    "    SF.save_figure_landscape(figdir, fig_name, form )\n",
    "plt.show()"
   ]
  },
  {
   "cell_type": "code",
   "execution_count": null,
   "metadata": {
    "collapsed": true
   },
   "outputs": [],
   "source": []
  }
 ],
 "metadata": {
  "kernelspec": {
   "display_name": "Python 3",
   "language": "python",
   "name": "python3"
  },
  "language_info": {
   "codemirror_mode": {
    "name": "ipython",
    "version": 3
   },
   "file_extension": ".py",
   "mimetype": "text/x-python",
   "name": "python",
   "nbconvert_exporter": "python",
   "pygments_lexer": "ipython3",
   "version": "3.6.1"
  }
 },
 "nbformat": 4,
 "nbformat_minor": 2
}

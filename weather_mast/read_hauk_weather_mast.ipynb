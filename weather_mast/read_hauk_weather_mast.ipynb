{
 "cells": [
  {
   "cell_type": "markdown",
   "metadata": {},
   "source": [
    "# Read data from weather mast at Haukeliseter site\n",
    "\n",
    "## create temperature file for apriori guess\n",
    "## calculate daily snowfall"
   ]
  },
  {
   "cell_type": "code",
   "execution_count": null,
   "metadata": {
    "collapsed": true
   },
   "outputs": [],
   "source": [
    "import sys\n",
    "sys.path.append('/Volumes/SANDISK128/Documents/Thesis/Python/')\n",
    "import matplotlib.pyplot as plt\n",
    "import matplotlib.dates as dates\n",
    "import numpy as np \n",
    "import csv\n",
    "import pandas as pd\n",
    "import datetime\n",
    "from datetime import date\n",
    "import calendar\n",
    "import get_Haukeli_obs_data as obsDat\n",
    "import createFolder as cF\n",
    "import netCDF4\n",
    "import calc_station_properties as cs\n",
    "\n",
    "\n",
    "\n",
    "\n",
    "%matplotlib inline    \n",
    "\n"
   ]
  },
  {
   "cell_type": "code",
   "execution_count": null,
   "metadata": {},
   "outputs": [],
   "source": [
    "txt_save_dir = '../../Data/sfc_temp/txt'\n",
    "cF.createFolder(txt_save_dir)\n",
    "\n",
    "nc_save_dir = '../../Data/sfc_temp/nc'\n",
    "cF.createFolder(nc_save_dir)"
   ]
  },
  {
   "cell_type": "code",
   "execution_count": null,
   "metadata": {},
   "outputs": [],
   "source": [
    "Haukeli = pd.read_csv('../../Data/MetNo_obs/201612_Haukeliseter.txt',\\\n",
    "                    sep = ',',header=22, usecols = [0,1,2,3,4,6,7,8, 14], \\\n",
    "                      names = ['Date','TimeStamp', 'RA1', 'RA2', 'RA3', 'X2RA1', 'X2RA2', 'X2RA3', 'TA'])"
   ]
  },
  {
   "cell_type": "code",
   "execution_count": null,
   "metadata": {
    "collapsed": true
   },
   "outputs": [],
   "source": [
    "dd = Haukeli['Date']\n",
    "TimeStamp = Haukeli['TimeStamp']     # Time Stamp\n",
    "RA1 = Haukeli['RA1'].astype(float)            # total accumulation from Geonor inside DOUBLE FENCE [mm] RA1\n",
    "RA2 = Haukeli['RA2'].astype(float)\n",
    "RA3 = Haukeli['RA3'].astype(float)\n",
    "X2RA1 = Haukeli['X2RA1'].astype(float)          # Total accumulation from Geonor South, shielded with SINGLE FENCE [mm] X2RA1\n",
    "X2RA2 = Haukeli['X2RA2'].astype(float)\n",
    "X2RA3 = Haukeli['X2RA3'].astype(float)\n",
    "TA = Haukeli['TA'].astype(float)            # Air temperature, PT100 [deg C] TA\n",
    "#wind45 = Hauke['3DFFL4']      # wind speed 4.5m @ mast 2 [m/s] 3DFFL4"
   ]
  },
  {
   "cell_type": "code",
   "execution_count": null,
   "metadata": {},
   "outputs": [],
   "source": [
    "### exclude missing values\n",
    "RA1 = RA1.where(RA1 != -999.00)\n",
    "RA2 = RA2.where(RA2 != -999.00)\n",
    "RA3 = RA3.where(RA3 != -999.00)\n",
    "X2RA1 = X2RA1.where(X2RA1 != -999.00)\n",
    "X2RA2 = X2RA2.where(X2RA2 != -999.00)\n",
    "X2RA3 = X2RA3.where(X2RA3 != -999.00)\n",
    "TA = TA.where(TA != -999.00)\n",
    "#wind45 = wind45.where(wind45 != -999.00)"
   ]
  },
  {
   "cell_type": "code",
   "execution_count": null,
   "metadata": {},
   "outputs": [],
   "source": [
    "# --------- connect values from double fence and calculate mean  -------------------------------------------------------------------------\n",
    "# \n",
    "RA = pd.concat([RA1, RA2, RA3], axis = 1)\n",
    "RA = np.nanmean(RA, axis = 1)"
   ]
  },
  {
   "cell_type": "code",
   "execution_count": null,
   "metadata": {},
   "outputs": [],
   "source": [
    "yr = []\n",
    "mm = []\n",
    "dy = []\n",
    "tt = []\n",
    "df1 = []\n",
    "df2 = []\n",
    "df3 = []\n",
    "df = []\n",
    "temp = []\n",
    "for i in range(0,31):\n",
    "    idx = datetime.datetime.strptime(str(dd[i*1440]), '%Y%m%d')\n",
    "    yr.append(int(idx.year))\n",
    "    mm.append(int(idx.month))\n",
    "    dy.append(int(idx.day))\n",
    "    tt.append(TimeStamp[ i*1440 : (i+1)*1440 ])\n",
    "    df1.append(RA1[i*1440: (i+1)*1440])\n",
    "    df2.append(RA2[i*1440: (i+1)*1440])\n",
    "    df3.append(RA3[i*1440: (i+1)*1440])\n",
    "    df.append(RA[i*1440: (i+1)*1440])\n",
    "    temp.append(TA[i*1440: (i+1)*1440])\n",
    "\n",
    "df1 = np.transpose(df1)\n",
    "df2 = np.transpose(df2)\n",
    "df3 = np.transpose(df3)\n",
    "df = np.transpose(df)\n",
    "temp = np.transpose(temp)\n",
    "\n",
    "idx = []\n",
    "t_minute = []\n",
    "for k in range(0,60):\n",
    "    idx.append(k*100)\n",
    "t_minute = idx\n",
    "for h in range(1,24):\n",
    "    t_minute = np.concatenate([t_minute, np.asarray(idx)+h*10000])\n",
    "\n",
    "\n",
    "fmt = '%1.f %2.5f'\n",
    "#fmt = '%2.5f'\n",
    "#fmt = '%1.1f'\n",
    "\n",
    "for i in range(0,31):\n",
    "    if dy[i] < 10:\n",
    "        day = '0%s' %dy[i]\n",
    "    else:\n",
    "        day = str(dy[i])\n",
    "    filename = '%s/Haukeli_sfc_temp_%s%s%s.txt' %(txt_save_dir,yr[i],mm[i],day)\n",
    "    np.savetxt(filename, np.transpose([t_minute,temp[:,i]]), delimiter = ',', fmt = fmt, header = 'time, sfc_temp')\n",
    "\n",
    "for i in range(0,31):\n",
    "### write netCDF file including t_minute, temp\n",
    "    var = temp\n",
    "    mask = np.ma.getmaskarray(var[:,i])\n",
    "    var = np.ma.array(var[:,i], mask = mask, fill_value = -9999.)\n",
    "    var = var.filled()\n",
    "    \n",
    "    if dy[i] < 10:\n",
    "        day = '0%s' %dy[i]\n",
    "    else:\n",
    "        day = str(dy[i])\n",
    "    f = netCDF4.Dataset('%s/Haukeli_sfc_temp_%s%s%s.nc' %(nc_save_dir,yr[i],mm[i],day), 'w')\n",
    "### create dimensions\n",
    "    f.createDimension('time', t_minute.shape[0])\n",
    "\n",
    "    tid = f.createVariable('time', t_minute.dtype,'time',zlib = True)\n",
    "    tid[:] = t_minute[:]\n",
    "\n",
    "\n",
    "    dim = ('time', )\n",
    "    sfc_T = f.createVariable(varname='sfc_temp', datatype=var.dtype, dimensions=dim,\n",
    "                                      fill_value = -9999., zlib=True)\n",
    "    sfc_T[:] = var\n",
    "    f.close()"
   ]
  },
  {
   "cell_type": "code",
   "execution_count": null,
   "metadata": {
    "collapsed": true
   },
   "outputs": [],
   "source": []
  },
  {
   "cell_type": "code",
   "execution_count": null,
   "metadata": {
    "collapsed": true
   },
   "outputs": [],
   "source": []
  },
  {
   "cell_type": "code",
   "execution_count": null,
   "metadata": {
    "collapsed": true
   },
   "outputs": [],
   "source": []
  },
  {
   "cell_type": "code",
   "execution_count": null,
   "metadata": {
    "collapsed": true
   },
   "outputs": [],
   "source": []
  },
  {
   "cell_type": "code",
   "execution_count": null,
   "metadata": {
    "collapsed": true
   },
   "outputs": [],
   "source": []
  },
  {
   "cell_type": "raw",
   "metadata": {
    "collapsed": true
   },
   "source": [
    "# --------- SET DAYS WHERE 1440 MIN PER 24H ----------------------------------------------\n",
    "dy = []\n",
    "for i in range(0,32):\n",
    "    dy.append(i*1440)      # begin of the new day 00:00:00\n",
    "    \n"
   ]
  },
  {
   "cell_type": "raw",
   "metadata": {},
   "source": [
    "# --------- PRINT OUT TEMP FILES FOR A PRIORI GUESS --------------------------------------\n",
    "idx = np.arange((1440))\n",
    "t = np.zeros((1440,32))\n",
    "filename = []\n",
    "\n",
    "\n",
    "for i in range(0,31):\n",
    "    t[:,i] = temp[i*1440:(i+1)*1440]\n",
    "print(t[:,0])\n",
    "\n",
    "for day in range(1,32):\n",
    "    if day < 10:\n",
    "        day = str(day)\n",
    "        day = '0%s' %day\n",
    "    else:\n",
    "        day = str(day)\n",
    "\n",
    "    filename.append('../Observations_results/hauk_temp/surftemp_201612%s.dat' %day)\n",
    "\n",
    "for i in range(0,31):\n",
    "    np.savetxt(filename[i], np.transpose([idx,t[:,i]]), fmt = '%1.i %2.5f')\n"
   ]
  },
  {
   "cell_type": "raw",
   "metadata": {
    "collapsed": true
   },
   "source": [
    "# --------- CALCULATE DAILY TOTAL SNOWFALL -----------------------------------------------\n",
    "acc1_day = np.zeros((32,1))\n",
    "acc2_day = np.zeros((32,1))\n",
    "acc3_day = np.zeros((32,1))\n",
    "\n",
    "for i in range(0,31):\n",
    "    bot = dy[i]                                       # lower amount of snow from previous day\n",
    "    top = dy[i+1]-1                                   # top of snow amount after 1 day snowfall\n",
    "    acc1_day[i,:] = float(df1[top])-float(df1[bot])   # Sensor 1 DOUBLE FENCE\n",
    "                                                      # daily snowfall by subtracting the snow accumulation of the end of the day from the\n",
    "                                                      # end of the previous day\n",
    "    acc2_day[i,:] = float(df2[top])-float(df2[bot])   # Sensor 2 DOUBLE FENCE\n",
    "    acc3_day[i,:] = float(df3[top])-float(df3[bot])   # Sensor 3 DOUBLE FENCE\n",
    "\n",
    "acc_avg = (acc1_day+acc2_day+acc3_day)/3.\n",
    "acc_day = np.c_[acc1_day, acc2_day, acc3_day]\n",
    "acc_avg = np.mean(acc_day,axis =1)\n",
    "#print(acc1_day)\n",
    "#print(acc2_day)\n",
    "#print(acc3_day)\n",
    "\n",
    "\n"
   ]
  },
  {
   "cell_type": "raw",
   "metadata": {
    "collapsed": true
   },
   "source": [
    "# --------- CALCULATE ACCUMULATION DURING A GIVEN DAY ------------------------------------\n",
    "df = np.c_[df1, df2, df3]\n",
    "sf = np.c_[sf1, sf2, sf3]\n",
    "\n",
    "# axis=1 will return the mean of every single row in the DataFrame\n",
    "dfavg = np.mean(df, axis = 1)       # arithmetic mean of the total accumulation DOUBLE FENCE for each minute\n",
    "sfavg = np.mean(df, axis = 1)       #                                           SINGLE FENCE\n",
    "\n",
    "#print(dfavg[8640+0+1],dfavg[8640+1+1])\n",
    "#(df1+df2+df3)/3.\n"
   ]
  },
  {
   "cell_type": "raw",
   "metadata": {
    "collapsed": true
   },
   "source": [
    "tt = np.empty((1,1440))\n",
    "tt[:] = np.NAN\n",
    "\n",
    "accDF = np.zeros((1440,33))\n",
    "accSF = np.zeros((1440,33))\n",
    "\n",
    "for k in range(0,30):\n",
    "    dy_no = int(dy[k,:])                     # index is day of month minus one\n",
    "                                             # select  day through index (e.g. 0 is Day 1)\n",
    "    totDF = 0.\n",
    "    totSF = 0.\n",
    "    for j in range(0,1440):\n",
    "        tt[:,j] = (1/60)*float(j)                        # convert time from minute to 100th of an hour\n",
    "        #tt[:,j] = float(j)\n",
    "        ## DOUBLE FENCE\n",
    "        totDF = totDF + (dfavg[dy_no+j+1] - dfavg[dy_no+j]) # snow accumulation per minute plus previous amount\n",
    "        accDF[j,k] = totDF                                  # DOUBLE FENCE accumulation of the day by using the mean \n",
    "                                                            # of the three double fence values per minute\n",
    "        ## SINGLE FENCE\n",
    "        totSF = totSF + (sfavg[dy_no+j+1] - sfavg[dy_no+j])\n",
    "        accSF[j,k] = totSF\n",
    "        \n"
   ]
  },
  {
   "cell_type": "raw",
   "metadata": {},
   "source": [
    "filename = '../Observations_results/hauk_temp/accDF.dat' \n",
    "np.savetxt(filename, accDF, fmt = '%2.5f')"
   ]
  },
  {
   "cell_type": "raw",
   "metadata": {},
   "source": [
    "times = [0, 3, 6, 9, 12, 15, 18, 21, 24]\n",
    "yr = int(2016)\n",
    "mo = int(12)\n",
    "\n",
    "for day in range(5,32):  # start from 6th December\n",
    "    day = day\n",
    "    if day < 10:\n",
    "        day = str(day)\n",
    "        day = '0%s' %day\n",
    "    else:\n",
    "        day = str(day)\n",
    " \n",
    "\n",
    "   \n",
    "    dy = int(day)\n",
    "    my_date = date(yr,mo,dy)\n",
    "    calday = calendar.day_name[my_date.weekday()]\n",
    "    calmon = calendar.month_abbr[mo]\n",
    "    \n",
    "    fig = plt.figure(figsize=(15,12.5))\n",
    "    ax = fig.add_subplot(1,1,1)\n",
    "    plt.plot(np.transpose(tt),accDF[:,(dy)])\n",
    "    #,np.transpose(tt),accSF[:,(dy-1)],'bs')\n",
    "    \n",
    "    \n",
    "    \n",
    "    fig.suptitle('%s, %s %s %s' %(calday, day, calmon, yr), fontsize=16, fontweight='bold')\n",
    "    \n",
    "    ax.set_xlim([0,24])\n",
    "    ax.set_xticks(times)\n",
    "    ax.set_xlabel('Hour', fontsize = 16)\n",
    "        \n",
    "    timer = ['00Z', '03Z','06Z','09Z','12Z','15Z','18Z','21Z','24Z']\n",
    "    ax.set_xticklabels(timer, fontsize = 16)#, rotation=45,fontsize=10)    # rotate x label\n",
    "    \n",
    "    \n",
    "    #ax.set_yticks(np.arange(0,13))\n",
    "    ax.set_ylabel('Accumulation (mm)', fontsize = 16)\n",
    "    #ax.set_yticklabels(np.arange(0,13),fontsize = 16)\n",
    "    \n",
    "    ### Save\n",
    "    plt.savefig('../Observations_results/figs/%s%s%s_acc.png' % (yr, mo, day))\n",
    "    plt.close(fig)\n",
    "        #ax.set_ylim([0,70])\n",
    "    #ax.set_ylabel('Accumulation (mm)', fontsize = 16)"
   ]
  },
  {
   "cell_type": "code",
   "execution_count": null,
   "metadata": {
    "collapsed": true
   },
   "outputs": [],
   "source": []
  }
 ],
 "metadata": {
  "kernelspec": {
   "display_name": "Python 3",
   "language": "python",
   "name": "python3"
  },
  "language_info": {
   "codemirror_mode": {
    "name": "ipython",
    "version": 3
   },
   "file_extension": ".py",
   "mimetype": "text/x-python",
   "name": "python",
   "nbconvert_exporter": "python",
   "pygments_lexer": "ipython3",
   "version": "3.6.1"
  }
 },
 "nbformat": 4,
 "nbformat_minor": 2
}

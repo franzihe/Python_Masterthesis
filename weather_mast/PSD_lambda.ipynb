{
 "cells": [
  {
   "cell_type": "code",
   "execution_count": 1,
   "metadata": {
    "collapsed": true
   },
   "outputs": [],
   "source": [
    "import sys\n",
    "sys.path.append('/Volumes/SANDISK128/Documents/Thesis/Python/')\n",
    "import matplotlib.pyplot as plt\n",
    "import numpy as np \n",
    "import pandas as pd\n",
    "import datetime\n",
    "from datetime import date\n",
    "import math\n",
    "\n",
    "import get_Haukeli_obs_data as obsDat\n",
    "import TPU_savefig as PF\n",
    "import calc_date as cd\n",
    "import save_fig as SF\n",
    "import createFolder as cF\n"
   ]
  },
  {
   "cell_type": "code",
   "execution_count": 2,
   "metadata": {
    "collapsed": true
   },
   "outputs": [],
   "source": [
    "sfig = 0\n",
    "txtdir = '../../Data/eklima'\n",
    "txt_filename = 'Observations-hour_minutes.txt'\n",
    "figdir = '../../Figures/Haukeli_weathermast'\n",
    "cF.createFolder(figdir)\n",
    "form = 'png'"
   ]
  },
  {
   "cell_type": "code",
   "execution_count": 3,
   "metadata": {
    "collapsed": true
   },
   "outputs": [],
   "source": [
    "### define colors for colorbar\n",
    "champ = 255\n",
    "blue = np.array([1,74,159])/champ           # for the date\n",
    "\n"
   ]
  },
  {
   "cell_type": "code",
   "execution_count": 4,
   "metadata": {
    "collapsed": true
   },
   "outputs": [],
   "source": [
    "### Mean wind speed and direction\n",
    "# http://www.intellovations.com/2011/01/16/wind-observation-calculations-in-fortran-and-python/\n"
   ]
  },
  {
   "cell_type": "code",
   "execution_count": 5,
   "metadata": {
    "collapsed": true
   },
   "outputs": [],
   "source": [
    "Haukeli = pd.read_csv('%s/%s' %(txtdir, txt_filename),\\\n",
    "                    sep = ';',header=19, skipfooter = 11, engine= 'python')"
   ]
  },
  {
   "cell_type": "code",
   "execution_count": 6,
   "metadata": {
    "collapsed": true
   },
   "outputs": [],
   "source": [
    "#pd.DataFrame(Haukeli)"
   ]
  },
  {
   "cell_type": "code",
   "execution_count": 7,
   "metadata": {
    "collapsed": true
   },
   "outputs": [],
   "source": [
    "DateHour = Haukeli['Date-Hour(UTC)']\n",
    "\n",
    "RR_1 = Haukeli['RR_1'].astype(float)           # Precipitation (1 hour); [mm]\n",
    "TA = Haukeli['TA'].astype(float)               # Air temperature; [deg C] \n",
    "\n",
    "FF = Haukeli['FF'].astype(float)         # Wind speed (10 meters above ground); [m/s]\n",
    "DD = Haukeli['DD'].astype(float)     # Wind direction (FF); [degrees]"
   ]
  },
  {
   "cell_type": "code",
   "execution_count": 8,
   "metadata": {
    "collapsed": true
   },
   "outputs": [],
   "source": [
    "idxFF = np.where(FF[:] == -9999)\n",
    "idxDD = np.where(DD[:] == -9999)\n",
    "\n",
    "FF[idxFF[0][:]] = np.nan\n",
    "DD[idxDD[0][:]] = np.nan\n",
    "\n",
    "### calculate the U, V wind component for barb plot\n",
    "# http://colaweb.gmu.edu/dev/clim301/lectures/wind/wind-uv.html\n",
    "\n",
    "# first calculate the mathematical wind direction in deg\n",
    "md_deg = 270 - DD\n",
    "for k in range(0,md_deg.shape[0]):\n",
    "    if md_deg[k] <0 :\n",
    "        md_deg[k] = md_deg[k] +360\n",
    "md_rad = math.pi/180. * md_deg\n",
    "uwind = FF*np.cos(md_rad)\n",
    "vwind = FF*np.sin(md_rad)"
   ]
  },
  {
   "cell_type": "code",
   "execution_count": 9,
   "metadata": {
    "collapsed": true
   },
   "outputs": [],
   "source": [
    "precip, dt_precip, hour_precip, day_precip, month_precip, year_precip = obsDat.valid_values(RR_1, DateHour)\n",
    "temp, dt_temp, hour_temp, day_temp, month_temp, year_temp = obsDat.valid_values(TA, DateHour)\n",
    "U_wind, V_wind, dt_wind, hour_wind, day_wind, month_wind, year_wind = obsDat.valid_values_wind(uwind, vwind, DateHour)\n"
   ]
  },
  {
   "cell_type": "code",
   "execution_count": 11,
   "metadata": {},
   "outputs": [
    {
     "data": {
      "text/plain": [
       "array([-3.2, -3. , -3.1, -2.9, -2.6, -2.8, -2.2, -2.2, -1.8, -1.2, -1. ,\n",
       "        1.6,  3.5,  4.1,  3.7,  4.3,  4.1,  4.4,  4. ,  3.1,  2.1,  0.4,\n",
       "       -0.5, -0.8])"
      ]
     },
     "execution_count": 11,
     "metadata": {},
     "output_type": "execute_result"
    }
   ],
   "source": [
    "temp[24]"
   ]
  },
  {
   "cell_type": "code",
   "execution_count": 37,
   "metadata": {},
   "outputs": [],
   "source": [
    "\n",
    "PSD = []\n",
    "for i in range(20,25):\n",
    "    T_N0 = (-0.07193*temp[i]+2.665)\n",
    "    T_lam = (-0.03053*temp[24]-0.08258)\n",
    "    N0 = (np.exp(T_N0))\n",
    "    lam = (np.exp(T_lam))\n",
    "    PSD.append((N0)*np.exp(-(lam)))"
   ]
  },
  {
   "cell_type": "code",
   "execution_count": 38,
   "metadata": {},
   "outputs": [
    {
     "data": {
      "text/plain": [
       "(5, 24)"
      ]
     },
     "execution_count": 38,
     "metadata": {},
     "output_type": "execute_result"
    }
   ],
   "source": [
    "np.asarray(PSD).shape"
   ]
  },
  {
   "cell_type": "code",
   "execution_count": 23,
   "metadata": {
    "collapsed": true
   },
   "outputs": [],
   "source": [
    " \n"
   ]
  },
  {
   "cell_type": "code",
   "execution_count": 24,
   "metadata": {
    "collapsed": true
   },
   "outputs": [],
   "source": []
  },
  {
   "cell_type": "code",
   "execution_count": 31,
   "metadata": {},
   "outputs": [
    {
     "data": {
      "text/plain": [
       "(5, 24)"
      ]
     },
     "execution_count": 31,
     "metadata": {},
     "output_type": "execute_result"
    }
   ],
   "source": [
    "np.asarray(PSD).shape"
   ]
  },
  {
   "cell_type": "code",
   "execution_count": 43,
   "metadata": {},
   "outputs": [
    {
     "data": {
      "image/png": "[encoded data removed]",
      "text/plain": [
       "<matplotlib.figure.Figure at 0x115e757b8>"
      ]
     },
     "metadata": {},
     "output_type": "display_data"
    }
   ],
   "source": [
    "for i in range(0,5):\n",
    "    plt.plot(np.arange(0,24),PSD[i])"
   ]
  },
  {
   "cell_type": "code",
   "execution_count": null,
   "metadata": {
    "collapsed": true
   },
   "outputs": [],
   "source": []
  },
  {
   "cell_type": "code",
   "execution_count": null,
   "metadata": {
    "collapsed": true
   },
   "outputs": [],
   "source": []
  },
  {
   "cell_type": "code",
   "execution_count": null,
   "metadata": {
    "collapsed": true
   },
   "outputs": [],
   "source": []
  },
  {
   "cell_type": "code",
   "execution_count": null,
   "metadata": {
    "collapsed": true
   },
   "outputs": [],
   "source": []
  }
 ],
 "metadata": {
  "kernelspec": {
   "display_name": "Python 3",
   "language": "python",
   "name": "python3"
  },
  "language_info": {
   "codemirror_mode": {
    "name": "ipython",
    "version": 3
   },
   "file_extension": ".py",
   "mimetype": "text/x-python",
   "name": "python",
   "nbconvert_exporter": "python",
   "pygments_lexer": "ipython3",
   "version": "3.6.1"
  }
 },
 "nbformat": 4,
 "nbformat_minor": 2
}

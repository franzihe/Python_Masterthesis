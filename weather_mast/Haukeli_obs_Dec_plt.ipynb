{
 "cells": [
  {
   "cell_type": "code",
   "execution_count": null,
   "metadata": {
    "collapsed": true
   },
   "outputs": [],
   "source": [
    "import sys\n",
    "sys.path.append('/Volumes/SANDISK128/Documents/Thesis/Python/')\n",
    "import matplotlib.pyplot as plt\n",
    "from matplotlib import gridspec\n",
    "import numpy as np \n",
    "import pandas as pd\n",
    "import datetime\n",
    "from datetime import date\n",
    "import calendar\n",
    "import math\n",
    "\n",
    "import TPU_savefig as PF\n",
    "import calc_date as cd\n",
    "import autolabel_bar as ab\n",
    "import save_fig as SF\n",
    "import get_Haukeli_obs_data as obsDat\n",
    "import createFolder as cF\n",
    "\n",
    "\n",
    "%matplotlib inline "
   ]
  },
  {
   "cell_type": "code",
   "execution_count": null,
   "metadata": {
    "collapsed": true
   },
   "outputs": [],
   "source": [
    "savefig = 0\n",
    "txtdir = '../../Data/eklima/'\n",
    "txt_filename = 'Observations-hour_minutes.txt'\n",
    "figdir = '../../Figures/Haukeli_weathermast/'\n",
    "cF.createFolder(figdir)\n",
    "form = 'png'\n"
   ]
  },
  {
   "cell_type": "code",
   "execution_count": null,
   "metadata": {
    "collapsed": true
   },
   "outputs": [],
   "source": [
    "### define colors for colorbar\n",
    "champ = 255\n",
    "blue = np.array([1,74,159])/champ           # for the date\n"
   ]
  },
  {
   "cell_type": "code",
   "execution_count": null,
   "metadata": {
    "collapsed": true
   },
   "outputs": [],
   "source": [
    "Haukeli = pd.read_csv('%s/%s' %(txtdir, txt_filename),\\\n",
    "                    sep = ';',header=19, skipfooter = 11, engine= 'python')"
   ]
  },
  {
   "cell_type": "code",
   "execution_count": null,
   "metadata": {
    "collapsed": true
   },
   "outputs": [],
   "source": [
    "DateHour = Haukeli['Date-Hour(UTC)']\n",
    "\n",
    "RR_1 = Haukeli['RR_1'].astype(float)           # Precipitation (1 hour); [mm]\n",
    "TA = Haukeli['TA'].astype(float)               # Air temperature; [deg C] \n",
    "\n",
    "FF = Haukeli['FF'].astype(float)         # Wind speed (10 meters above ground); [m/s]\n",
    "DD = Haukeli['DD'].astype(float)         # Wind direction (FF); [degrees]"
   ]
  },
  {
   "cell_type": "code",
   "execution_count": null,
   "metadata": {
    "collapsed": true
   },
   "outputs": [],
   "source": [
    "idxFF = np.where(FF[:] == -9999)\n",
    "idxDD = np.where(DD[:] == -9999)\n",
    "\n",
    "FF[idxFF[0][:]] = np.nan\n",
    "DD[idxDD[0][:]] = np.nan\n",
    "\n",
    "### calculate the U, V wind component for barb plot\n",
    "# http://colaweb.gmu.edu/dev/clim301/lectures/wind/wind-uv.html\n",
    "\n",
    "# first calculate the mathematical wind direction in deg\n",
    "md_deg = 270 - DD\n",
    "for k in range(0,md_deg.shape[0]):\n",
    "    if md_deg[k] <0 :\n",
    "        md_deg[k] = md_deg[k] +360\n",
    "md_rad = math.pi/180. * md_deg\n",
    "uwind = FF*np.cos(md_rad)\n",
    "vwind = FF*np.sin(md_rad)"
   ]
  },
  {
   "cell_type": "code",
   "execution_count": null,
   "metadata": {
    "collapsed": true
   },
   "outputs": [],
   "source": [
    "idxT = np.where(TA[:] == -9999)\n",
    "TA[idxT[0][:]] = np.nan"
   ]
  },
  {
   "cell_type": "code",
   "execution_count": null,
   "metadata": {
    "collapsed": true
   },
   "outputs": [],
   "source": [
    "precip, dt_precip, hour_precip, day_precip, month_precip, year_precip = obsDat.valid_values(RR_1, DateHour)\n",
    "temp, dt_temp, hour_temp, day_temp, month_temp, year_temp = obsDat.valid_values(TA, DateHour)\n",
    "U_wind, V_wind, dt_wind, hour_wind, day_wind, month_wind, year_wind = obsDat.valid_values_wind(uwind, vwind, DateHour)\n",
    "FF_31, DD_31, dt_FF, hour_FF, day_FF, month_FF, year_FF = obsDat.valid_values_wind(FF, DD, DateHour)\n"
   ]
  },
  {
   "cell_type": "code",
   "execution_count": null,
   "metadata": {
    "collapsed": true
   },
   "outputs": [],
   "source": [
    "prec_sum = []\n",
    "for k in range(0,31):\n",
    "    if len(precip[k][:]) == 0:\n",
    "        prec_sum.append(np.nan)\n",
    "    else:\n",
    "        prec_sum.append(np.nansum(precip[k][:]))\n",
    "        "
   ]
  },
  {
   "cell_type": "code",
   "execution_count": null,
   "metadata": {
    "collapsed": true
   },
   "outputs": [],
   "source": [
    "d_prec_sum = np.arange(0,np.asarray(prec_sum).shape[0])\n",
    "d_prec_sum = d_prec_sum[~np.isnan(prec_sum)]"
   ]
  },
  {
   "cell_type": "code",
   "execution_count": null,
   "metadata": {},
   "outputs": [],
   "source": [
    "print('total precipiataion [mm] during %s. - %s.%s:' %(day_precip[20][0], day_precip[25][0], year_precip[0][0]),\n",
    "                                                       np.sum(prec_sum[20:26]))"
   ]
  },
  {
   "cell_type": "code",
   "execution_count": null,
   "metadata": {
    "collapsed": true
   },
   "outputs": [],
   "source": [
    "prec_sum = np.asarray(prec_sum)[~np.isnan(prec_sum)]"
   ]
  },
  {
   "cell_type": "code",
   "execution_count": null,
   "metadata": {},
   "outputs": [],
   "source": [
    "tot_prec = np.nansum(prec_sum)\n",
    "print('total precipitation [mm] in %s.%s:' %(month_precip[0][0], year_precip[0][0]), tot_prec)"
   ]
  },
  {
   "cell_type": "code",
   "execution_count": null,
   "metadata": {},
   "outputs": [],
   "source": [
    "print('percentage of total precipitation [mm] during %s. - %s.%s:' %(day_precip[20][0], day_precip[25][0], year_precip[0][0]),\n",
    "                                                             np.round((100/tot_prec)*np.sum(prec_sum[20:26]), decimals=1))"
   ]
  },
  {
   "cell_type": "code",
   "execution_count": null,
   "metadata": {},
   "outputs": [],
   "source": [
    "U = []\n",
    "V = []\n",
    "for k in range(0,31):\n",
    "    if len(FF_31[:][k]) == 0 or (FF_31[:][k]).shape[0] < 24:\n",
    "        U.append(np.nan)\n",
    "        continue\n",
    "    \n",
    "    idxFF = np.argmax(FF_31[:][k])\n",
    "    U.append(U_wind[k][idxFF])\n",
    "    V.append(V_wind[k][idxFF])\n",
    "    print('maximum wind speed on %s.%s.%s' %(day_FF[k][idxFF], month_FF[k][idxFF], year_FF[k][idxFF]),FF_31[k][idxFF])"
   ]
  },
  {
   "cell_type": "code",
   "execution_count": null,
   "metadata": {},
   "outputs": [],
   "source": [
    "print('maximum wind speed during %s. - %s.%s:' %(day_precip[20][0], day_precip[25][0], year_precip[0][0]), np.asarray(FF_31[:][20:26]).max())"
   ]
  },
  {
   "cell_type": "code",
   "execution_count": null,
   "metadata": {},
   "outputs": [],
   "source": [
    "Tmax = []\n",
    "Tmin = []\n",
    "Tmean = []\n",
    "for k in range(0,31):\n",
    "    Tmean.append(np.nanmean(temp[:][k]))\n",
    "    if len(temp[:][k]) == 0:\n",
    "        continue\n",
    "    Tmax.append(np.nanmax(temp[:][k]))\n",
    "    Tmin.append(np.nanmin(temp[:][k]))\n",
    "\n",
    "Tmean = np.asarray(Tmean)\n",
    "\n"
   ]
  },
  {
   "cell_type": "code",
   "execution_count": null,
   "metadata": {},
   "outputs": [],
   "source": [
    "print('mean temperature [°C] in %s.%s:' %(month_temp[0][0], year_temp[0][0]), np.nanmean(Tmean))"
   ]
  },
  {
   "cell_type": "code",
   "execution_count": null,
   "metadata": {},
   "outputs": [],
   "source": [
    "Tmean_6h = []\n",
    "c = []\n",
    "for k in range(0,31):\n",
    "    for i in range(0,4):\n",
    "        Tmean_6h.append(np.nanmean(np.asarray(temp)[k][i*6:(i+1)*6]))\n",
    "    \n",
    "Tmean_6h = np.asarray(Tmean_6h)      "
   ]
  },
  {
   "cell_type": "code",
   "execution_count": null,
   "metadata": {
    "collapsed": true
   },
   "outputs": [],
   "source": [
    "calday, calmon = cd.get_dayname(year_precip[1][0], month_precip[1][0], day_precip[1][0])\n",
    "fig_name = 'T_P_U_%s%s.png' %(year_precip[1][0], month_precip[1][0])"
   ]
  },
  {
   "cell_type": "code",
   "execution_count": null,
   "metadata": {
    "collapsed": true
   },
   "outputs": [],
   "source": [
    "prec_tick = np.arange(0,round(np.nanmax(prec_sum))+5,5)"
   ]
  },
  {
   "cell_type": "code",
   "execution_count": null,
   "metadata": {
    "collapsed": true
   },
   "outputs": [],
   "source": [
    "T = np.arange(round(np.nanmin(np.asarray(Tmin))-1),round(np.nanmax(np.asarray(Tmax))+1),5)"
   ]
  },
  {
   "cell_type": "code",
   "execution_count": null,
   "metadata": {},
   "outputs": [],
   "source": [
    "fig = plt.figure(figsize = (20,14))\n",
    "fs = 30\n",
    "gs = gridspec.GridSpec(7,1)\n",
    "ax1 = fig.add_subplot(gs[:6,:])\n",
    "\n",
    "\n",
    "barfont = fs-6\n",
    "yfont = fs\n",
    "tickfont = fs-2\n",
    "legenfont = fs+2\n",
    "# Precipitation\n",
    "la0 = np.where(prec_sum > 0.0)\n",
    "bar = ax1.bar(d_prec_sum[la0],prec_sum[la0],width = 1,align='center',label = 'DF accumulation', color='lightblue',\n",
    "              edgecolor ='deepskyblue')\n",
    "ab.autolabel(bar,ax1,barfont)\n",
    "ax1.grid()\n",
    "plt.setp(ax1.get_xticklabels(), visible=False)\n",
    "\n",
    "# Temperature\n",
    "ax2 = ax1.twinx()\n",
    "line = ax2.plot(np.arange(0,Tmean_6h.shape[0])/4, Tmean_6h,color = 'r',label='Temp',linewidth = 4)\n",
    "#line = ax2.plot(np.arange(0,TA.shape[0])/24, TA,color = 'r',label='Temp',linewidth = 4)\n",
    "\n",
    "\n",
    "#linemin = ax2.plot(np.arange(0,4*31), Tmin, color = 'b', label = 'Temp$_{min}$', linewidth = 2, linestyle= '--')\n",
    "#linemax = ax2.plot(np.arange(0,4*31), Tmax, color = 'darkred', label = 'Temp$_{max}$', linewidth = 2, linestyle= '--')\n",
    "ax2.axhline(y = 0., c ='darkgray', linewidth = 2.5, zorder = 0, linestyle = '--')\n",
    "ax2.axhline(y = -6., c ='darkgreen', linewidth = 2, zorder = 0, linestyle = '--')\n",
    "\n",
    "# labeling Precip\n",
    "ax1.set_ylabel('Accumulation [mm]',fontsize = yfont)\n",
    "#ax1.set_yticklabels(prec_tick,fontsize = tickfont)\n",
    "ax1.set_xticks(np.arange(0,31))\n",
    "ax1.set_xticklabels(np.arange(0,31), fontsize=tickfont)\n",
    "ax1.set_xlim([-0.6,31.])\n",
    "ax1.set_ylim([0.,np.nanmax(prec_sum)+2])\n",
    "ax1.legend(loc='upper left', fontsize=legenfont )\n",
    "plt.setp(ax1.get_yticklabels(), visible=False)\n",
    "\n",
    "    # labeling Temp\n",
    "ax2.set_yticks(T)\n",
    "ax2.set_ylabel('Temperature [$^\\circ$C]',fontsize = yfont)\n",
    "ax2.tick_params(axis='both', which= 'major', labelsize=tickfont)\n",
    "ax2.legend(loc='upper right', fontsize = legenfont )\n",
    "\n",
    "    \n",
    "\n",
    "# Wind\n",
    "# share x only\n",
    "ax3 = plt.subplot(gs[6,:])#, sharex=ax1)\n",
    "\n",
    "ax3.barbs(np.arange(0,31), np.zeros(np.asarray(day_wind).shape[0]), U, V, length = 9, pivot='middle')\n",
    "# labeling Wind\n",
    "ax3.axes.get_yaxis().set_visible(False)\n",
    "ax3.tick_params(axis='both', which= 'major', labelsize=tickfont)\n",
    "ax3.set_xticks(np.arange(0,31,2))\n",
    "ax3.set_xticklabels(np.arange(1,32,2), fontsize=tickfont)\n",
    "ax3.set_xlim([-0.6,31.])\n",
    "ax3.set_ylim([-0.001,0.001])\n",
    "ax3.grid()\n",
    "        \n",
    "ax1.set_title('%s %s' %(calmon, (year_precip[0][0])),fontsize=fs, color=blue)\n",
    "if savefig == 1:\n",
    "    SF.save_figure_landscape(figdir, fig_name, form )\n",
    "plt.show()"
   ]
  },
  {
   "cell_type": "code",
   "execution_count": null,
   "metadata": {
    "collapsed": true
   },
   "outputs": [],
   "source": []
  }
 ],
 "metadata": {
  "kernelspec": {
   "display_name": "Python 3",
   "language": "python",
   "name": "python3"
  },
  "language_info": {
   "codemirror_mode": {
    "name": "ipython",
    "version": 3
   },
   "file_extension": ".py",
   "mimetype": "text/x-python",
   "name": "python",
   "nbconvert_exporter": "python",
   "pygments_lexer": "ipython3",
   "version": "3.6.1"
  }
 },
 "nbformat": 4,
 "nbformat_minor": 2
}

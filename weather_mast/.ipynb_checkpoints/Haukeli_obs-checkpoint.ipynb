{
 "cells": [
  {
   "cell_type": "markdown",
   "metadata": {},
   "source": [
    "# Read observational data from weather mast at Haukeliseter site\n",
    "\n",
    "Needed for the plot:\n",
    "- precipitation\n",
    "- temperature\n",
    "- wind speed\n",
    "- wind direction\n"
   ]
  },
  {
   "cell_type": "code",
   "execution_count": 1,
   "metadata": {},
   "outputs": [],
   "source": [
    "import sys\n",
    "sys.path.append('/Volumes/SANDISK128/Documents/Thesis/Python/')\n",
    "import matplotlib.pyplot as plt\n",
    "import matplotlib.dates as dates\n",
    "from matplotlib import gridspec\n",
    "import numpy as np \n",
    "import csv\n",
    "import pandas as pd\n",
    "import datetime\n",
    "from datetime import date\n",
    "import calendar\n",
    "import math\n",
    "\n",
    "import TPU_savefig as PF\n",
    "import calc_date as cd\n",
    "import autolabel_bar as ab\n",
    "import save_fig as SF\n",
    "\n",
    "\n",
    "%matplotlib inline "
   ]
  },
  {
   "cell_type": "code",
   "execution_count": 2,
   "metadata": {
    "collapsed": true
   },
   "outputs": [],
   "source": [
    "sfig = 1\n",
    "txtdir = '../../Retrieval/'\n",
    "figdir = '../../Observations_results/Haukeli_weathermast/'\n",
    "form = 'png'"
   ]
  },
  {
   "cell_type": "code",
   "execution_count": 3,
   "metadata": {
    "collapsed": true
   },
   "outputs": [],
   "source": [
    "### define colors for colorbar\n",
    "champ = 255\n",
    "blue = np.array([1,74,159])/champ           # for the date\n",
    "\n"
   ]
  },
  {
   "cell_type": "code",
   "execution_count": 4,
   "metadata": {
    "collapsed": true
   },
   "outputs": [],
   "source": [
    "### Mean wind speed and direction\n",
    "# http://www.intellovations.com/2011/01/16/wind-observation-calculations-in-fortran-and-python/\n"
   ]
  },
  {
   "cell_type": "code",
   "execution_count": 5,
   "metadata": {},
   "outputs": [],
   "source": [
    "Haukeli = pd.read_csv('%s201612.Haukeliseter_SC_copy.txt' %(txtdir),\\\n",
    "                    sep = ',',header=0)"
   ]
  },
  {
   "cell_type": "code",
   "execution_count": 6,
   "metadata": {
    "collapsed": true
   },
   "outputs": [],
   "source": [
    "dd = Haukeli['Date']\n",
    "time = Haukeli['TimeStamp']     # Time Stamp\n",
    "dofe1 = Haukeli['RA1'].astype(float)            # total accumulation from Geonor inside DOUBLE FENCE [mm] RA1\n",
    "dofe2 = Haukeli['RA2'].astype(float)\n",
    "dofe3 = Haukeli['RA3'].astype(float)\n",
    "temp = Haukeli['TA'].astype(float)            # Air temperature, PT100 [deg C] \n",
    "#speed = Haukeli['FFL4'].astype(float)          # wind speed 4.5m inside DF [m/s]\n",
    "#direction = Haukeli['DDL4'].astype(float)          # wind direction 4.5m inside DF [deg]\n",
    "\n",
    "speed = Haukeli['FF'].astype(float)         # wind speed 10 m @ mast 1 [m/s] FF\n",
    "direction = Haukeli['DD'].astype(float)     # wind direction 10 m @mast 1 [deg] DD"
   ]
  },
  {
   "cell_type": "code",
   "execution_count": 7,
   "metadata": {
    "collapsed": true
   },
   "outputs": [],
   "source": [
    "dd[::1440]\n",
    "year = np.empty((1,31))\n",
    "month = np.empty((1,31))\n",
    "day = np.empty((1,31))\n",
    "for k in range(0,31):\n",
    "    idx = datetime.datetime.strptime(str(dd[k*1440]), '%Y%m%d')\n",
    "    year[:,k] = int(idx.year)\n",
    "    month[:,k] = int(idx.month)\n",
    "    day[:,k] = int(idx.day)\n",
    "\n"
   ]
  },
  {
   "cell_type": "code",
   "execution_count": 8,
   "metadata": {
    "collapsed": true
   },
   "outputs": [],
   "source": [
    "dofe1 = dofe1.where(dofe1 != -999.00)\n",
    "dofe2 = dofe2.where(dofe2 != -999.00)\n",
    "dofe3 = dofe3.where(dofe3 != -999.00)\n",
    "temp = temp.where(temp != -999.00)\n",
    "speed = speed.where(speed != -999.00)\n",
    "direction = direction.where(direction != -999.00)"
   ]
  },
  {
   "cell_type": "code",
   "execution_count": 9,
   "metadata": {},
   "outputs": [
    {
     "name": "stderr",
     "output_type": "stream",
     "text": [
      "/Volumes/SANDISK128/Applications/anaconda/envs/py36colormap/lib/python3.6/site-packages/ipykernel_launcher.py:31: RuntimeWarning: Mean of empty slice\n"
     ]
    }
   ],
   "source": [
    "# --------- TEMP, WS, WD, ACC every 15 min in  -------------------------------------------------------------------------\n",
    "idx = np.arange((1440))\n",
    "t = np.empty((1440,32))\n",
    "ws = np.empty((1440,31))\n",
    "wd = np.empty((1440,31))\n",
    "\n",
    "\n",
    "for i in range(0,31):\n",
    "    t[:,i] = temp[i*1440:(i+1)*1440]\n",
    "    ws[:,i] = speed[i*1440 : (i+1)*1440]\n",
    "    wd[:,i] = direction[i*1440 : (i+1)*1440]\n",
    "    \n",
    "    \n",
    "min_15 = np.empty((96,1))\n",
    "min_60 = np.empty((24,1))\n",
    "\n",
    "t_15 = np.empty((15,96))\n",
    "t_15[:] = np.NAN\n",
    "t_mean = np.empty((96,32))\n",
    "t_mean[:] = np.NAN\n",
    "\n",
    "\n",
    "\n",
    "\n",
    "\n",
    "for k in range(0,32):\n",
    "    for i in range(0,96):\n",
    "        min_15[i,:] = (1/60.)*float(i)\n",
    "        # Temperature\n",
    "        t_15[:,i] = (t[i*15:(i+1)*15, k ])     # first day, every 15 min values as column\n",
    "        t_mean[:,k] = np.nanmean(t_15,axis=0)   # axis = 0 will return the mean of every single column\n",
    "        # Wind Speed\n",
    "    \n",
    "\n"
   ]
  },
  {
   "cell_type": "code",
   "execution_count": 10,
   "metadata": {
    "collapsed": true
   },
   "outputs": [],
   "source": [
    "### calculate the U, V wind component for barb plot\n",
    "# http://colaweb.gmu.edu/dev/clim301/lectures/wind/wind-uv.html\n",
    "\n",
    "# first calculate the mathematical wind direction in deg\n",
    "md_deg = 270 - wd\n",
    "for i in range(0,1440):\n",
    "    for k in range(0,31):\n",
    "        if md_deg[i,k] < 0:\n",
    "            md_deg[i,k] = md_deg[i,k] +360\n",
    "# convert angle to radians\n",
    "md_rad = math.pi/180. * md_deg\n",
    "\n",
    "# calculate U component\n",
    "u_wind = ws * np.cos(md_rad)\n",
    "# calculate V component\n",
    "v_wind = ws * np.sin(md_rad)\n"
   ]
  },
  {
   "cell_type": "code",
   "execution_count": 11,
   "metadata": {},
   "outputs": [
    {
     "name": "stderr",
     "output_type": "stream",
     "text": [
      "/Volumes/SANDISK128/Applications/anaconda/envs/py36colormap/lib/python3.6/site-packages/ipykernel_launcher.py:17: RuntimeWarning: Mean of empty slice\n",
      "/Volumes/SANDISK128/Applications/anaconda/envs/py36colormap/lib/python3.6/site-packages/ipykernel_launcher.py:20: RuntimeWarning: Mean of empty slice\n"
     ]
    }
   ],
   "source": [
    "### average U, and V component in 60 min interval\n",
    "u_wind60 = np.empty((60,24))\n",
    "u_wind60[:] = np.NAN\n",
    "\n",
    "u_wind_mean = np.empty((24,31))\n",
    "u_wind_mean[:] = np.NAN\n",
    "\n",
    "v_wind60 = np.empty((60,24))\n",
    "v_wind60[:] = np.NAN\n",
    "\n",
    "v_wind_mean = np.empty((24,31))\n",
    "v_wind_mean[:] = np.NAN\n",
    "\n",
    "for k in range(0,31):\n",
    "    for i in range(0,24):\n",
    "        u_wind60[:,i]  = u_wind[i*60 : (i+1)*60, k]\n",
    "        u_wind_mean[:,k] = np.nanmean(u_wind60,axis=0)\n",
    "\n",
    "        v_wind60[:,i]  = v_wind[i*60 : (i+1)*60, k]\n",
    "        v_wind_mean[:,k] = np.nanmean(v_wind60,axis=0)\n",
    "\n",
    "# X, y values for barb plotting\n",
    "X =np.arange(0.5*1/60,1/60*24,1/60)    \n",
    "Y = np.zeros((min_60.shape))\n",
    "\n"
   ]
  },
  {
   "cell_type": "code",
   "execution_count": 12,
   "metadata": {
    "collapsed": true
   },
   "outputs": [],
   "source": [
    "# --------- SET DAYS WHERE 1440 MIN PER 24H ----------------------------------------------\n",
    "dy = np.zeros((32,1))\n",
    "\n",
    "for i in range(0,32):\n",
    "    dy[i,:] = i*1440.     # begin of the new day 00:00:00\n",
    "\n",
    "#print(dy)\n"
   ]
  },
  {
   "cell_type": "code",
   "execution_count": 13,
   "metadata": {},
   "outputs": [
    {
     "name": "stderr",
     "output_type": "stream",
     "text": [
      "/Volumes/SANDISK128/Applications/anaconda/envs/py36colormap/lib/python3.6/site-packages/ipykernel_launcher.py:5: RuntimeWarning: Mean of empty slice\n",
      "  \"\"\"\n"
     ]
    }
   ],
   "source": [
    "# --------- CALCULATE ACCUMULATION DURING A GIVEN DAY ------------------------------------\n",
    "dofe = np.c_[dofe1, dofe2, dofe3]\n",
    "\n",
    "# axis=1 will return the mean of every single row in the DataFrame\n",
    "dfavg = np.nanmean(dofe, axis = 1)       # arithmetic mean of the total accumulation DOUBLE FENCE for each minute\n",
    "\n",
    "dfavg_days = np.empty((1440,31))         # create array with 0-24h in rows, and days in column\n",
    "dfavg_days[:] = np.NAN\n",
    "\n",
    "for i in range(0,31):\n",
    "    dfavg_days[:,i] = dfavg[int(dy[i,:]) : int(dy[i+1,:])] \n",
    "    \n",
    "\n",
    "#dfavg_days[:,30]   # 31th Dec"
   ]
  },
  {
   "cell_type": "code",
   "execution_count": 14,
   "metadata": {
    "collapsed": true
   },
   "outputs": [],
   "source": [
    "                                                            # of the three double fence values per minute\n",
    "min_60 = np.empty((24,1))\n",
    "\n",
    "df_60 = np.empty((24,31))\n",
    "df_60[:] = np.NAN\n",
    "\n",
    "for k in range(0,31):\n",
    "    for i in range(0,24):\n",
    "        min_60[i,:] = (1/60)*float(i)\n",
    "        # Double fence \n",
    "        df_60[i,k] = dfavg_days[i*60+59,k] - dfavg_days[i*60,k]\n",
    "\n"
   ]
  },
  {
   "cell_type": "code",
   "execution_count": 15,
   "metadata": {},
   "outputs": [],
   "source": [
    "for k in range(4,31):\n",
    "    calday, calmon = cd.get_dayname(year[:,k],month[:,k],day[:,k])\n",
    "    \n",
    "    \n",
    "    \n",
    "    # find values wich are not NaN and P => 0.05\n",
    "    isNaN_P = np.isnan(df_60[:,k])   # Precipitation\n",
    "    isNaN_T = np.isnan(t_mean[:,k])  # Temperature\n",
    "    isNaN_U = np.isnan(u_wind_mean[:,k]) # U component Wind\n",
    "    isNaN_V = np.isnan(v_wind_mean[:,k]) # V component Wind\n",
    "    \n",
    "    # Precip\n",
    "    df_60_mask = df_60[~isNaN_P,k]     # all values without nan\n",
    "    min_60_mask = min_60[~isNaN_P,:]\n",
    "    \n",
    "    df_60_l0 = np.where( df_60_mask > 0.05)   # only values larger than zero\n",
    "    df_val = df_60_mask[df_60_l0]\n",
    "    min_60val = min_60_mask[df_60_l0]\n",
    "    \n",
    "    # Temperature\n",
    "    t_mean_mask = t_mean[~isNaN_T,k]\n",
    "    min_15_mask = min_15[~isNaN_T,:]\n",
    "    \n",
    "    # Wind\n",
    "    X_mask = X[~isNaN_U]\n",
    "    Y_mask = Y[~isNaN_V]\n",
    "    uwind_mask = u_wind_mean[~isNaN_U,k]\n",
    "    vwind_mask = v_wind_mean[~isNaN_V,k]\n",
    "    \n",
    "    \n",
    "    # Days \n",
    "    y = year[:,k]\n",
    "    m = month[:,k]\n",
    "    d = day[:,k]\n",
    "    if d < 10:\n",
    "        d = '0%g' %(d)\n",
    "    else:\n",
    "        d = '%g' %(d)\n",
    "    figname = 'T_P_U_%g%g%s.png' % (y, m, d)\n",
    "    \n",
    "    fig = plt.figure(figsize=(20,7))\n",
    "    fontsize = 30\n",
    "    if sfig ==1:\n",
    "        PF.plot_TPU(fig, min_60val, df_val, df_60,\n",
    "            min_15_mask, t_mean_mask, t_mean,\n",
    "            X_mask,Y_mask,uwind_mask, vwind_mask,\n",
    "            calday, d, calmon, y, fs = fontsize)\n",
    "        SF.save_figure_landscape(figdir, figname, form)\n",
    "    else:\n",
    "        PF.plot_TPU(fig, min_60val, df_val, df_60,\n",
    "            min_15_mask, t_mean_mask, t_mean,\n",
    "            X_mask,Y_mask,uwind_mask, vwind_mask,\n",
    "            calday, d, calmon, y, fs = fontsize)\n",
    "        plt.show()\n",
    "        \n",
    "    plt.close()"
   ]
  },
  {
   "cell_type": "code",
   "execution_count": null,
   "metadata": {
    "collapsed": true
   },
   "outputs": [],
   "source": []
  }
 ],
 "metadata": {
  "kernelspec": {
   "display_name": "Python 3",
   "language": "python",
   "name": "python3"
  },
  "language_info": {
   "codemirror_mode": {
    "name": "ipython",
    "version": 3
   },
   "file_extension": ".py",
   "mimetype": "text/x-python",
   "name": "python",
   "nbconvert_exporter": "python",
   "pygments_lexer": "ipython3",
   "version": "3.6.1"
  }
 },
 "nbformat": 4,
 "nbformat_minor": 2
}

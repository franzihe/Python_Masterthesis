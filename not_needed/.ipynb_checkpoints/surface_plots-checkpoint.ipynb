{
 "cells": [
  {
   "cell_type": "code",
   "execution_count": null,
   "metadata": {
    "collapsed": true
   },
   "outputs": [],
   "source": [
    "%matplotlib inline\n",
    "import sys\n",
    "sys.path.append('/Volumes/SANDISK128/Documents/Thesis/Python/')\n",
    "import netCDF4\n",
    "import numpy as np\n",
    "import matplotlib.pyplot as plt\n",
    "import datetime\n",
    "from datetime import date\n",
    "import pandas as pd\n",
    "import calendar\n",
    "import numpy.ma as ma\n",
    "\n",
    "import createFolder as cF\n",
    "import plot_vertical as pvert\n",
    "import plot_sfc_spaghetti as spagh\n",
    "import fill_values as fv\n",
    "import save_fig as SF\n",
    "\n",
    "\n",
    "import os"
   ]
  },
  {
   "cell_type": "code",
   "execution_count": null,
   "metadata": {
    "collapsed": true
   },
   "outputs": [],
   "source": [
    "### Define colorbar colors\n",
    "champ = 255.\n",
    "blue = np.array([1,74,159])/champ           # for the date\n",
    "memb_col = np.array([99,99,99])/champ       # ensemble member color\n",
    "vert_col = np.array([197,197,197])/champ    # vertical line for day marker\n",
    "\n"
   ]
  },
  {
   "cell_type": "code",
   "execution_count": null,
   "metadata": {
    "collapsed": true
   },
   "outputs": [],
   "source": [
    "# 16th doesnt exist, 17-19 have different shapes\n",
    "t = [\n",
    "#    1, 2, 3, \n",
    " #   4, 5, 6 , \n",
    "  #  7, 8, 9,10, 11,\n",
    "   # 12,13,14,15,    \n",
    "    #17,18,19,\n",
    "    20, \n",
    "#    21,22,23,\n",
    " #   24,25#,26,\n",
    " #   27,28,29,30, \n",
    "  #  31\n",
    "    ]\n",
    "year = 2016\n",
    "month = 12\n",
    "tid = '18'\n",
    "station = 'Haukeliseter'\n",
    "savefig = 0  # 1 = yes, 0 = no"
   ]
  },
  {
   "cell_type": "code",
   "execution_count": null,
   "metadata": {
    "collapsed": true
   },
   "outputs": [],
   "source": [
    "lv = 'sfc'\n",
    "\n",
    "ncdir = '../../MEPS_data/%s/%s_%s' %(station, lv,tid)\n",
    "figdir = '../../MEPS_fig'\n",
    "var_name = 'precipitation_amount_acc'\n",
    "#var_name = 'liquid_water_content_of_surface_snow'\n",
    "# Folder where the figures are being saved    \n",
    "cF.createFolder('%s/%s/' %(figdir,var_name))\n",
    "form = 'png'\n",
    "\n",
    "level = 'sfc'\n",
    "\n",
    "ncdir = '../../MEPS_data/%s/%s_%s' %(station,level,tid)\n",
    "txtdir = '../../Retrieval'\n",
    "txt_filename = '201612.Haukeliseter_SC_copy.txt'\n",
    "\n",
    "var_name = 'precipitation_amount_acc'\n",
    "unit = '[mm]'\n",
    "figdir = '../../MEPS_fig/%s' %(var_name)\n",
    "#var_name = 'liquid_water_content_of_surface_snow'\n",
    "# Folder where the figures are being saved    \n",
    "cF.createFolder('%s/' %(figdir))\n",
    "form = 'png'"
   ]
  },
  {
   "cell_type": "code",
   "execution_count": null,
   "metadata": {
    "scrolled": true
   },
   "outputs": [],
   "source": [
    "fn_sfc = dict()\n",
    "time_sfc = dict()\n",
    "ini_day = []\n",
    "#hh = []\n",
    "calday = []\n",
    "calmon = []\n",
    "precipitation_amount_acc = dict()\n",
    "lead_time_sfc = dict()\n",
    "title = dict()\n",
    "\n",
    "\n",
    "for day in t:\n",
    "    if day < 10:\n",
    "        day = '0%s' %(day)\n",
    "    else:\n",
    "        day = '%s' %day\n",
    "        \n",
    "    var_name_sfc = '%s' %(var_name)\n",
    "    \n",
    "    for ens_memb in range(0,10):\n",
    "        fn_sfc[ens_memb] = netCDF4.Dataset('%s/%s%s%s_%s_%s.nc' %(ncdir,year,month,day,tid,ens_memb))\n",
    "        time_sfc = fn_sfc[ens_memb].variables['time']\n",
    "# initialisation time for plotting\n",
    "        ini_day = (datetime.datetime.utcfromtimestamp(time_sfc[0]).day)\n",
    "        \n",
    "        hh = (datetime.datetime.utcfromtimestamp(time_sfc[0]).hour)\n",
    "        mydate = date(year, month, ini_day)\n",
    "        calday = (calendar.day_name[mydate.weekday()])\n",
    "        calmon = (calendar.month_abbr[int(month)])\n",
    "# Read in the variable name which should be plotted  \n",
    "        precipitation_amount_acc[ens_memb] = fn_sfc[ens_memb].variables[var_name]\n",
    "# lead time\n",
    "        lead_time_sfc[ens_memb] = np.arange(0,time_sfc.shape[0])\n",
    "# spaghetti plot with all ensemble member + control\n",
    "        fig_name = '%s%s%s_0%s_sfc.png' %(year,month,ini_day,hh)\n",
    "        title = '%s, %s %s %s %s UTC' %(calday,ini_day,calmon,year,hh)\n",
    "        var_name_sfc = var_name_sfc.split(\"_\")\n",
    "    \n",
    "    spagh.spaghetti_sfc_MEPS(lead_time_sfc, precipitation_amount_acc, title, var_name_sfc, tid)\n",
    "    \n",
    "    \n",
    "    if savefig == 1:\n",
    "        SF.save_figure_landscape(figdir, fig_name, form)\n",
    "        print('plot saved: %s/%s' %(figdir,fig_name))\n",
    "    else:\n",
    "        plt.show()\n",
    "    plt.close()    \n",
    "        \n",
    "    for ens_memb in range(0,10):\n",
    "        fn_sfc[ens_memb].close()\n",
    "        \n"
   ]
  },
  {
   "cell_type": "code",
   "execution_count": null,
   "metadata": {
    "collapsed": true
   },
   "outputs": [],
   "source": []
  }
 ],
 "metadata": {
  "kernelspec": {
   "display_name": "Python 3",
   "language": "python",
   "name": "python3"
  },
  "language_info": {
   "codemirror_mode": {
    "name": "ipython",
    "version": 3
   },
   "file_extension": ".py",
   "mimetype": "text/x-python",
   "name": "python",
   "nbconvert_exporter": "python",
   "pygments_lexer": "ipython3",
   "version": "3.6.1"
  }
 },
 "nbformat": 4,
 "nbformat_minor": 2
}

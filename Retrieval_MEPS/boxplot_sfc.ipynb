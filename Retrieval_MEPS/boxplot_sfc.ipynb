{
 "cells": [
  {
   "cell_type": "code",
   "execution_count": 1,
   "metadata": {
    "collapsed": true
   },
   "outputs": [],
   "source": [
    "#%matplotlib inline\n",
    "import sys\n",
    "sys.path.append('/Volumes/SANDISK128/Documents/Thesis/Python/')\n",
    "sys.path.append('/Volumes/SANDISK128/Documents/Thesis/Python/weather_mast/')\n",
    "sys.path.append('/Volumes/SANDISK128/Documents/Thesis/Python/MEPS/')\n",
    "import netCDF4\n",
    "import numpy as np\n",
    "import matplotlib.pyplot as plt\n",
    "import matplotlib as mpl\n",
    "mpl.style.use('ggplot')\n",
    "import datetime\n",
    "import math\n",
    "\n",
    "import createFolder as cF\n",
    "import calc_date as cd\n",
    "import plot_sfc_spaghetti_ret as spagh\n",
    "import save_fig as SF\n",
    "import get_Haukeli_obs_data as obsDat\n",
    "import calc_48h_acc as acc\n",
    "import fill_values as fv\n",
    "import plot_vertical as pvert\n",
    "\n",
    "import os\n",
    "\n",
    "import pandas as pd"
   ]
  },
  {
   "cell_type": "code",
   "execution_count": 2,
   "metadata": {
    "collapsed": true
   },
   "outputs": [],
   "source": [
    "year = 2016\n",
    "month = 12\n",
    "tid = '00'\n",
    "#tid = '18'\n",
    "station = 'Haukeliseter'\n",
    "savefig = 1  # 1 = yes, 0 = no\n",
    "\n",
    "### if plot with double fence data\n",
    "dofe = 1     # 1 = yes, 0 = no"
   ]
  },
  {
   "cell_type": "code",
   "execution_count": 3,
   "metadata": {
    "collapsed": true
   },
   "outputs": [],
   "source": [
    "#### days \n",
    "#t = ['17', '18', '19', '20', '21', '22', '23', '24', '25', '26', '27']\n",
    "t = ['20', '21', '22', '23', '24', '25', '26', '27']\n",
    "#t = ['22']"
   ]
  },
  {
   "cell_type": "code",
   "execution_count": 4,
   "metadata": {
    "collapsed": true
   },
   "outputs": [],
   "source": [
    "var_name = 'precipitation_amount_acc'\n",
    "unit = '[mm]'\n",
    "figdir = '../../Figures/Retrieval_MEPS/boxplot' \n",
    "# Folder where the figures are being saved    \n",
    "cF.createFolder('%s/' %(figdir))\n",
    "form = 'png'"
   ]
  },
  {
   "cell_type": "code",
   "execution_count": 5,
   "metadata": {
    "collapsed": true
   },
   "outputs": [],
   "source": [
    "level = 'sfc'\n",
    "### MEPS\n",
    "ncdir_sfc = '../../Data/MEPS/%s/%s_%s' %(station,level,tid)\n",
    "level = '10m'\n",
    "ncdir_10m = '../../Data/MEPS/%s/%s_%s' %(station,level,tid)\n",
    "\n",
    "\n",
    "################################################################\n",
    "### Haukeli obs.\n",
    "txtdir = '../../Data/eklima/'\n",
    "txt_filename = 'Observations-hour_minutes'\n",
    "\n",
    "################################################################\n",
    "### Retrieval \n",
    "nc_dir_retrieval = '../../Data/Retrieved_SWC'\n",
    "\n",
    "################################################################\n",
    "\n"
   ]
  },
  {
   "cell_type": "code",
   "execution_count": 6,
   "metadata": {
    "collapsed": true
   },
   "outputs": [],
   "source": [
    "# read in the Haukeliseter observation file, sorted by daily values\n",
    "Haukeli = pd.read_csv('%s/%s.txt' %(txtdir, txt_filename),\\\n",
    "                    sep = ';',header=19, skipfooter = 11, engine= 'python')\n",
    "\n",
    "DateHour = Haukeli['Date-Hour(UTC)']\n",
    "\n",
    "RR_1 = Haukeli['RR_1'].astype(float)           # Precipitation (1 hour); [mm]\n",
    "DD   = Haukeli['DD'].astype(float)             # Wind direction (FF); [degrees]\n",
    "FF   = Haukeli['FF'].astype(float)             # Wind speed (10 meters above ground);m/s\n",
    "\n",
    "if tid == '18':\n",
    "    precip, dt_precip, hour_precip, day_precip, month_precip, year_precip = obsDat.valid_values_18UTC(RR_1, DateHour)\n",
    "    dt, p, hour, dy, mm, yr = obsDat.arange_daily_18UTC(RR_1, DateHour)\n",
    "if tid == '00':\n",
    "    precip, dt_precip, hour_precip, day_precip, month_precip, year_precip = obsDat.valid_values(RR_1, DateHour)\n",
    "    dt, p, hour, dy, mm, yr = obsDat.arange_daily(RR_1, DateHour)\n",
    "\n",
    "   "
   ]
  },
  {
   "cell_type": "code",
   "execution_count": 7,
   "metadata": {
    "collapsed": true
   },
   "outputs": [],
   "source": [
    "idxFF = np.where(FF[:] == -9999)\n",
    "idxDD = np.where(DD[:] == -9999)\n",
    "\n",
    "FF[idxFF[0][:]] = np.nan\n",
    "DD[idxDD[0][:]] = np.nan\n",
    "\n",
    "### calculate the U, V wind component for barb plot\n",
    "# http://colaweb.gmu.edu/dev/clim301/lectures/wind/wind-uv.html\n",
    "\n",
    "# first calculate the mathematical wind direction in deg\n",
    "md_deg = 270 - DD\n",
    "for k in range(0,md_deg.shape[0]):\n",
    "    if md_deg[k] <0 :\n",
    "        md_deg[k] = md_deg[k] +360\n",
    "md_rad = math.pi/180. * md_deg\n",
    "uwind = FF*np.cos(md_rad)\n",
    "vwind = FF*np.sin(md_rad)"
   ]
  },
  {
   "cell_type": "code",
   "execution_count": 8,
   "metadata": {
    "collapsed": true
   },
   "outputs": [],
   "source": [
    "U_wind, V_wind, dt_wind, hour_wind, day_wind, month_wind, year_wind = obsDat.valid_values_wind(uwind, vwind, DateHour)"
   ]
  },
  {
   "cell_type": "code",
   "execution_count": 9,
   "metadata": {
    "collapsed": true
   },
   "outputs": [],
   "source": [
    "# read in the Haukeliseter observation file, for wind gust\n",
    "Haukeli_gust = pd.read_csv('%s/%s_gusts.txt' %(txtdir, txt_filename),\\\n",
    "                    sep = ';',header=14, skipfooter = 2,engine= 'python')"
   ]
  },
  {
   "cell_type": "code",
   "execution_count": 10,
   "metadata": {
    "collapsed": true
   },
   "outputs": [],
   "source": [
    "# FG_1 Kraftigste vindkast (siste time)\n",
    "# FX_1 Kraftigste middelvind (siste time)\n",
    "FX_1 = Haukeli_gust['FX_1'].astype(float)\n",
    "DX_1 = Haukeli_gust['DX_1'].astype(float)"
   ]
  },
  {
   "cell_type": "code",
   "execution_count": 11,
   "metadata": {
    "collapsed": true
   },
   "outputs": [],
   "source": [
    "idxFX_1 = np.where(FX_1[:] == -9999)\n",
    "idxDX_1 = np.where(DX_1[:] == -9999)\n",
    "\n",
    "FX_1[idxFX_1[0][:]] = np.nan\n",
    "DX_1[idxDX_1[0][:]] = np.nan\n",
    "\n",
    "# first calculate the mathematical wind direction in deg\n",
    "md_deg_X = 270 - DX_1\n",
    "for k in range(0,md_deg_X.shape[0]):\n",
    "    if md_deg_X[k] <0 :\n",
    "        md_deg_X[k] = md_deg_X[k] +360\n",
    "md_rad_X = math.pi/180. * md_deg_X\n",
    "uwind_X = FX_1*np.cos(md_rad_X)\n",
    "vwind_X = FX_1*np.sin(md_rad_X)"
   ]
  },
  {
   "cell_type": "code",
   "execution_count": 12,
   "metadata": {
    "collapsed": true
   },
   "outputs": [],
   "source": [
    "U_wind_X, V_wind_X, dt_wind_X, hour_wind_X, day_wind_X, month_wind_X, year_wind_X = obsDat.valid_values_wind(uwind_X, vwind_X, DateHour)"
   ]
  },
  {
   "cell_type": "code",
   "execution_count": 13,
   "metadata": {
    "collapsed": true
   },
   "outputs": [],
   "source": [
    "fn_sfc        = dict()\n",
    "fn_10m        = dict()\n",
    "time_sfc      = dict()\n",
    "ini_day       = []\n",
    "calday        = []\n",
    "calmon        = []\n",
    "precipitation_amount_acc = dict()\n",
    "x_wind_10m    = dict()\n",
    "y_wind_10m    = dict()\n",
    "lead_time_sfc = dict()\n",
    "title         = dict()\n",
    "snowfall_amount = dict()\n",
    "rainfall_amount = dict()\n",
    "graupelfall_amount = dict()\n",
    "rain_snow_graup = dict()\n",
    "\n",
    "air_temp = dict()\n",
    "pressure = dict()\n",
    "rain_snow_graup = dict()\n",
    "density = dict()\n",
    "SWE = dict()\n",
    "\n",
    "Rd = 287."
   ]
  },
  {
   "cell_type": "code",
   "execution_count": 14,
   "metadata": {},
   "outputs": [
    {
     "name": "stderr",
     "output_type": "stream",
     "text": [
      "/Volumes/SANDISK128/Applications/anaconda/envs/py36wind/lib/python3.6/site-packages/ipykernel_launcher.py:90: RuntimeWarning: Mean of empty slice\n",
      "/Volumes/SANDISK128/Applications/anaconda/envs/py36wind/lib/python3.6/site-packages/numpy/lib/function_base.py:4116: RuntimeWarning: Invalid value encountered in percentile\n",
      "  interpolation=interpolation)\n",
      "/Volumes/SANDISK128/Applications/anaconda/envs/py36wind/lib/python3.6/site-packages/matplotlib/cbook.py:2066: RuntimeWarning: invalid value encountered in less_equal\n",
      "  wiskhi = np.compress(x <= hival, x)\n",
      "/Volumes/SANDISK128/Applications/anaconda/envs/py36wind/lib/python3.6/site-packages/matplotlib/cbook.py:2073: RuntimeWarning: invalid value encountered in greater_equal\n",
      "  wisklo = np.compress(x >= loval, x)\n",
      "/Volumes/SANDISK128/Applications/anaconda/envs/py36wind/lib/python3.6/site-packages/matplotlib/cbook.py:2081: RuntimeWarning: invalid value encountered in less\n",
      "  np.compress(x < stats['whislo'], x),\n",
      "/Volumes/SANDISK128/Applications/anaconda/envs/py36wind/lib/python3.6/site-packages/matplotlib/cbook.py:2082: RuntimeWarning: invalid value encountered in greater\n",
      "  np.compress(x > stats['whishi'], x)\n"
     ]
    },
    {
     "name": "stdout",
     "output_type": "stream",
     "text": [
      "plot saved: ../../Figures/Retrieval_MEPS/boxplot/20161220_0.png\n",
      "plot saved: ../../Figures/Retrieval_MEPS/boxplot/20161221_0.png\n",
      "plot saved: ../../Figures/Retrieval_MEPS/boxplot/20161222_0.png\n",
      "plot saved: ../../Figures/Retrieval_MEPS/boxplot/20161223_0.png\n",
      "plot saved: ../../Figures/Retrieval_MEPS/boxplot/20161224_0.png\n",
      "plot saved: ../../Figures/Retrieval_MEPS/boxplot/20161225_0.png\n",
      "plot saved: ../../Figures/Retrieval_MEPS/boxplot/20161226_0.png\n",
      "plot saved: ../../Figures/Retrieval_MEPS/boxplot/20161227_0.png\n"
     ]
    }
   ],
   "source": [
    "#t = [25]\n",
    "for day in t:\n",
    "\n",
    "\n",
    "    var_name_sfc = '%s' %(var_name)\n",
    "\n",
    "    ## RETRIEVAL ######\n",
    "    fn_ret1 = netCDF4.Dataset('%s/out_swc_b6_%s%s%s.nc' %(nc_dir_retrieval, year, month, day))\n",
    "    fn_ret2 = netCDF4.Dataset('%s/out_swc_b6_%s%s%s.nc' %(nc_dir_retrieval, year, month, int(day)+1))\n",
    "    equiv_accum1 = fn_ret1.variables['retrieved_snowfall_amount'][:,:] \n",
    "    equiv_accum2 = fn_ret2.variables['retrieved_snowfall_amount'][:,:] \n",
    "\n",
    "\n",
    "### calculate accumulation from retrieval\n",
    "#srate = equiv_accum1[6,:]\n",
    "    srate1 = (equiv_accum1[2,:])\n",
    "    srate2 = (equiv_accum2[2,:])\n",
    "    \n",
    "\n",
    "#srate[np.where(~np.isfinite(srate))] = 0.0\n",
    "#srate = srate/srate.shape[0]\n",
    "    srate1[np.where(~np.isfinite(srate1))] = 0.0\n",
    "    srate2[np.where(~np.isfinite(srate2))] = 0.0\n",
    "    srate1 = srate1/srate1.shape[0]\n",
    "    srate2 = srate2/srate2.shape[0]\n",
    "    srate = np.concatenate((srate1, srate2),axis=0)\n",
    "#pd.DataFrame(srate)\n",
    "\n",
    "    acc_ret = []\n",
    "    acc_ret.append(0.0)\n",
    "    for i in range(0,srate.shape[0]-1):\n",
    "        dix = np.nansum([acc_ret[i],srate[i]],axis = 0)\n",
    "        acc_ret.append(dix)\n",
    "\n",
    "    for ens_memb in range(0,10):\n",
    "# read in the netcdf surface file\n",
    "        fn_sfc[ens_memb] = netCDF4.Dataset('%s/%s%s%s_%s_%s.nc' %(ncdir_sfc,year,month,day,tid,ens_memb))\n",
    "        time_sfc[ens_memb] = fn_sfc[ens_memb].variables['time']\n",
    "        time_sfc[ens_memb] = fv.fill_nan(time_sfc[ens_memb][:])\n",
    "# initialisation time for plotting\n",
    "        ini_day = (datetime.datetime.utcfromtimestamp(time_sfc[0][0]).day)   # day of initialisation\n",
    "        hh = (datetime.datetime.utcfromtimestamp(time_sfc[0][0]).hour)       # first hour of initialisation\n",
    "        calday, calmon = cd.get_dayname(year, month, ini_day)\n",
    "\n",
    "# Read in the pressure, and the air temperature to calculate ice amount from [kg/kg] to [kg/m^3]\n",
    "        air_temp[ens_memb] = fn_sfc[ens_memb].variables['air_temperature_0m']\n",
    "        pressure[ens_memb] = fn_sfc[ens_memb].variables['surface_air_pressure']\n",
    "        \n",
    "# Read in the variable name which should be plotted  \n",
    "        precipitation_amount_acc[ens_memb] = fn_sfc[ens_memb].variables[var_name]\n",
    " \n",
    "    \n",
    "# read in the netcdf 10m wind file\n",
    "        fn_10m[ens_memb] = netCDF4.Dataset('%s/%s%s%s_%s_%s.nc' %(ncdir_10m,year,month,day,tid,ens_memb))\n",
    "# read in the wind variable\n",
    "        x_wind_10m[ens_memb] = fn_10m[ens_memb].variables['x_wind_10m'][:]\n",
    "        y_wind_10m[ens_memb] = fn_10m[ens_memb].variables['y_wind_10m'][:]\n",
    "    \n",
    "\n",
    "\n",
    "\n",
    "# lead time\n",
    "        lead_time_sfc[ens_memb] = np.arange(0,time_sfc[ens_memb].shape[0])\n",
    "# get only valuable values not nan\n",
    "        #substitute missing values with nan \n",
    "        pressure[ens_memb]       = fv.fill_nan(pressure[ens_memb][:])\n",
    "        air_temp[ens_memb]       = fv.fill_nan(air_temp[ens_memb][:])\n",
    "        \n",
    "        precipitation_amount_acc[ens_memb] = fv.fill_nan(precipitation_amount_acc[ens_memb][:,:])\n",
    "\n",
    "    \n",
    "\n",
    "    val = np.zeros(shape=(10,precipitation_amount_acc[0].shape[0]))\n",
    "    ice_EM = []\n",
    "    ice_mean = []\n",
    "    ice_median = []\n",
    "    ice_75 = []\n",
    "    ice_25 = []\n",
    "    ice_max = []\n",
    "    ice_min = []\n",
    "    variable = []\n",
    "# calculate the ensemble mean of ice amount (all 10 ensemble member averaged)\n",
    "#    for k in range(0,ice_amount_ml[0].shape[0]):\n",
    "#for k in range(0,25):\n",
    "#    for k in range(0,1):\n",
    "    for ens_memb in range(0,10):\n",
    "            val[ens_memb] = ((precipitation_amount_acc[ens_memb])[:,0])\n",
    "    variable.append(val)\n",
    "    ### 75% quartile\n",
    "    ice_mean.append(np.nanmean(val,axis=0))  \n",
    "#############################################\n",
    "# Create a figure instance\n",
    "    \n",
    "    fig_name = '%s%s%s_%s.png' %(year,month,ini_day,hh)\n",
    "    fig = plt.figure(1, figsize=(20,7))\n",
    "\n",
    "# Create an axes instance\n",
    "    ax = fig.add_subplot(111)\n",
    "    \n",
    "# Vertical line to show end of day\n",
    "    ax.axvline(0+1,color = spagh.vert_col, linewidth = 3)\n",
    "    ax.axvline(24+1,color = spagh.vert_col, linewidth = 3)\n",
    "    ax.axvline(48+1,color = spagh.vert_col, linewidth = 3)\n",
    "    \n",
    "    bp = ax.boxplot(np.asarray(variable)[0,:,:49],0,'',patch_artist=True)\n",
    "#    ax.plot(np.arange(0,50,3),np.asarray(ice_mean)[0,0:3:49])\n",
    "    ax.plot(np.arange(1,np.asarray(ice_mean).size+1,3),np.asarray(ice_mean)[0,::3])\n",
    "\n",
    "## change outline color, fill color and linewidth of the boxes\n",
    "    for box in bp['boxes']:\n",
    "    # change outline color\n",
    "        box.set( color='#7570b3', linewidth=2)\n",
    "    # change fill color\n",
    "        box.set( facecolor = '#1b9e77' )\n",
    "\n",
    "## change color and linewidth of the whiskers\n",
    "    for whisker in bp['whiskers']:\n",
    "        whisker.set(color='#7570b3', linewidth=2)\n",
    "\n",
    "## change color and linewidth of the caps\n",
    "    for cap in bp['caps']:\n",
    "        cap.set(color='#7570b3', linewidth=2)\n",
    "\n",
    "## change color and linewidth of the medians\n",
    "    for median in bp['medians']:\n",
    "        median.set(color='#b2df8a', linewidth=2)\n",
    "\n",
    "## change the style of fliers and their fill\n",
    "    for flier in bp['fliers']:\n",
    "        flier.set(marker='o', color='#e7298a', alpha=0.5)\n",
    "    \n",
    "\n",
    "    vari_name = var_name_sfc.split(\"_\")\n",
    "# yaxis\n",
    "    ax.set_ylabel('%s %s %s' %(vari_name[0], vari_name[1], unit), fontsize = spagh.label_fs)\n",
    "    ax.set_ylim(-0.5,80)\n",
    "    T = np.arange(0,90,10)\n",
    "    ax.set_yticks(T)\n",
    "    ax.set_yticklabels(T,fontsize = spagh.fontsize)\n",
    "\n",
    "    Xmax = 49\n",
    "# xaxis\n",
    "    a = lead_time_sfc[0][0:49]\n",
    "    \n",
    "    ax.set_xticks(np.arange(0,Xmax,6))\n",
    "#plt.setp(ax.get_xticklabels(), visible=False) \n",
    "    ax.set_xticks(lead_time_sfc[0][:(Xmax)])\n",
    "    ax.set_xlim([0.5,Xmax+0.5])\n",
    "    ax.set_xticks(np.arange(1,Xmax+1,6))\n",
    "\n",
    "    h_p18 = hour\n",
    "    m_p18 = mm \n",
    "    d_p18 = dy \n",
    "    y_p18 = yr\n",
    "    ini_day = int(ini_day)\n",
    "    dates = pvert.dates_plt_00(h_p18, m_p18, d_p18, y_p18, ini_day)\n",
    "    ax.tick_params(axis='both', which= 'major', labelsize=24)\n",
    "\n",
    "    ax.set_xticks(np.arange(1,Xmax+1,6))\n",
    "    ax.set_xticklabels(dates, rotation = 25, fontsize = spagh.tick_fs)\n",
    "    ax.set_xlabel('time', fontsize = spagh.label_fs)\n",
    "# title\n",
    "    if hh < 10:\n",
    "        hh = '0%s' %(hh)\n",
    "    else:\n",
    "        hh = '%s' %(hh)\n",
    "        \n",
    "    title = 'initalised: %s, %s %s %s %s UTC' %(calday,ini_day,calmon,year,hh)\n",
    "    ax.set_title(title, fontsize=spagh.fontsize, color =spagh.blue )\n",
    "# tight layout\n",
    "    plt.tight_layout() \n",
    "\n",
    "## Remove top axes and right axes ticks\n",
    "    ax.get_xaxis().tick_bottom()\n",
    "    ax.get_yaxis().tick_left()\n",
    "\n",
    "    if savefig == 1:\n",
    "        SF.save_figure_landscape(figdir, fig_name, form)\n",
    "        print('plot saved: %s/%s' %(figdir,fig_name))\n",
    "    elif savefig == 0:\n",
    "        plt.show()\n",
    "    plt.close()\n",
    "    \n",
    "\n",
    "        \n",
    "#    for ens_memb in range(0,10):\n",
    " #       fn_sfc[ens_memb].close()"
   ]
  },
  {
   "cell_type": "code",
   "execution_count": null,
   "metadata": {
    "collapsed": true
   },
   "outputs": [],
   "source": []
  }
 ],
 "metadata": {
  "kernelspec": {
   "display_name": "Python 3",
   "language": "python",
   "name": "python3"
  },
  "language_info": {
   "codemirror_mode": {
    "name": "ipython",
    "version": 3
   },
   "file_extension": ".py",
   "mimetype": "text/x-python",
   "name": "python",
   "nbconvert_exporter": "python",
   "pygments_lexer": "ipython3",
   "version": "3.6.1"
  }
 },
 "nbformat": 4,
 "nbformat_minor": 2
}

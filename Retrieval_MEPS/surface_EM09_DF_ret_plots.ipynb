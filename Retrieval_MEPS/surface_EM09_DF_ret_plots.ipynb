{
 "cells": [
  {
   "cell_type": "code",
   "execution_count": null,
   "metadata": {
    "collapsed": true
   },
   "outputs": [],
   "source": [
    "#%matplotlib inline\n",
    "import sys\n",
    "sys.path.append('/Volumes/SANDISK128/Documents/Thesis/Python/')\n",
    "sys.path.append('/Volumes/SANDISK128/Documents/Thesis/Python/weather_mast/')\n",
    "sys.path.append('/Volumes/SANDISK128/Documents/Thesis/Python/MEPS/')\n",
    "import netCDF4\n",
    "import numpy as np\n",
    "import matplotlib.pyplot as plt\n",
    "import datetime\n",
    "import math\n",
    "\n",
    "import createFolder as cF\n",
    "import calc_date as cd\n",
    "import plot_sfc_spaghetti_ret as spagh\n",
    "import save_fig as SF\n",
    "import get_Haukeli_obs_data as obsDat\n",
    "import calc_48h_acc as acc\n",
    "import fill_values as fv\n",
    "import plot_vertical as pvert\n",
    "\n",
    "import os\n",
    "\n",
    "import pandas as pd"
   ]
  },
  {
   "cell_type": "code",
   "execution_count": null,
   "metadata": {
    "collapsed": true
   },
   "outputs": [],
   "source": [
    "year = 2016\n",
    "month = 12\n",
    "tid = '00'\n",
    "#tid = '18'\n",
    "station = 'Haukeliseter'\n",
    "savefig = 0  # 1 = yes, 0 = no\n",
    "\n",
    "### if plot with double fence data\n",
    "dofe = 1     # 1 = yes, 0 = no"
   ]
  },
  {
   "cell_type": "code",
   "execution_count": null,
   "metadata": {
    "collapsed": true
   },
   "outputs": [],
   "source": [
    "#### days \n",
    "#t = ['17', '18', '19', '20', '21', '22', '23', '24', '25', '26', '27']\n",
    "t = ['20', '21', '22', '23', '24', '25', '26', '27']\n",
    "#t = ['22']"
   ]
  },
  {
   "cell_type": "code",
   "execution_count": null,
   "metadata": {
    "collapsed": true
   },
   "outputs": [],
   "source": [
    "var_name = 'precipitation_amount_acc'\n",
    "unit = '[mm]'\n",
    "figdir = '../../Figures/Retrieval_MEPS/%s' %(var_name)\n",
    "# Folder where the figures are being saved    \n",
    "cF.createFolder('%s/' %(figdir))\n",
    "form = 'png'"
   ]
  },
  {
   "cell_type": "code",
   "execution_count": null,
   "metadata": {
    "collapsed": true
   },
   "outputs": [],
   "source": [
    "level = 'sfc'\n",
    "### MEPS\n",
    "ncdir_sfc = '../../Data/MEPS/%s/%s_%s' %(station,level,tid)\n",
    "level = '10m'\n",
    "ncdir_10m = '../../Data/MEPS/%s/%s_%s' %(station,level,tid)\n",
    "\n",
    "\n",
    "################################################################\n",
    "### Haukeli obs.\n",
    "txtdir = '../../Data/eklima/'\n",
    "txt_filename = 'Observations-hour_minutes.txt'\n",
    "\n",
    "################################################################\n",
    "### Retrieval \n",
    "nc_dir_retrieval = '../../Data/Retrieved_SWC'\n",
    "\n",
    "################################################################\n",
    "\n"
   ]
  },
  {
   "cell_type": "code",
   "execution_count": null,
   "metadata": {
    "collapsed": true
   },
   "outputs": [],
   "source": [
    "# read in the Haukeliseter observation file, sorted by daily values\n",
    "Haukeli = pd.read_csv('%s/%s' %(txtdir, txt_filename),\\\n",
    "                    sep = ';',header=19, skipfooter = 11, engine= 'python')\n",
    "\n",
    "DateHour = Haukeli['Date-Hour(UTC)']\n",
    "\n",
    "RR_1 = Haukeli['RR_1'].astype(float)           # Precipitation (1 hour); [mm]\n",
    "DD   = Haukeli['DD'].astype(float)             # Wind direction (FF); [degrees]\n",
    "FF   = Haukeli['FF'].astype(float)             # Wind speed (10 meters above ground);m/s\n",
    "\n",
    "if tid == '18':\n",
    "    precip, dt_precip, hour_precip, day_precip, month_precip, year_precip = obsDat.valid_values_18UTC(RR_1, DateHour)\n",
    "    dt, p, hour, dy, mm, yr = obsDat.arange_daily_18UTC(RR_1, DateHour)\n",
    "if tid == '00':\n",
    "    precip, dt_precip, hour_precip, day_precip, month_precip, year_precip = obsDat.valid_values(RR_1, DateHour)\n",
    "    dt, p, hour, dy, mm, yr = obsDat.arange_daily(RR_1, DateHour)\n",
    "\n",
    "   "
   ]
  },
  {
   "cell_type": "code",
   "execution_count": null,
   "metadata": {
    "collapsed": true
   },
   "outputs": [],
   "source": [
    "idxFF = np.where(FF[:] == -9999)\n",
    "idxDD = np.where(DD[:] == -9999)\n",
    "\n",
    "FF[idxFF[0][:]] = np.nan\n",
    "DD[idxDD[0][:]] = np.nan\n",
    "\n",
    "### calculate the U, V wind component for barb plot\n",
    "# http://colaweb.gmu.edu/dev/clim301/lectures/wind/wind-uv.html\n",
    "\n",
    "# first calculate the mathematical wind direction in deg\n",
    "md_deg = 270 - DD\n",
    "for k in range(0,md_deg.shape[0]):\n",
    "    if md_deg[k] <0 :\n",
    "        md_deg[k] = md_deg[k] +360\n",
    "md_rad = math.pi/180. * md_deg\n",
    "uwind = FF*np.cos(md_rad)\n",
    "vwind = FF*np.sin(md_rad)"
   ]
  },
  {
   "cell_type": "code",
   "execution_count": null,
   "metadata": {
    "collapsed": true
   },
   "outputs": [],
   "source": [
    "U_wind, V_wind, dt_wind, hour_wind, day_wind, month_wind, year_wind = obsDat.valid_values_wind(uwind, vwind, DateHour)"
   ]
  },
  {
   "cell_type": "code",
   "execution_count": null,
   "metadata": {
    "collapsed": true
   },
   "outputs": [],
   "source": [
    "fn_sfc        = dict()\n",
    "fn_10m        = dict()\n",
    "time_sfc      = dict()\n",
    "ini_day       = []\n",
    "calday        = []\n",
    "calmon        = []\n",
    "precipitation_amount_acc = dict()\n",
    "x_wind_10m    = dict()\n",
    "y_wind_10m    = dict()\n",
    "lead_time_sfc = dict()\n",
    "title         = dict()"
   ]
  },
  {
   "cell_type": "code",
   "execution_count": null,
   "metadata": {},
   "outputs": [],
   "source": [
    "for day in t:\n",
    "    var_name_sfc = '%s' %(var_name)\n",
    "\n",
    "    ## RETRIEVAL ######\n",
    "    fn_ret1 = netCDF4.Dataset('%s/out_swc_b6_%s%s%s.nc' %(nc_dir_retrieval, year, month, day))\n",
    "    fn_ret2 = netCDF4.Dataset('%s/out_swc_b6_%s%s%s.nc' %(nc_dir_retrieval, year, month, int(day)+1))\n",
    "    equiv_accum1 = fn_ret1.variables['retrieved_snowfall_amount'][:,:] \n",
    "    equiv_accum2 = fn_ret2.variables['retrieved_snowfall_amount'][:,:] \n",
    "\n",
    "\n",
    "### calculate accumulation from retrieval\n",
    "#srate = equiv_accum1[6,:]\n",
    "    srate1 = (equiv_accum1[2,:])\n",
    "    srate2 = (equiv_accum2[2,:])\n",
    "\n",
    "\n",
    "#srate[np.where(~np.isfinite(srate))] = 0.0\n",
    "#srate = srate/srate.shape[0]\n",
    "    srate1[np.where(~np.isfinite(srate1))] = 0.0\n",
    "    srate2[np.where(~np.isfinite(srate2))] = 0.0\n",
    "    srate1 = srate1/srate1.shape[0]\n",
    "    srate2 = srate2/srate2.shape[0]\n",
    "    srate = np.concatenate((srate1, srate2),axis=0)\n",
    "#pd.DataFrame(srate)\n",
    "\n",
    "    acc_ret = []\n",
    "    acc_ret.append(0.0)\n",
    "    for i in range(0,srate.shape[0]-1):\n",
    "        dix = np.nansum([acc_ret[i],srate[i]],axis = 0)\n",
    "        acc_ret.append(dix)\n",
    "\n",
    "    for ens_memb in range(0,10):\n",
    "# read in the netcdf surface file\n",
    "        fn_sfc[ens_memb] = netCDF4.Dataset('%s/%s%s%s_%s_%s.nc' %(ncdir_sfc,year,month,day,tid,ens_memb))\n",
    "        time_sfc[ens_memb] = fn_sfc[ens_memb].variables['time']\n",
    "        time_sfc[ens_memb] = fv.fill_nan(time_sfc[ens_memb][:])\n",
    "# initialisation time for plotting\n",
    "        ini_day = (datetime.datetime.utcfromtimestamp(time_sfc[0][0]).day)   # day of initialisation\n",
    "        hh = (datetime.datetime.utcfromtimestamp(time_sfc[0][0]).hour)       # first hour of initialisation\n",
    "        calday, calmon = cd.get_dayname(year, month, ini_day)\n",
    "# Read in the variable name which should be plotted  \n",
    "        precipitation_amount_acc[ens_memb] = fn_sfc[ens_memb].variables[var_name]\n",
    "    \n",
    "# read in the netcdf 10m wind file\n",
    "        fn_10m[ens_memb] = netCDF4.Dataset('%s/%s%s%s_%s_%s.nc' %(ncdir_10m,year,month,day,tid,ens_memb))\n",
    "# read in the wind variable\n",
    "        x_wind_10m[ens_memb] = fn_10m[ens_memb].variables['x_wind_10m'][:]\n",
    "        y_wind_10m[ens_memb] = fn_10m[ens_memb].variables['y_wind_10m'][:]\n",
    "    \n",
    "\n",
    "\n",
    "\n",
    "# lead time\n",
    "        lead_time_sfc[ens_memb] = np.arange(0,time_sfc[ens_memb].shape[0])\n",
    "# get only valuable values not nan\n",
    "        #substitute missing values with nan \n",
    "        precipitation_amount_acc[ens_memb] = fv.fill_nan(precipitation_amount_acc[ens_memb][:,:])\n",
    "# get only valuable values not nan\n",
    "        time_sfc[ens_memb] = time_sfc[ens_memb][~np.isnan(time_sfc[ens_memb])]\n",
    "        lead_time_sfc[ens_memb] = lead_time_sfc[ens_memb][~np.isnan(precipitation_amount_acc[ens_memb]).any(axis=1)]\n",
    "        precipitation_amount_acc[ens_memb] = precipitation_amount_acc[ens_memb][~np.isnan(precipitation_amount_acc[ens_memb]).any(axis=1),:]\n",
    "    \n",
    "#### calculate every 60 min the accumulation over 48 hours\n",
    "    tot = acc.accumulation_dt60_for48h(precip, ini_day)\n",
    "\n",
    "    \n",
    "\n",
    "# spaghetti plot with all ensemble member + control\n",
    "    if hh < 10:\n",
    "        hh = '0%s' %(hh)\n",
    "    else:\n",
    "        hh = '%s' %(hh)\n",
    "        \n",
    "\n",
    "    \n",
    "    title = 'initalised: %s, %s %s %s %s UTC' %(calday,ini_day,calmon,year,hh)\n",
    "    var_name_sfc = var_name_sfc.split(\"_\")\n",
    "    \n",
    "    if len(tot) <= 3:\n",
    "        print('no double fence data')\n",
    "        dofe = 0\n",
    "        Xmax = 49\n",
    "    else:\n",
    "        dofe = 1\n",
    "        Xmax = np.asarray(tot).shape[0]\n",
    "    xwind_WM = []\n",
    "    ywind_WM = []\n",
    "\n",
    "\n",
    "    xwind_WM.extend(U_wind[int(day)-1][:])\n",
    "    xwind_WM.extend(U_wind[int(day)][:(Xmax-U_wind[int(day)-1][:].shape[0])])\n",
    "    ywind_WM.extend(V_wind[int(day)-1][:])\n",
    "    ywind_WM.extend(V_wind[int(day)][:(Xmax-V_wind[int(day)-1][:].shape[0])])\n",
    "    \n",
    "    \n",
    "    \n",
    "    fig_name = 'acc_%s%s%s_%s.png' %(year,month,ini_day,hh)\n",
    "    spagh.spaghetti_sfc_dofe(lead_time_sfc, precipitation_amount_acc, tot, acc_ret,\n",
    "                             Xmax, day, var_name_sfc,\n",
    "                        hour, mm, dy, yr, int(ini_day), unit, title, tid, dofe)\n",
    "    if savefig == 1:\n",
    "        SF.save_figure_landscape(figdir, fig_name, form)\n",
    "        print('plot saved: %s/%s' %(figdir,fig_name))\n",
    "    elif savefig == 0:\n",
    "        plt.show()\n",
    "    plt.close()\n",
    "    \n",
    "    fig_name = 'acc_wind_%s%s%s_%s.png' %(year,month,ini_day,hh)\n",
    "    spagh.spaghetti_sfc_dofe_wind(lead_time_sfc, precipitation_amount_acc, tot, acc_ret,x_wind_10m, y_wind_10m,\n",
    "                                  xwind_WM, ywind_WM,\n",
    "                             Xmax, day, var_name_sfc,\n",
    "                        hour, mm, dy, yr, int(ini_day), unit, title, tid, dofe)\n",
    "\n",
    "    if savefig == 1:\n",
    "        SF.save_figure_landscape(figdir, fig_name, form)\n",
    "        print('plot saved: %s/%s' %(figdir,fig_name))\n",
    "    elif savefig == 0:\n",
    "        plt.show()\n",
    "    plt.close()\n",
    "    \n",
    "\n",
    "        \n",
    "    for ens_memb in range(0,10):\n",
    "        fn_sfc[ens_memb].close()\n",
    "    "
   ]
  },
  {
   "cell_type": "code",
   "execution_count": null,
   "metadata": {
    "collapsed": true
   },
   "outputs": [],
   "source": []
  },
  {
   "cell_type": "code",
   "execution_count": null,
   "metadata": {
    "collapsed": true
   },
   "outputs": [],
   "source": []
  }
 ],
 "metadata": {
  "kernelspec": {
   "display_name": "Python 3",
   "language": "python",
   "name": "python3"
  },
  "language_info": {
   "codemirror_mode": {
    "name": "ipython",
    "version": 3
   },
   "file_extension": ".py",
   "mimetype": "text/x-python",
   "name": "python",
   "nbconvert_exporter": "python",
   "pygments_lexer": "ipython3",
   "version": "3.6.1"
  }
 },
 "nbformat": 4,
 "nbformat_minor": 2
}

{
 "cells": [
  {
   "cell_type": "code",
   "execution_count": 1,
   "metadata": {
    "collapsed": true
   },
   "outputs": [],
   "source": [
    "#%matplotlib inline\n",
    "import sys\n",
    "sys.path.append('/Volumes/SANDISK128/Documents/Thesis/Python/')\n",
    "sys.path.append('/Volumes/SANDISK128/Documents/Thesis/Python/weather_mast/')\n",
    "sys.path.append('/Volumes/SANDISK128/Documents/Thesis/Python/MEPS/')\n",
    "import netCDF4\n",
    "import numpy as np\n",
    "import matplotlib.pyplot as plt\n",
    "import datetime\n",
    "import math\n",
    "\n",
    "import createFolder as cF\n",
    "import calc_date as cd\n",
    "import plot_sfc_spaghetti_ret as spagh\n",
    "import save_fig as SF\n",
    "import get_Haukeli_obs_data as obsDat\n",
    "import calc_48h_acc as acc\n",
    "import fill_values as fv\n",
    "import plot_vertical as pvert\n",
    "from matplotlib.gridspec import GridSpec\n",
    "\n",
    "import os\n",
    "\n",
    "import pandas as pd\n",
    "import matplotlib as mpl\n",
    "mpl.style.use('ggplot')"
   ]
  },
  {
   "cell_type": "code",
   "execution_count": 2,
   "metadata": {
    "collapsed": true
   },
   "outputs": [],
   "source": [
    "year = 2016\n",
    "month = 12\n",
    "tid = '00'\n",
    "#tid = '18'\n",
    "station = 'Haukeliseter'\n",
    "savefig = 0  # 1 = yes, 0 = no\n",
    "\n",
    "### if plot with double fence data\n",
    "dofe = 1     # 1 = yes, 0 = no"
   ]
  },
  {
   "cell_type": "code",
   "execution_count": 3,
   "metadata": {
    "collapsed": true
   },
   "outputs": [],
   "source": [
    "#### days \n",
    "#t = ['17', '18', '19', '20', '21', '22', '23', '24', '25', '26', '27']\n",
    "t = ['20', '21', '22', '23', '24', '25', '26', '27']\n",
    "#t = ['22']"
   ]
  },
  {
   "cell_type": "code",
   "execution_count": 4,
   "metadata": {
    "collapsed": true
   },
   "outputs": [],
   "source": [
    "champ = 255.\n",
    "no1 = np.array([79,94,26])/champ\n",
    "no2 = np.array([131,156,45])/champ\n",
    "no3 = np.array([71,153,112])/champ\n",
    "no4 = np.array([77,111,157])/champ\n",
    "no5 = np.array([157,58,55])/champ\n",
    "no6 = np.array([211,120,50])/champ\n",
    "no7 = np.array([218,181,70])/champ\n",
    "\n",
    "colors = [no1, no2, no3, no4, no5, no6, no7]"
   ]
  },
  {
   "cell_type": "code",
   "execution_count": 5,
   "metadata": {
    "collapsed": true
   },
   "outputs": [],
   "source": [
    "var_name = 'precipitation_amount_acc'\n",
    "unit = '[mm]'\n",
    "figdir = '../../Figures/Retrieval_MEPS/%s/ensemble_mean' %(var_name)\n",
    "#figdir = '../../Figures/Retrieval/%s' %(var_name)\n",
    "figdir_scatter = '../../Figures/Retrieval/%s/scatter' %var_name\n",
    "# Folder where the figures are being saved    \n",
    "cF.createFolder('%s/' %(figdir))\n",
    "cF.createFolder('%s/' %(figdir_scatter))\n",
    "form = 'png'"
   ]
  },
  {
   "cell_type": "code",
   "execution_count": 6,
   "metadata": {
    "collapsed": true
   },
   "outputs": [],
   "source": [
    "################################################################\n",
    "### Haukeli obs.\n",
    "txtdir = '../../Data/eklima/'\n",
    "txt_filename = 'Observations-hour_minutes'\n",
    "\n",
    "################################################################\n",
    "### Retrieval \n",
    "nc_dir_retrieval = '../../Data/Retrieved_SWC'\n",
    "\n",
    "################################################################\n",
    "\n"
   ]
  },
  {
   "cell_type": "code",
   "execution_count": 7,
   "metadata": {
    "collapsed": true
   },
   "outputs": [],
   "source": [
    "# read in the Haukeliseter observation file, sorted by daily values\n",
    "Haukeli = pd.read_csv('%s/%s.txt' %(txtdir, txt_filename),\\\n",
    "                    sep = ';',header=19, skipfooter = 11, engine= 'python')\n",
    "\n",
    "DateHour = Haukeli['Date-Hour(UTC)']\n",
    "\n",
    "RR_1 = Haukeli['RR_1'].astype(float)           # Precipitation (1 hour); [mm]\n",
    "DD   = Haukeli['DD'].astype(float)             # Wind direction (FF); [degrees]\n",
    "FF   = Haukeli['FF'].astype(float)             # Wind speed (10 meters above ground);m/s\n",
    "\n",
    "if tid == '18':\n",
    "    precip, dt_precip, hour_precip, day_precip, month_precip, year_precip = obsDat.valid_values_18UTC(RR_1, DateHour)\n",
    "    dt, p, hour, dy, mm, yr = obsDat.arange_daily_18UTC(RR_1, DateHour)\n",
    "if tid == '00':\n",
    "    precip, dt_precip, hour_precip, day_precip, month_precip, year_precip = obsDat.valid_values(RR_1, DateHour)\n",
    "    dt, p, hour, dy, mm, yr = obsDat.arange_daily(RR_1, DateHour)\n",
    "\n",
    "   "
   ]
  },
  {
   "cell_type": "code",
   "execution_count": 8,
   "metadata": {
    "collapsed": true
   },
   "outputs": [],
   "source": [
    "idxFF = np.where(FF[:] == -9999)\n",
    "idxDD = np.where(DD[:] == -9999)\n",
    "\n",
    "FF[idxFF[0][:]] = np.nan\n",
    "DD[idxDD[0][:]] = np.nan\n",
    "\n",
    "### calculate the U, V wind component for barb plot\n",
    "# http://colaweb.gmu.edu/dev/clim301/lectures/wind/wind-uv.html\n",
    "\n",
    "# first calculate the mathematical wind direction in deg\n",
    "md_deg = 270 - DD\n",
    "for k in range(0,md_deg.shape[0]):\n",
    "    if md_deg[k] <0 :\n",
    "        md_deg[k] = md_deg[k] +360\n",
    "md_rad = math.pi/180. * md_deg\n",
    "uwind = FF*np.cos(md_rad)\n",
    "vwind = FF*np.sin(md_rad)"
   ]
  },
  {
   "cell_type": "code",
   "execution_count": 9,
   "metadata": {
    "collapsed": true
   },
   "outputs": [],
   "source": [
    "U_wind, V_wind, dt_wind, hour_wind, day_wind, month_wind, year_wind = obsDat.valid_values_wind(uwind, vwind, DateHour)"
   ]
  },
  {
   "cell_type": "code",
   "execution_count": 10,
   "metadata": {
    "collapsed": true
   },
   "outputs": [],
   "source": [
    "wind_speed, dt_ws, hour_ws, day_ws, month_ws, year_ws = obsDat.valid_values(FF, DateHour)"
   ]
  },
  {
   "cell_type": "code",
   "execution_count": 11,
   "metadata": {
    "collapsed": true
   },
   "outputs": [],
   "source": [
    "# read in the Haukeliseter observation file, for wind gust\n",
    "Haukeli_gust = pd.read_csv('%s%s_gusts.txt' %(txtdir, txt_filename),\\\n",
    "                    sep = ';',header=14, skipfooter = 2,engine= 'python')\n",
    "# FG_1 Kraftigste vindkast (siste time)\n",
    "# FX_1 Kraftigste middelvind (siste time)\n",
    "FX_1 = Haukeli_gust['FX_1'].astype(float)\n",
    "DX_1 = Haukeli_gust['DX_1'].astype(float)\n",
    "\n",
    "idxFX_1 = np.where(FX_1[:] == -9999)\n",
    "idxDX_1 = np.where(DX_1[:] == -9999)\n",
    "\n",
    "FX_1[idxFX_1[0][:]] = np.nan\n",
    "DX_1[idxDX_1[0][:]] = np.nan\n",
    "\n",
    "# first calculate the mathematical wind direction in deg\n",
    "md_deg_X = 270 - DX_1\n",
    "for k in range(0,md_deg_X.shape[0]):\n",
    "    if md_deg_X[k] <0 :\n",
    "        md_deg_X[k] = md_deg_X[k] +360\n",
    "md_rad_X = math.pi/180. * md_deg_X\n",
    "uwind_X = FX_1*np.cos(md_rad_X)\n",
    "vwind_X = FX_1*np.sin(md_rad_X)"
   ]
  },
  {
   "cell_type": "code",
   "execution_count": 12,
   "metadata": {
    "collapsed": true
   },
   "outputs": [],
   "source": [
    "U_wind_X, V_wind_X, dt_wind_X, hour_wind_X, day_wind_X, month_wind_X, year_wind_X = obsDat.valid_values_wind(uwind_X, vwind_X, DateHour)"
   ]
  },
  {
   "cell_type": "code",
   "execution_count": 62,
   "metadata": {
    "collapsed": true
   },
   "outputs": [],
   "source": [
    "fn_sfc        = dict()\n",
    "fn_10m        = dict()\n",
    "time_sfc      = dict()\n",
    "ini_day       = []\n",
    "calday        = []\n",
    "calmon        = []\n",
    "precipitation_amount_acc = dict()\n",
    "x_wind_10m    = dict()\n",
    "y_wind_10m    = dict()\n",
    "lead_time_sfc = dict()\n",
    "title         = dict()\n",
    "\n",
    "diff = dict()\n",
    "day_diff_obs = []\n",
    "\n",
    "Difference_0 = []\n",
    "Difference_1 = []\n",
    "Difference_2 = []\n",
    "Difference_3 = []\n",
    "Difference_4 = []\n",
    "Difference_5 = []\n",
    "Difference_6 = []\n",
    "Difference_7 = []\n",
    "Difference_8 = []\n",
    "Difference_9 = []\n",
    "\n",
    "Difference = []\n",
    "\n",
    "all_day_max = []\n",
    "all_day_min = []\n",
    "\n",
    "\n",
    "calendar_day = []\n",
    "initialisation_day = []\n",
    "calendar_month = []\n",
    "calendar_year = []\n",
    "initialisation_hh = []\n",
    "\n",
    "obs_var = []\n",
    "obs_ret = []\n",
    "catch_ratio = []"
   ]
  },
  {
   "cell_type": "code",
   "execution_count": 63,
   "metadata": {},
   "outputs": [
    {
     "name": "stderr",
     "output_type": "stream",
     "text": [
      "/Volumes/SANDISK128/Applications/anaconda/envs/py36ECMWF/lib/python3.6/site-packages/ipykernel_launcher.py:42: RuntimeWarning: divide by zero encountered in true_divide\n",
      "/Volumes/SANDISK128/Applications/anaconda/envs/py36ECMWF/lib/python3.6/site-packages/ipykernel_launcher.py:42: RuntimeWarning: invalid value encountered in true_divide\n"
     ]
    }
   ],
   "source": [
    "#t = ['24']#,'25']\n",
    "t = ['20', '21', '22', '23', '24', '25', '26', '27']\n",
    "for day in t:\n",
    "\n",
    "\n",
    "    var_name_sfc = '%s' %(var_name)\n",
    "\n",
    "    ## RETRIEVAL ######\n",
    "    fn_ret1 = netCDF4.Dataset('%s/out_swc_b6_%s%s%s.nc' %(nc_dir_retrieval, year, month, day))\n",
    "#    fn_ret2 = netCDF4.Dataset('%s/out_swc_b6_%s%s%s.nc' %(nc_dir_retrieval, year, month, int(day)+1))\n",
    "    equiv_accum1 = fn_ret1.variables['retrieved_snowfall_amount'][:,:] \n",
    "#    equiv_accum2 = fn_ret2.variables['retrieved_snowfall_amount'][:,:] \n",
    "\n",
    "\n",
    "### calculate accumulation from retrieval\n",
    "#srate = equiv_accum1[6,:]\n",
    "    srate1 = (equiv_accum1[0,:])\n",
    "#    srate2 = (equiv_accum2[0,:])\n",
    "    \n",
    "\n",
    "#srate[np.where(~np.isfinite(srate))] = 0.0\n",
    "#srate = srate/srate.shape[0]\n",
    "    srate1[np.where(~np.isfinite(srate1))] = 0.0\n",
    "#    srate2[np.where(~np.isfinite(srate2))] = 0.0\n",
    "    srate1 = srate1/srate1.shape[0]\n",
    "    acc_ret = []\n",
    "    acc_ret.append(0.0)\n",
    "    for i in range(0,srate1.shape[0]-1):\n",
    "        dix = np.nansum([acc_ret[i],srate1[i]],axis = 0)\n",
    "        acc_ret.append(dix)\n",
    "\n",
    "\n",
    "#### calculate every 60 min the accumulation over 48 hours\n",
    "    tot = acc.accumulation_dt60_for48h(precip, int(day))\n",
    "################\n",
    "    retrieval_acc = []\n",
    "    dofe_acc = []\n",
    "    for i in range(0,np.asarray(acc_ret)[::60].shape[0]-1):\n",
    "        retrieval_acc.append(acc_ret[(i+1)*60]-acc_ret[i*60])\n",
    "        dofe_acc.append(tot[i+1] - tot[i])\n",
    "#    catch_ratio.append(srate1[::60]/precip[int(day)])   \n",
    "    catch_ratio.append(np.asarray(retrieval_acc)/np.asarray(dofe_acc))"
   ]
  },
  {
   "cell_type": "code",
   "execution_count": 47,
   "metadata": {},
   "outputs": [
    {
     "data": {
      "text/plain": [
       "(23,)"
      ]
     },
     "execution_count": 47,
     "metadata": {},
     "output_type": "execute_result"
    }
   ],
   "source": [
    "np.asarray(tot[1])-tot[0]\n",
    "tot[2]-tot[1]"
   ]
  },
  {
   "cell_type": "code",
   "execution_count": 49,
   "metadata": {},
   "outputs": [
    {
     "data": {
      "text/plain": [
       "(23,)"
      ]
     },
     "execution_count": 49,
     "metadata": {},
     "output_type": "execute_result"
    }
   ],
   "source": [
    "np.asarray(dofe_acc).shape"
   ]
  },
  {
   "cell_type": "code",
   "execution_count": 32,
   "metadata": {},
   "outputs": [
    {
     "data": {
      "text/plain": [
       "0.91969623340030215"
      ]
     },
     "execution_count": 32,
     "metadata": {},
     "output_type": "execute_result"
    }
   ],
   "source": [
    "acc_ret[60]-acc_ret[0]\n",
    "acc_ret[120] -acc_ret[60]"
   ]
  },
  {
   "cell_type": "code",
   "execution_count": 56,
   "metadata": {},
   "outputs": [
    {
     "data": {
      "text/plain": [
       "23"
      ]
     },
     "execution_count": 56,
     "metadata": {},
     "output_type": "execute_result"
    }
   ],
   "source": []
  },
  {
   "cell_type": "code",
   "execution_count": 64,
   "metadata": {},
   "outputs": [
    {
     "data": {
      "image/png": "[encoded data removed]",
      "text/plain": [
       "<matplotlib.figure.Figure at 0x1188ccdd8>"
      ]
     },
     "metadata": {},
     "output_type": "display_data"
    }
   ],
   "source": [
    "for i in range(0,len(catch_ratio)):\n",
    "    plt.scatter(wind_speed[int(i+20)][:np.asarray(catch_ratio).shape[1]],catch_ratio[i])\n",
    "plt.show()"
   ]
  },
  {
   "cell_type": "code",
   "execution_count": 61,
   "metadata": {},
   "outputs": [
    {
     "ename": "TypeError",
     "evalue": "asarray() missing 1 required positional argument: 'a'",
     "output_type": "error",
     "traceback": [
      "\u001b[0;31m---------------------------------------------------------------------------\u001b[0m",
      "\u001b[0;31mTypeError\u001b[0m                                 Traceback (most recent call last)",
      "\u001b[0;32m<ipython-input-61-b06f14cbd99e>\u001b[0m in \u001b[0;36m<module>\u001b[0;34m()\u001b[0m\n\u001b[0;32m----> 1\u001b[0;31m \u001b[0;34m(\u001b[0m\u001b[0mnp\u001b[0m\u001b[0;34m.\u001b[0m\u001b[0masarray\u001b[0m\u001b[0;34m(\u001b[0m\u001b[0;34m)\u001b[0m\u001b[0;34m)\u001b[0m\u001b[0;34m.\u001b[0m\u001b[0mshape\u001b[0m\u001b[0;34m\u001b[0m\u001b[0m\n\u001b[0m",
      "\u001b[0;31mTypeError\u001b[0m: asarray() missing 1 required positional argument: 'a'"
     ]
    }
   ],
   "source": [
    "(np.asarray()).shape"
   ]
  },
  {
   "cell_type": "code",
   "execution_count": null,
   "metadata": {},
   "outputs": [],
   "source": [
    "np.asarray().shape"
   ]
  },
  {
   "cell_type": "code",
   "execution_count": null,
   "metadata": {
    "collapsed": true
   },
   "outputs": [],
   "source": []
  },
  {
   "cell_type": "code",
   "execution_count": null,
   "metadata": {
    "collapsed": true
   },
   "outputs": [],
   "source": []
  },
  {
   "cell_type": "code",
   "execution_count": null,
   "metadata": {
    "collapsed": true
   },
   "outputs": [],
   "source": []
  },
  {
   "cell_type": "code",
   "execution_count": null,
   "metadata": {
    "collapsed": true
   },
   "outputs": [],
   "source": []
  },
  {
   "cell_type": "code",
   "execution_count": null,
   "metadata": {
    "collapsed": true
   },
   "outputs": [],
   "source": [
    "def plt_all_day_diff(day_diff_obs,day_range,initialisation_day, calendar_month, calendar_year, initialisation_hh):\n",
    "    fig = plt.figure(figsize=(10,10))\n",
    "    ax = fig.add_subplot(111)\n",
    "    # Vertical line to see if too high or too little\n",
    "    ax.axvline(0, color =spagh.vert_col, linewidth=3)\n",
    "\n",
    "    # Horizontal line to show end of day\n",
    "    ax.axhline(0,color = spagh.vert_col, linewidth = 3)\n",
    "    ax.axhline(24,color = spagh.vert_col, linewidth = 3)\n",
    "    ax.axhline(48,color = spagh.vert_col, linewidth = 3)\n",
    "\n",
    "\n",
    "    for i in day_range:\n",
    "        if i == 5:\n",
    "            Xmax = 41\n",
    "        elif i == 6:\n",
    "            Xmax = 17\n",
    "        else:\n",
    "            Xmax = np.asarray(day_diff_obs).shape[1]\n",
    "        plt.scatter(day_diff_obs[i][:Xmax],np.arange(0,np.asarray(day_diff_obs[i][:Xmax]).shape[0]),\n",
    "                            color = colors[i],\n",
    "                        alpha = 0.8, s = 200,\n",
    "                      label='%s %s %s 0%s UTC' %(initialisation_day[i],\n",
    "                                            calendar_month[i],calendar_year[i],initialisation_hh[i]) )\n",
    "\n",
    "\n",
    "        ### fine tuning\n",
    "    lgd = ax.legend(loc='center left',bbox_to_anchor=(1, .75),\n",
    "             fancybox=True, shadow=True, #ncol=3, \n",
    "              fontsize=spagh.label_fs-4)\n",
    "    lgd.get_title().set_fontsize(spagh.label_fs-4)\n",
    "    plt.setp(lgd.get_texts(), color=spagh.blue)\n",
    "\n",
    "\n",
    "    #lgd = ax.legend(loc='upper center', bbox_to_anchor=(0.5, -0.37),\n",
    "     #         fancybox=True, shadow=True, ncol=3, fontsize=spagh.label_fs)\n",
    "    frame = lgd.get_frame()\n",
    "    frame.set_facecolor('white')\n",
    "\n",
    "    # yaxis\n",
    "    #a = lead_time_sfc[0][0:48]\n",
    "    ax.set_ylim(-0.5,49-0.5)\n",
    "    ax.set_ylabel('time [UTC]', fontsize=spagh.label_fs)\n",
    "    ax.set_yticks(np.arange(0,49))\n",
    "\n",
    "    xdays = [0, '', '', 3, '' , '',\n",
    "            6,'','', 9,'','',12,'','',15,'','',18,'','',\n",
    "             21, '','',\n",
    "            24, '','',27, '','', 30, '','',\n",
    "            33,'','', 36,'','',39,'','',42,'','',45,'','',\n",
    "            48]\n",
    "    ax.set_yticklabels(xdays, #rotation = 25, \n",
    "                       fontsize = spagh.tick_fs)\n",
    "\n",
    "            # xaxis\n",
    "    ax.set_xlim(-15,5)\n",
    "    ax.set_xticks(np.arange(-15,10,5))\n",
    "    ax.set_xticklabels(['', -10, '', 0, '', 10],fontsize = spagh.tick_fs)\n",
    "    ax.set_title('Precipitation amount' , fontsize=spagh.fontsize)\n",
    "    ax.set_xlabel('Difference [mm]', fontsize=spagh.fontsize)\n",
    "\n",
    "    # tight layout\n",
    "    plt.tight_layout()\n",
    "    return(lgd)"
   ]
  },
  {
   "cell_type": "code",
   "execution_count": null,
   "metadata": {
    "collapsed": true
   },
   "outputs": [],
   "source": [
    "def plt_scatter_all_days(obs_var,obs_ret,x_obs, intercept_obs,gradient_obs,\n",
    "                         day_range, in_day, cal_mon,\n",
    "                              cal_year,in_hh):\n",
    "    fig = plt.figure(figsize=(10,10))\n",
    "    ax = fig.add_subplot(111)\n",
    "\n",
    "    for i in day_range:\n",
    "\n",
    "        plt.scatter(np.asarray(obs_var)[i,:-1],\n",
    "                    np.asarray(obs_ret)[i,:],color=colors[i],\n",
    "                   alpha = 0.8, s = 150,\n",
    "                          label='%s %s %s 0%s UTC' %(in_day[i],\n",
    "                                                cal_mon[i],cal_year[i],in_hh[i]) )\n",
    "    ax.plot(x_obs, intercept_obs + gradient_obs*x_obs,  \n",
    "                    color ='k',linewidth = 5.,\n",
    "            alpha=0.8)#,\n",
    "            #label='y = {:.2f} + {:.2f}x'.format(intercept_obs, gradient_obs))\n",
    "    ax.text(0.03,0.95, 'y = {:.2f} + {:.2f}x'.format(intercept_obs, gradient_obs),\n",
    "            verticalalignment ='top', horizontalalignment='left', color = 'k',\n",
    "             transform = ax.transAxes, fontsize = spagh.label_fs-4,\n",
    "             bbox={'facecolor':'white','alpha':.8,'pad':10})\n",
    "    \n",
    "    ### fine tuning\n",
    "    lgd = ax.legend(loc='center left',bbox_to_anchor=(1, .75),\n",
    "             fancybox=True, shadow=True, #ncol=3, \n",
    "              fontsize=spagh.label_fs-4)\n",
    "    lgd.get_title().set_fontsize(spagh.label_fs-4)\n",
    "    plt.setp(lgd.get_texts(), color=spagh.blue)\n",
    "\n",
    "\n",
    "    frame = lgd.get_frame()\n",
    "    frame.set_facecolor('white')\n",
    "\n",
    "\n",
    "    ax.plot([0,50], [0,50], linestyle = '-', color=spagh.memb_col)\n",
    "            # yaxis\n",
    "    ax.set_ylim(-1,50)\n",
    "    ax.set_yticks(np.arange(0,55,5))\n",
    "    ax.set_yticklabels([0, '',10,'',20,'',30,'',40,'',50,'',60,'',70,'',80,'',90],fontsize = spagh.tick_fs)\n",
    "            # xaxis\n",
    "    ax.set_xlim(-1,50)\n",
    "    ax.set_xticks(np.arange(0,55,5))\n",
    "    ax.set_xticklabels([0, '',10,'',20,'',30,'',40,'',50,'',60,'',70,'',80,'',90],fontsize = spagh.tick_fs)\n",
    "    ax.set_title('Precipitation amount [mm]', fontsize=spagh.fontsize)\n",
    "\n",
    "    \n",
    "\n",
    "    ax.set_ylabel('retrieval', fontsize=spagh.label_fs)\n",
    "    ax.set_xlabel('double fence', fontsize=spagh.label_fs)\n",
    "\n",
    "\n",
    "        # tight layout\n",
    "    plt.tight_layout()\n",
    "    return(lgd)"
   ]
  },
  {
   "cell_type": "code",
   "execution_count": null,
   "metadata": {
    "collapsed": true
   },
   "outputs": [],
   "source": []
  },
  {
   "cell_type": "code",
   "execution_count": null,
   "metadata": {},
   "outputs": [],
   "source": [
    "day_range = np.arange(0,len(day_diff_obs)-1)\n",
    "lgd = plt_all_day_diff(day_diff_obs,day_range,initialisation_day, calendar_month, calendar_year, initialisation_hh)\n",
    "fig_name = 'diff_%s%s%s_%s_%s.png' %(calendar_year[0],month,initialisation_day[0],initialisation_day[len(obs_var)-2],hh)\n",
    "if savefig == 1:\n",
    "    plt.savefig('%s/%s' % (figdir_scatter, fig_name), format = form,bbox_extra_artists=(lgd,), bbox_inches='tight')\n",
    "    print('plot saved: %s/%s' %(figdir_scatter,fig_name))\n",
    "elif savefig == 0:\n",
    "    plt.show()\n",
    "plt.close()"
   ]
  },
  {
   "cell_type": "code",
   "execution_count": null,
   "metadata": {
    "collapsed": true
   },
   "outputs": [],
   "source": [
    "day_diff_obs2 = np.asarray(day_diff_obs)\n",
    "day_diff_obs2[5,12:] = np.nan\n",
    "day_diff_obs2[6,17:] = np.nan"
   ]
  },
  {
   "cell_type": "code",
   "execution_count": null,
   "metadata": {},
   "outputs": [],
   "source": [
    "print('MAE: ', np.nanmean(np.abs(day_diff_obs2)))"
   ]
  },
  {
   "cell_type": "code",
   "execution_count": null,
   "metadata": {},
   "outputs": [],
   "source": [
    "for i in range(len(obs_var)):\n",
    "    print('snowfall obs (12h) [mm] 2%s Dec:' %i, np.asarray(obs_var)[i,12])\n",
    " #   print('snowfall obs (24h) [mm] 2%s Dec:' %i, np.asarray(obs_var)[i,24])\n",
    " #   print('snowfall obs (48h) [mm] 2%s Dec:' %i, np.asarray(obs_var)[i,47])"
   ]
  },
  {
   "cell_type": "code",
   "execution_count": null,
   "metadata": {},
   "outputs": [],
   "source": [
    "for i in range(len(obs_ret)):\n",
    "    print('snowfall ret (12h) [mm] 2%s Dec:' %i, np.asarray(obs_ret)[i,12])\n",
    "#    print('snowfall ret (24h) [mm] 2%s Dec:' %i, np.asarray(obs_ret)[i,24])\n",
    " #   print('snowfall ret (48h) [mm] 2%s Dec:' %i, np.asarray(obs_ret)[i,47])"
   ]
  },
  {
   "cell_type": "code",
   "execution_count": null,
   "metadata": {},
   "outputs": [],
   "source": [
    "ratio = np.empty(shape=(np.asarray(day_diff_obs2).shape))\n",
    "for i in range(0,len(obs_var)):\n",
    "    ratio[i][:] = np.asarray(day_diff_obs2)[i,12]/np.asarray(obs_var)[i,12]\n",
    "    if np.isinf(ratio).any() == True:\n",
    "        a = (np.isinf(np.asarray(day_diff_obs2)[i,12]/np.asarray(obs_var)[i,12]))\n",
    "        ratio[i][a] = np.nan\n",
    "\n",
    "all_ratio = []\n",
    "for i in range(0,len(ratio)):\n",
    "    k = (np.asarray(ratio)[i,:])*100\n",
    "    print('perc Difference (12h) 2%s Dec:' %i, np.nanmean(np.asarray(ratio)[i,12])*100)\n",
    "    all_ratio.append(k)\n",
    "print('all day perc Difference (12h):', np.nanmean(all_ratio[:7]))\n",
    "print('all day perc Difference 21-26 (12h):', np.nanmean(all_ratio[1:7]))\n",
    "print('all day perc Difference 21-24 (12h):', np.nanmean(all_ratio[1:5]))"
   ]
  },
  {
   "cell_type": "code",
   "execution_count": null,
   "metadata": {},
   "outputs": [],
   "source": [
    "ratio = np.empty(shape=(np.asarray(day_diff_obs2).shape))\n",
    "for i in range(0,len(obs_var)):\n",
    "    ratio[i][:] = np.asarray(day_diff_obs2)[i,24]/np.asarray(obs_var)[i,24]\n",
    "    if np.isinf(ratio).any() == True:\n",
    "        a = (np.isinf(np.asarray(day_diff_obs2)[i,24]/np.asarray(obs_var)[i,24]))\n",
    "        ratio[i][a] = np.nan\n",
    "\n",
    "all_ratio = []\n",
    "for i in range(0,len(ratio)):\n",
    "    k = (np.asarray(ratio)[i,:])*100\n",
    "    print('perc Difference (24h) 2%s Dec:' %i, np.nanmean(np.asarray(ratio)[i,24])*100)\n",
    "    all_ratio.append(k)\n",
    "print('all day perc Difference (24h):', np.nanmean(all_ratio[:7]))\n",
    "print('all day perc Difference 21-26 (48h):', np.nanmean(all_ratio[1:7]))"
   ]
  },
  {
   "cell_type": "code",
   "execution_count": null,
   "metadata": {},
   "outputs": [],
   "source": [
    "ratio = np.empty(shape=(np.asarray(day_diff_obs2)[:,47].shape))\n",
    "for i in range(0,len(obs_var)):\n",
    "    ratio[i] = np.asarray(day_diff_obs2)[i,47]/np.asarray(obs_var)[i,47]\n",
    "    if np.isinf(ratio).any() == True:\n",
    "        a = (np.isinf(np.asarray(day_diff_obs2)[i,47]/np.asarray(obs_var)[i,47]))\n",
    "        ratio[i][a] = np.nan\n",
    "\n",
    "all_ratio = []\n",
    "for i in range(0,len(ratio)):\n",
    "    k = np.nanmean(np.asarray(ratio)[i])*100\n",
    "    print('perc Difference (48h) 2%s Dec:' %i, np.nanmean(np.asarray(ratio)[i])*100)\n",
    "    all_ratio.append(k)\n",
    "print('all day perc Difference (48h):', np.nanmean(all_ratio[:7]))\n",
    "print('all day perc Difference 21-26 (48h):', np.nanmean(all_ratio[1:7]))"
   ]
  },
  {
   "cell_type": "code",
   "execution_count": null,
   "metadata": {
    "collapsed": true
   },
   "outputs": [],
   "source": [
    "obs_ret = np.asarray(obs_ret)[:,::60]\n",
    "obs_ret3 = np.asarray(obs_ret)\n",
    "obs_ret3[5,12:] = np.nan\n",
    "obs_ret3[6,17:] = np.nan"
   ]
  },
  {
   "cell_type": "code",
   "execution_count": null,
   "metadata": {},
   "outputs": [],
   "source": [
    "for i in range(len(obs_ret3)):\n",
    "    print('snowfall (24h) [mm] 2%s Dec:' %i, np.asarray(obs_ret3)[i,24])\n",
    "    print('snowfall (48h) [mm] 2%s Dec:' %i, np.asarray(obs_ret3)[i,47])"
   ]
  },
  {
   "cell_type": "code",
   "execution_count": null,
   "metadata": {
    "collapsed": true
   },
   "outputs": [],
   "source": [
    "#obs_ret = np.asarray(obs_ret)[:,::60]\n",
    "obs_ret2 = np.asarray(obs_ret)\n",
    "obs_ret2[5,41:] = np.nan\n",
    "obs_ret2[6,17:] = np.nan\n",
    "\n"
   ]
  },
  {
   "cell_type": "code",
   "execution_count": null,
   "metadata": {
    "collapsed": true
   },
   "outputs": [],
   "source": [
    "from scipy import stats\n",
    "PP_obs_flat = np.ndarray.flatten(np.asarray(obs_var)[:,:-1])\n",
    "PP_ret_flat = np.ndarray.flatten((obs_ret2)[:,:])\n",
    "\n",
    "x_obs = np.asarray(PP_obs_flat)\n",
    "y_obs = np.asarray(PP_ret_flat)\n",
    "mask_obs = ~np.isnan(x_obs) & ~np.isnan(y_obs)\n",
    "gradient_obs, intercept_obs, r_value, p_value, std_err = stats.linregress(x_obs[mask_obs],y_obs[mask_obs])"
   ]
  },
  {
   "cell_type": "code",
   "execution_count": null,
   "metadata": {
    "collapsed": true
   },
   "outputs": [],
   "source": [
    "lgd = plt_scatter_all_days(obs_var,obs_ret2,x_obs,intercept_obs,gradient_obs,\n",
    "                           day_range, initialisation_day, calendar_month,\n",
    "                              calendar_year,initialisation_hh)\n",
    "fig_name = 'obs_ret_%s%s%s_%s_%s.png' %(calendar_year[0],month,initialisation_day[0],initialisation_day[len(obs_var)-2],hh)\n",
    "if savefig == 1:\n",
    "    plt.savefig('%s/%s' % (figdir_scatter, fig_name), format = form,bbox_extra_artists=(lgd,), bbox_inches='tight')\n",
    "    print('plot saved: %s/%s' %(figdir_scatter,fig_name))\n",
    "elif savefig == 0:\n",
    "    plt.show()\n",
    "plt.close()"
   ]
  },
  {
   "cell_type": "raw",
   "metadata": {
    "collapsed": true
   },
   "source": [
    "from scipy import stats\n",
    "\n",
    "np.asarray(obs_var)[:,:-1].shape\n",
    "\n",
    "np.asarray(obs_ret).shape\n",
    "\n",
    "obs_var = np.asarray(obs_var)[:,:-1]\n",
    "obs_ret = np.asarray(obs_ret)[:,::60]\n",
    "\n",
    "PP_obs_flat = np.ndarray.flatten((obs_var))\n",
    "PP_ret_flat = np.ndarray.flatten((obs_ret))\n",
    "\n",
    "x_obs = np.asarray(PP_obs_flat)\n",
    "y_obs = np.asarray(PP_ret_flat)\n",
    "mask_obs = ~np.isnan(x_obs) & ~np.isnan(y_obs)\n",
    "gradient_obs, intercept_obs, r_value, p_value, std_err = stats.linregress(x_obs,y_obs)\n",
    "\n",
    "fig = plt.figure(figsize =(10,10))\n",
    "ax = fig.add_subplot(111)\n",
    "\n",
    "    # fine tuning\n",
    "\n",
    "    # xaxis  Precipitation\n",
    "ax.set_xlim(-0.5,95)\n",
    "ax.set_xticks(np.arange(0,100,5))\n",
    "ax.set_xticklabels([0, '',10,'',20,'',30,'',40,'',50,'',60,'',70,'',80,'',90,''],fontsize = spagh.tick_fs)\n",
    "ax.set_xlabel('Precipitation amount [mm]', fontsize=spagh.label_fs)\n",
    "ax.set_ylim(-0.5,95)\n",
    "ax.set_yticks(np.arange(0,100,5))\n",
    "ax.set_yticklabels([0, '',10,'',20,'',30,'',40,'',50,'',60,'',70,'',80,'',90,''],fontsize = spagh.tick_fs)\n",
    "ax.set_ylabel('Precipitation amount [mm]', fontsize=spagh.label_fs)\n",
    "    \n",
    "ax.scatter(obs_var,obs_ret,\n",
    "                   color=spagh.memb_col,alpha=0.7, s=150)#, label='ensemble member')\n",
    "ax.plot(x_obs, intercept_obs + gradient_obs*x_obs,  \n",
    "                    color =spagh.memb_col,alpha=0.7,\n",
    "            label='y = {:.2f} + {:.2f}x'.format(intercept_obs, gradient_obs))\n",
    "\n",
    "lgd = ax.legend(loc='center left',bbox_to_anchor=(1, .5),\n",
    "            # fancybox=True, shadow=True, #ncol=3, \n",
    "              fontsize=spagh.label_fs-4)\n",
    "lgd.set_title( title= '20.12. - 26.12.')#, fontsize=spagh.label)\n",
    "lgd.get_title().set_fontsize(spagh.label_fs-4)\n",
    "plt.show()\n",
    "\n",
    "tt = np.arange(0,np.asarray(diff_obs).shape[0])\n",
    "\n",
    "ts = []\n",
    "for i in range(0, len(day_diff_obs)):\n",
    "    ts.append(np.arange(0,np.asarray(diff_obs).shape[0]))\n",
    "\n",
    "np.asarray(day_diff_obs).shape\n",
    "\n",
    "np.asarray(ts).shape\n",
    "\n",
    "day_diff_obs2 = np.asarray(day_diff_obs)\n",
    "day_diff_obs2[5,41:] = np.nan\n",
    "day_diff_obs2[6,17:] = np.nan\n",
    "\n",
    "ts2 = np.asarray(ts)\n",
    "ts2[5,41:] = np.nan\n",
    "ts2[6,17:] = np.nan\n",
    "\n",
    "diff_obs_flat = np.ndarray.flatten(np.asarray(day_diff_obs2))\n",
    "time_obs_flat = np.ndarray.flatten(np.asarray(ts2))\n",
    "\n",
    "x_obs = np.asarray(diff_obs_flat)\n",
    "y_obs = np.asarray(time_obs_flat)\n",
    "mask_obs = ~np.isnan(x_obs) & ~np.isnan(y_obs)\n",
    "gradient_obs, intercept_obs, r_value, p_value, std_err = stats.linregress(x_obs[mask_obs],y_obs[mask_obs])\n",
    "\n",
    "for i in range(0,len(day_diff_obs)):\n",
    "    plt.scatter(day_diff_obs[i], ts[i])\n",
    "plt.plot(x_obs, intercept_obs + gradient_obs*x_obs,  \n",
    "                    color =spagh.memb_col,alpha=0.7,\n",
    "            label='y = {:.2f} + {:.2f}x'.format(intercept_obs, gradient_obs))  \n",
    "lgd = plt.legend(loc='center left',bbox_to_anchor=(1, .5),\n",
    "            # fancybox=True, shadow=True, #ncol=3, \n",
    "              fontsize=spagh.label_fs-4)\n",
    "lgd.set_title( title= '20.12. - 26.12.')#, fontsize=spagh.label)\n",
    "lgd.get_title().set_fontsize(spagh.label_fs-4)\n",
    "\n",
    "plt.show()\n",
    "\n",
    "a2 = np.empty(shape=(np.asarray(day_diff_obs).shape))\n",
    "\n",
    "for i in range(0,len(day_diff_obs)):\n",
    "    if i == 5:\n",
    "            Xmax = 41\n",
    "    elif i == 6:\n",
    "            Xmax = 17\n",
    "    else:\n",
    "            Xmax = np.asarray(day_diff_obs).shape[1]\n",
    "    a2[i,:] = np.asarray(day_diff_obs)[i,:Xmax]\n",
    "\n",
    "#np.asarray(day_diff_obs)[5,41::] = np.nan"
   ]
  },
  {
   "cell_type": "code",
   "execution_count": null,
   "metadata": {
    "collapsed": true
   },
   "outputs": [],
   "source": []
  }
 ],
 "metadata": {
  "kernelspec": {
   "display_name": "Python 3",
   "language": "python",
   "name": "python3"
  },
  "language_info": {
   "codemirror_mode": {
    "name": "ipython",
    "version": 3
   },
   "file_extension": ".py",
   "mimetype": "text/x-python",
   "name": "python",
   "nbconvert_exporter": "python",
   "pygments_lexer": "ipython3",
   "version": "3.6.1"
  }
 },
 "nbformat": 4,
 "nbformat_minor": 2
}

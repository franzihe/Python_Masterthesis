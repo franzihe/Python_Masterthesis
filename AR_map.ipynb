{
 "cells": [
  {
   "cell_type": "markdown",
   "metadata": {},
   "source": [
    "# Atmospheric River Map\n",
    "\n",
    " http://vortex.plymouth.edu/~j_cordeira/ARPortal/EU/Archive/2016121006/html/D1_IVT_0.html#tab\n",
    " The integrated vapor transport defines an AR. The region should be continous and $\\ge$ 2000 km. The IVT $\\ge$ 250 kg m$^{-1}$ s$^{-1}$.\n",
    "\n",
    "http://journals.ametsoc.org/doi/abs/10.1175/MWR-D-13-00168.1\n",
    "$$IVT = \\frac{1}{g}\\int_{p_sfc}^{100\\,hPa} q \\bf{V} dp$$\n",
    "\n",
    "\n",
    " http://apps.ecmwf.int/codes/grib/param-db\n",
    " #### Parameters from ECMWF\n",
    "    - name = 'specific humidity',          shortName = 'q',     [kg kg^-1]\n",
    "    - name = 'U component of wind',        shortName = 'u',      [m s^-1]\n",
    "    - name = 'V component of wind',        shortName = 'v',      [m s^-1]\n",
    "\n"
   ]
  },
  {
   "cell_type": "code",
   "execution_count": 1,
   "metadata": {
    "collapsed": true
   },
   "outputs": [],
   "source": [
    "import pygrib\n",
    "import matplotlib.pyplot as plt\n",
    "import matplotlib.colors as colors\n",
    "from mpl_toolkits.basemap import Basemap\n",
    "from mpl_toolkits.basemap import shiftgrid\n",
    "import math\n",
    "from datetime import date\n",
    "import calendar\n",
    "import numpy as np\n",
    "%matplotlib inline"
   ]
  },
  {
   "cell_type": "markdown",
   "metadata": {},
   "source": [
    "### Plotting data on a map (Example Gallery) https://matplotlib.org/basemap/users/examples.html"
   ]
  },
  {
   "cell_type": "code",
   "execution_count": 2,
   "metadata": {},
   "outputs": [],
   "source": [
    "### Define colorbar colors\n",
    "champ = 255.\n",
    "# tot. precipitable water (grey scale)\n",
    "no1 = np.array([255,255,255])/champ\n",
    "no2 = np.array([250,255,0])/champ\n",
    "no3 = np.array([255,203,0])/champ\n",
    "no4 = np.array([255,121,0])/champ\n",
    "no5 = np.array([255,0,0])/champ\n",
    "no6 = np.array([148,0,97])/champ\n",
    "no7 = np.array([101,0,137])/champ\n",
    "\n",
    "no8 = np.array([130,102,0])/champ\n",
    "\n",
    "\n"
   ]
  },
  {
   "cell_type": "code",
   "execution_count": 3,
   "metadata": {
    "collapsed": true
   },
   "outputs": [],
   "source": [
    "# Plotting data on a map (Example Gallery) https://matplotlib.org/basemap/users/examples.html\n",
    "m = Basemap(projection='merc', \\\n",
    "            llcrnrlon=-80., urcrnrlon=50., \\\n",
    "            llcrnrlat=15.,urcrnrlat=75., \\\n",
    "            resolution='l')\n",
    "\n",
    "#m = Basemap(projection='merc', \\\n",
    " #           llcrnrlon=-180., urcrnrlon=180., \\\n",
    "  #          llcrnrlat=-75.,urcrnrlat=75., \\\n",
    "   #         resolution='l')"
   ]
  },
  {
   "cell_type": "code",
   "execution_count": 4,
   "metadata": {
    "collapsed": true
   },
   "outputs": [],
   "source": [
    "def opengrib(yyyy, mm, dd, tt, pm, path):\n",
    "    grib = '%s/%s/param_%s_%s%s%s_%s00.grib' % (path,pm,pm,yyyy,mm,dd,tt)\n",
    "    grbs = pygrib.open(grib)\n",
    "    return(grbs);"
   ]
  },
  {
   "cell_type": "code",
   "execution_count": 5,
   "metadata": {
    "collapsed": true
   },
   "outputs": [],
   "source": [
    "def selectgrb(grbs, sN, tOL, lv):\n",
    "    val = grbs.select()[0]\n",
    "    val = grbs.select(shortName = sN, typeOfLevel = tOL, level = lv)[0]\n",
    "    val = val.values\n",
    "    return(val);"
   ]
  },
  {
   "cell_type": "code",
   "execution_count": 13,
   "metadata": {
    "collapsed": true
   },
   "outputs": [],
   "source": [
    "def shiftgrb(grb,val):\n",
    "    lat,lon = grb.latlons()\n",
    "    lons = lon[0,:]\n",
    "    val,lons = shiftgrid(180., val, lons, start = False)\n",
    "    lats = lat[:,0]\n",
    "    \n",
    "    lons,lats = np.meshgrid(lons,lats)\n",
    "    plons,plats = m(lons,lats)\n",
    "    return(plons,plats,val,lats);"
   ]
  },
  {
   "cell_type": "code",
   "execution_count": 7,
   "metadata": {
    "collapsed": true
   },
   "outputs": [],
   "source": [
    "def totalwind(wind_u, wind_v):\n",
    "    V = np.sqrt(wind_u**2 + wind_v**2)\n",
    "    theta = (180./math.pi) * np.arctan2(-wind_v,-wind_u)    # meteorological wind direction, [deg]\n",
    "    return(V,theta);"
   ]
  },
  {
   "cell_type": "code",
   "execution_count": 8,
   "metadata": {
    "collapsed": true
   },
   "outputs": [],
   "source": [
    "# set the file name of your input GRIB file\n",
    "year = '2016'\n",
    "mon  = '12'\n",
    "day = '10'     # day_time\n",
    "time = '00'\n",
    "\n",
    "path = '../test_dataECMWF/SCA/pl'\n",
    "\n",
    "### specific humidity q\n",
    "parameter = 'q'\n",
    "grbsQ = opengrib(yyyy = year, mm = mon, dd = day, tt = time, pm = parameter, path = path)\n",
    "\n",
    "### Wind\n",
    "parameter = 'uv'\n",
    "grbsUV = opengrib(yyyy = year, mm = mon, dd = day, tt = time, pm = parameter, path = path)\n"
   ]
  },
  {
   "cell_type": "code",
   "execution_count": 9,
   "metadata": {
    "collapsed": true
   },
   "outputs": [],
   "source": [
    "### Dates for plotting\n",
    "yr = int(year)\n",
    "mo = int(mon)\n",
    "dy = int(day)\n",
    "my_date = date(yr,mo,dy)\n",
    "calday = calendar.day_name[my_date.weekday()]\n",
    "calmon = calendar.month_abbr[mo]"
   ]
  },
  {
   "cell_type": "code",
   "execution_count": 10,
   "metadata": {
    "collapsed": true
   },
   "outputs": [],
   "source": [
    "grbQ = grbsQ.select()[0]            # finds the first grib message, if grbs.select(name='Maximum temperature') \n",
    "                                    # then first with matching name\n",
    "grbUV = grbsUV.select()[0]           "
   ]
  },
  {
   "cell_type": "code",
   "execution_count": 11,
   "metadata": {
    "collapsed": true
   },
   "outputs": [],
   "source": [
    "### print an inventory of the file\n",
    "# specific humidity\n",
    "#grbsQ.seek(0)\n",
    "#for grbQ in grbsQ:\n",
    "#    print(grbQ)"
   ]
  },
  {
   "cell_type": "code",
   "execution_count": 15,
   "metadata": {},
   "outputs": [],
   "source": [
    "### get the values into python\n",
    "# find the first grib message with a matching name:\n",
    "\n",
    "## specific humidity\n",
    "# from Rutz et al. - 2014:\n",
    "# The integration is done using data at the surface, 50-hPa intervals from the surface to 500 hPa,\n",
    "\n",
    "# specific humidity q\n",
    "SH = dict()\n",
    "\n",
    "# Wind\n",
    "wind_u = dict()       # U component of wind\n",
    "wind_v = dict()       # V component of wind\n",
    "V = dict()            # total wind vector\n",
    "theta = dict()        # wind direction\n",
    "\n",
    "for i in range(750,1000,50):       # ECMWF has only levels 1000-850 in 50hPa\n",
    "    lv = i + 50\n",
    "    SH[lv] = selectgrb(grbsQ, 'q', 'isobaricInhPa', lv) \n",
    "    wind_u[lv] = selectgrb(grbsUV, 'u', 'isobaricInhPa', lv)\n",
    "    wind_v[lv] = selectgrb(grbsUV, 'v', 'isobaricInhPa', lv)\n",
    "    ### Latitudes, Longitudes and shiftgrid\n",
    "    # get the latitudes and longitudes of the grid\n",
    "    plonsSH, platsSH, SH[lv],latsSH = shiftgrb(grbQ,SH[lv])\n",
    "    plonsUV, platsUV, wind_u[lv],latsUV = shiftgrb(grbUV,wind_u[lv])\n",
    "    plonsUV, platsUV, wind_v[lv],latsUV = shiftgrb(grbUV,wind_v[lv])\n",
    "    V[lv], theta[lv] = totalwind(wind_u[lv],wind_v[lv])\n",
    "    \n",
    "for i in range(100,800,100):       # ECMWF has from 700 - 100 hPa only in 100hPa steps\n",
    "    lv = i\n",
    "    SH[lv] = selectgrb(grbsQ, 'q', 'isobaricInhPa', lv)\n",
    "    wind_u[lv] = selectgrb(grbsUV, 'u', 'isobaricInhPa', lv)\n",
    "    wind_v[lv] = selectgrb(grbsUV, 'v', 'isobaricInhPa', lv)\n",
    "    ### Latitudes, Longitudes and shiftgrid\n",
    "    # get the latitudes and longitudes of the grid\n",
    "    plonsSH, platsSH, SH[lv],latsSH = shiftgrb(grbQ,SH[lv])\n",
    "    plonsUV, platsUV, wind_u[lv],latsUV = shiftgrb(grbUV,wind_u[lv])\n",
    "    plonsUV, platsUV, wind_v[lv],latsUV = shiftgrb(grbUV,wind_v[lv])\n",
    "    V[lv], theta[lv] = totalwind(wind_u[lv],wind_v[lv])\n",
    "    "
   ]
  },
  {
   "cell_type": "code",
   "execution_count": 16,
   "metadata": {
    "scrolled": true
   },
   "outputs": [
    {
     "name": "stdout",
     "output_type": "stream",
     "text": [
      "2238.64622603\n"
     ]
    }
   ],
   "source": [
    "## calculate the IVT\n",
    "g = 9.81      # gravitational acceleration [m s^-2]\n",
    "\n",
    "\n",
    "IVT = (1/g)*((SH[100]*V[100])*10000 + \\\n",
    "            (SH[200]*V[200])*10000 + \\\n",
    "            (SH[300]*V[300])*10000 + \\\n",
    "            (SH[400]*V[400])*10000 + \\\n",
    "            (SH[500]*V[500])*10000 + \\\n",
    "            (SH[600]*V[600])*10000 + \\\n",
    "            (SH[700]*V[700])*10000 + \\\n",
    "            (SH[800]*V[800])*10000 + \\\n",
    "            (SH[850]*V[850])*5000 + \\\n",
    "            (SH[900]*V[900])*5000 + \\\n",
    "            (SH[950]*V[950])*5000 +\\\n",
    "            (SH[1000]*V[1000])*5000\n",
    "            )\n",
    "\n",
    "\n",
    "print(IVT.max())"
   ]
  },
  {
   "cell_type": "code",
   "execution_count": 17,
   "metadata": {},
   "outputs": [],
   "source": [
    "x_IVT = dict()\n",
    "y_IVT = dict()\n",
    "for i in range(750,1000,50):       # ECMWF has only levels 1000-850 in 50hPa\n",
    "    lv = i + 50\n",
    "    x_IVT[lv] = - abs(IVT)* np.sin((math.pi/180)*theta[lv])\n",
    "    y_IVT[lv] = - abs(IVT)* np.cos((math.pi/180)*theta[lv])\n",
    "\n",
    "    \n",
    "for i in range(100,800,100):       # ECMWF has from 700 - 100 hPa only in 100hPa steps\n",
    "    lv = i\n",
    "    x_IVT[lv] = - abs(IVT)* np.sin((math.pi/180)*theta[lv])\n",
    "    y_IVT[lv] = - abs(IVT)* np.cos((math.pi/180)*theta[lv])\n",
    "\n"
   ]
  },
  {
   "cell_type": "code",
   "execution_count": 18,
   "metadata": {},
   "outputs": [],
   "source": [
    "u_IVT = (x_IVT[100] +  \\\n",
    "        x_IVT[200] + \\\n",
    "        x_IVT[300] + \\\n",
    "        x_IVT[400] + \\\n",
    "        x_IVT[500] + \\\n",
    "        x_IVT[600] + \\\n",
    "        x_IVT[700] + \\\n",
    "        x_IVT[800] + \\\n",
    "        x_IVT[850] + \\\n",
    "        x_IVT[900] + \\\n",
    "        x_IVT[950] + \\\n",
    "        x_IVT[1000] \n",
    "        )\n",
    "\n",
    "v_IVT = (y_IVT[100] +  \\\n",
    "        y_IVT[200] + \\\n",
    "        y_IVT[300] + \\\n",
    "        y_IVT[400] + \\\n",
    "        y_IVT[500] + \\\n",
    "        y_IVT[600] + \\\n",
    "        y_IVT[700] + \\\n",
    "        y_IVT[800] + \\\n",
    "        y_IVT[850] + \\\n",
    "        y_IVT[900] + \\\n",
    "        y_IVT[950] + \\\n",
    "        y_IVT[1000] \n",
    "        )\n",
    "\n"
   ]
  },
  {
   "cell_type": "code",
   "execution_count": 20,
   "metadata": {},
   "outputs": [
    {
     "ename": "TypeError",
     "evalue": "transform_vector() missing 2 required positional arguments: 'nx' and 'ny'",
     "output_type": "error",
     "traceback": [
      "\u001b[0;31m---------------------------------------------------------------------------\u001b[0m",
      "\u001b[0;31mTypeError\u001b[0m                                 Traceback (most recent call last)",
      "\u001b[0;32m<ipython-input-20-3bb5ee8cb134>\u001b[0m in \u001b[0;36m<module>\u001b[0;34m()\u001b[0m\n\u001b[0;32m----> 1\u001b[0;31m \u001b[0muproj\u001b[0m\u001b[0;34m,\u001b[0m\u001b[0mvproj\u001b[0m\u001b[0;34m,\u001b[0m\u001b[0mxx\u001b[0m\u001b[0;34m,\u001b[0m\u001b[0myy\u001b[0m \u001b[0;34m=\u001b[0m \u001b[0mm\u001b[0m\u001b[0;34m.\u001b[0m\u001b[0mtransform_vector\u001b[0m\u001b[0;34m(\u001b[0m\u001b[0mu_IVT\u001b[0m\u001b[0;34m,\u001b[0m\u001b[0mv_IVT\u001b[0m\u001b[0;34m,\u001b[0m\u001b[0mplonsUV\u001b[0m\u001b[0;34m,\u001b[0m\u001b[0mlatsUV\u001b[0m\u001b[0;34m,\u001b[0m\u001b[0mreturnxy\u001b[0m\u001b[0;34m=\u001b[0m\u001b[0;32mTrue\u001b[0m\u001b[0;34m,\u001b[0m\u001b[0mmasked\u001b[0m\u001b[0;34m=\u001b[0m\u001b[0;32mTrue\u001b[0m\u001b[0;34m)\u001b[0m\u001b[0;34m\u001b[0m\u001b[0m\n\u001b[0m",
      "\u001b[0;31mTypeError\u001b[0m: transform_vector() missing 2 required positional arguments: 'nx' and 'ny'"
     ]
    }
   ],
   "source": [
    "#uproj,vproj,xx,yy = m.transform_vector(u_IVT,v_IVT,plonsUV,latsUV,returnxy=True,masked=True)"
   ]
  },
  {
   "cell_type": "code",
   "execution_count": null,
   "metadata": {},
   "outputs": [],
   "source": [
    "\n",
    "### PLOT FIGURE\n",
    "fig = plt.figure(figsize=(20,16))\n",
    "ax = fig.add_subplot(1,1,1)\n",
    "#\n",
    "### Draw Latitude Lines\n",
    "m.drawparallels(np.arange(-90.,120.,10.),labels=[1,0,0,0],fontsize=20,linewidth=0.2)\n",
    "#\n",
    "### Draw Longitude Lines\n",
    "m.drawmeridians(np.arange(-180.,180.,10.),labels=[0,0,0,1],fontsize=20,linewidth=0.2)\n",
    "#\n",
    "### Draw Map\n",
    "m.drawcoastlines()\n",
    "m.drawmapboundary()\n",
    "m.drawcountries()\n",
    "m.fillcontinents(color='grey',alpha=0.1)\n",
    "\n",
    "\n",
    "##\n",
    "#\n",
    "### Plot contour lines for IVT and fill\n",
    "IVTlevels = np.arange(0,1900,250)\n",
    "IVTmap = colors.ListedColormap([no1, no2, no3, no4, no5, no6, no7])\n",
    "norm = colors.BoundaryNorm(boundaries = IVTlevels, ncolors=IVTmap.N)\n",
    "cs = m.contourf(plonsUV, platsUV, IVT, IVTlevels, norm = norm, cmap=IVTmap)\n",
    "CS2 = plt.contour(cs, levels=cs.levels,\n",
    "                  linewidths=0.4,\n",
    "                  colors=[no8])\n",
    "### Plot direction and magnitude of IVT\n",
    "#Q = m.quiver(xx,yy,uroj,vproj)\n",
    "\n",
    "\n",
    "#\n",
    "### Add Colorbar\n",
    "cbaxes = fig.add_axes([0.14, 0.03, .75, .06] )   #[left, bottom, width, height] \n",
    "cbar = plt.colorbar(cs,orientation='horizontal',cax = cbaxes)#, cax = cbaxes)#, shrink=0.5)\n",
    "cbar.ax.set_xlabel('IVT [kg$\\,$m$^{-1}\\,$s$^{-1}$]',fontsize='22')\n",
    "cbar.ax.tick_params(labelsize=20) \n",
    "# Make a colorbar for the ContourSet returned by the contourf call.\n",
    "# Add the contour line levels to the colorbar\n",
    "cbar.add_lines(CS2)\n",
    "\n",
    "#cbar.ax.set_aspect(200)\n",
    "# Add arrows to show the IVT vectors\n",
    "\n",
    "\n",
    "#\n",
    "### Add Textbox\n",
    "ax.text(0.98,0.94, '%s, %s %s %s   %s$\\,$UTC' %(calday, day, calmon, year, time),     # x, y\n",
    "            verticalalignment = 'bottom',  horizontalalignment='right',\n",
    "            transform = ax.transAxes,\n",
    "            color ='blue', fontsize=26,\n",
    "            bbox={'facecolor':'white','alpha':1., 'pad':10})\n",
    "#\n",
    "### Add Title\n",
    "#fig.suptitle('Integrated Vapor Transport', fontsize=20, fontweight='bold') \n",
    "#ax.set_title('MSLP (solid contours every 4$\\,$hPa), \\n 250$\\,$hPa wind speed (m$\\,$s$^{-1}$, shaded according to the color bar), \\n 1000-500$\\,$hPa thickness (dashed contours every 6 dam), \\n total precipitable water (mm, shaded according to gray scale)',             fontsize=13)\n",
    "\n",
    "### Save\n",
    "#plt.savefig('../synoptic_figs/Atm_Riv/%s%s%s_%s.png' % (year, mon, day,time))\n",
    "## with header\n",
    "#plt.savefig('../synoptic_figs/Jet_Thick_SLP/%s%s%s_%s_header.png' % (year, mon, day,time))"
   ]
  },
  {
   "cell_type": "code",
   "execution_count": null,
   "metadata": {
    "collapsed": true
   },
   "outputs": [],
   "source": [
    "plt.close()"
   ]
  },
  {
   "cell_type": "code",
   "execution_count": null,
   "metadata": {
    "collapsed": true
   },
   "outputs": [],
   "source": []
  }
 ],
 "metadata": {
  "kernelspec": {
   "display_name": "Python 3",
   "language": "python",
   "name": "python3"
  },
  "language_info": {
   "codemirror_mode": {
    "name": "ipython",
    "version": 3
   },
   "file_extension": ".py",
   "mimetype": "text/x-python",
   "name": "python",
   "nbconvert_exporter": "python",
   "pygments_lexer": "ipython3",
   "version": "3.6.1"
  }
 },
 "nbformat": 4,
 "nbformat_minor": 2
}

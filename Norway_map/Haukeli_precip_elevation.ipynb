{
 "cells": [
  {
   "cell_type": "code",
   "execution_count": 133,
   "metadata": {
    "collapsed": true
   },
   "outputs": [],
   "source": [
    "import numpy as np\n",
    "import os, sys, datetime, string\n",
    "sys.path.append('/Volumes/SANDISK128/Documents/Thesis/Python/')\n",
    "sys.path.append('/Volumes/SANDISK128/Documents/Thesis/Python/MEPS/')\n",
    "\n",
    "import matplotlib.pyplot as plt\n",
    "from scipy import stats\n",
    "from mpl_toolkits.basemap import Basemap\n",
    "import netCDF4\n",
    "import matplotlib as mpl\n",
    "import save_fig as sF\n",
    "import createFolder as cF\n",
    "from calc_station_properties import find_station_yx"
   ]
  },
  {
   "cell_type": "code",
   "execution_count": 134,
   "metadata": {
    "collapsed": true
   },
   "outputs": [],
   "source": [
    "import matplotlib.colors as colors\n",
    "\n",
    "import gdal\n",
    "from mpl_toolkits.mplot3d import Axes3D\n",
    "from matplotlib.cbook import get_sample_data\n",
    "import pandas as pd\n",
    "from matplotlib.colors import LightSource\n",
    "from pyproj import Proj, transform"
   ]
  },
  {
   "cell_type": "code",
   "execution_count": 135,
   "metadata": {
    "collapsed": true
   },
   "outputs": [],
   "source": [
    "savefig = 0   # 1 = yes, 0 = no\n",
    "fig_dir = '../../Figures/MEPS/area_precip'\n",
    "cF.createFolder(fig_dir)\n",
    "form = 'png'"
   ]
  },
  {
   "cell_type": "code",
   "execution_count": 136,
   "metadata": {
    "collapsed": true
   },
   "outputs": [],
   "source": [
    "def Lambert_map(lllon, lllat, urlon, urlat, lat0, lon0, res='l', fill=False, zoom=False):\n",
    "    \"\"\"lllon - lon lower left corner ...\n",
    "    lat0 - latitude standard parallel, should be somewhere in the center of the domain\n",
    "    lon0 - the parallel longitude\n",
    "    lllon - lower left longitude ...\n",
    "    http://matplotlib.org/basemap/api/basemap_api.html\"\"\"\n",
    "    rsphere=(6378137.00,6356752.3142)\n",
    "    map = Basemap(llcrnrlon=lllon, llcrnrlat=lllat, urcrnrlon=urlon, urcrnrlat=urlat, rsphere=rsphere,\n",
    "            resolution=res,area_thresh=1000.,projection='lcc', lat_0=lat0,lon_0=lon0)\n",
    "#    map = Basemap(llcrnrlon=lllon, llcrnrlat=lllat, urcrnrlon=urlon, urcrnrlat=urlat, rsphere=rsphere,\n",
    " #           resolution=res,area_thresh=1000.,projection='lcc', lat_1=lllon,lon_0=lon0)\n",
    "    # Draw the latitudes and the longitudes\n",
    "#    parallels = np.arange(0.,90,5.)\n",
    " #   map.drawparallels(parallels,labels=[True,False,False,False],fontsize=16)    \n",
    "  #  meridians = np.arange(10.,361.,10.)\n",
    "   # map.drawmeridians(meridians,labels=[False,False,False,True],fontsize=16)\n",
    "    if zoom == False:\n",
    "        map.drawmeridians(np.arange(0,90,10),labels=[0,0,0,1],fontsize=16)\n",
    "        map.drawparallels(np.arange(10,361,4),labels=[1,0,0,0],fontsize=16)\n",
    "    else:\n",
    "#        map.drawmeridians(np.arange(0,90,3),labels=[0,0,0,1],fontsize=16)\n",
    " #       map.drawparallels(np.arange(0,361,2),labels=[1,0,0,0],fontsize=16)\n",
    "        map.drawmeridians(np.arange(0,90,0.1),labels=[0,0,0,1],fontsize=16)\n",
    "        map.drawparallels(np.arange(0,361,0.05),labels=[1,0,0,0],fontsize=16)\n",
    "\n",
    "    # Draw the coastline\n",
    "    map.drawcoastlines()#color='0.5')\n",
    "    \n",
    "    \n",
    "\n",
    "    if fill:\n",
    "        map.drawlsmask(#land_color='0.8', \n",
    "            ocean_color='gainsboro')\n",
    "    \n",
    "#    if zoom == False:\n",
    "    \n",
    "    ### plot MEPS area\n",
    " #       for i in range(0,lato.shape[0],12):\n",
    "  #          xs, ys = map(lono[i], lato[i])\n",
    "   #         map.plot(xs,ys, color = 'orange', marker = 'o', markersize = 10, linestyle = '-', linewidth = 10)\n",
    "    #    for i in range(0,lato2.shape[0],12):\n",
    "     #       xs2, ys2 = map(lono2[i], lato2[i])\n",
    "      #      map.plot(xs2,ys2, color = 'orange', marker = 'o', markersize = 10, linestyle = '-', linewidth = 10)\n",
    "\n",
    "       # xs, ys = map(lono[739], lato[739])\n",
    "        #map.plot(xs,ys, color = 'orange', marker ='o', markersize = 10, linestyle = '-', linewidth = 10, label = 'MEPS domain')\n",
    "        #lgd = plt.legend(loc='lower left',fontsize=18)\n",
    "\n",
    "    #map.drawmapboundary(fill_color='gainsboro')\n",
    "        \n",
    "    return map    \n"
   ]
  },
  {
   "cell_type": "code",
   "execution_count": 137,
   "metadata": {
    "collapsed": true
   },
   "outputs": [],
   "source": [
    "def PlotContours(Lon, Lat, psurf, map, nrlevels=10, leveldist=None,levels=None, numbers=True, color= 'k'):\n",
    "    \"\"\" contours for example the pressure\n",
    "    nrlevels - gives the number of displayed levels\n",
    "    leveldist - gives distance between levels, if specified the nlevels is ignored\n",
    "    levels - can be an array that specifies the levels to display, if specified nrlevels and leveldist are ignored\n",
    "    numbers - True if the contours are labeled\n",
    "    color - color of the contours (None is s color map)\"\"\"\n",
    "    if levels is not None:\n",
    "        cs= map.contour(Lon, Lat, psurf, levels, linewidths= 1. , colors= color)\n",
    "    elif leveldist is not None:\n",
    "        levels= np.arange(np.round(np.min(psurf)- np.min(psurf)%leveldist), np.round(np.max(psurf)+ leveldist), leveldist)\n",
    "        cs= map.contour(Lon, Lat, psurf, levels, linewidths= 1. , colors= color)        \n",
    "    else:\n",
    "        cs= map.contour(Lon, Lat, psurf, nrlevels, linewidths= 1. , colors= color)#, colors= 6*['b']+ 6*['r'],)\n",
    "    if numbers == True: plt.clabel(cs, fontsize=10, inline=1, fmt='%1.0f', color= 'black')\n",
    "    #plt.tight_layout()"
   ]
  },
  {
   "cell_type": "code",
   "execution_count": 138,
   "metadata": {
    "collapsed": true
   },
   "outputs": [],
   "source": [
    "def PlotColorMap4(Lon, Lat, data, map, maxlevel= None, symetric=True, bounds=None, label='', color= 'RdBu', boxnr= 21):\n",
    "    \"\"\" plot a color map, e.g. vertical velocity\n",
    "    if symetric == True it is symetric around 0 and the maxlevel is calculated automatically\n",
    "    best version of PlotColorMap\"\"\"\n",
    "    \n",
    "    if color== 'RdBu': colors= [(plt.cm.RdBu_r(h)) for h in range(256)]\n",
    "    elif color== 'seismic': colors= [(plt.cm.seismic(h)) for h in range(256)]\n",
    "    elif color== 'blue': colors= [(plt.cm.Blues(h)) for h in range(256)]\n",
    "    elif color== 'inverse_blue': colors= [(plt.cm.Blues(h)) for h in range(255, 0, -1)]\n",
    "\n",
    "    elif color == 'red': colors= ['azure']+[(plt.cm.Reds(h)) for h in range(256)]\n",
    "    else: print('wrong color')\n",
    "#    if bounds != None: boxnr = len(bounds)\n",
    "    new_map = plt.matplotlib.colors.LinearSegmentedColormap.from_list('new_map', colors) #, N=boxnr)\n",
    "\n",
    "    if bounds is None:\n",
    "        if maxlevel is not None: minlevel= maxlevel\n",
    "        if maxlevel is None and bounds is None:\n",
    "            if symetric is True:\n",
    "                maxlevel, minlevel= np.max(np.abs(data)), -np.max(np.abs(data))\n",
    "            else:\n",
    "                maxlevel, minlevel= np.max(data), np.min(data)       \n",
    "        \n",
    "        bounds= np.round(np.linspace(minlevel, maxlevel, boxnr+1), int(np.log10(85/maxlevel)))\n",
    "#        bounds= np.round(list(np.linspace(-maxlevel, 0, boxnr//2+1))+list(np.linspace(0, maxlevel, boxnr//2+1)), int(np.log10(85/maxlevel)))        \n",
    "#        print(maxlevel)\n",
    "\n",
    "    Lon= 0.5* (Lon[1:, 1:]+ Lon[:-1, :-1])\n",
    "    Lat= 0.5* (Lat[1:, 1:]+ Lat[:-1, :-1])\n",
    "        \n",
    "    norm= mpl.colors.BoundaryNorm(bounds, new_map.N)\n",
    "    cs= map.pcolormesh(Lon, Lat, data[1:, 1:], norm= norm, cmap=new_map, alpha= 1.)\n",
    "    cb = map.colorbar(cs, boundaries= bounds, norm= norm, location='right',pad='3%',extend='max')\n",
    "        \n",
    "    cb.set_label(label, size=18)    \n",
    "    cb.ax.tick_params(labelsize=16)\n"
   ]
  },
  {
   "cell_type": "code",
   "execution_count": 139,
   "metadata": {
    "collapsed": true
   },
   "outputs": [],
   "source": [
    "champ = 255.\n",
    "\n",
    "no22 = np.array([80,80,81])/champ"
   ]
  },
  {
   "cell_type": "code",
   "execution_count": 140,
   "metadata": {
    "collapsed": true
   },
   "outputs": [],
   "source": [
    "time = 9\n",
    "year = 2016\n",
    "month = 12\n",
    "date = 26"
   ]
  },
  {
   "cell_type": "code",
   "execution_count": 141,
   "metadata": {},
   "outputs": [],
   "source": [
    "#url = ('http://thredds.met.no/thredds/dodsC/meps25epsarchive/2016/12/24/meps_mbr0_pp_2_5km_20161224T12Z.nc')\n",
    "url = ('http://thredds.met.no/thredds/dodsC/meps25epsarchive/%s/%s/%s/meps_mbr0_pp_2_5km_%s%s%sT00Z.nc' \n",
    "       %(year,month,date,year,month,date))\n",
    "#url = ('http://thredds.met.no/thredds/dodsC/meps25epsarchive/2016/12/21/meps_mbr0_pp_2_5km_20161221T00Z.nc')\n",
    "dataset = netCDF4.Dataset(url)\n",
    "\n",
    "land= dataset.variables['land_area_fraction'][:]\n",
    "lonpp= dataset.variables['longitude'][:]\n",
    "latpp= dataset.variables['latitude'][:]\n",
    "\n",
    "x_wind = dataset.variables['x_wind_10m'][time,:,:]\n",
    "y_wind = dataset.variables['y_wind_10m'][time,:,:]\n",
    "\n",
    "#T_2m= dataset.variables['air_temperature_2m'][:]\n",
    "alti= dataset.variables['altitude'][:]\n",
    "\n",
    "precipitation_amount_acc = dataset.variables['precipitation_amount_acc'][time,0,:,:]\n",
    "precipitation_amount = dataset.variables['precipitation_amount'][time,:,:]\n",
    "\n",
    "\n",
    "#dataset.close()"
   ]
  },
  {
   "cell_type": "code",
   "execution_count": 142,
   "metadata": {},
   "outputs": [
    {
     "data": {
      "text/plain": [
       "<class 'netCDF4._netCDF4.Dataset'>\n",
       "root group (NETCDF3_CLASSIC data model, file format DAP2):\n",
       "    Conventions: CF-1.0\n",
       "    institution: Norwegian Meteorological Institute, met.no\n",
       "    creator_url: met.no\n",
       "    summary: MEPS (MetCoOp-Ensemble Prediction System) is a convection-permitting atmosphere ensemble model covering Scandinavia and the Nordic Seas. It has horizontal resolution of 2.5 km, has 65 vertical levels and 10 members. MEPS is ran four times daily (00,06,12,18) with three-hourly cycling for data assimilation. Member 0 and 1 are ran up to 66 hours, the rest up to 48 hours. Boundary data is from ECMWF, and initial perturbations are based on the SLAF method. Model code based on HARMONIE cy40h1.1\n",
       "    title: unknown\n",
       "    geospatial_lat_min: 51.0\n",
       "    geospatial_lat_max: 88.0\n",
       "    geospatial_lon_min: -20.0\n",
       "    geospatial_lon_max: 80.0\n",
       "    references: unknown\n",
       "    license: http://met.no/sb5-met.no/Forskning/Informasjonsteknologi/Tilgang_til_data/\n",
       "    comment: none\n",
       "    history: Tue Oct 18 13:24:43 2016: ncatted -O -a standard_name,altitude,o,c,surface_altitude altitude.nc\n",
       "Mon Aug 29 09:23:11 2016: ncatted -O -a standard_name,altitude,a,c,surface_altitude altitude.nc\n",
       "    min_time: 2016-12-26 00:00 UTC\n",
       "    max_time: 2016-12-28 18:00 UTC\n",
       "    NCO: 4.0.8\n",
       "    source: meps\n",
       "    DODS_EXTRA.Unlimited_Dimension: time\n",
       "    dimensions(sizes): time(67), height0(1), height1(1), height_above_msl(1), p0(1), x(719), y(929)\n",
       "    variables(dimensions): float64 \u001b[4mtime\u001b[0m(time), float64 \u001b[4mforecast_reference_time\u001b[0m(), float32 \u001b[4mheight_above_msl\u001b[0m(height_above_msl), float32 \u001b[4mheight0\u001b[0m(height0), float32 \u001b[4mheight1\u001b[0m(height1), int32 \u001b[4mprojection_lambert\u001b[0m(), float32 \u001b[4mx\u001b[0m(x), float32 \u001b[4my\u001b[0m(y), float32 \u001b[4mp0\u001b[0m(p0), float64 \u001b[4mlongitude\u001b[0m(y,x), float64 \u001b[4mlatitude\u001b[0m(y,x), float32 \u001b[4msurface_air_pressure\u001b[0m(time,height0,y,x), float32 \u001b[4mrelative_humidity_2m\u001b[0m(time,height1,y,x), float32 \u001b[4mair_pressure_at_sea_level\u001b[0m(time,height_above_msl,y,x), float32 \u001b[4mprecipitation_amount_acc\u001b[0m(time,height0,y,x), float32 \u001b[4mfog_area_fraction\u001b[0m(time,height0,y,x), float32 \u001b[4mland_area_fraction\u001b[0m(y,x), float32 \u001b[4mprecipitation_amount\u001b[0m(time,y,x), float32 \u001b[4mprecipitation_amount_high_estimate\u001b[0m(time,y,x), float32 \u001b[4mprecipitation_amount_low_estimate\u001b[0m(time,y,x), float32 \u001b[4mprecipitation_amount_middle_estimate\u001b[0m(time,y,x), float32 \u001b[4mprecipitation_amount_prob_low\u001b[0m(time,y,x), float32 \u001b[4mcloud_area_fraction\u001b[0m(time,y,x), float32 \u001b[4mhigh_type_cloud_area_fraction\u001b[0m(time,y,x), float32 \u001b[4mlow_type_cloud_area_fraction\u001b[0m(time,y,x), float32 \u001b[4mmedium_type_cloud_area_fraction\u001b[0m(time,y,x), float32 \u001b[4mhelicopter_triggered_index\u001b[0m(time,y,x), float32 \u001b[4mthunderstorm_index_combined\u001b[0m(time,y,x), float32 \u001b[4mwind_speed_of_gust\u001b[0m(time,y,x), float32 \u001b[4mx_wind_10m\u001b[0m(time,y,x), float32 \u001b[4my_wind_10m\u001b[0m(time,y,x), float32 \u001b[4mair_temperature_2m\u001b[0m(time,height1,y,x), float32 \u001b[4maltitude\u001b[0m(y,x)\n",
       "    groups: "
      ]
     },
     "execution_count": 142,
     "metadata": {},
     "output_type": "execute_result"
    }
   ],
   "source": [
    "dataset"
   ]
  },
  {
   "cell_type": "code",
   "execution_count": 143,
   "metadata": {
    "collapsed": true
   },
   "outputs": [],
   "source": [
    "grid_x, grid_y = find_station_yx(latpp, lonpp, 59+48.73/60, 7+12.87/60)"
   ]
  },
  {
   "cell_type": "code",
   "execution_count": 144,
   "metadata": {},
   "outputs": [
    {
     "data": {
      "text/plain": [
       "1041.2291"
      ]
     },
     "execution_count": 144,
     "metadata": {},
     "output_type": "execute_result"
    }
   ],
   "source": [
    "alti[grid_y[0],grid_x[0]]"
   ]
  },
  {
   "cell_type": "code",
   "execution_count": 145,
   "metadata": {},
   "outputs": [
    {
     "data": {
      "text/plain": [
       "7.2159269574384544"
      ]
     },
     "execution_count": 145,
     "metadata": {},
     "output_type": "execute_result"
    }
   ],
   "source": [
    "lonpp[grid_y[0],grid_x[0]]"
   ]
  },
  {
   "cell_type": "code",
   "execution_count": 146,
   "metadata": {},
   "outputs": [
    {
     "data": {
      "text/plain": [
       "59.80292042731746"
      ]
     },
     "execution_count": 146,
     "metadata": {},
     "output_type": "execute_result"
    }
   ],
   "source": [
    "latpp[grid_y[0],grid_x[0]]"
   ]
  },
  {
   "cell_type": "code",
   "execution_count": 147,
   "metadata": {},
   "outputs": [
    {
     "name": "stdout",
     "output_type": "stream",
     "text": [
      "saved: ../../Figures/MEPS/area_precip/20161226_9.png\n"
     ]
    }
   ],
   "source": [
    "#### Station map\n",
    "#plt.figure(1)\n",
    "fig = plt.figure(figsize=(9,8))\n",
    "plt.clf()\n",
    "map= Lambert_map(lllon=7.05, lllat=59.73, urlon=7.35, urlat=59.91, lat0= 63.5, lon0= 15, res='i', fill=False,zoom=True)\n",
    "\n",
    "Lonpp,Latpp = map(lonpp,latpp)\n",
    "\n",
    " \n",
    "#levels = [850, 900,950,1000,1050,1100,1150, 1200, 1250, 1300,1350,1400]\n",
    "levels = np.arange(700,1800,50)\n",
    "PlotContours(Lonpp, Latpp, alti, map, leveldist=None,levels=levels, numbers=True, color= 'gray')\n",
    "\n",
    "#cmap = colors.ListedColormap([no0, no1, no2, no3, no4, no5, no6, no7, no8, no9, no10, \\\n",
    " #                             no11, no12, no13, no14, no15, no16, no17, no18, no19, no20, \\\n",
    "  #                           no21])\n",
    "#norm = colors.BoundaryNorm(boundaries = levels, ncolors=cmap.N)\n",
    "\n",
    "#boxnr = 9\n",
    "boxnr = 20\n",
    "colors = [(plt.cm.Blues(h)) for h in range(256)]\n",
    "new_map = plt.matplotlib.colors.LinearSegmentedColormap.from_list('new_map', colors,  N=boxnr)\n",
    "#norm = colors.BoundaryNorm(boundaries = levels2, ncolors=cmap.N)\n",
    "cs = map.pcolormesh(Lonpp, Latpp, precipitation_amount, cmap=new_map,alpha=1.,\n",
    "                   vmin = 0., vmax =10)\n",
    "cb = plt.colorbar(cs,# boundaries= levels, \n",
    "                 # location='right',\n",
    "                  extend='max')\n",
    "cb.set_ticks(np.arange(boxnr+1))\n",
    "    \n",
    "\n",
    "\n",
    "\n",
    "cb.set_label('Precipitation amount [mm]', size=18)    \n",
    "cb.ax.tick_params(labelsize=16)\n",
    "plt.gca().set_aspect('equal', adjustable='box')\n",
    "\n",
    "### plot wind barbs\n",
    "map.barbs(Lonpp,Latpp,x_wind,y_wind,barbcolor = [no22], pivot = 'middle')\n",
    "        \n",
    "\n",
    "\n",
    "#cb.ax.set_xticklabels([700, '', '', '', 900,'','','',1100,'','','',1300,'','','',1500,\n",
    " #                       '','','',1700,''])  # horizontal colorbar\n",
    "\n",
    "namestat = ['Haukeliseter']#,'Model']#, 'lower left', 'upper right']#,'grid point']\n",
    "lonstat = [7+12.87/60]#,lonpp[grid_y[0],grid_x[0]]]#,7.05, 7.4]#,7.2]\n",
    "latstat= [59+48.73/60]#,latpp[grid_y[0],grid_x[0]]]#,59.65, 59.9]#,59.8]\n",
    "xpt, ypt= map(lonstat, latstat)\n",
    "map.plot(xpt,ypt,color='k', marker='X',markersize=12)\n",
    "\n",
    "namestat2 = ['Model']#, 'lower left', 'upper right']#,'grid point']\n",
    "lonstat2 = [lonpp[grid_y[0],grid_x[0]]]#,7.05, 7.4]#,7.2]\n",
    "latstat2= [latpp[grid_y[0],grid_x[0]]]#,59.65, 59.9]#,59.8]\n",
    "\n",
    "xpt2, ypt2= map(lonstat2, latstat2)\n",
    "map.plot(xpt2,ypt2,'ko')\n",
    "\n",
    "for i in range(len(namestat)):\n",
    "    plt.text(xpt2[i], ypt2[i], namestat2[i], fontsize=18,fontweight='bold', ha='center',va='bottom',color='black')\n",
    "\n",
    "fig_name = '%s%s%s_%s.png' %(year,month,date,time)\n",
    "\n",
    "if savefig == 1:\n",
    "    sF.save_figure_portrait(fig_dir,fig_name,form)\n",
    "    print('saved: %s/%s' %(fig_dir,fig_name))\n",
    "else: \n",
    "    plt.show()\n",
    "plt.close()"
   ]
  },
  {
   "cell_type": "code",
   "execution_count": null,
   "metadata": {
    "collapsed": true
   },
   "outputs": [],
   "source": []
  }
 ],
 "metadata": {
  "kernelspec": {
   "display_name": "Python 3",
   "language": "python",
   "name": "python3"
  },
  "language_info": {
   "codemirror_mode": {
    "name": "ipython",
    "version": 3
   },
   "file_extension": ".py",
   "mimetype": "text/x-python",
   "name": "python",
   "nbconvert_exporter": "python",
   "pygments_lexer": "ipython3",
   "version": "3.6.1"
  }
 },
 "nbformat": 4,
 "nbformat_minor": 2
}

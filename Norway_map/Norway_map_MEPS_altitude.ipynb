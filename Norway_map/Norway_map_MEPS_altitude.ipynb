{
 "cells": [
  {
   "cell_type": "code",
   "execution_count": 14,
   "metadata": {
    "collapsed": true
   },
   "outputs": [],
   "source": [
    "import numpy as np\n",
    "import os, sys, datetime, string\n",
    "sys.path.append('/Volumes/SANDISK128/Documents/Thesis/Python/')\n",
    "sys.path.append('/Volumes/SANDISK128/Documents/Thesis/Python/MEPS/')\n",
    "\n",
    "import matplotlib.pyplot as plt\n",
    "from scipy import stats\n",
    "from mpl_toolkits.basemap import Basemap\n",
    "import netCDF4\n",
    "import matplotlib as mpl\n",
    "import save_fig as sF\n",
    "import createFolder as cF\n",
    "from calc_station_properties import find_station_yx"
   ]
  },
  {
   "cell_type": "code",
   "execution_count": 15,
   "metadata": {
    "collapsed": true
   },
   "outputs": [],
   "source": [
    "import matplotlib.colors as colors\n",
    "\n",
    "import gdal\n",
    "from mpl_toolkits.mplot3d import Axes3D\n",
    "from matplotlib.cbook import get_sample_data\n",
    "import pandas as pd\n",
    "from matplotlib.colors import LightSource\n",
    "from pyproj import Proj, transform"
   ]
  },
  {
   "cell_type": "code",
   "execution_count": 16,
   "metadata": {
    "collapsed": true
   },
   "outputs": [],
   "source": [
    "savefig = 1   # 1 = yes, 0 = no\n",
    "fig_dir = '../../Figures/Norway_map'\n",
    "cF.createFolder(fig_dir)\n",
    "form = 'png'"
   ]
  },
  {
   "cell_type": "code",
   "execution_count": 17,
   "metadata": {
    "collapsed": true
   },
   "outputs": [],
   "source": [
    "def Lambert_map(lllon, lllat, urlon, urlat, lat0, lon0, res='l', fill=False, zoom=False):\n",
    "    \"\"\"lllon - lon lower left corner ...\n",
    "    lat0 - latitude standard parallel, should be somewhere in the center of the domain\n",
    "    lon0 - the parallel longitude\n",
    "    lllon - lower left longitude ...\n",
    "    http://matplotlib.org/basemap/api/basemap_api.html\"\"\"\n",
    "    rsphere=(6378137.00,6356752.3142)\n",
    "    map = Basemap(llcrnrlon=lllon, llcrnrlat=lllat, urcrnrlon=urlon, urcrnrlat=urlat, rsphere=rsphere,\n",
    "            resolution=res,area_thresh=1000.,projection='lcc', lat_0=lat0,lon_0=lon0)\n",
    "#    map = Basemap(llcrnrlon=lllon, llcrnrlat=lllat, urcrnrlon=urlon, urcrnrlat=urlat, rsphere=rsphere,\n",
    " #           resolution=res,area_thresh=1000.,projection='lcc', lat_1=lllon,lon_0=lon0)\n",
    "    # Draw the latitudes and the longitudes\n",
    "#    parallels = np.arange(0.,90,5.)\n",
    " #   map.drawparallels(parallels,labels=[True,False,False,False],fontsize=16)    \n",
    "  #  meridians = np.arange(10.,361.,10.)\n",
    "   # map.drawmeridians(meridians,labels=[False,False,False,True],fontsize=16)\n",
    "    if zoom == False:\n",
    "        map.drawmeridians(np.arange(0,90,10),labels=[0,0,0,1],fontsize=16)\n",
    "        map.drawparallels(np.arange(10,361,4),labels=[1,0,0,0],fontsize=16)\n",
    "    else:\n",
    "#        map.drawmeridians(np.arange(0,90,3),labels=[0,0,0,1],fontsize=16)\n",
    " #       map.drawparallels(np.arange(0,361,2),labels=[1,0,0,0],fontsize=16)\n",
    "        map.drawmeridians(np.arange(0,90,0.1),labels=[0,0,0,1],fontsize=16)\n",
    "        map.drawparallels(np.arange(0,361,0.05),labels=[1,0,0,0],fontsize=16)\n",
    "\n",
    "    # Draw the coastline\n",
    "    map.drawcoastlines()#color='0.5')\n",
    "    \n",
    "    \n",
    "\n",
    "    if fill:\n",
    "        map.drawlsmask(#land_color='0.8', \n",
    "            ocean_color='gainsboro')\n",
    "    \n",
    "#    if zoom == False:\n",
    "    \n",
    "    ### plot MEPS area\n",
    " #       for i in range(0,lato.shape[0],12):\n",
    "  #          xs, ys = map(lono[i], lato[i])\n",
    "   #         map.plot(xs,ys, color = 'orange', marker = 'o', markersize = 10, linestyle = '-', linewidth = 10)\n",
    "    #    for i in range(0,lato2.shape[0],12):\n",
    "     #       xs2, ys2 = map(lono2[i], lato2[i])\n",
    "      #      map.plot(xs2,ys2, color = 'orange', marker = 'o', markersize = 10, linestyle = '-', linewidth = 10)\n",
    "\n",
    "       # xs, ys = map(lono[739], lato[739])\n",
    "        #map.plot(xs,ys, color = 'orange', marker ='o', markersize = 10, linestyle = '-', linewidth = 10, label = 'MEPS domain')\n",
    "        #lgd = plt.legend(loc='lower left',fontsize=18)\n",
    "\n",
    "    #map.drawmapboundary(fill_color='gainsboro')\n",
    "        \n",
    "    return map    \n"
   ]
  },
  {
   "cell_type": "code",
   "execution_count": 18,
   "metadata": {
    "collapsed": true
   },
   "outputs": [],
   "source": [
    "def PlotContours(Lon, Lat, psurf, map, nrlevels=10, leveldist=None,levels=None, numbers=True, color= 'k'):\n",
    "    \"\"\" contours for example the pressure\n",
    "    nrlevels - gives the number of displayed levels\n",
    "    leveldist - gives distance between levels, if specified the nlevels is ignored\n",
    "    levels - can be an array that specifies the levels to display, if specified nrlevels and leveldist are ignored\n",
    "    numbers - True if the contours are labeled\n",
    "    color - color of the contours (None is s color map)\"\"\"\n",
    "    if levels is not None:\n",
    "        cs= map.contour(Lon, Lat, psurf, levels, linewidths= 1. , colors= color)\n",
    "    elif leveldist is not None:\n",
    "        levels= np.arange(np.round(np.min(psurf)- np.min(psurf)%leveldist), np.round(np.max(psurf)+ leveldist), leveldist)\n",
    "        cs= map.contour(Lon, Lat, psurf, levels, linewidths= 1. , colors= color)        \n",
    "    else:\n",
    "        cs= map.contour(Lon, Lat, psurf, nrlevels, linewidths= 1. , colors= color)#, colors= 6*['b']+ 6*['r'],)\n",
    "    if numbers == True: plt.clabel(cs, fontsize=10, inline=1, fmt='%1.0f', color= 'black')\n",
    "    #plt.tight_layout()"
   ]
  },
  {
   "cell_type": "code",
   "execution_count": 19,
   "metadata": {
    "collapsed": true
   },
   "outputs": [],
   "source": [
    "def PlotColorMap4(Lon, Lat, data, map, maxlevel= None, symetric=True, bounds=None, label='', color= 'RdBu', boxnr= 21):\n",
    "    \"\"\" plot a color map, e.g. vertical velocity\n",
    "    if symetric == True it is symetric around 0 and the maxlevel is calculated automatically\n",
    "    best version of PlotColorMap\"\"\"\n",
    "    \n",
    "    if color== 'RdBu': colors= [(plt.cm.RdBu_r(h)) for h in range(256)]\n",
    "    elif color== 'seismic': colors= [(plt.cm.seismic(h)) for h in range(256)]\n",
    "    elif color== 'blue': colors= [(plt.cm.Blues(h)) for h in range(256)]\n",
    "    elif color== 'inverse_blue': colors= [(plt.cm.Blues(h)) for h in range(255, 0, -1)]\n",
    "\n",
    "    elif color == 'red': colors= ['azure']+[(plt.cm.Reds(h)) for h in range(256)]\n",
    "    else: print('wrong color')\n",
    "#    if bounds != None: boxnr = len(bounds)\n",
    "    new_map = plt.matplotlib.colors.LinearSegmentedColormap.from_list('new_map', colors) #, N=boxnr)\n",
    "\n",
    "    if bounds is None:\n",
    "        if maxlevel is not None: minlevel= maxlevel\n",
    "        if maxlevel is None and bounds is None:\n",
    "            if symetric is True:\n",
    "                maxlevel, minlevel= np.max(np.abs(data)), -np.max(np.abs(data))\n",
    "            else:\n",
    "                maxlevel, minlevel= np.max(data), np.min(data)       \n",
    "        \n",
    "        bounds= np.round(np.linspace(minlevel, maxlevel, boxnr+1), int(np.log10(85/maxlevel)))\n",
    "#        bounds= np.round(list(np.linspace(-maxlevel, 0, boxnr//2+1))+list(np.linspace(0, maxlevel, boxnr//2+1)), int(np.log10(85/maxlevel)))        \n",
    "#        print(maxlevel)\n",
    "\n",
    "    Lon= 0.5* (Lon[1:, 1:]+ Lon[:-1, :-1])\n",
    "    Lat= 0.5* (Lat[1:, 1:]+ Lat[:-1, :-1])\n",
    "        \n",
    "    norm= mpl.colors.BoundaryNorm(bounds, new_map.N)\n",
    "    cs= map.pcolormesh(Lon, Lat, data[1:, 1:], norm= norm, cmap=new_map, alpha= 1.)\n",
    "    cb = map.colorbar(cs, boundaries= bounds, norm= norm, location='right',pad='3%',extend='max')\n",
    "        \n",
    "    cb.set_label(label, size=18)    \n",
    "    cb.ax.tick_params(labelsize=16)\n"
   ]
  },
  {
   "cell_type": "code",
   "execution_count": 20,
   "metadata": {
    "collapsed": true
   },
   "outputs": [],
   "source": [
    "#### Plot kartverket elevation ###\n",
    "champ = 255.\n",
    "no0 = np.array([0,155,88])/champ    #700\n",
    "no1 = np.array([0,160,79])/champ    #750\n",
    "no2 = np.array([0,164,72])/champ    #800\n",
    "no3 = np.array([55,168,76])/champ    #850\n",
    "no4 = np.array([81,171,79])/champ    #900\n",
    "no5 = np.array([104,174,82])/champ    #950\n",
    "no6 = np.array([119,177,84])/champ    #1000\n",
    "no7 = np.array([136,180,85])/champ    #1050\n",
    "no8 = np.array([151,183,87])/champ    #1100\n",
    "no9 = np.array([165,185,88])/champ    #1150\n",
    "no10 = np.array([179,187,89])/champ    #1200\n",
    "no11 = np.array([185,180,92])/champ    #1250\n",
    "no12 = np.array([190,173,94])/champ    #1300\n",
    "no13 = np.array([197,164,98])/champ    #1350\n",
    "no14 = np.array([205,168,117])/champ    #1400\n",
    "no15 = np.array([214,173,134])/champ    #1450\n",
    "no16 = np.array([223,180,154])/champ    #1500\n",
    "no17 = np.array([231,190,174])/champ    #1550\n",
    "no18 = np.array([239,204,195])/champ    #1600\n",
    "no19 = np.array([246,221,220])/champ    #1650\n",
    "no20 = np.array([252,241,242])/champ    #1700\n",
    "no21 = np.array([255,255,255])/champ    #1750\n",
    "\n",
    "no22 = np.array([80,80,81])/champ"
   ]
  },
  {
   "cell_type": "code",
   "execution_count": 40,
   "metadata": {},
   "outputs": [],
   "source": [
    "#url = ('http://thredds.met.no/thredds/dodsC/meps25epsarchive/2016/12/24/meps_mbr0_pp_2_5km_20161224T12Z.nc')\n",
    "url = ('http://thredds.met.no/thredds/dodsC/meps25epsarchive/2016/12/23/meps_mbr0_pp_2_5km_20161223T00Z.nc')\n",
    "#url = ('http://thredds.met.no/thredds/dodsC/meps25epsarchive/2016/12/21/meps_mbr0_pp_2_5km_20161221T00Z.nc')\n",
    "dataset = netCDF4.Dataset(url)\n",
    "\n",
    "land= dataset.variables['land_area_fraction'][:]\n",
    "lonpp= dataset.variables['longitude'][:]\n",
    "latpp= dataset.variables['latitude'][:]\n",
    "\n",
    "x_wind = dataset.variables['x_wind_10m'][14,:,:]\n",
    "y_wind = dataset.variables['y_wind_10m'][14,:,:]\n",
    "\n",
    "#T_2m= dataset.variables['air_temperature_2m'][:]\n",
    "alti= dataset.variables['altitude'][:]\n",
    "\n",
    "\n",
    "dataset.close()"
   ]
  },
  {
   "cell_type": "code",
   "execution_count": 41,
   "metadata": {
    "collapsed": true
   },
   "outputs": [],
   "source": [
    "grid_x, grid_y = find_station_yx(latpp, lonpp, 59+48.73/60, 7+12.87/60)"
   ]
  },
  {
   "cell_type": "code",
   "execution_count": 42,
   "metadata": {},
   "outputs": [
    {
     "data": {
      "text/plain": [
       "1041.2291"
      ]
     },
     "execution_count": 42,
     "metadata": {},
     "output_type": "execute_result"
    }
   ],
   "source": [
    "alti[grid_y[0],grid_x[0]]"
   ]
  },
  {
   "cell_type": "code",
   "execution_count": 43,
   "metadata": {},
   "outputs": [
    {
     "data": {
      "text/plain": [
       "7.2159269574384544"
      ]
     },
     "execution_count": 43,
     "metadata": {},
     "output_type": "execute_result"
    }
   ],
   "source": [
    "lonpp[grid_y[0],grid_x[0]]"
   ]
  },
  {
   "cell_type": "code",
   "execution_count": 44,
   "metadata": {},
   "outputs": [
    {
     "data": {
      "text/plain": [
       "59.80292042731746"
      ]
     },
     "execution_count": 44,
     "metadata": {},
     "output_type": "execute_result"
    }
   ],
   "source": [
    "latpp[grid_y[0],grid_x[0]]"
   ]
  },
  {
   "cell_type": "code",
   "execution_count": 45,
   "metadata": {},
   "outputs": [
    {
     "name": "stdout",
     "output_type": "stream",
     "text": [
      "saved: ../../Figures/Norway_map/MEPS_elevation_Haukeli_wind.png\n"
     ]
    }
   ],
   "source": [
    "#### Station map\n",
    "#plt.figure(1)\n",
    "fig = plt.figure(figsize=(9,8))\n",
    "plt.clf()\n",
    "map= Lambert_map(lllon=7.05, lllat=59.73, urlon=7.35, urlat=59.91, lat0= 63.5, lon0= 15, res='i', fill=False,zoom=True)\n",
    "\n",
    "Lonpp,Latpp = map(lonpp,latpp)\n",
    "\n",
    " \n",
    "#levels = [850, 900,950,1000,1050,1100,1150, 1200, 1250, 1300,1350,1400]\n",
    "levels = np.arange(700,1800,50)\n",
    "PlotContours(Lonpp, Latpp, alti, map, leveldist=None,levels=levels, numbers=True, color= 'gray')\n",
    "\n",
    "cmap = colors.ListedColormap([no0, no1, no2, no3, no4, no5, no6, no7, no8, no9, no10, \\\n",
    "                              no11, no12, no13, no14, no15, no16, no17, no18, no19, no20, \\\n",
    "                             no21])\n",
    "norm = colors.BoundaryNorm(boundaries = levels, ncolors=cmap.N)\n",
    "\n",
    "\n",
    "#PlotColorMap4(Lonpp, Latpp, alti, map, bounds= levels,color=cmap, label='Altitude')\n",
    "cs = map.pcolormesh(Lonpp, Latpp, alti, norm= norm, cmap=cmap, alpha= 1.)\n",
    "cb = plt.colorbar(cs, boundaries= levels, #location='right',\n",
    "                  extend='max')\n",
    "\n",
    "### plot wind barbs\n",
    "map.barbs(Lonpp,Latpp,x_wind,y_wind,barbcolor = [no22], pivot = 'middle')\n",
    "        \n",
    "cb.set_label('Altitude [m]', size=18)    \n",
    "cb.ax.tick_params(labelsize=16)\n",
    "plt.gca().set_aspect('equal', adjustable='box')\n",
    "\n",
    "cb.ax.set_xticklabels([700, '', '', '', 900,'','','',1100,'','','',1300,'','','',1500,\n",
    "                        '','','',1700,''])  # horizontal colorbar\n",
    "\n",
    "namestat = ['Haukeliseter']#,'Model']#, 'lower left', 'upper right']#,'grid point']\n",
    "lonstat = [7+12.87/60]#,lonpp[grid_y[0],grid_x[0]]]#,7.05, 7.4]#,7.2]\n",
    "latstat= [59+48.73/60]#,latpp[grid_y[0],grid_x[0]]]#,59.65, 59.9]#,59.8]\n",
    "xpt, ypt= map(lonstat, latstat)\n",
    "map.plot(xpt,ypt,color='k', marker='X',markersize=12)\n",
    "\n",
    "namestat2 = ['Model (1041 m a.s.l.)']#, 'lower left', 'upper right']#,'grid point']\n",
    "lonstat2 = [lonpp[grid_y[0],grid_x[0]]]#,7.05, 7.4]#,7.2]\n",
    "latstat2= [latpp[grid_y[0],grid_x[0]]]#,59.65, 59.9]#,59.8]\n",
    "\n",
    "xpt2, ypt2= map(lonstat2, latstat2)\n",
    "map.plot(xpt2,ypt2,'ko')\n",
    "\n",
    "for i in range(len(namestat)):\n",
    "    plt.text(xpt2[i], ypt2[i], namestat2[i], fontsize=18,fontweight='bold', ha='center',va='bottom',color='black')\n",
    "\n",
    "fig_name = 'MEPS_elevation_Haukeli_wind.png'\n",
    "if savefig == 1:\n",
    "    sF.save_figure_portrait(fig_dir,fig_name,form)\n",
    "    print('saved: %s/%s' %(fig_dir,fig_name))\n",
    "else: \n",
    "    plt.show()\n",
    "plt.close()"
   ]
  },
  {
   "cell_type": "code",
   "execution_count": null,
   "metadata": {
    "collapsed": true
   },
   "outputs": [],
   "source": [
    "#### South Norway ####\n",
    "#plt.figure(1)\n",
    "fig = plt.figure(figsize=(9,8))\n",
    "#plt.clf()\n",
    "map = Lambert_map(lllon=4., lllat=57.6, urlon=10.9, urlat=62.1, lat0= 63.5, lon0= 15, res='i', fill=True,zoom=True)\n",
    "Lonpp,Latpp = map(lonpp,latpp)\n",
    "#alti[alti<3] = np.nan\n",
    "\n",
    "#PlotColorMap4(Lonpp, Latpp, alti, map, bounds= [3, 100,  200,  300,  400,  500,  600,  700,  800,  900, 1000, 1250, 1500,],color='red', label='Altitude')\n",
    "\n",
    "levels = np.arange(0,np.nanmax(alti),50)\n",
    "norm = colors.BoundaryNorm(boundaries = levels, ncolors=plt.cm.gist_earth.N)\n",
    "\n",
    "cs = map.contourf(Lonpp, Latpp, alti, levels, norm=norm, cmap = plt.cm.gist_earth, extend='max')\n",
    "cb = plt.colorbar(cs, boundaries= levels, #location='right',\n",
    "                  extend='max')\n",
    "        \n",
    "cb.set_label('Altitude [m]', size=18)    \n",
    "cb.ax.tick_params(labelsize=16)\n",
    "plt.gca().set_aspect('equal', adjustable='box')\n",
    "\n",
    "\n",
    "\n",
    "namestat = ['Haukeliseter']\n",
    "lonstat = [7+12.87/60]#,7.2]\n",
    "latstat= [59+48.73/60]#,59.8]\n",
    "\n",
    "\n",
    "xpt, ypt= map(lonstat, latstat)\n",
    "map.plot(xpt,ypt,'ko')\n",
    "for i in range(len(namestat)):\n",
    "    plt.text(xpt[i]+10000, ypt[i]+10000, namestat[i], fontsize=18,fontweight='bold', \n",
    "             ha='center',va='bottom',color='black')\n",
    "\n",
    "fig_name = 'South_Norway_MEPS.png'\n",
    "if savefig == 1:\n",
    "    sF.save_figure_portrait(fig_dir,fig_name,form)\n",
    "    print('saved: %s/%s' %(fig_dir,fig_name))\n",
    "else:\n",
    "    plt.show()\n",
    "plt.close()"
   ]
  },
  {
   "cell_type": "code",
   "execution_count": null,
   "metadata": {
    "collapsed": true
   },
   "outputs": [],
   "source": [
    "lato = np.concatenate((latpp[0,:],latpp[-1,:]), axis = 0)\n",
    "lono = np.concatenate((lonpp[0,:], lonpp[-1,:]), axis = 0)\n",
    "\n",
    "lato2 = np.concatenate((latpp[:,0],latpp[:,-1]), axis = 0)\n",
    "lono2 = np.concatenate((lonpp[:,0], lonpp[:,-1]), axis = 0)"
   ]
  },
  {
   "cell_type": "code",
   "execution_count": null,
   "metadata": {
    "collapsed": true
   },
   "outputs": [],
   "source": [
    "### Norway ###\n",
    "#plt.figure(1)\n",
    "fig = plt.figure(figsize=(9,8))\n",
    "\n",
    "#map = Lambert_map(lllon=0., lllat=49., urlon=50., urlat=72, lat0= 63.5, lon0= 15, res='l', fill=True,zoom=False)\n",
    "map = Lambert_map(lllon=lonpp[0,:].min(), lllat=latpp[0,:].min(), \n",
    "                  urlon=lonpp[-1,:].max(), urlat=latpp[-1,:].max(), \n",
    "                  lat0= 63.5, lon0= 15, res='l', fill=True,zoom=False)\n",
    "Lonpp,Latpp = map(lonpp,latpp)\n",
    "#alti[alti<3] = np.nan\n",
    "#PlotContours(Lonpp, Latpp, alti, map, leveldist=None,levels=[0, 25, 50, 100, 200, 300, 400, 500, 600,1000,1500,2000], numbers=True, color= 'k')\n",
    "#PlotColorMap4(Lonpp, Latpp, alti, map, bounds= [3, 100,  200,  300,  400,  500,  600,  700,  800,  900, 1000, 1250, 1500,],color='red', label='Altitude')\n",
    "\n",
    "levels = np.arange(0,np.nanmax(alti),50)\n",
    "norm = colors.BoundaryNorm(boundaries = levels, ncolors=plt.cm.gist_earth.N)\n",
    "\n",
    "cs = map.contourf(Lonpp, Latpp, alti, levels, norm=norm, cmap = plt.cm.gist_earth, extend='max')\n",
    "cb = plt.colorbar(cs, boundaries= levels, #location='right',\n",
    "                  extend='max')\n",
    "cb.set_label('Altitude [m]', size=18)    \n",
    "cb.ax.tick_params(labelsize=16)\n",
    "plt.gca().set_aspect('equal', adjustable='box')\n",
    "\n",
    "\n",
    "namestat = ['Haukeliseter']\n",
    "lonstat = [7+12.87/60]#,7.2]\n",
    "latstat= [59+48.73/60]#,59.8]\n",
    "\n",
    "\n",
    "xpt, ypt= map(lonstat, latstat)\n",
    "map.plot(xpt,ypt,'ko')\n",
    "for i in range(len(namestat)):\n",
    "    plt.text(xpt[i]+100000, ypt[i]+100000, namestat[i], fontsize=18,fontweight='bold', \n",
    "             ha='center',va='bottom',color='black')\n",
    "#plt.tight_layout(pad=2.5)    \n",
    "\n",
    "fig_name = 'Norway_elevation_MEPS.png'\n",
    "if savefig == 1:\n",
    "    sF.save_figure_portrait(fig_dir,fig_name,form)\n",
    "    print('saved: %s/%s' %(fig_dir,fig_name))\n",
    "else:\n",
    "    plt.show()\n",
    "    \n",
    "plt.close()"
   ]
  },
  {
   "cell_type": "code",
   "execution_count": null,
   "metadata": {
    "collapsed": true
   },
   "outputs": [],
   "source": [
    "gdal_data = gdal.Open('6600_1_10m_z33.tif')\n",
    "gt = gdal_data.GetGeoTransform()\n",
    "\n",
    "gdal_band = gdal_data.GetRasterBand(1)\n",
    "nodataval = gdal_band.GetNoDataValue()\n",
    "\n",
    "# convert to a numpy array\n",
    "data_array = gdal_data.ReadAsArray().astype(np.float)\n",
    "data_array\n",
    "\n",
    "# replace missing values if necessary\n",
    "if np.any(data_array == nodataval):\n",
    "    data_array[data_array == nodataval] = np.nan"
   ]
  },
  {
   "cell_type": "code",
   "execution_count": null,
   "metadata": {
    "collapsed": true
   },
   "outputs": [],
   "source": [
    "gdal_data2 = gdal.Open('6600_2_10m_z33.tif')\n",
    "gt2 = gdal_data2.GetGeoTransform()\n",
    "\n",
    "gdal_band2 = gdal_data2.GetRasterBand(1)\n",
    "nodataval2 = gdal_band2.GetNoDataValue()\n",
    "\n",
    "# convert to a numpy array\n",
    "data_array2 = gdal_data2.ReadAsArray().astype(np.float)\n",
    "data_array2\n",
    "\n",
    "# replace missing values if necessary\n",
    "if np.any(data_array2 == nodataval):\n",
    "    data_array2[data_array2 == nodataval] = np.nan"
   ]
  },
  {
   "cell_type": "code",
   "execution_count": null,
   "metadata": {
    "collapsed": true
   },
   "outputs": [],
   "source": [
    "xres = gt[1]\n",
    "yres = gt[5]\n",
    "x = np.arange(gt[0], gt[0] + data_array.shape[1]*xres, xres)\n",
    "y = np.arange(gt[3], gt[3] + data_array.shape[0]*yres, yres)\n",
    "X, Y = np.meshgrid(x,y)\n",
    "\n",
    "xres2 = gt2[1]\n",
    "yres2 = gt2[5]\n",
    "x2 = np.arange(gt2[0], gt2[0] + data_array2.shape[1]*xres2, xres2)\n",
    "y2 = np.arange(gt2[3], gt2[3] + data_array2.shape[0]*yres2, yres2)\n",
    "X2, Y2 = np.meshgrid(x2,y2)\n",
    "\n"
   ]
  },
  {
   "cell_type": "code",
   "execution_count": null,
   "metadata": {},
   "outputs": [],
   "source": [
    "inProj = Proj(init='EPSG:32633')          # UTM coords, zone 33N, WGS84 datum\n",
    "outProj = Proj(init='EPSG:4326')          # LatLon with WGS84 datum used by GPS units and Google Earth\n",
    "lon1,lat1 = X,Y\n",
    "LONO1,LATO1 = transform(inProj,outProj,lon1,lat1)\n",
    "#\n",
    "lon2,lat2 = X2,Y2\n",
    "LONO2,LATO2 = transform(inProj,outProj,lon2,lat2)\n",
    "\n",
    "levels = np.arange(700,1800,50)\n",
    "\n",
    "#### Plot around Haukeliseter ####\n",
    "fig = plt.figure(figsize=(9,8))\n",
    "plt.clf()\n",
    "#map = Lambert_map(lllon=lon2.min(), lllat=lat2.min(), \n",
    " #                 urlon=lon2.max(), urlat=lat2.max(), \n",
    "  #                lat0= 63.5, lon0= 15, res='i', fill=False,zoom=True)\n",
    "\n",
    "map= Lambert_map(lllon=7.05, lllat=59.73, urlon=7.35, urlat=59.91, lat0= 63.5, lon0= 15, res='i', fill=False,zoom=True)\n",
    "LON1,LAT1 = map(LONO1,LATO1)\n",
    "LON2,LAT2 = map(LONO2,LATO2)\n",
    "\n",
    "cmap = colors.ListedColormap([no0, no1, no2, no3, no4, no5, no6, no7, no8, no9, no10, \\\n",
    "                              no11, no12, no13, no14, no15, no16, no17, no18, no19, no20, \\\n",
    "                             no21])\n",
    "norm = colors.BoundaryNorm(boundaries = levels, ncolors=cmap.N)\n",
    "\n",
    "PlotContours(LON1, LAT1, data_array, map, leveldist=None,levels=levels[::2], numbers=True, color= 'gray')\n",
    "PlotContours(LON2, LAT2, data_array2, map, leveldist=None,levels=levels[::2], numbers=True, color= 'gray')\n",
    "\n",
    "cs = map.contourf(LON1, LAT1, data_array, levels, norm=norm, cmap = cmap, extend='max')\n",
    "map.contourf(LON2, LAT2, data_array2, levels, norm=norm, cmap=cmap, extend='max')\n",
    "\n",
    "cb = plt.colorbar(cs, boundaries= levels, #location='right',\n",
    "                  extend='max')\n",
    "        \n",
    "cb.set_label('Altitude [m]', size=18)    \n",
    "cb.ax.tick_params(labelsize=16)\n",
    "plt.gca().set_aspect('equal', adjustable='box')\n",
    "\n",
    "cb.ax.set_xticklabels([700, '', '', '', 900,'','','',1100,'','','',1300,'','','',1500,\n",
    "                        '','','',1700,''])  # horizontal colorbar\n",
    "\n",
    "namestat = ['Haukeliseter (991 m a.s.l.)']#, 'lower left', 'upper right']#,'grid point']\n",
    "lonstat = [7+12.87/60]#,7.05, 7.4]#,7.2]\n",
    "latstat= [59+48.73/60]#,59.65, 59.9]#,59.8]\n",
    "\n",
    "\n",
    "xpt, ypt= map(lonstat, latstat)\n",
    "map.plot(xpt,ypt,'ko')\n",
    "\n",
    "for i in range(len(namestat)):\n",
    "    plt.text(xpt[i], ypt[i], namestat[i], fontsize=18,fontweight='bold', ha='center',va='bottom',color='black')\n",
    "\n",
    "fig_name = 'elevation_Haukeli.png'\n",
    "if savefig == 1:\n",
    "    sF.save_figure_portrait(fig_dir,fig_name,form)\n",
    "    print('saved: %s/%s' %(fig_dir,fig_name))\n",
    "else:\n",
    "    plt.show()\n",
    "plt.close()"
   ]
  },
  {
   "cell_type": "code",
   "execution_count": null,
   "metadata": {
    "collapsed": true
   },
   "outputs": [],
   "source": [
    "url = ('http://thredds.met.no/thredds/dodsC/meps25epsarchive/2016/12/24/meps_mbr0_pp_2_5km_20161224T12Z.nc')\n",
    "dataset = netCDF4.Dataset(url)\n",
    "\n",
    "land= dataset.variables['land_area_fraction'][:]\n",
    "lonpp= dataset.variables['longitude'][:]\n",
    "latpp= dataset.variables['latitude'][:]\n",
    "        \n",
    "#T_2m= dataset.variables['air_temperature_2m'][:]\n",
    "alti= dataset.variables['altitude'][:]\n",
    "\n",
    "\n",
    "dataset.close()\n",
    "\n",
    "\n",
    "\n",
    "\"\"\" altitude map\"\"\"\n",
    "#plt.figure(1)\n",
    "fig = plt.figure(figsize=(9,8))\n",
    "plt.clf()\n",
    "map= Lambert_map(lllon=7.05, lllat=59.73, urlon=7.35, urlat=59.91, lat0= 63.5, lon0= 15, res='i', fill=False,zoom=True)\n",
    "\n",
    "Lonpp,Latpp = map(lonpp,latpp)\n",
    "\n",
    " \n",
    "#levels = [850, 900,950,1000,1050,1100,1150, 1200, 1250, 1300,1350,1400]\n",
    "levels = np.arange(700,1800,50)\n",
    "PlotContours(Lonpp, Latpp, alti, map, leveldist=None,levels=levels, numbers=True, color= 'gray')\n",
    "\n",
    "cmap = colors.ListedColormap([no0, no1, no2, no3, no4, no5, no6, no7, no8, no9, no10, \\\n",
    "                              no11, no12, no13, no14, no15, no16, no17, no18, no19, no20, \\\n",
    "                             no21])\n",
    "norm = colors.BoundaryNorm(boundaries = levels, ncolors=cmap.N)\n",
    "\n",
    "\n",
    "#PlotColorMap4(Lonpp, Latpp, alti, map, bounds= levels,color=cmap, label='Altitude')\n",
    "\n",
    "cs = map.contourf(Lonpp, Latpp, alti, levels, norm=norm, cmap = cmap, extend='max')\n",
    "cb = plt.colorbar(cs, boundaries= levels, #location='right',\n",
    "                  extend='max')\n",
    "        \n",
    "cb.set_label('Altitude [m]', size=18)    \n",
    "cb.ax.tick_params(labelsize=16)\n",
    "plt.gca().set_aspect('equal', adjustable='box')\n",
    "\n",
    "cb.ax.set_xticklabels([700, '', '', '', 900,'','','',1100,'','','',1300,'','','',1500,\n",
    "                        '','','',1700,''])  # horizontal colorbar\n",
    "\n",
    "namestat = ['Haukeliseter']#, 'lower left', 'upper right']#,'grid point']\n",
    "lonstat = [7+12.87/60]#,7.05, 7.4]#,7.2]\n",
    "latstat= [59+48.73/60]#,59.65, 59.9]#,59.8]\n",
    "\n",
    "\n",
    "xpt, ypt= map(lonstat, latstat)\n",
    "map.plot(xpt,ypt,'ko')\n",
    "\n",
    "for i in range(len(namestat)):\n",
    "    plt.text(xpt[i], ypt[i], namestat[i], fontsize=18,fontweight='bold', ha='center',va='bottom',color='black')\n",
    "\n",
    "fig_name = 'MEPS_elevation_Haukeli_2.png'\n",
    "if savefig == 1:\n",
    "    sF.save_figure_portrait(fig_dir,fig_name,form)\n",
    "    print('saved: %s/%s' %(fig_dir,fig_name))\n",
    "else: \n",
    "    plt.show()\n",
    "plt.close()"
   ]
  },
  {
   "cell_type": "code",
   "execution_count": null,
   "metadata": {
    "collapsed": true
   },
   "outputs": [],
   "source": []
  }
 ],
 "metadata": {
  "kernelspec": {
   "display_name": "Python 3",
   "language": "python",
   "name": "python3"
  },
  "language_info": {
   "codemirror_mode": {
    "name": "ipython",
    "version": 3
   },
   "file_extension": ".py",
   "mimetype": "text/x-python",
   "name": "python",
   "nbconvert_exporter": "python",
   "pygments_lexer": "ipython3",
   "version": "3.6.1"
  }
 },
 "nbformat": 4,
 "nbformat_minor": 2
}

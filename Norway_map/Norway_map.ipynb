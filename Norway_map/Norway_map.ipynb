{
 "cells": [
  {
   "cell_type": "markdown",
   "metadata": {},
   "source": [
    "# Create Norway elevation map + MEPS area using Etopo1 and matplotlib\n",
    "http://www.trondkristiansen.com/?page_id=846\n",
    "\n",
    "\n",
    "https://www.ngdc.noaa.gov/mgg/global/global.html"
   ]
  },
  {
   "cell_type": "code",
   "execution_count": 1,
   "metadata": {
    "collapsed": true
   },
   "outputs": [],
   "source": [
    "import os, sys, datetime, string\n",
    "sys.path.append('/Volumes/SANDISK128/Documents/Thesis/Python/')\n",
    "import matplotlib.pyplot as plt\n",
    "\n",
    "import createMapsEtopo1 as maps\n",
    "import save_fig as sF\n",
    "import createFolder as cF"
   ]
  },
  {
   "cell_type": "code",
   "execution_count": 2,
   "metadata": {
    "collapsed": true
   },
   "outputs": [],
   "source": [
    "savefig = 1   # 1 = yes, 0 = no\n",
    "fig_dir = '../../Norway_map'\n",
    "cF.createFolder(fig_dir)\n",
    "form = 'png'"
   ]
  },
  {
   "cell_type": "code",
   "execution_count": 3,
   "metadata": {
    "collapsed": true
   },
   "outputs": [],
   "source": [
    "names=['Haukelister']\n",
    "\n",
    "lat_start=[48]\n",
    "lat_end  = [75]\n",
    "    \n",
    "lon_start= [0]\n",
    "lon_end  =[48]\n",
    "    \n",
    "\"\"\"List of stations for each area\"\"\"\n",
    "stationlonlist=[ 7.2]\n",
    "stationlatlist=[59.8]\n",
    "\n",
    "i = 0"
   ]
  },
  {
   "cell_type": "code",
   "execution_count": 4,
   "metadata": {},
   "outputs": [
    {
     "name": "stdout",
     "output_type": "stream",
     "text": [
      "Extracted data for area Haukelister : (-40.0,43.0) to (58.0,80.0)\n"
     ]
    }
   ],
   "source": [
    "### make map of entire Norway incl. MEPS area\n",
    "maps.makeMap(lonStart = lon_start[i], lonEnd = lon_end[i], latStart = lat_start[i], latEnd = lat_end[i], name = names[i],\n",
    "        stLon = stationlonlist[i], stLat = stationlatlist[i],zoom = None)\n",
    "\n",
    "fig_name = 'Norway_MEPS.png'\n",
    "if savefig == 1:\n",
    "    sF.save_figure_portrait(fig_dir,fig_name,form)\n",
    "else:\n",
    "    plt.show()\n",
    "    \n",
    "plt.close()"
   ]
  },
  {
   "cell_type": "code",
   "execution_count": 5,
   "metadata": {},
   "outputs": [
    {
     "name": "stdout",
     "output_type": "stream",
     "text": [
      "Extracted data for area Haukelister : (-37.0,52.5) to (25.0,69.0)\n"
     ]
    }
   ],
   "source": [
    "### make map only of south Norway\n",
    "\n",
    "lat_start = [57.5]\n",
    "lat_end = [64]\n",
    "\n",
    "lon_start = [3]\n",
    "lon_end = [15]\n",
    "\n",
    "maps.makeMap(lonStart = lon_start[i], lonEnd = lon_end[i], latStart = lat_start[i], latEnd = lat_end[i], name = names[i],\n",
    "        stLon = stationlonlist[i], stLat = stationlatlist[i],zoom = 'zoom')\n",
    "\n",
    "fig_name = 'South_Norway.png'\n",
    "if savefig == 1:\n",
    "    sF.save_figure_portrait(fig_dir,fig_name,form)\n",
    "else:\n",
    "    plt.show()\n",
    "    \n",
    "plt.close()"
   ]
  },
  {
   "cell_type": "code",
   "execution_count": null,
   "metadata": {
    "collapsed": true
   },
   "outputs": [],
   "source": []
  }
 ],
 "metadata": {
  "kernelspec": {
   "display_name": "Python 3",
   "language": "python",
   "name": "python3"
  },
  "language_info": {
   "codemirror_mode": {
    "name": "ipython",
    "version": 3
   },
   "file_extension": ".py",
   "mimetype": "text/x-python",
   "name": "python",
   "nbconvert_exporter": "python",
   "pygments_lexer": "ipython3",
   "version": "3.6.1"
  }
 },
 "nbformat": 4,
 "nbformat_minor": 2
}

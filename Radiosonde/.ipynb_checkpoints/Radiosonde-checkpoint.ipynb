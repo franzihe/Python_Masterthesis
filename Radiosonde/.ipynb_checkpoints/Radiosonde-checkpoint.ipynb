{
 "cells": [
  {
   "cell_type": "markdown",
   "metadata": {},
   "source": [
    "### Skew-T Radiosonde plot\n",
    "\\$ source activate py36skewT\n",
    "\n",
    "\\$ jupyter notebook\n",
    "\n",
    "\n",
    "http://pythonhosted.org/pymeteo/#plotting\n",
    "\n",
    "https://github.com/cwebster2/pyMeteo\n",
    "\n",
    "http://kbkb-wx-python.blogspot.no/2015/07/plotting-sounding-data-from-university.html"
   ]
  },
  {
   "cell_type": "code",
   "execution_count": 3,
   "metadata": {
    "collapsed": true
   },
   "outputs": [],
   "source": [
    "import sys\n",
    "sys.path.append('/Volumes/SANDISK128/Documents/Thesis/Python/')\n",
    "import numpy as np\n",
    "import urllib3\n",
    "from bs4 import BeautifulSoup\n",
    "import createFolder as cF\n",
    "\n",
    "from datetime import date\n",
    "import pandas as pd\n",
    "import calendar\n",
    "import metpy.calc as mpcalc\n",
    "\n",
    "import plot_skewT as skewT\n",
    "\n",
    "%matplotlib inline \n",
    "\n"
   ]
  },
  {
   "cell_type": "code",
   "execution_count": 4,
   "metadata": {
    "collapsed": true
   },
   "outputs": [],
   "source": [
    "savetxt = 0\n",
    "savefig = 0\n",
    "\n",
    "stn = '01415' #1415 is ID for Stavanger\n",
    "year= '2016'\n",
    "month = '12'\n",
    "\n",
    "hh = ['00','12']\n",
    "\n",
    "cF.createFolder('../../Soundings/%s_txt/' %(stn))      # for text files\n",
    "cF.createFolder('../../Soundings/%s_fig/' %(stn))      # for figure files\n",
    "\n",
    "\n"
   ]
  },
  {
   "cell_type": "code",
   "execution_count": 5,
   "metadata": {},
   "outputs": [
    {
     "name": "stderr",
     "output_type": "stream",
     "text": [
      "/Volumes/SANDISK128/Applications/anaconda/envs/py36SkewT/lib/python3.6/site-packages/metpy/calc/basic.py:507: RuntimeWarning: invalid value encountered in absolute\n",
      "  if np.greater(np.nanmax(np.abs(value)), max_radians):\n"
     ]
    },
    {
     "name": "stdout",
     "output_type": "stream",
     "text": [
      "no file found: 20161202_12\n",
      "no file found: 20161205_00\n"
     ]
    },
    {
     "name": "stderr",
     "output_type": "stream",
     "text": [
      "/Volumes/SANDISK128/Applications/anaconda/envs/py36SkewT/lib/python3.6/site-packages/metpy/calc/basic.py:509: UserWarning: Input over 12.566370614359172 radians. Ensure proper units are given.\n",
      "  'Ensure proper units are given.'.format(max_radians))\n"
     ]
    },
    {
     "name": "stdout",
     "output_type": "stream",
     "text": [
      "no file found: 20161223_12\n",
      "no file found: 20161224_00\n",
      "no file found: 20161224_12\n"
     ]
    }
   ],
   "source": [
    "for day in range(1,32):\n",
    "    # get calendar day\n",
    "    \n",
    "    my_date = date(int(year),int(month),int(day))\n",
    "    calday = calendar.day_name[my_date.weekday()]\n",
    "    calmon = calendar.month_abbr[int(month)]\n",
    "    \n",
    "    if day < 10:\n",
    "        day = '0%s' %(day)\n",
    "    else:\n",
    "        day = '%s' %(day)\n",
    "        \n",
    "    for hour in hh:\n",
    "\n",
    "####### Save txt file ###################\n",
    "        if savetxt == 1:\n",
    "            \n",
    "# 1) \n",
    "# Wyoming URL to download Sounding from\n",
    "            url = 'http://weather.uwyo.edu/cgi-bin/sounding?region=naconf&TYPE=TEXT%3ALIST&YEAR='+year+'&MONTH='+month+'&FROM='+day+hour+'&TO='+day+hour+'&STNM='+stn\n",
    "#content = urllib3.urlopen(url).read()\n",
    "\n",
    "# 2)\n",
    "# Remove the html tags\n",
    "            http = urllib3.PoolManager()\n",
    "            response = http.request('GET', url)\n",
    "            soup = BeautifulSoup(response.data.decode('utf-8'),'lxml')\n",
    "            data_text = soup.get_text()\n",
    "\n",
    "# 3)\n",
    "# Split the content by new line.\n",
    "            splitted = data_text.split(\"\\n\",data_text.count(\"\\n\"))\n",
    "\n",
    "# 4)\n",
    "# Write this splitted text to a .txt document\n",
    "        \n",
    "        \n",
    "            Sounding_filename = '../Soundings/%s_txt/%s%s%s_%s.txt' %(stn,year,month,day,hour)\n",
    "            f = open(Sounding_filename,'w')\n",
    "            for line in splitted[4:]:\n",
    "                f.write(line+'\\n')\n",
    "            f.close()\n",
    "\n",
    "# Select col_names to be importet for the sounding plot\n",
    "            col_names = ['PRES', 'HGHT', 'TEMP', 'DWPT', 'MIXR', 'DRCT', 'SKNT', 'THTA']\n",
    "            header = np.arange(0,6)\n",
    "        \n",
    "###### Save figure files ######################\n",
    "# open file with everything beneath the header\n",
    "        df = pd.read_table(Sounding_filename, delim_whitespace=True, skiprows = header, \\\n",
    "                   usecols=[0, 1, 2, 3, 5, 6, 7, 8], names=col_names)\n",
    "\n",
    "### the footer changes depending on how high the sound measured --> lines change from Radiosonde to Radiosonde\n",
    "# 1. find idx of first value matching the name 'Station'\n",
    "        lines = df.index[df['PRES'].str.match('Station')]\n",
    "        if len(lines) == 0:\n",
    "            print('no file found: %s%s%s_%s' %(year,month,day,hour))\n",
    "            continue\n",
    "        else:\n",
    "            idx = lines[0]\n",
    "        footer = np.arange((idx+header.size),220)\n",
    "        skiprow = np.append(header,footer)\n",
    "        df = pd.read_table(Sounding_filename, delim_whitespace=True,  skiprows = skiprow, \\\n",
    "                   usecols=[0, 1, 2, 3, 5, 6, 7, 8], names=col_names)\n",
    "\n",
    "# prepare 1D arrays height (z), pressure (p), potential temperature (th), \n",
    "# water vapor mixing ratio (qv), winds (u and v) all of the same length.\n",
    "\n",
    "# We will pull the data out of the example dataset into individual variables and\n",
    "\n",
    "        z = np.asarray(df['HGHT'])\n",
    "        p = np.asarray(df['PRES'])\n",
    "        th = np.asarray(df['THTA'])            \n",
    "        qv = np.asarray(df['MIXR'])\n",
    "        T = np.asarray(df['TEMP'])\n",
    "        Td = np.asarray(df['DWPT'])\n",
    "        wind_speed = np.asarray(df['SKNT'])\n",
    "        wind_dir = np.deg2rad(np.asarray(df['DRCT']))\n",
    "        u, v = mpcalc.get_wind_components(wind_speed, wind_dir)\n",
    "        p = p*100\n",
    "\n",
    "        \n",
    "        figname = '../Soundings/%s_fig/%s%s%s_%sZ.png' %(stn,year,month,day,hour)\n",
    "        title = '%s, %s %s %s   %s$\\,$UTC' %(calday, day, calmon, year, hour)\n",
    "        \n",
    "\n",
    "        skewT.plot_skewT(T, Td, z, p, u, v, title, savefig, figname)\n"
   ]
  },
  {
   "cell_type": "code",
   "execution_count": null,
   "metadata": {
    "collapsed": true
   },
   "outputs": [],
   "source": []
  }
 ],
 "metadata": {
  "kernelspec": {
   "display_name": "Python 3",
   "language": "python",
   "name": "python3"
  },
  "language_info": {
   "codemirror_mode": {
    "name": "ipython",
    "version": 3
   },
   "file_extension": ".py",
   "mimetype": "text/x-python",
   "name": "python",
   "nbconvert_exporter": "python",
   "pygments_lexer": "ipython3",
   "version": "3.6.1"
  }
 },
 "nbformat": 4,
 "nbformat_minor": 2
}

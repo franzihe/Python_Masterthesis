{
 "cells": [
  {
   "cell_type": "markdown",
   "metadata": {},
   "source": [
    "### Skew-T Radiosonde plot\n",
    "\\$ source activate py36skewT\n",
    "\n",
    "\\$ jupyter notebook\n",
    "\n",
    "\n",
    "http://pythonhosted.org/pymeteo/#plotting\n",
    "\n",
    "https://github.com/cwebster2/pyMeteo\n",
    "\n",
    "http://kbkb-wx-python.blogspot.no/2015/07/plotting-sounding-data-from-university.html"
   ]
  },
  {
   "cell_type": "code",
   "execution_count": null,
   "metadata": {
    "collapsed": true
   },
   "outputs": [],
   "source": [
    "import sys\n",
    "sys.path.append('/Volumes/SANDISK128/Documents/Thesis/Python/')\n",
    "sys.path.append('/Volumes/SANDISK128/Applications/pyMeteo/pymeteo/')\n",
    "import numpy as np\n",
    "import createFolder as cF\n",
    "import netCDF4\n",
    "import fill_values as fv\n",
    "\n",
    "from datetime import date\n",
    "import datetime\n",
    "import pandas as pd\n",
    "\n",
    "\n",
    "import plot_skewT as skewT\n",
    "import thermo\n",
    "from pymeteo.constants import *\n",
    "import calc_date as cd\n"
   ]
  },
  {
   "cell_type": "code",
   "execution_count": null,
   "metadata": {
    "collapsed": true
   },
   "outputs": [],
   "source": [
    "savefig = 0\n",
    "\n",
    "stn = 'Haukeliseter' #\n",
    "year= '2016'\n",
    "month = '12'\n",
    "\n",
    "hh = '00'\n",
    "\n",
    "cF.createFolder('../../Figures/Sounding/MEPS/%s/_%s' %(stn,hh))      # for figure files\n",
    "t = ['17', '18', '19', '20', '21', '22', '23', '24', '25', '26', '27']\n",
    "#t = ['22']\n"
   ]
  },
  {
   "cell_type": "code",
   "execution_count": null,
   "metadata": {
    "collapsed": true
   },
   "outputs": [],
   "source": [
    "var_name_T = 'air_temperature_ml'\n",
    "var_name_u = 'x_wind_ml'\n",
    "var_name_v = 'y_wind_ml'\n",
    "var_name_qv = 'specific_humidity_ml'"
   ]
  },
  {
   "cell_type": "code",
   "execution_count": null,
   "metadata": {
    "collapsed": true
   },
   "outputs": [],
   "source": [
    "#file_2m    = dict()\n",
    "T_z_p_file = dict()\n",
    "u_file     = dict()\n",
    "v_file     = dict()\n",
    "qv_file    = dict()\n",
    "\n",
    "#fn_2m      = dict()\n",
    "fn_T_z_p   = dict()\n",
    "fn_u       = dict()\n",
    "fn_v       = dict()\n",
    "fn_qv      = dict()\n",
    "\n",
    "time         = dict()\n",
    "T            = dict()\n",
    "p            = dict()\n",
    "thickness_ml = dict()\n",
    "u            = dict()\n",
    "v            = dict()\n",
    "height_ml    = dict()\n",
    "height       = dict()\n",
    "qv           = dict()\n",
    "Td           = dict()"
   ]
  },
  {
   "cell_type": "code",
   "execution_count": null,
   "metadata": {
    "collapsed": true
   },
   "outputs": [],
   "source": [
    "for ini_day in t:\n",
    "\n",
    "    for ens_memb in range(0,10):\n",
    "###### OPEN  files ######################\n",
    "# open file with \n",
    "#    file_2m[ens_memb]    = '../../Data/MEPS/%s/2m_00/%s%s%s_%s_%s.nc'    %(stn,year,month,day,hh,ens_memb)\n",
    "        T_z_p_file[ens_memb] = '../../Data/MEPS/%s/ml_00/%s/%s%s%s_00_%s.nc' %(stn,var_name_T,year,month,ini_day,ens_memb)\n",
    "        u_file[ens_memb]     = '../../Data/MEPS/%s/ml_00/%s/%s%s%s_00_%s.nc' %(stn,var_name_u,year,month,ini_day,ens_memb)\n",
    "        v_file[ens_memb]     = '../../Data/MEPS/%s/ml_00/%s/%s%s%s_00_%s.nc' %(stn,var_name_v,year,month,ini_day,ens_memb)\n",
    "        qv_file[ens_memb]    = '../../Data/MEPS/%s/ml_00/%s/%s%s%s_00_%s.nc' %(stn,var_name_qv,year,month,ini_day,ens_memb)\n",
    "    \n",
    "#    fn_2m[ens_memb]      = netCDF4.Dataset(file_2m[ens_memb])\n",
    "        fn_T_z_p[ens_memb]   = netCDF4.Dataset(T_z_p_file[ens_memb])\n",
    "        fn_u[ens_memb]       = netCDF4.Dataset(u_file[ens_memb])\n",
    "        fn_v[ens_memb]       = netCDF4.Dataset(v_file[ens_memb])\n",
    "        fn_qv[ens_memb]      = netCDF4.Dataset(qv_file[ens_memb])\n",
    "\n",
    "# Read in time to know initialisation time (plotting)    \n",
    "        time[ens_memb] = fn_T_z_p[ens_memb].variables['time']\n",
    "        time[ens_memb] = fv.fill_nan(time[ens_memb][:])\n",
    "        \n",
    "\n",
    "    \n",
    "\n",
    "# Read in the variable names which are needed for plotting\n",
    "        T[ens_memb] = fn_T_z_p[ens_memb].variables[var_name_T]   \n",
    "\n",
    "\n",
    "        p[ens_memb] = fn_T_z_p[ens_memb].variables['pressure_ml'] \n",
    "        u[ens_memb] = fn_u[ens_memb].variables[var_name_u]\n",
    "        v[ens_memb] = fn_v[ens_memb].variables[var_name_v]\n",
    "        qv[ens_memb]= fn_qv[ens_memb].variables[var_name_qv]\n",
    "    \n",
    "# combine with 2m obs   \n",
    " #   T2  = fn_2m[0].variables['air_temperature_2m']\n",
    "  #  qv2 = fn_2m[0].variables['specific_humidity_2m']\n",
    "#    TT2 = pd.DataFrame.from_dict(T2[:,:])\n",
    " #   TTml = pd.DataFrame.from_dict(T[0][:,:])\n",
    "  #  TTall = np.asarray(pd.concat([TT2,TTml],axis = 1))\n",
    "    \n",
    "# layer thickness to calculate height\n",
    "        thickness_ml[ens_memb]      = fn_T_z_p[ens_memb].variables['layer_thickness']\n",
    "        thickness_ml[ens_memb]      = fv.fill_nan(thickness_ml[ens_memb][:])\n",
    "    \n",
    "        thickness = thickness_ml[ens_memb]\n",
    "        h_above = []\n",
    "        h_above.append(np.zeros(thickness[:,:].shape[0]))\n",
    "        th_arr = np.nansum([np.asarray(h_above)[:,0], thickness[:,0]], axis = 0)\n",
    "        h_above.append(th_arr)\n",
    "        for i in range(2,thickness[:,:].shape[1]):\n",
    "            th_arr = np.nansum([h_above[i-1], thickness[:,i-1]], axis = 0)\n",
    "            h_above.append(th_arr)\n",
    "        height_ml[ens_memb] = np.transpose(h_above)\n",
    "\n",
    "\n",
    "        \n",
    "# substitute missing values with nan       \n",
    "        T[ens_memb]    = fv.fill_nan(T[ens_memb][:])\n",
    "        p[ens_memb]    = fv.fill_nan(p[ens_memb][:])\n",
    "        u[ens_memb]    = fv.fill_nan(u[ens_memb][:])\n",
    "        v[ens_memb]    = fv.fill_nan(v[ens_memb][:])\n",
    "        qv[ens_memb]   = fv.fill_nan(qv[ens_memb][:])\n",
    "\n",
    "\n",
    "# calculate dew point with thermo.py\n",
    "        Td[ens_memb] = thermo.Td(p[ens_memb],qv[ens_memb])\n",
    "    \n",
    "# get the temperature in °C\n",
    "        T[ens_memb] = T[ens_memb]-T00\n",
    "        Td[ens_memb] = Td[ens_memb]-T00\n",
    "\n",
    "\n",
    "\n",
    "\n",
    "# Read in time to know initialisation time (plotting)    \n",
    "    day = datetime.datetime.utcfromtimestamp(time[0][int(hh)]).day   # day of initialisation\n",
    "    hour = datetime.datetime.utcfromtimestamp(time[0][int(hh)]).hour       # first hour of initialisation?\n",
    "    calday, calmon = cd.get_dayname(year, month, day)\n",
    "\n",
    "### plot vertical temp profile\n",
    "    if hour < 10:\n",
    "        hour = '0%s' %hour\n",
    "    \n",
    "    figname = '../../Figures/Sounding/%s/%s%s%s_%s.png' %(stn,year,month,ini_day,hh)\n",
    "    title = '%s, %s %s %s   %s$\\,$UTC' %(calday, day, calmon, year, hour)\n",
    "\n",
    "    \n",
    "    skewT.plot_skewT_EM(T, Td, height_ml, p, u, v, int(hh),title, savefig, figname)\n",
    "    print('saved: %s' %figname)"
   ]
  },
  {
   "cell_type": "code",
   "execution_count": null,
   "metadata": {
    "collapsed": true
   },
   "outputs": [],
   "source": []
  }
 ],
 "metadata": {
  "kernelspec": {
   "display_name": "Python 3",
   "language": "python",
   "name": "python3"
  },
  "language_info": {
   "codemirror_mode": {
    "name": "ipython",
    "version": 3
   },
   "file_extension": ".py",
   "mimetype": "text/x-python",
   "name": "python",
   "nbconvert_exporter": "python",
   "pygments_lexer": "ipython3",
   "version": "3.6.1"
  }
 },
 "nbformat": 4,
 "nbformat_minor": 2
}

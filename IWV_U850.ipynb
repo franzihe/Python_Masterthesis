{
 "cells": [
  {
   "cell_type": "markdown",
   "metadata": {},
   "source": [
    "# Integrated water vapor\n",
    "\n",
    " http://vortex.plymouth.edu/~j_cordeira/ARPortal/EU/Archive/2016122518/html/D1_IVT_0.html#tab\n",
    " - 850-hPa wind speed (m s^-1)\n",
    " - SLP (solid/dashed contours every 4 hPa)\n",
    " - total precipitable water (mm, shaded according to color bar)\n",
    " \n",
    " \n",
    " ARs defined following Ralph et al. (2004) as contiguous regions $\\ge$ 2000km long and $\\le$ 1000 km wide with IWV $\\ge$ 20 mm\n",
    "\n",
    "\n",
    "\n",
    " http://apps.ecmwf.int/codes/grib/param-db\n",
    " #### Parameters from ECMWF\n",
    "    - name = 'total column water vapor',   shortName = 'tcwv',     [kg kg^-1]\n",
    "    - name = 'mean sea level pressure',    shortName = 'msl'     [Pa]\n",
    "    - name = 'U component of wind',        shortName = 'u',      [m s^-1]\n",
    "    - name = 'V component of wind',        shortName = 'v',      [m s^-1]\n",
    "\n",
    "\n"
   ]
  },
  {
   "cell_type": "code",
   "execution_count": 15,
   "metadata": {
    "collapsed": true
   },
   "outputs": [],
   "source": [
    "import pygrib\n",
    "import matplotlib.pyplot as plt\n",
    "import matplotlib.colors as colors\n",
    "from mpl_toolkits.basemap import Basemap, shiftgrid\n",
    "import numpy as np\n",
    "from scipy import ndimage\n",
    "from datetime import date\n",
    "import calendar\n",
    "\n"
   ]
  },
  {
   "cell_type": "code",
   "execution_count": 16,
   "metadata": {
    "collapsed": true
   },
   "outputs": [],
   "source": [
    "year = '2016'\n",
    "mon = '12'\n",
    "day = '25'\n",
    "time = '18'"
   ]
  },
  {
   "cell_type": "code",
   "execution_count": 17,
   "metadata": {
    "collapsed": true
   },
   "outputs": [],
   "source": [
    "### Define colorbar colors\n",
    "champ = 255.\n",
    "blue = np.array([1,74,159])/champ           # for the date\n",
    "\n",
    "\n",
    "# tot. precipitable water (colorbar)\n",
    "no1 = np.array([255,255,255])/champ\n",
    "no2 = np.array([70,0,255])/champ\n",
    "no3 = np.array([6,109,255])/champ\n",
    "no4 = np.array([0,196,38])/champ\n",
    "no5 = np.array([14,223,11])/champ\n",
    "no6 = np.array([255,228,0])/champ\n",
    "no7 = np.array([255,180,0])/champ\n",
    "no8 = np.array([255,94,0])/champ\n",
    "no9 = np.array([255,0,0])/champ\n",
    "no10 = np.array([225,0,0])/champ\n",
    "no11 = np.array([139,0,106])/champ\n",
    "no12 = np.array([102,0,137])/champ\n",
    "\n",
    "# pressure lines\n",
    "no13 = np.array([16,16,16])/champ"
   ]
  },
  {
   "cell_type": "code",
   "execution_count": 18,
   "metadata": {
    "collapsed": true
   },
   "outputs": [],
   "source": [
    "def opengrib(yyyy, mm, dd, tt, pm, path):\n",
    "    grib = '%s/%s/param_%s_%s%s%s_%s00.grib' % (path,pm,pm,yyyy,mm,dd,tt)\n",
    "    grbs = pygrib.open(grib)\n",
    "    return(grbs);"
   ]
  },
  {
   "cell_type": "code",
   "execution_count": 19,
   "metadata": {
    "collapsed": true
   },
   "outputs": [],
   "source": [
    "def selectgrb(grbs, sN, tOL, lv):\n",
    "    val = grbs.select()[0]\n",
    "    val = grbs.select(shortName = sN, typeOfLevel = tOL, level = lv)[0]\n",
    "    val = val.values\n",
    "    return(val);"
   ]
  },
  {
   "cell_type": "code",
   "execution_count": 20,
   "metadata": {
    "collapsed": true
   },
   "outputs": [],
   "source": [
    "def shiftgrb(grb,val):\n",
    "    lat,lon = grb.latlons()\n",
    "    lons = lon[0,:]\n",
    "    val,lons = shiftgrid(180., val, lons, start = False)\n",
    "    lats = lat[:,0]\n",
    "    \n",
    "    lons,lats = np.meshgrid(lons,lats)\n",
    "    plons,plats = m(lons,lats)\n",
    "    return(plons,plats,val);"
   ]
  },
  {
   "cell_type": "code",
   "execution_count": 21,
   "metadata": {
    "collapsed": true
   },
   "outputs": [],
   "source": [
    "### OPEN FILES\n",
    "path = '../test_dataECMWF/SCA/pl'\n",
    "\n",
    "### Wind\n",
    "parameter = 'uv'\n",
    "grbsUV = opengrib(yyyy = year, mm = mon, dd = day, tt = time, pm = parameter, path = path)\n",
    "\n",
    "path = '../test_dataECMWF/SCA/sfc'\n",
    "### Mean Sea Level Pressure\n",
    "parameter = 'msl'\n",
    "grbsMSL = opengrib(yyyy = year, mm = mon, dd = day, tt = time, pm = parameter, path = path)\n",
    "\n",
    "### Precipitable Water\n",
    "parameter = 'tcwv'\n",
    "grbsPW = opengrib(yyyy = year, mm = mon, dd = day, tt = time, pm = parameter, path = path)\n",
    "\n"
   ]
  },
  {
   "cell_type": "code",
   "execution_count": 22,
   "metadata": {
    "collapsed": true
   },
   "outputs": [],
   "source": [
    "### GET FILE DATA\n",
    "tOL = 'isobaricInhPa'\n",
    "lv = 850\n",
    "## Wind\n",
    "# U component of wind\n",
    "sN = 'u'\n",
    "grbUV = grbsUV.select()[0]\n",
    "wind_u = selectgrb(grbsUV, sN, tOL, lv)\n",
    "# V component of wind\n",
    "sN = 'v'\n",
    "wind_v = selectgrb(grbsUV, sN, tOL, lv)"
   ]
  },
  {
   "cell_type": "code",
   "execution_count": 23,
   "metadata": {
    "collapsed": true
   },
   "outputs": [],
   "source": [
    "## Mean sea level pressure\n",
    "tOL = 'surface'\n",
    "lv = 0\n",
    "sN = 'msl'\n",
    "grbMSL = grbsMSL.select()[0]\n",
    "MSL = selectgrb(grbsMSL, sN, tOL, lv)\n",
    "\n",
    "### converst MSL from Pa --> hPa\n",
    "MSL = 0.01 * MSL"
   ]
  },
  {
   "cell_type": "code",
   "execution_count": 24,
   "metadata": {
    "collapsed": true
   },
   "outputs": [],
   "source": [
    "## Total colum water vapour\n",
    "sN = 'tcwv'\n",
    "grbPW = grbsPW.select()[0]\n",
    "PW = selectgrb(grbsPW, sN, tOL, lv)"
   ]
  },
  {
   "cell_type": "code",
   "execution_count": 25,
   "metadata": {
    "collapsed": true
   },
   "outputs": [],
   "source": [
    "# Plotting data on a map (Example Gallery) https://matplotlib.org/basemap/users/examples.html\n",
    "m = Basemap(projection='merc', \\\n",
    "            llcrnrlon=-80., urcrnrlon=50., \\\n",
    "            llcrnrlat=15.,urcrnrlat=75., \\\n",
    "            resolution='l')"
   ]
  },
  {
   "cell_type": "code",
   "execution_count": 26,
   "metadata": {
    "collapsed": true
   },
   "outputs": [],
   "source": [
    "### Latitudes, Longitudes and shiftgrid\n",
    "plonsU,platsU, wind_u = shiftgrb(grbUV,wind_u)\n",
    "plonsV,platsV, wind_v = shiftgrb(grbUV,wind_v)\n",
    "plonsMSL,platsMSL, MSL = shiftgrb(grbMSL,MSL)\n",
    "plonsPW,platsPW, PW = shiftgrb(grbPW,PW)"
   ]
  },
  {
   "cell_type": "code",
   "execution_count": 27,
   "metadata": {
    "collapsed": true
   },
   "outputs": [],
   "source": [
    "### Dates for plotting\n",
    "yr = int(year)\n",
    "mo = int(mon)\n",
    "dy = int(day)\n",
    "my_date = date(yr,mo,dy)\n",
    "calday = calendar.day_name[my_date.weekday()]\n",
    "calmon = calendar.month_abbr[mo]\n",
    "\n",
    "\n"
   ]
  },
  {
   "cell_type": "markdown",
   "metadata": {},
   "source": [
    "### Plotting data on a map (Example Gallery) https://matplotlib.org/basemap/users/examples.html\n"
   ]
  },
  {
   "cell_type": "code",
   "execution_count": 28,
   "metadata": {},
   "outputs": [
    {
     "ename": "TypeError",
     "evalue": "val must be a float or nonzero sequence of floats",
     "output_type": "error",
     "traceback": [
      "\u001b[0;31m---------------------------------------------------------------------------\u001b[0m",
      "\u001b[0;31mTypeError\u001b[0m                                 Traceback (most recent call last)",
      "\u001b[0;32m<ipython-input-28-7229c6500b3b>\u001b[0m in \u001b[0;36m<module>\u001b[0;34m()\u001b[0m\n\u001b[1;32m     45\u001b[0m \u001b[0mcbar\u001b[0m\u001b[0;34m.\u001b[0m\u001b[0max\u001b[0m\u001b[0;34m.\u001b[0m\u001b[0mtick_params\u001b[0m\u001b[0;34m(\u001b[0m\u001b[0mlabelsize\u001b[0m\u001b[0;34m=\u001b[0m\u001b[0;36m20\u001b[0m\u001b[0;34m)\u001b[0m\u001b[0;34m\u001b[0m\u001b[0m\n\u001b[1;32m     46\u001b[0m \u001b[0;34m\u001b[0m\u001b[0m\n\u001b[0;32m---> 47\u001b[0;31m \u001b[0mcbar\u001b[0m\u001b[0;34m.\u001b[0m\u001b[0madd_lines\u001b[0m\u001b[0;34m(\u001b[0m\u001b[0mcc\u001b[0m\u001b[0;34m)\u001b[0m\u001b[0;34m\u001b[0m\u001b[0m\n\u001b[0m\u001b[1;32m     48\u001b[0m \u001b[0;34m\u001b[0m\u001b[0m\n\u001b[1;32m     49\u001b[0m \u001b[0;34m\u001b[0m\u001b[0m\n",
      "\u001b[0;32m/Volumes/SANDISK128/Applications/anaconda/envs/py36colormap/lib/python3.6/site-packages/matplotlib/colorbar.py\u001b[0m in \u001b[0;36madd_lines\u001b[0;34m(self, CS, erase)\u001b[0m\n\u001b[1;32m    959\u001b[0m         \u001b[0;31m#print 'tlinewidths:', tlinewidths\u001b[0m\u001b[0;34m\u001b[0m\u001b[0;34m\u001b[0m\u001b[0m\n\u001b[1;32m    960\u001b[0m         ColorbarBase.add_lines(self, CS.levels, tcolors, tlinewidths,\n\u001b[0;32m--> 961\u001b[0;31m                                erase=erase)\n\u001b[0m\u001b[1;32m    962\u001b[0m \u001b[0;34m\u001b[0m\u001b[0m\n\u001b[1;32m    963\u001b[0m     \u001b[0;32mdef\u001b[0m \u001b[0mupdate_normal\u001b[0m\u001b[0;34m(\u001b[0m\u001b[0mself\u001b[0m\u001b[0;34m,\u001b[0m \u001b[0mmappable\u001b[0m\u001b[0;34m)\u001b[0m\u001b[0;34m:\u001b[0m\u001b[0;34m\u001b[0m\u001b[0m\n",
      "\u001b[0;32m/Volumes/SANDISK128/Applications/anaconda/envs/py36colormap/lib/python3.6/site-packages/matplotlib/colorbar.py\u001b[0m in \u001b[0;36madd_lines\u001b[0;34m(self, levels, colors, linewidths, erase)\u001b[0m\n\u001b[1;32m    550\u001b[0m         \u001b[0;32melse\u001b[0m\u001b[0;34m:\u001b[0m\u001b[0;34m\u001b[0m\u001b[0m\n\u001b[1;32m    551\u001b[0m             \u001b[0mxy\u001b[0m \u001b[0;34m=\u001b[0m \u001b[0;34m[\u001b[0m\u001b[0mlist\u001b[0m\u001b[0;34m(\u001b[0m\u001b[0mzip\u001b[0m\u001b[0;34m(\u001b[0m\u001b[0mY\u001b[0m\u001b[0;34m[\u001b[0m\u001b[0mi\u001b[0m\u001b[0;34m]\u001b[0m\u001b[0;34m,\u001b[0m \u001b[0mX\u001b[0m\u001b[0;34m[\u001b[0m\u001b[0mi\u001b[0m\u001b[0;34m]\u001b[0m\u001b[0;34m)\u001b[0m\u001b[0;34m)\u001b[0m \u001b[0;32mfor\u001b[0m \u001b[0mi\u001b[0m \u001b[0;32min\u001b[0m \u001b[0mxrange\u001b[0m\u001b[0;34m(\u001b[0m\u001b[0mN\u001b[0m\u001b[0;34m)\u001b[0m\u001b[0;34m]\u001b[0m\u001b[0;34m\u001b[0m\u001b[0m\n\u001b[0;32m--> 552\u001b[0;31m         \u001b[0mcol\u001b[0m \u001b[0;34m=\u001b[0m \u001b[0mcollections\u001b[0m\u001b[0;34m.\u001b[0m\u001b[0mLineCollection\u001b[0m\u001b[0;34m(\u001b[0m\u001b[0mxy\u001b[0m\u001b[0;34m,\u001b[0m \u001b[0mlinewidths\u001b[0m\u001b[0;34m=\u001b[0m\u001b[0mlinewidths\u001b[0m\u001b[0;34m)\u001b[0m\u001b[0;34m\u001b[0m\u001b[0m\n\u001b[0m\u001b[1;32m    553\u001b[0m \u001b[0;34m\u001b[0m\u001b[0m\n\u001b[1;32m    554\u001b[0m         \u001b[0;32mif\u001b[0m \u001b[0merase\u001b[0m \u001b[0;32mand\u001b[0m \u001b[0mself\u001b[0m\u001b[0;34m.\u001b[0m\u001b[0mlines\u001b[0m\u001b[0;34m:\u001b[0m\u001b[0;34m\u001b[0m\u001b[0m\n",
      "\u001b[0;32m/Volumes/SANDISK128/Applications/anaconda/envs/py36colormap/lib/python3.6/site-packages/matplotlib/collections.py\u001b[0m in \u001b[0;36m__init__\u001b[0;34m(self, segments, linewidths, colors, antialiaseds, linestyles, offsets, transOffset, norm, cmap, pickradius, zorder, facecolors, **kwargs)\u001b[0m\n\u001b[1;32m   1218\u001b[0m             \u001b[0mpickradius\u001b[0m\u001b[0;34m=\u001b[0m\u001b[0mpickradius\u001b[0m\u001b[0;34m,\u001b[0m\u001b[0;34m\u001b[0m\u001b[0m\n\u001b[1;32m   1219\u001b[0m             \u001b[0mzorder\u001b[0m\u001b[0;34m=\u001b[0m\u001b[0mzorder\u001b[0m\u001b[0;34m,\u001b[0m\u001b[0;34m\u001b[0m\u001b[0m\n\u001b[0;32m-> 1220\u001b[0;31m             **kwargs)\n\u001b[0m\u001b[1;32m   1221\u001b[0m \u001b[0;34m\u001b[0m\u001b[0m\n\u001b[1;32m   1222\u001b[0m         \u001b[0mself\u001b[0m\u001b[0;34m.\u001b[0m\u001b[0mset_segments\u001b[0m\u001b[0;34m(\u001b[0m\u001b[0msegments\u001b[0m\u001b[0;34m)\u001b[0m\u001b[0;34m\u001b[0m\u001b[0m\n",
      "\u001b[0;32m/Volumes/SANDISK128/Applications/anaconda/envs/py36colormap/lib/python3.6/site-packages/matplotlib/collections.py\u001b[0m in \u001b[0;36m__init__\u001b[0;34m(self, edgecolors, facecolors, linewidths, linestyles, antialiaseds, offsets, transOffset, norm, cmap, pickradius, hatch, urls, offset_position, zorder, **kwargs)\u001b[0m\n\u001b[1;32m    140\u001b[0m         \u001b[0mself\u001b[0m\u001b[0;34m.\u001b[0m\u001b[0mset_facecolor\u001b[0m\u001b[0;34m(\u001b[0m\u001b[0mfacecolors\u001b[0m\u001b[0;34m)\u001b[0m\u001b[0;34m\u001b[0m\u001b[0m\n\u001b[1;32m    141\u001b[0m         \u001b[0mself\u001b[0m\u001b[0;34m.\u001b[0m\u001b[0mset_edgecolor\u001b[0m\u001b[0;34m(\u001b[0m\u001b[0medgecolors\u001b[0m\u001b[0;34m)\u001b[0m\u001b[0;34m\u001b[0m\u001b[0m\n\u001b[0;32m--> 142\u001b[0;31m         \u001b[0mself\u001b[0m\u001b[0;34m.\u001b[0m\u001b[0mset_linewidth\u001b[0m\u001b[0;34m(\u001b[0m\u001b[0mlinewidths\u001b[0m\u001b[0;34m)\u001b[0m\u001b[0;34m\u001b[0m\u001b[0m\n\u001b[0m\u001b[1;32m    143\u001b[0m         \u001b[0mself\u001b[0m\u001b[0;34m.\u001b[0m\u001b[0mset_linestyle\u001b[0m\u001b[0;34m(\u001b[0m\u001b[0mlinestyles\u001b[0m\u001b[0;34m)\u001b[0m\u001b[0;34m\u001b[0m\u001b[0m\n\u001b[1;32m    144\u001b[0m         \u001b[0mself\u001b[0m\u001b[0;34m.\u001b[0m\u001b[0mset_antialiased\u001b[0m\u001b[0;34m(\u001b[0m\u001b[0mantialiaseds\u001b[0m\u001b[0;34m)\u001b[0m\u001b[0;34m\u001b[0m\u001b[0m\n",
      "\u001b[0;32m/Volumes/SANDISK128/Applications/anaconda/envs/py36colormap/lib/python3.6/site-packages/matplotlib/collections.py\u001b[0m in \u001b[0;36mset_linewidth\u001b[0;34m(self, lw)\u001b[0m\n\u001b[1;32m    511\u001b[0m                 \u001b[0mlw\u001b[0m \u001b[0;34m=\u001b[0m \u001b[0mmpl\u001b[0m\u001b[0;34m.\u001b[0m\u001b[0mrcParams\u001b[0m\u001b[0;34m[\u001b[0m\u001b[0;34m'lines.linewidth'\u001b[0m\u001b[0;34m]\u001b[0m\u001b[0;34m\u001b[0m\u001b[0m\n\u001b[1;32m    512\u001b[0m         \u001b[0;31m# get the un-scaled/broadcast lw\u001b[0m\u001b[0;34m\u001b[0m\u001b[0;34m\u001b[0m\u001b[0m\n\u001b[0;32m--> 513\u001b[0;31m         \u001b[0mself\u001b[0m\u001b[0;34m.\u001b[0m\u001b[0m_us_lw\u001b[0m \u001b[0;34m=\u001b[0m \u001b[0mself\u001b[0m\u001b[0;34m.\u001b[0m\u001b[0m_get_value\u001b[0m\u001b[0;34m(\u001b[0m\u001b[0mlw\u001b[0m\u001b[0;34m)\u001b[0m\u001b[0;34m\u001b[0m\u001b[0m\n\u001b[0m\u001b[1;32m    514\u001b[0m \u001b[0;34m\u001b[0m\u001b[0m\n\u001b[1;32m    515\u001b[0m         \u001b[0;31m# scale all of the dash patterns.\u001b[0m\u001b[0;34m\u001b[0m\u001b[0;34m\u001b[0m\u001b[0m\n",
      "\u001b[0;32m/Volumes/SANDISK128/Applications/anaconda/envs/py36colormap/lib/python3.6/site-packages/matplotlib/collections.py\u001b[0m in \u001b[0;36m_get_value\u001b[0;34m(val)\u001b[0m\n\u001b[1;32m    177\u001b[0m                     \u001b[0;32mreturn\u001b[0m \u001b[0mval\u001b[0m\u001b[0;34m\u001b[0m\u001b[0m\n\u001b[1;32m    178\u001b[0m \u001b[0;34m\u001b[0m\u001b[0m\n\u001b[0;32m--> 179\u001b[0;31m         \u001b[0;32mraise\u001b[0m \u001b[0mTypeError\u001b[0m\u001b[0;34m(\u001b[0m\u001b[0;34m'val must be a float or nonzero sequence of floats'\u001b[0m\u001b[0;34m)\u001b[0m\u001b[0;34m\u001b[0m\u001b[0m\n\u001b[0m\u001b[1;32m    180\u001b[0m \u001b[0;34m\u001b[0m\u001b[0m\n\u001b[1;32m    181\u001b[0m     \u001b[0;34m@\u001b[0m\u001b[0mstaticmethod\u001b[0m\u001b[0;34m\u001b[0m\u001b[0m\n",
      "\u001b[0;31mTypeError\u001b[0m: val must be a float or nonzero sequence of floats"
     ]
    }
   ],
   "source": [
    "### PLOT FIGURE\n",
    "fig = plt.figure(figsize = (20,14.15))\n",
    "ax = fig.add_subplot(1,1,1)\n",
    "\n",
    "### Draw Latitude Lines\n",
    "m.drawparallels(np.arange(-90.,120.,10.),labels=[1,0,0,0],fontsize=20,linewidth=0.2)\n",
    "\n",
    "### Draw Longitude Lines\n",
    "m.drawmeridians(np.arange(-180.,180.,10.),labels=[0,0,0,1],fontsize=20,linewidth=0.2)\n",
    "\n",
    "### Draw Map\n",
    "m.drawcoastlines(color=[np.array([50,50,50])/champ])\n",
    "m.drawmapboundary()\n",
    "m.drawcountries()\n",
    "m.fillcontinents(color='grey',alpha=0.18)\n",
    "\n",
    "\n",
    "### Plot contour lines for precipitable water\n",
    "PWlevs = [16., 20., 24., 28., 32., 36., 40., 44., 48., 52., 62.]\n",
    "Pmap = colors.ListedColormap([no1, no2, no3, no4, no5, no6, no7, no8, no9, no10, no11])\n",
    "normP = colors.BoundaryNorm(boundaries = PWlevs, ncolors=Pmap.N)\n",
    "cp = m.contourf(plonsPW, platsPW, PW, PWlevs, norm = normP, cmap = Pmap)\n",
    "\n",
    "\n",
    "\n",
    "\n",
    "### Plot MSL pressure every 2 hPa\n",
    "clevs = np.arange(900,1100.,4.)\n",
    "cc = m.contour(plonsMSL, platsMSL, MSL, clevs, colors=[no13], linewidths = 1.8, linestyles = 'dashed')\n",
    "plt.clabel(cc, fontsize=16, inline = 1, fmt ='%1.0f')\n",
    "\n",
    "\n",
    "### Plot contour lines for 850-hPa wind \n",
    "# every 20,35 values from the wind\n",
    "cs = m.quiver(plonsU[::20,::35], platsU[::20,::35], wind_u[::20,::35], wind_v[::20,::35])#, Ulevels, norm = norm, cmap=Umap)\n",
    "\n",
    "\n",
    "\n",
    "\n",
    "### Add Colorbar\n",
    "cbaxes = fig.add_axes([0.14, 0.05, .75, .045] )   #[left, bottom, width, height] \n",
    "cbar = plt.colorbar(cp,orientation='horizontal',cax = cbaxes,ticks=PWlevs)#, cax = cbaxes)#, shrink=0.5)\n",
    "cbar.ax.set_xlabel('TCWV [mm]',fontsize=22)\n",
    "cbar.ax.set_xticklabels(['', '24', '28', '32', '36', '40', '44', '48', '52','62'])  # horizontal colorbar\n",
    "cbar.ax.tick_params(labelsize=20) \n",
    "\n",
    "\n",
    "\n",
    "### Add Textbox\n",
    "ax.text(0.98,0.94, '%s, %s %s %s   %s$\\,$UTC' %(calday, day, calmon, year, time),\n",
    "            verticalalignment = 'bottom',  horizontalalignment='right',\n",
    "            transform = ax.transAxes,\n",
    "            color =blue, fontsize=26,\n",
    "            bbox={'facecolor':'white','alpha':1., 'pad':10})\n",
    "\n",
    "### Add Title\n",
    "#    fig.suptitle('Jet, Thickness, SLP, and Moisture', fontsize=16, fontweight='bold') \n",
    "#    ax.set_title('MSLP (solid contours every 4$\\,$hPa), \\n \\\n",
    "#    250$\\,$hPa wind speed (m$\\,$s$^{-1}$, shaded according to the color bar), \\n \\\n",
    "#    1000-500$\\,$hPa thickness (dashed contours every 6 dam), \\n \\\n",
    "#    total precipitable water (mm, shaded according to gray scale)', \\\n",
    "#            fontsize=13)\n",
    "#plt.title('') \n",
    "\n",
    "\n",
    "### Save\n",
    "plt.savefig('../synoptic_figs/TCWV_U850/%s%s%s_%s.png' % (year, mon, day,time),orientation = 'landscape',\n",
    "           papertype = 'a4' )\n",
    "## with header\n",
    "#    plt.savefig('../synoptic_figs/Jet_Thick_SLP/%s%s%s_%s_header.png' % (year, mon, day,time))\n",
    "\n",
    "\n",
    "\n",
    "###\n",
    "plt.show()\n",
    "plt.close()"
   ]
  },
  {
   "cell_type": "code",
   "execution_count": null,
   "metadata": {
    "collapsed": true
   },
   "outputs": [],
   "source": []
  }
 ],
 "metadata": {
  "kernelspec": {
   "display_name": "Python 3",
   "language": "python",
   "name": "python3"
  },
  "language_info": {
   "codemirror_mode": {
    "name": "ipython",
    "version": 3
   },
   "file_extension": ".py",
   "mimetype": "text/x-python",
   "name": "python",
   "nbconvert_exporter": "python",
   "pygments_lexer": "ipython3",
   "version": "3.6.1"
  }
 },
 "nbformat": 4,
 "nbformat_minor": 2
}

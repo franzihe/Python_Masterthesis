{
 "cells": [
  {
   "cell_type": "code",
   "execution_count": null,
   "metadata": {},
   "outputs": [],
   "source": [
    "import sys\n",
    "sys.path.append('/Volumes/SANDISK128/Documents/Thesis/Python/')\n",
    "import fill_values as fv\n",
    "import pandas as pd\n",
    "import numpy as np\n",
    "from scipy.integrate import simps\n"
   ]
  },
  {
   "cell_type": "code",
   "execution_count": null,
   "metadata": {
    "collapsed": true
   },
   "outputs": [],
   "source": [
    "def get_value_at_station(val):\n",
    "    array = pd.DataFrame.from_dict(val[:,:])\n",
    "#    val_ml = pd.DataFrame.from_dict(val_ml[:,:,ens_memb,y[0],x[0]])\n",
    "    return(array)"
   ]
  },
  {
   "cell_type": "code",
   "execution_count": null,
   "metadata": {
    "collapsed": true
   },
   "outputs": [],
   "source": [
    "def get_thickness(surface_air_pressure, \n",
    "                  air_temperature_0m, air_temperature_ml,\n",
    "                  ap, b,\n",
    "                 ens_memb,y,x,):\n",
    "    ### Calculuat the thickness of each layer in m or geop height\n",
    "    \n",
    "### 1) Connect model levels and surface values\n",
    "# this is only done for pressure and temperature\n",
    "# !!!! DO NOT DO THAT FOR THE OTHER VALUES, SINCE in model levels it is the mixing ration and at the surface [kg/m^2]\n",
    "\n",
    "### Pressure\n",
    "# transform hybrid sigma pressure coordinate in model levels to actual pressure\n",
    "    surface_air_pressure, dt_sap = fv.mask_array(surface_air_pressure,ens_memb,y,x)\n",
    "    p_sfc = get_value_at_station(surface_air_pressure) \n",
    "    p_ml = pd.DataFrame.from_dict((ap[:] + b[:]*surface_air_pressure[:,:]))\n",
    "    pressure = np.asarray(pd.concat([p_ml, p_sfc],axis = 1))\n",
    "\n",
    "### Temperature\n",
    "    air_temperature_0m, dt_at0m = fv.mask_array(air_temperature_0m,ens_memb,y,x)\n",
    "    air_temperature_ml, dt_atml = fv.mask_array(air_temperature_ml,ens_memb,y,x)\n",
    "    t_sfc = get_value_at_station(air_temperature_0m)\n",
    "    t_ml = get_value_at_station(air_temperature_ml)\n",
    "    temperature = np.asarray(pd.concat([t_ml,t_sfc],axis = 1))\n",
    "\n",
    "### 2) to convert pressure-levels into actual heights use the hypsometric equation --> Temperature and pressure\n",
    "# are needed. After J. E. Martin: Mid-Latitude Atmospheric Dynamics Eq. 3.6\n",
    "    Rd = 287.    # gas constant for dry air [J kg^-1 K^-1]\n",
    "    g = 9.81     # Standard gravity [m s^-2]\n",
    "\n",
    "### calculate the pressure-weighted, column averaged temperature as from J. E. Martin: Mid-Latitude Atmospheric \n",
    "# Dynamics Book, Eq. below Eq. 3.6\n",
    "    temp_mean = []\n",
    "    for i in range(0, temperature.shape[1]):\n",
    "        numT = simps(y=temperature[:,i:(i+2)], x=pressure[:,i:(i+2)], dx = np.log(pressure[:,i:(i+2)]))\n",
    "        denomT = simps(y=np.ones(temperature[:,i:(i+2)].shape), x = pressure[:,i:(i+2)], dx = np.log(pressure[:,i:(i+2)]))\n",
    "        t_mean = numT/denomT\n",
    "        temp_mean.append(t_mean)\n",
    "# get temperature and pressure, and value so that array zero contains low levels (transpose or flip)\n",
    "    temp_mean = pd.DataFrame.from_dict(np.transpose((temp_mean)))\n",
    "    temp_mean = np.fliplr(temp_mean)\n",
    "    pres = np.fliplr(pressure)\n",
    "    temperature = np.fliplr(temperature)\n",
    "\n",
    "    thickness = []\n",
    "    geop_th = []\n",
    "    for i in range(0, pres.shape[1]):\n",
    "        if (i+1) == pres.shape[1]:\n",
    "            continue\n",
    "        p1 = pres[:,i]\n",
    "        p2 = pres[:,(i+1)]   \n",
    "        dz = (Rd * temp_mean[:,i])/g * np.log((p1/p2))    # thickness in [m]\n",
    "        dgeop = (Rd * temp_mean[:,i])* np.log((p1/p2))    # thickness in [J/kg]\n",
    "        thickness.append(dz)\n",
    "        geop_th.append(dgeop)\n",
    "# transpose array, so that array starts at lower levels\n",
    "    thickness = pd.DataFrame.from_dict(np.transpose((thickness)))\n",
    "    geop_th = pd.DataFrame.from_dict(np.transpose((geop_th)))\n",
    "    \n",
    "    return(thickness, geop_th)"
   ]
  }
 ],
 "metadata": {
  "kernelspec": {
   "display_name": "Python 3",
   "language": "python",
   "name": "python3"
  },
  "language_info": {
   "codemirror_mode": {
    "name": "ipython",
    "version": 3
   },
   "file_extension": ".py",
   "mimetype": "text/x-python",
   "name": "python",
   "nbconvert_exporter": "python",
   "pygments_lexer": "ipython3",
   "version": "3.6.1"
  }
 },
 "nbformat": 4,
 "nbformat_minor": 2
}

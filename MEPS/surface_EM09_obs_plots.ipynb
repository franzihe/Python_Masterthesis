{
 "cells": [
  {
   "cell_type": "code",
   "execution_count": 1,
   "metadata": {},
   "outputs": [],
   "source": [
    "#%matplotlib inline\n",
    "import sys\n",
    "sys.path.append('/Volumes/SANDISK128/Documents/Thesis/Python/')\n",
    "sys.path.append('/Volumes/SANDISK128/Documents/Thesis/Python/weather_mast/')\n",
    "sys.path.append('/Volumes/SANDISK128/Documents/Thesis/Python/MEPS/')\n",
    "sys.path.append('/Volumes/SANDISK128/Documents/Thesis/Python/Retrieval_MEPS/')\n",
    "import netCDF4\n",
    "import numpy as np\n",
    "import matplotlib.pyplot as plt\n",
    "import datetime\n",
    "import math\n",
    "\n",
    "import createFolder as cF\n",
    "import calc_date as cd\n",
    "import plot_sfc_spaghetti_ret as spagh\n",
    "import save_fig as SF\n",
    "import get_Haukeli_obs_data as obsDat\n",
    "import calc_48h_acc as acc\n",
    "import fill_values as fv\n",
    "import plot_vertical as pvert\n",
    "\n",
    "import os\n",
    "\n",
    "import pandas as pd\n",
    "import matplotlib as mpl\n",
    "mpl.style.use('ggplot')\n",
    "\n",
    "from calc_diff_obs_model import *\n",
    "from plt_spaghetti_scatter import *"
   ]
  },
  {
   "cell_type": "code",
   "execution_count": 2,
   "metadata": {
    "collapsed": true
   },
   "outputs": [],
   "source": [
    "year = 2016\n",
    "month = 12\n",
    "tid = '00'\n",
    "station = 'Haukeliseter'\n",
    "savefig = 1 # 1 = yes, 0 = no"
   ]
  },
  {
   "cell_type": "code",
   "execution_count": 3,
   "metadata": {
    "collapsed": true
   },
   "outputs": [],
   "source": [
    "#### days \n",
    "t = ['20', '21', '22', '23', '24', '25', '26', '27']\n"
   ]
  },
  {
   "cell_type": "code",
   "execution_count": 4,
   "metadata": {
    "collapsed": true
   },
   "outputs": [],
   "source": [
    "#var = 'PP'\n",
    "#var = 'SP'\n",
    "#var = 'T2'\n",
    "#var = 'WD'\n",
    "var = 'WS'\n",
    "if var == 'PP':\n",
    "    var_name = 'precipitation_amount_acc'\n",
    "elif var == 'SP':\n",
    "    var_name = 'air_pressure_at_sea_level'\n",
    "elif var == 'T2':\n",
    "    var_name = 'air_temperature_2m'\n",
    "elif var == 'WD':\n",
    "    var_name = 'wind_direction'\n",
    "elif var == 'WS':\n",
    "    var_name = 'wind_speed'\n",
    "\n",
    "\n",
    "figdir_var = '../../Figures/MEPS/%s' %(var_name)\n",
    "figdir_scatter = '../../Figures/MEPS/scatter_MEPS_obs/%s' %(var_name)\n",
    "figdir_error = '../../Figures/MEPS/error/%s' %(var_name)\n",
    "if savefig == 1:\n",
    "    cF.createFolder('%s/' %(figdir_var))\n",
    "    cF.createFolder('%s/' %(figdir_scatter))\n",
    "    cF.createFolder('%s/' %(figdir_error))\n",
    "\n",
    "\n",
    "\n",
    "\n",
    "form = 'png'"
   ]
  },
  {
   "cell_type": "code",
   "execution_count": 5,
   "metadata": {
    "collapsed": true
   },
   "outputs": [],
   "source": [
    "### MEPS\n",
    "if var == 'SP' or var == 'PP':\n",
    "    level = 'sfc'\n",
    "elif var == 'T2':\n",
    "    level = '2m'\n",
    "elif var == 'WD' or var == 'WS':\n",
    "    level = '10m'\n",
    "\n",
    "ncdir_var = '../../Data/MEPS/%s/%s_%s' %(station,level,tid)\n",
    "\n",
    "\n",
    "\n",
    "################################################################\n",
    "### Haukeli obs.\n",
    "txtdir = '../../Data/eklima/'\n",
    "txt_filename = 'Haukeli_obs_Dec2016'"
   ]
  },
  {
   "cell_type": "code",
   "execution_count": 6,
   "metadata": {
    "collapsed": true
   },
   "outputs": [],
   "source": [
    "# read in the Haukeliseter time file, sorted by daily values\n",
    "Haukeli_Date = pd.read_csv('%s/Observations-Date-Hour.txt' %(txtdir),\\\n",
    "                    sep = ';',header=19, skipfooter = 11, engine= 'python')\n",
    "DateHour = Haukeli_Date['Date-Hour(UTC)']"
   ]
  },
  {
   "cell_type": "code",
   "execution_count": 7,
   "metadata": {
    "collapsed": true
   },
   "outputs": [],
   "source": [
    "# read in the Haukeliseter observation file, sorted by daily values\n",
    "Haukeli = pd.read_csv('%s/%s.txt' %(txtdir,txt_filename),\\\n",
    "                    sep = ';',header=18, skipfooter = 2, engine= 'python')\n",
    "\n",
    "if var == 'PP':\n",
    "    obsvar = Haukeli['RR_1'].astype(float)         # Precipitation (1 hour); [mm]\n",
    "elif var == 'T2':\n",
    "    obsvar = Haukeli['TA'].astype(float)           # Air temperature;degC --> Lufttemperatur ved observasjonstiden i 2 m høyde\n",
    "elif var == 'SP':\n",
    "    obsvar = Haukeli['PR'].astype(float)           # PR;Air pressure at sea level;hPa\n",
    "elif var == 'WD' or var == 'WS':\n",
    "    obsvar_DD = Haukeli['DD'].astype(float)             # Wind direction (FF); [degrees]\n",
    "    obsvar_FF = Haukeli['FF'].astype(float)             # Wind speed (10 meters above ground);m/s\n",
    "\n",
    "if var == 'PP' or var == 'T2' or var == 'SP':\n",
    "    obsvar0, dt_obsvar0, hour_obsvar0, day_obsvar0, month_obsvar0, year_obsvar0 = obsDat.valid_values(obsvar, DateHour)\n",
    "elif var == 'WD' or var == 'WS':\n",
    "    idxFF = np.where(obsvar_FF[:] == -9999)\n",
    "    idxDD = np.where(obsvar_DD[:] == -9999)\n",
    "\n",
    "    obsvar_FF[idxFF[0][:]] = np.nan\n",
    "    obsvar_DD[idxDD[0][:]] = np.nan\n",
    "\n",
    "    ### calculate the U, V wind component for barb plot\n",
    "    # http://colaweb.gmu.edu/dev/clim301/lectures/wind/wind-uv.html\n",
    "    # first calculate the mathematical wind direction in deg\n",
    "    md_deg = 270 - obsvar_DD\n",
    "    for k in range(0,md_deg.shape[0]):\n",
    "        if md_deg[k] <0 :\n",
    "            md_deg[k] = md_deg[k] +360\n",
    "    md_rad = math.pi/180. * md_deg\n",
    "    uwind = obsvar_FF*np.cos(md_rad)\n",
    "    vwind = obsvar_FF*np.sin(md_rad)\n",
    "    \n",
    "    obsvar_FF_wind, obsvar_DD_wind, \\\n",
    "            obsvar_dt_wind, obsvar_hour_wind, \\\n",
    "            obsvar_day_wind, obsvar_month_wind, \\\n",
    "            obsvar_year_wind = obsDat.valid_values_wind(obsvar_FF, obsvar_DD, DateHour)\n",
    "    if var == 'WD':\n",
    "        obsvar0 = obsvar_DD_wind\n",
    "    elif var == 'WS':\n",
    "        obsvar0 = obsvar_FF_wind"
   ]
  },
  {
   "cell_type": "code",
   "execution_count": 8,
   "metadata": {
    "collapsed": true
   },
   "outputs": [],
   "source": [
    "fn_var = dict()\n",
    "\n",
    "if var == 'PP' or var == 'T2' or var == 'SP':\n",
    "    model_var = dict()\n",
    "elif var == 'WD' or var == 'WS':\n",
    "    model_var_x = dict()\n",
    "    model_var_y = dict()\n",
    "    \n",
    "    model_var = dict()\n",
    "\n",
    "\n",
    "time_var      = dict()\n",
    "lead_time_var = dict()\n",
    "ini_day       = dict()\n",
    "calday        = dict()\n",
    "calmon        = dict()\n"
   ]
  },
  {
   "cell_type": "code",
   "execution_count": 9,
   "metadata": {
    "collapsed": true
   },
   "outputs": [],
   "source": [
    "calendar_day = []\n",
    "initialisation_day = []\n",
    "calendar_month = []\n",
    "calendar_year = []\n",
    "initialisation_hh = []"
   ]
  },
  {
   "cell_type": "code",
   "execution_count": 10,
   "metadata": {
    "collapsed": true
   },
   "outputs": [],
   "source": [
    "diff_var = dict()\n",
    "Diff_var_0 = []\n",
    "Diff_var_1 = []\n",
    "Diff_var_2 = []\n",
    "Diff_var_3 = []\n",
    "Diff_var_4 = []\n",
    "Diff_var_5 = []\n",
    "Diff_var_6 = []\n",
    "Diff_var_7 = []\n",
    "Diff_var_8 = []\n",
    "Diff_var_9 = []\n",
    "\n",
    "\n",
    "all_day_max_var = []\n",
    "all_day_min_var = []"
   ]
  },
  {
   "cell_type": "code",
   "execution_count": 11,
   "metadata": {
    "collapsed": true
   },
   "outputs": [],
   "source": [
    "model_var_0 = []\n",
    "model_var_1 = []\n",
    "model_var_2 = []\n",
    "model_var_3 = []\n",
    "model_var_4 = []\n",
    "model_var_5 = []\n",
    "model_var_6 = []\n",
    "model_var_7 = []\n",
    "model_var_8 = []\n",
    "model_var_9 = []\n",
    "\n",
    "obs_var = []"
   ]
  },
  {
   "cell_type": "code",
   "execution_count": 12,
   "metadata": {},
   "outputs": [
    {
     "name": "stderr",
     "output_type": "stream",
     "text": [
      "/Volumes/SANDISK128/Applications/anaconda/envs/py36ECMWF/lib/python3.6/site-packages/numpy/lib/nanfunctions.py:1423: RuntimeWarning: Degrees of freedom <= 0 for slice.\n",
      "  keepdims=keepdims)\n"
     ]
    },
    {
     "name": "stdout",
     "output_type": "stream",
     "text": [
      "plot saved: ../../Figures/MEPS/wind_speed/20161220_00.png\n",
      "plot saved: ../../Figures/MEPS/scatter_MEPS_obs/wind_speed/obs_model_20161220_00.png\n",
      "plot saved: ../../Figures/MEPS/scatter_MEPS_obs/wind_speed/diff_20161220_00.png\n",
      "plot saved: ../../Figures/MEPS/wind_speed/20161221_00.png\n",
      "plot saved: ../../Figures/MEPS/scatter_MEPS_obs/wind_speed/obs_model_20161221_00.png\n",
      "plot saved: ../../Figures/MEPS/scatter_MEPS_obs/wind_speed/diff_20161221_00.png\n",
      "plot saved: ../../Figures/MEPS/wind_speed/20161222_00.png\n",
      "plot saved: ../../Figures/MEPS/scatter_MEPS_obs/wind_speed/obs_model_20161222_00.png\n",
      "plot saved: ../../Figures/MEPS/scatter_MEPS_obs/wind_speed/diff_20161222_00.png\n",
      "plot saved: ../../Figures/MEPS/wind_speed/20161223_00.png\n",
      "plot saved: ../../Figures/MEPS/scatter_MEPS_obs/wind_speed/obs_model_20161223_00.png\n",
      "plot saved: ../../Figures/MEPS/scatter_MEPS_obs/wind_speed/diff_20161223_00.png\n",
      "plot saved: ../../Figures/MEPS/wind_speed/20161224_00.png\n",
      "plot saved: ../../Figures/MEPS/scatter_MEPS_obs/wind_speed/obs_model_20161224_00.png\n",
      "plot saved: ../../Figures/MEPS/scatter_MEPS_obs/wind_speed/diff_20161224_00.png\n",
      "plot saved: ../../Figures/MEPS/wind_speed/20161225_00.png\n",
      "plot saved: ../../Figures/MEPS/scatter_MEPS_obs/wind_speed/obs_model_20161225_00.png\n",
      "plot saved: ../../Figures/MEPS/scatter_MEPS_obs/wind_speed/diff_20161225_00.png\n",
      "plot saved: ../../Figures/MEPS/wind_speed/20161226_00.png\n",
      "plot saved: ../../Figures/MEPS/scatter_MEPS_obs/wind_speed/obs_model_20161226_00.png\n",
      "plot saved: ../../Figures/MEPS/scatter_MEPS_obs/wind_speed/diff_20161226_00.png\n",
      "plot saved: ../../Figures/MEPS/wind_speed/20161227_00.png\n",
      "plot saved: ../../Figures/MEPS/scatter_MEPS_obs/wind_speed/obs_model_20161227_00.png\n",
      "plot saved: ../../Figures/MEPS/scatter_MEPS_obs/wind_speed/diff_20161227_00.png\n"
     ]
    }
   ],
   "source": [
    "#t = ['24']\n",
    "for day in t:\n",
    "    \n",
    "    if var == 'T2' or var == 'SP' or var == 'WD' or var == 'WS':\n",
    "        ### connect variable data for two days\n",
    "        df1 = obsvar0[int(day)-1]\n",
    "        df2 = obsvar0[int(day)]\n",
    "        Variable_obs = np.concatenate((df1,df2),axis=0)\n",
    "        df3 = obsvar0[int(day)+1][0]\n",
    "        Variable_obs = np.append(Variable_obs,df3)\n",
    "    \n",
    "\n",
    "\n",
    "\n",
    "    \n",
    "    \n",
    "    for ens_memb in range(0,10):\n",
    "        fn_var[ens_memb] = netCDF4.Dataset('%s/%s%s%s_%s_%s.nc' %(ncdir_var,year,month,day,tid,ens_memb))\n",
    "        \n",
    "        time_var[ens_memb] = fn_var[ens_memb].variables['time']\n",
    "        time_var[ens_memb] = fv.fill_nan(time_var[ens_memb][:])\n",
    "        lead_time_var[ens_memb] = np.arange(0,time_var[ens_memb].shape[0])\n",
    "# initialisation time for plotting\n",
    "        ini_day = (datetime.datetime.utcfromtimestamp(time_var[0][0]).day)   # day of initialisation\n",
    "        hh = (datetime.datetime.utcfromtimestamp(time_var[0][0]).hour)       # first hour of initialisation\n",
    "        calday, calmon = cd.get_dayname(year, month, ini_day)        \n",
    "# Read in the variable   \n",
    "        if var == 'PP' or var == 'T2' or var == 'SP':\n",
    "            model_var[ens_memb] = fn_var[ens_memb].variables[var_name][:]\n",
    "            if var == 'T2':\n",
    "                model_var[ens_memb] = model_var[ens_memb]-273.15\n",
    "            elif var == 'SP':\n",
    "                model_var[ens_memb] = model_var[ens_memb]/100\n",
    "            #substitute missing values with nan \n",
    "            model_var[ens_memb] = fv.fill_nan(model_var[ens_memb][:])\n",
    "\n",
    "          \n",
    "\n",
    "        elif var == 'WD' or var == 'WS':\n",
    "            model_var_x[ens_memb] = fn_var[ens_memb].variables['x_wind_10m'][:]\n",
    "            model_var_y[ens_memb] = fn_var[ens_memb].variables['y_wind_10m'][:]\n",
    "            #substitute missing values with nan \n",
    "            model_var_x[ens_memb] = fv.fill_nan(model_var_x[ens_memb][:,:])\n",
    "            model_var_y[ens_memb] = fv.fill_nan(model_var_y[ens_memb][:,:])\n",
    "\n",
    "\n",
    "            #### calculate wind direction / speed\n",
    "            if var == 'WD':\n",
    "                model_var[ens_memb] = np.arctan2(model_var_y[ens_memb][:,0], model_var_x[ens_memb][:,0])\n",
    "                model_var[ens_memb] = 270-np.rad2deg(model_var[ens_memb])  # convert from math to meteo direction and to degrees\n",
    "                larger360 = np.where(model_var[ens_memb] >360.)\n",
    "                model_var[ens_memb][larger360] = model_var[ens_memb][larger360]-360\n",
    "            elif var == 'WS':\n",
    "                model_var[ens_memb] = np.sqrt((model_var_x[ens_memb][:,0])**2 + (model_var_y[ens_memb][:,0])**2) \n",
    "\n",
    "#### calculate every 60 min the accumulation over 48 hours\n",
    "    if var == 'PP':\n",
    "        Variable_obs = acc.accumulation_dt60_for48h(obsvar0, ini_day)\n",
    "################\n",
    "\n",
    "#### calculate the ensemble mean of variable every 3 hours (all 10 ensemble member averaged)\n",
    "    val = np.zeros(shape=(10,np.asarray(model_var[0])[::3].shape[0]))\n",
    "    model_var_std = []\n",
    "    model_var_mean = []\n",
    "    for ens_memb in range(0,10):\n",
    "        if var == 'PP' or var == 'T2' or var == 'SP':\n",
    "            val[ens_memb] = np.asarray(model_var[ens_memb])[::3,0]\n",
    "        elif var == 'WD' or var == 'WS':\n",
    "            val[ens_memb] = np.asarray(model_var[ens_memb])[::3]\n",
    "          \n",
    "    ### std, mean\n",
    "    model_var_std.append(np.nanstd(val,axis=0,ddof=1))\n",
    "    model_var_mean.append(np.mean(val,axis=0))\n",
    "    \n",
    "    time_EM_mean = lead_time_var[0][0:np.asarray(model_var[0]).shape[0]:3]\n",
    "\n",
    "#    time_model_var_mean = lead_time_var[0][~np.isnan(model_var_mean).any(axis=0)]\n",
    " #   model_var_mean = np.asarray(model_var_mean)[~np.isnan(model_var_mean)]\n",
    "################    \n",
    "\n",
    "### save calendar day etc. for scatter plot\n",
    "    calendar_day.append(calday)\n",
    "    initialisation_day.append(ini_day)\n",
    "    calendar_month.append(calmon)\n",
    "    calendar_year.append(year)\n",
    "    initialisation_hh.append(hh) \n",
    "########\n",
    "\n",
    "\n",
    "#### calculate the difference between obs and model\n",
    "    diff_var, Diff_var_0, \\\n",
    "        Diff_var_1, Diff_var_2, Diff_var_3, \\\n",
    "        Diff_var_4, Diff_var_5, Diff_var_6, \\\n",
    "        Diff_var_7, Diff_var_8, Diff_var_9  = calc_diff(diff_var, \\\n",
    "                                                       model_var, Variable_obs, Diff_var_0,\\\n",
    "                                                       Diff_var_1, Diff_var_2, Diff_var_3, \\\n",
    "                                                       Diff_var_4, Diff_var_5, Diff_var_6, \\\n",
    "                                                       Diff_var_7, Diff_var_8, Diff_var_9,var=var)\n",
    "\n",
    "    if var == 'WD':\n",
    "        for ens_memb in range(0,10):\n",
    "            if (diff_var[ens_memb] < -180).any() == True:\n",
    "                diff_var[ens_memb][np.where(diff_var[ens_memb] < -180)] = \\\n",
    "                diff_var[ens_memb][np.where(diff_var[ens_memb] < -180)]+360\n",
    "                \n",
    "            elif (diff_var[ens_memb] > 180).any() == True:\n",
    "                diff_var[ens_memb][np.where(diff_var[ens_memb] > 180)] = \\\n",
    "                    diff_var[ens_memb][np.where(diff_var[ens_memb] > 180)]-360\n",
    "\n",
    "#########################################\n",
    "### save daily variable\n",
    "    if var == 'PP' or var == 'T2' or var == 'SP':\n",
    "        model_var_0.append(model_var[0][:,0])\n",
    "        model_var_1.append(model_var[1][:,0])\n",
    "        model_var_2.append(model_var[2][:,0])\n",
    "        model_var_3.append(model_var[3][:,0])\n",
    "        model_var_4.append(model_var[4][:,0])\n",
    "        model_var_5.append(model_var[5][:,0])\n",
    "        model_var_6.append(model_var[6][:,0])\n",
    "        model_var_7.append(model_var[7][:,0])\n",
    "        model_var_8.append(model_var[8][:,0])\n",
    "        model_var_9.append(model_var[9][:,0])\n",
    "    elif var == 'WD' or var == 'WS':\n",
    "        model_var_0.append(model_var[0])#[:,0])\n",
    "        model_var_1.append(model_var[1])#[:,0])\n",
    "        model_var_2.append(model_var[2])#[:,0])\n",
    "        model_var_3.append(model_var[3])#[:,0])\n",
    "        model_var_4.append(model_var[4])#[:,0])\n",
    "        model_var_5.append(model_var[5])#[:,0])\n",
    "        model_var_6.append(model_var[6])#[:,0])\n",
    "        model_var_7.append(model_var[7])#[:,0])\n",
    "        model_var_8.append(model_var[8])#[:,0])\n",
    "        model_var_9.append(model_var[9])#[:,0])\n",
    "    \n",
    "    obs_var.append(Variable_obs)\n",
    "    \n",
    "#########################################    \n",
    "    if hh < 10:\n",
    "        hh = '0%s' %hh\n",
    "    else:\n",
    "        hh = hh\n",
    "#########################################\n",
    "    for ens_memb in range(0,10):\n",
    "        if var == 'PP' or var == 'T2' or var == 'SP':\n",
    "            lead_time_var[ens_memb] = lead_time_var[ens_memb][~np.isnan(model_var[ens_memb][:,0])]\n",
    "        elif var == 'WD' or var == 'WS':\n",
    "            lead_time_var[ens_memb] = lead_time_var[ens_memb][~np.isnan(model_var[ens_memb])]\n",
    "        model_var[ens_memb]     = model_var[ens_memb][~np.isnan(model_var[ens_memb])]\n",
    "    \n",
    "    \n",
    "    \n",
    "        fn_var[ens_memb].close()\n",
    "###########\n",
    "\n",
    "        \n",
    "        \n",
    "        \n",
    "\n",
    "##### PLOTTING ############################################\n",
    "    fig_name = '%s%s%s_%s.png' %(year,month,ini_day,hh)\n",
    "    \n",
    "    title = 'initalised: %s, %s %s %s %s UTC' %(calday,ini_day,calmon,year,hh)\n",
    "    xdays = ['%s-%s-%s' %(year,month,ini_day), '',\n",
    "        6,'',12,'', 18,'',\n",
    "        '%s-%s-%s' %(year,month,ini_day+1), '',\n",
    "        6,'', 12,'', 18,'',\n",
    "        '%s-%s-%s' %(year,month,ini_day+2)]\n",
    "####### plot variable    \n",
    "    lgd = plt_variable(lead_time_var,model_var,Variable_obs,time_EM_mean, np.asarray(model_var_mean)[0,:],var=var,\n",
    "                       xdays=xdays, title = title)\n",
    "    if savefig == 1:\n",
    " #       plt.savefig('%s/%s' % (figdir_var, fig_name), format = form,bbox_extra_artists=(lgd,), bbox_inches='tight')\n",
    "        plt.savefig('%s/%s' % (figdir_var, fig_name), format = form, bbox_inches='tight')\n",
    "        print('plot saved: %s/%s' %(figdir_var,fig_name))\n",
    "    elif savefig == 0:\n",
    "        plt.show()\n",
    "    plt.close()\n",
    "\n",
    "###################################################################    \n",
    "#### plot scatter observation vs. model\n",
    "    if day == '20':\n",
    "        cc = no1\n",
    "    elif day == '21':\n",
    "        cc = no2\n",
    "    elif day == '22':\n",
    "        cc = no3\n",
    "    elif day == '23':\n",
    "        cc = no4\n",
    "    elif day == '24':\n",
    "        cc = no5\n",
    "    elif day == '25':\n",
    "        cc = no6\n",
    "    elif day == '26':\n",
    "        cc = no7\n",
    "    label = '%s, %s %s %s %s UTC' %(calday,ini_day, \n",
    "                                        calmon,year,hh)\n",
    "    plt_scatter_obs_model(Variable_obs, model_var,cc,var=var,label=label)  \n",
    "    if savefig == 1:\n",
    "        plt.savefig('%s/obs_model_%s' % (figdir_scatter, fig_name))\n",
    "        print('plot saved: %s/obs_model_%s' %(figdir_scatter,fig_name))\n",
    "    elif savefig == 0:\n",
    "        plt.show()\n",
    "    plt.close()\n",
    "     \n",
    "\n",
    "###################################################################    \n",
    "#### plot scatter difference\n",
    " \n",
    "    \n",
    "    plt_scatter_diff(diff_var, lead_time_var, Variable_obs, cc, var=var,label=label)\n",
    "    if savefig == 1:\n",
    "        plt.savefig('%s/diff_%s' % (figdir_scatter, fig_name))\n",
    "        print('plot saved: %s/diff_%s' %(figdir_scatter,fig_name))\n",
    "    elif savefig == 0:\n",
    "        plt.show()\n",
    "    plt.close()"
   ]
  },
  {
   "cell_type": "code",
   "execution_count": 13,
   "metadata": {
    "collapsed": true
   },
   "outputs": [],
   "source": [
    "###################################\n",
    "model_var_all_day = dict()\n",
    "\n",
    "model_var_all_day[0]=(model_var_0)\n",
    "model_var_all_day[1]=(model_var_1)\n",
    "model_var_all_day[2]=(model_var_2)\n",
    "model_var_all_day[3]=(model_var_3)\n",
    "model_var_all_day[4]=(model_var_4)\n",
    "model_var_all_day[5]=(model_var_5)\n",
    "model_var_all_day[6]=(model_var_6)\n",
    "model_var_all_day[7]=(model_var_7)\n",
    "model_var_all_day[8]=(model_var_8)\n",
    "model_var_all_day[9]=(model_var_9)"
   ]
  },
  {
   "cell_type": "code",
   "execution_count": null,
   "metadata": {
    "collapsed": true
   },
   "outputs": [],
   "source": []
  },
  {
   "cell_type": "code",
   "execution_count": null,
   "metadata": {
    "collapsed": true
   },
   "outputs": [],
   "source": []
  },
  {
   "cell_type": "code",
   "execution_count": null,
   "metadata": {
    "collapsed": true
   },
   "outputs": [],
   "source": []
  },
  {
   "cell_type": "code",
   "execution_count": null,
   "metadata": {
    "collapsed": true
   },
   "outputs": [],
   "source": []
  },
  {
   "cell_type": "raw",
   "metadata": {
    "collapsed": true
   },
   "source": [
    "WS_model_all_day = model_var_all_day\n",
    "WS_obs_var = obs_var"
   ]
  },
  {
   "cell_type": "raw",
   "metadata": {
    "collapsed": true
   },
   "source": [
    "WD_model_all_day = model_var_all_day\n",
    "WD_obs_var = obs_var"
   ]
  },
  {
   "cell_type": "raw",
   "metadata": {
    "collapsed": true
   },
   "source": [
    "PP_model_all_day = model_var_all_day\n",
    "PP_obs_var = obs_var"
   ]
  },
  {
   "cell_type": "raw",
   "metadata": {},
   "source": [
    "np.asarray(PP_obs_var)[np.where(np.asarray(WS_obs_var)>10)]"
   ]
  },
  {
   "cell_type": "raw",
   "metadata": {},
   "source": [
    "np.asarray(WD_obs_var)[np.where(np.asarray(WS_obs_var)>10)]"
   ]
  },
  {
   "cell_type": "raw",
   "metadata": {
    "scrolled": true
   },
   "source": [
    "np.asarray(WS_obs_var)[np.where(np.asarray(WS_obs_var)>10)]"
   ]
  },
  {
   "cell_type": "raw",
   "metadata": {
    "collapsed": true
   },
   "source": [
    "PP_obs_flat = dict()\n",
    "PP_model_flat = dict()\n",
    "PPP_p = dict()\n",
    "PP_gradient = dict()\n",
    "PP_intercept = dict()\n",
    "PP_r = dict()\n",
    "PP_p = dict()\n",
    "PP_std = dict()\n",
    "\n",
    "\n",
    "for day in range(0,len(obs_var)):\n",
    "#    print(day)\n",
    "    PP_obs_flat[day],PP_model_flat[day],PPP_p[day],PP_gradient[day],PP_intercept[day], PP_r[day], PP_p[day], PP_std[day] \\\n",
    "        = regression_all_EM(model_var_all_day,obs_var,day)\n",
    "\n"
   ]
  },
  {
   "cell_type": "raw",
   "metadata": {
    "collapsed": true
   },
   "source": [
    "plt_scatter_all_days(obs_var,\n",
    "                     model_var_all_day,\n",
    "                     var='PP', \n",
    "                     day_range=np.arange(0,len(obs_var)-1),\n",
    "                               in_day=initialisation_day, cal_mon=calendar_month,\n",
    "                              cal_year=calendar_year,in_hh=initialisation_hh,\n",
    "                          x_obs=x_obs,intercept_obs=intercept_obs,gradient_obs=gradient_obs,\n",
    "                          r_value=r_obs)"
   ]
  },
  {
   "cell_type": "code",
   "execution_count": null,
   "metadata": {
    "collapsed": true
   },
   "outputs": [],
   "source": []
  },
  {
   "cell_type": "code",
   "execution_count": null,
   "metadata": {
    "collapsed": true
   },
   "outputs": [],
   "source": []
  },
  {
   "cell_type": "code",
   "execution_count": null,
   "metadata": {
    "collapsed": true
   },
   "outputs": [],
   "source": []
  },
  {
   "cell_type": "code",
   "execution_count": null,
   "metadata": {
    "collapsed": true
   },
   "outputs": [],
   "source": []
  },
  {
   "cell_type": "code",
   "execution_count": null,
   "metadata": {
    "collapsed": true
   },
   "outputs": [],
   "source": []
  },
  {
   "cell_type": "code",
   "execution_count": 14,
   "metadata": {},
   "outputs": [],
   "source": [
    "model_2124 = []\n",
    "obs_var_2124 = []\n",
    "for ens_memb in range(0,10):\n",
    "    model_2124.append(np.asarray(model_var_all_day[ens_memb])[1:4,:np.asarray(obs_var)[1:4,:].shape[0]])\n",
    "    obs_var_2124.append(np.asarray(obs_var)[1:4,:np.asarray(obs_var)[1:4,:np.asarray(obs_var)[1:4,:].shape[0]].shape[0]])"
   ]
  },
  {
   "cell_type": "code",
   "execution_count": 15,
   "metadata": {
    "collapsed": true
   },
   "outputs": [],
   "source": [
    "from scipy import stats\n",
    "\n",
    "def regression_all_EM(model_var_all_day,obs_var,day):\n",
    "    model_2112 = []\n",
    "    obs_var_2112 = []\n",
    "    for ens_memb in range(0,10):\n",
    "        model_2112.append(np.asarray(model_var_all_day[ens_memb])[day,:np.asarray(obs_var)[day,:].shape[0]])\n",
    "        obs_var_2112.append(np.asarray(obs_var)[day,:np.asarray(obs_var)[day,:].shape[0]])\n",
    "\n",
    "\n",
    "#    print(np.asarray(obs_var_2112).shape)\n",
    " #   print(np.asarray(model_2112).shape)\n",
    "    PP_obs_flat_21 = np.ndarray.flatten(np.asarray(obs_var_2112))\n",
    "    PP_model_flat_21 = np.ndarray.flatten(np.asarray(model_2112))\n",
    "\n",
    "    x_obs = np.asarray(PP_obs_flat_21)\n",
    "    y_obs = np.asarray(PP_model_flat_21)\n",
    "    mask_obs = ~np.isnan(x_obs) & ~np.isnan(y_obs)\n",
    "    gradient_obs, intercept_obs, r_value, p_value, std_err = stats.linregress(x_obs[mask_obs],y_obs[mask_obs])\n",
    "\n",
    "    return(PP_obs_flat_21,PP_model_flat_21,x_obs,gradient_obs,intercept_obs, r_value, p_value, std_err)"
   ]
  },
  {
   "cell_type": "code",
   "execution_count": 16,
   "metadata": {
    "collapsed": true
   },
   "outputs": [],
   "source": [
    "PP_obs_flat = dict()\n",
    "PP_model_flat = dict()\n",
    "x_obs = dict()\n",
    "gradient_obs = dict()\n",
    "intercept_obs = dict()\n",
    "r_obs = dict()\n",
    "p_obs = dict()\n",
    "std_err_obs = dict()\n",
    "\n",
    "\n",
    "for day in range(0,len(obs_var)):\n",
    "#    print(day)\n",
    "    PP_obs_flat[day],PP_model_flat[day],x_obs[day],gradient_obs[day],intercept_obs[day], r_obs[day], p_obs[day], std_err_obs[day] \\\n",
    "        = regression_all_EM(model_var_all_day,obs_var,day)\n"
   ]
  },
  {
   "cell_type": "raw",
   "metadata": {},
   "source": [
    "### regression for 3 days \n",
    "flat_obs2124 = []\n",
    "flat_model2124 = []\n",
    "for day in range(1,4):\n",
    "    flat_obs2124.append(PP_obs_flat[day])\n",
    "    flat_model2124.append(PP_model_flat[day])\n",
    "\n",
    "flat_flat_obs2124 =   np.ndarray.flatten(np.asarray(flat_obs2124))\n",
    "flat_flat_model2124 = np.ndarray.flatten(np.asarray(flat_model2124))\n",
    "x_obs2124 = np.asarray(flat_flat_obs2124)\n",
    "y_obs2124 = np.asarray(flat_flat_model2124)\n",
    "mask_obs2124 = ~np.isnan(x_obs2124) & ~np.isnan(y_obs2124)\n",
    "gradient_obs2124, intercept_obs2124, r_value2124, p_value2124, std_err2124 = \\\n",
    "            stats.linregress(x_obs2124[mask_obs2124],y_obs2124[mask_obs2124])\n",
    "\n",
    "plt.plot(x_obs2124,intercept_obs2124+gradient_obs2124*x_obs2124)\n",
    "plt.show()"
   ]
  },
  {
   "cell_type": "code",
   "execution_count": 17,
   "metadata": {},
   "outputs": [
    {
     "name": "stdout",
     "output_type": "stream",
     "text": [
      "plot saved: ../../Figures/MEPS/scatter_MEPS_obs/wind_speed/obs_model_20161220_26_00.png\n"
     ]
    }
   ],
   "source": [
    "###################################################################    \n",
    "#### plot scatter observation vs. model\n",
    "lgd = plt_scatter_all_days(obs_var,model_var_all_day,var=var, day_range=np.arange(0,len(obs_var)-1),\n",
    "                               in_day=initialisation_day, cal_mon=calendar_month,\n",
    "                              cal_year=calendar_year,in_hh=initialisation_hh,\n",
    "                          x_obs=x_obs,intercept_obs=intercept_obs,gradient_obs=gradient_obs,\n",
    "                          r_value=r_obs)\n",
    "fig_name = 'obs_model_%s%s%s_%s_%s.png' %(calendar_year[0],month,initialisation_day[0],initialisation_day[len(obs_var)-2],hh)\n",
    "if savefig == 1:\n",
    "    #plt.savefig('%s/%s' % (figdir_scatter, fig_name), format = form,bbox_extra_artists=(lgd,), bbox_inches='tight')\n",
    "    plt.savefig('%s/%s' % (figdir_scatter, fig_name), format = form, bbox_inches='tight')\n",
    "    print('plot saved: %s/%s' %(figdir_scatter,fig_name))\n",
    "elif savefig == 0:\n",
    "    plt.show()\n",
    "plt.close()"
   ]
  },
  {
   "cell_type": "code",
   "execution_count": 18,
   "metadata": {},
   "outputs": [
    {
     "name": "stdout",
     "output_type": "stream",
     "text": [
      "plot saved: ../../Figures/MEPS/scatter_MEPS_obs/wind_speed/obs_model_20161220_23_00.png\n"
     ]
    }
   ],
   "source": [
    "### 20.12. - 23.12. \n",
    "lgd = plt_scatter_all_days(obs_var,model_var_all_day,var=var, day_range=np.arange(0,4),\n",
    "                               in_day=initialisation_day, cal_mon=calendar_month,\n",
    "                              cal_year=calendar_year,in_hh=initialisation_hh,\n",
    "                          x_obs=x_obs,intercept_obs=intercept_obs,gradient_obs=gradient_obs,\n",
    "                          r_value=r_obs)\n",
    "fig_name = 'obs_model_%s%s%s_%s_%s.png' %(calendar_year[0],month,initialisation_day[0],initialisation_day[4-1],hh)\n",
    "if savefig == 1:\n",
    "#    plt.savefig('%s/%s' % (figdir_scatter, fig_name), format = form,bbox_extra_artists=(lgd,), bbox_inches='tight')\n",
    "    plt.savefig('%s/%s' % (figdir_scatter, fig_name), format = form, bbox_inches='tight')\n",
    "    print('plot saved: %s/%s' %(figdir_scatter,fig_name))\n",
    "elif savefig == 0:\n",
    "    plt.show()\n",
    "plt.close()"
   ]
  },
  {
   "cell_type": "code",
   "execution_count": 19,
   "metadata": {},
   "outputs": [
    {
     "name": "stdout",
     "output_type": "stream",
     "text": [
      "plot saved: ../../Figures/MEPS/scatter_MEPS_obs/wind_speed/obs_model_20161221_23_00.png\n"
     ]
    }
   ],
   "source": [
    "### 21.12. - 23.12. \n",
    "lgd = plt_scatter_all_days(obs_var,model_var_all_day,var=var, day_range=np.arange(1,4),\n",
    "                               in_day=initialisation_day, cal_mon=calendar_month,\n",
    "                              cal_year=calendar_year,in_hh=initialisation_hh,\n",
    "                          x_obs=x_obs,intercept_obs=intercept_obs,gradient_obs=gradient_obs,\n",
    "                          r_value=r_obs)\n",
    "fig_name = 'obs_model_%s%s%s_%s_%s.png' %(calendar_year[1],month,initialisation_day[1],initialisation_day[4-1],hh)\n",
    "if savefig == 1:\n",
    "#    plt.savefig('%s/%s' % (figdir_scatter, fig_name), format = form,bbox_extra_artists=(lgd,), bbox_inches='tight')\n",
    "    plt.savefig('%s/%s' % (figdir_scatter, fig_name),  bbox_inches='tight')\n",
    "    print('plot saved: %s/%s' %(figdir_scatter,fig_name))\n",
    "elif savefig == 0:\n",
    "    plt.show()\n",
    "plt.close()"
   ]
  },
  {
   "cell_type": "code",
   "execution_count": 20,
   "metadata": {},
   "outputs": [
    {
     "name": "stdout",
     "output_type": "stream",
     "text": [
      "plot saved: ../../Figures/MEPS/scatter_MEPS_obs/wind_speed/obs_model_20161224_26_00.png\n"
     ]
    }
   ],
   "source": [
    "### 24.12. - 26.12.\n",
    "lgd = plt_scatter_all_days(obs_var,model_var_all_day,var=var, day_range=np.arange(4,len(obs_var)-1),\n",
    "                               in_day=initialisation_day, cal_mon=calendar_month,\n",
    "                              cal_year=calendar_year,in_hh=initialisation_hh,\n",
    "                          x_obs=x_obs,intercept_obs=intercept_obs,gradient_obs=gradient_obs,\n",
    "                          r_value=r_obs)\n",
    "fig_name = 'obs_model_%s%s%s_%s_%s.png' %(calendar_year[4],month,initialisation_day[4],initialisation_day[len(obs_var)-2],hh)\n",
    "if savefig == 1:\n",
    "#    plt.savefig('%s/%s' % (figdir_scatter, fig_name), format = form,bbox_extra_artists=(lgd,), bbox_inches='tight')\n",
    "    plt.savefig('%s/%s' % (figdir_scatter, fig_name), format = form, bbox_inches='tight')\n",
    "    print('plot saved: %s/%s' %(figdir_scatter,fig_name))\n",
    "elif savefig == 0:\n",
    "    plt.show()\n",
    "plt.close()"
   ]
  },
  {
   "cell_type": "code",
   "execution_count": 21,
   "metadata": {
    "collapsed": true
   },
   "outputs": [],
   "source": [
    "###################################################################    \n",
    "#### plot scatter difference\n",
    "Diff_obs_model_var = dict()\n",
    "\n",
    "Diff_obs_model_var[0]=(Diff_var_0)\n",
    "Diff_obs_model_var[1]=(Diff_var_1)\n",
    "Diff_obs_model_var[2]=(Diff_var_2)\n",
    "Diff_obs_model_var[3]=(Diff_var_3)\n",
    "Diff_obs_model_var[4]=(Diff_var_4)\n",
    "Diff_obs_model_var[5]=(Diff_var_5)\n",
    "Diff_obs_model_var[6]=(Diff_var_6)\n",
    "Diff_obs_model_var[7]=(Diff_var_7)\n",
    "Diff_obs_model_var[8]=(Diff_var_8)\n",
    "Diff_obs_model_var[9]=(Diff_var_9)"
   ]
  },
  {
   "cell_type": "code",
   "execution_count": 22,
   "metadata": {},
   "outputs": [
    {
     "data": {
      "text/html": [
       "<div>\n",
       "<style>\n",
       "    .dataframe thead tr:only-child th {\n",
       "        text-align: right;\n",
       "    }\n",
       "\n",
       "    .dataframe thead th {\n",
       "        text-align: left;\n",
       "    }\n",
       "\n",
       "    .dataframe tbody tr th {\n",
       "        vertical-align: top;\n",
       "    }\n",
       "</style>\n",
       "<table border=\"1\" class=\"dataframe\">\n",
       "  <thead>\n",
       "    <tr style=\"text-align: right;\">\n",
       "      <th></th>\n",
       "      <th>0</th>\n",
       "      <th>1</th>\n",
       "      <th>2</th>\n",
       "      <th>3</th>\n",
       "      <th>4</th>\n",
       "      <th>5</th>\n",
       "      <th>6</th>\n",
       "      <th>7</th>\n",
       "      <th>8</th>\n",
       "      <th>9</th>\n",
       "      <th>...</th>\n",
       "      <th>39</th>\n",
       "      <th>40</th>\n",
       "      <th>41</th>\n",
       "      <th>42</th>\n",
       "      <th>43</th>\n",
       "      <th>44</th>\n",
       "      <th>45</th>\n",
       "      <th>46</th>\n",
       "      <th>47</th>\n",
       "      <th>48</th>\n",
       "    </tr>\n",
       "  </thead>\n",
       "  <tbody>\n",
       "    <tr>\n",
       "      <th>0</th>\n",
       "      <td>-4.968185</td>\n",
       "      <td>-2.978170</td>\n",
       "      <td>1.513670</td>\n",
       "      <td>-0.586409</td>\n",
       "      <td>-0.557546</td>\n",
       "      <td>-2.931011</td>\n",
       "      <td>-3.518873</td>\n",
       "      <td>-3.515867</td>\n",
       "      <td>-2.452683</td>\n",
       "      <td>-0.547578</td>\n",
       "      <td>...</td>\n",
       "      <td>4.113329</td>\n",
       "      <td>3.384974</td>\n",
       "      <td>2.296088</td>\n",
       "      <td>11.538753</td>\n",
       "      <td>2.315254</td>\n",
       "      <td>3.587811</td>\n",
       "      <td>5.104802</td>\n",
       "      <td>8.476078</td>\n",
       "      <td>5.028444</td>\n",
       "      <td>2.618438</td>\n",
       "    </tr>\n",
       "    <tr>\n",
       "      <th>1</th>\n",
       "      <td>5.694490</td>\n",
       "      <td>4.937621</td>\n",
       "      <td>5.943408</td>\n",
       "      <td>5.516130</td>\n",
       "      <td>4.435672</td>\n",
       "      <td>2.214324</td>\n",
       "      <td>6.208077</td>\n",
       "      <td>7.301652</td>\n",
       "      <td>5.959482</td>\n",
       "      <td>7.271976</td>\n",
       "      <td>...</td>\n",
       "      <td>4.761346</td>\n",
       "      <td>5.472980</td>\n",
       "      <td>5.906161</td>\n",
       "      <td>7.581699</td>\n",
       "      <td>3.243031</td>\n",
       "      <td>2.506237</td>\n",
       "      <td>7.963942</td>\n",
       "      <td>5.653478</td>\n",
       "      <td>6.685457</td>\n",
       "      <td>6.530997</td>\n",
       "    </tr>\n",
       "    <tr>\n",
       "      <th>2</th>\n",
       "      <td>3.131244</td>\n",
       "      <td>3.889514</td>\n",
       "      <td>2.081288</td>\n",
       "      <td>5.080657</td>\n",
       "      <td>4.332537</td>\n",
       "      <td>6.158203</td>\n",
       "      <td>4.234903</td>\n",
       "      <td>6.871894</td>\n",
       "      <td>6.345481</td>\n",
       "      <td>4.568073</td>\n",
       "      <td>...</td>\n",
       "      <td>6.561809</td>\n",
       "      <td>5.628264</td>\n",
       "      <td>2.238375</td>\n",
       "      <td>5.493147</td>\n",
       "      <td>7.160100</td>\n",
       "      <td>3.554041</td>\n",
       "      <td>4.789400</td>\n",
       "      <td>4.613247</td>\n",
       "      <td>0.812031</td>\n",
       "      <td>4.516561</td>\n",
       "    </tr>\n",
       "    <tr>\n",
       "      <th>3</th>\n",
       "      <td>4.837647</td>\n",
       "      <td>2.489633</td>\n",
       "      <td>6.111595</td>\n",
       "      <td>4.028598</td>\n",
       "      <td>4.551957</td>\n",
       "      <td>5.037531</td>\n",
       "      <td>5.774673</td>\n",
       "      <td>3.565132</td>\n",
       "      <td>3.311582</td>\n",
       "      <td>-1.838816</td>\n",
       "      <td>...</td>\n",
       "      <td>9.873964</td>\n",
       "      <td>10.409782</td>\n",
       "      <td>11.961993</td>\n",
       "      <td>9.879919</td>\n",
       "      <td>8.514526</td>\n",
       "      <td>8.066063</td>\n",
       "      <td>6.303224</td>\n",
       "      <td>5.149913</td>\n",
       "      <td>7.723685</td>\n",
       "      <td>3.665725</td>\n",
       "    </tr>\n",
       "    <tr>\n",
       "      <th>4</th>\n",
       "      <td>5.943059</td>\n",
       "      <td>2.650818</td>\n",
       "      <td>4.488514</td>\n",
       "      <td>2.232794</td>\n",
       "      <td>5.062233</td>\n",
       "      <td>4.105370</td>\n",
       "      <td>9.026114</td>\n",
       "      <td>2.082672</td>\n",
       "      <td>6.604826</td>\n",
       "      <td>6.047121</td>\n",
       "      <td>...</td>\n",
       "      <td>1.307617</td>\n",
       "      <td>0.779051</td>\n",
       "      <td>4.771045</td>\n",
       "      <td>5.696416</td>\n",
       "      <td>6.126441</td>\n",
       "      <td>1.554540</td>\n",
       "      <td>4.674362</td>\n",
       "      <td>2.201392</td>\n",
       "      <td>4.361148</td>\n",
       "      <td>-5.343395</td>\n",
       "    </tr>\n",
       "    <tr>\n",
       "      <th>5</th>\n",
       "      <td>6.150337</td>\n",
       "      <td>4.659823</td>\n",
       "      <td>3.918119</td>\n",
       "      <td>6.625199</td>\n",
       "      <td>9.406995</td>\n",
       "      <td>5.724767</td>\n",
       "      <td>4.199461</td>\n",
       "      <td>1.078742</td>\n",
       "      <td>2.150717</td>\n",
       "      <td>7.188227</td>\n",
       "      <td>...</td>\n",
       "      <td>7.843365</td>\n",
       "      <td>7.317858</td>\n",
       "      <td>6.927308</td>\n",
       "      <td>4.644978</td>\n",
       "      <td>9.086191</td>\n",
       "      <td>7.433490</td>\n",
       "      <td>4.680638</td>\n",
       "      <td>-0.386060</td>\n",
       "      <td>0.547056</td>\n",
       "      <td>5.815614</td>\n",
       "    </tr>\n",
       "    <tr>\n",
       "      <th>6</th>\n",
       "      <td>3.589239</td>\n",
       "      <td>-0.136350</td>\n",
       "      <td>6.298603</td>\n",
       "      <td>1.415783</td>\n",
       "      <td>1.343473</td>\n",
       "      <td>1.356382</td>\n",
       "      <td>4.402235</td>\n",
       "      <td>-0.583108</td>\n",
       "      <td>5.666663</td>\n",
       "      <td>8.268285</td>\n",
       "      <td>...</td>\n",
       "      <td>2.816655</td>\n",
       "      <td>-1.346394</td>\n",
       "      <td>-1.374549</td>\n",
       "      <td>-0.583314</td>\n",
       "      <td>4.164517</td>\n",
       "      <td>4.360581</td>\n",
       "      <td>0.088428</td>\n",
       "      <td>-1.038779</td>\n",
       "      <td>-1.767504</td>\n",
       "      <td>-1.288209</td>\n",
       "    </tr>\n",
       "    <tr>\n",
       "      <th>7</th>\n",
       "      <td>2.210757</td>\n",
       "      <td>-3.190361</td>\n",
       "      <td>0.563971</td>\n",
       "      <td>-6.327617</td>\n",
       "      <td>-4.450051</td>\n",
       "      <td>0.109474</td>\n",
       "      <td>-3.255902</td>\n",
       "      <td>-2.382230</td>\n",
       "      <td>-2.371229</td>\n",
       "      <td>-0.668189</td>\n",
       "      <td>...</td>\n",
       "      <td>-0.028511</td>\n",
       "      <td>-1.612034</td>\n",
       "      <td>0.382104</td>\n",
       "      <td>1.332899</td>\n",
       "      <td>0.043263</td>\n",
       "      <td>-0.816070</td>\n",
       "      <td>1.621219</td>\n",
       "      <td>-1.067729</td>\n",
       "      <td>-0.975360</td>\n",
       "      <td>4.080793</td>\n",
       "    </tr>\n",
       "  </tbody>\n",
       "</table>\n",
       "<p>8 rows × 49 columns</p>\n",
       "</div>"
      ],
      "text/plain": [
       "         0         1         2         3         4         5         6   \\\n",
       "0 -4.968185 -2.978170  1.513670 -0.586409 -0.557546 -2.931011 -3.518873   \n",
       "1  5.694490  4.937621  5.943408  5.516130  4.435672  2.214324  6.208077   \n",
       "2  3.131244  3.889514  2.081288  5.080657  4.332537  6.158203  4.234903   \n",
       "3  4.837647  2.489633  6.111595  4.028598  4.551957  5.037531  5.774673   \n",
       "4  5.943059  2.650818  4.488514  2.232794  5.062233  4.105370  9.026114   \n",
       "5  6.150337  4.659823  3.918119  6.625199  9.406995  5.724767  4.199461   \n",
       "6  3.589239 -0.136350  6.298603  1.415783  1.343473  1.356382  4.402235   \n",
       "7  2.210757 -3.190361  0.563971 -6.327617 -4.450051  0.109474 -3.255902   \n",
       "\n",
       "         7         8         9     ...           39         40         41  \\\n",
       "0 -3.515867 -2.452683 -0.547578    ...     4.113329   3.384974   2.296088   \n",
       "1  7.301652  5.959482  7.271976    ...     4.761346   5.472980   5.906161   \n",
       "2  6.871894  6.345481  4.568073    ...     6.561809   5.628264   2.238375   \n",
       "3  3.565132  3.311582 -1.838816    ...     9.873964  10.409782  11.961993   \n",
       "4  2.082672  6.604826  6.047121    ...     1.307617   0.779051   4.771045   \n",
       "5  1.078742  2.150717  7.188227    ...     7.843365   7.317858   6.927308   \n",
       "6 -0.583108  5.666663  8.268285    ...     2.816655  -1.346394  -1.374549   \n",
       "7 -2.382230 -2.371229 -0.668189    ...    -0.028511  -1.612034   0.382104   \n",
       "\n",
       "          42        43        44        45        46        47        48  \n",
       "0  11.538753  2.315254  3.587811  5.104802  8.476078  5.028444  2.618438  \n",
       "1   7.581699  3.243031  2.506237  7.963942  5.653478  6.685457  6.530997  \n",
       "2   5.493147  7.160100  3.554041  4.789400  4.613247  0.812031  4.516561  \n",
       "3   9.879919  8.514526  8.066063  6.303224  5.149913  7.723685  3.665725  \n",
       "4   5.696416  6.126441  1.554540  4.674362  2.201392  4.361148 -5.343395  \n",
       "5   4.644978  9.086191  7.433490  4.680638 -0.386060  0.547056  5.815614  \n",
       "6  -0.583314  4.164517  4.360581  0.088428 -1.038779 -1.767504 -1.288209  \n",
       "7   1.332899  0.043263 -0.816070  1.621219 -1.067729 -0.975360  4.080793  \n",
       "\n",
       "[8 rows x 49 columns]"
      ]
     },
     "execution_count": 22,
     "metadata": {},
     "output_type": "execute_result"
    }
   ],
   "source": [
    "pd.DataFrame(Diff_obs_model_var[0])"
   ]
  },
  {
   "cell_type": "code",
   "execution_count": 23,
   "metadata": {
    "collapsed": true
   },
   "outputs": [],
   "source": [
    "avg_perc = []"
   ]
  },
  {
   "cell_type": "code",
   "execution_count": 24,
   "metadata": {},
   "outputs": [
    {
     "name": "stdout",
     "output_type": "stream",
     "text": [
      "11.3\n",
      "model 0 18.8181\n",
      "Diff [perc], 0 66.5318919494\n",
      "model 1 21.4401\n",
      "Diff [perc], 1 89.7352944433\n",
      "model 2 18.3131\n",
      "Diff [perc], 2 62.0626533981\n",
      "model 3 22.5621\n",
      "Diff [perc], 3 99.6642762581\n",
      "model 4 20.611\n",
      "Diff [perc], 4 82.3979943199\n",
      "model 5 18.7265\n",
      "Diff [perc], 5 65.7214375724\n",
      "model 6 19.0081\n",
      "Diff [perc], 6 68.2131775713\n",
      "model 7 17.0366\n",
      "Diff [perc], 7 50.7665414726\n",
      "model 8 20.9243\n",
      "Diff [perc], 8 85.1706715812\n",
      "model 9 20.8201\n",
      "Diff [perc], 9 84.2484600776\n",
      "Avg [perc] 75.4512398644\n"
     ]
    },
    {
     "data": {
      "text/plain": [
       "19.825989"
      ]
     },
     "execution_count": 24,
     "metadata": {},
     "output_type": "execute_result"
    }
   ],
   "source": [
    "model_diff = []\n",
    "diff_perc = []\n",
    "\n",
    "for i in range(6,7):\n",
    "    print(np.asarray(obs_var)[i,12])\n",
    "    for ens_memb in range(0,10):\n",
    "        print('model %s' %ens_memb,np.asarray(model_var_all_day[ens_memb])[i,12])\n",
    "        model_diff.append(np.asarray(model_var_all_day[ens_memb])[i,12])\n",
    "        print('Diff [perc], %s' %ens_memb, \n",
    "              (np.asarray(model_var_all_day[ens_memb])[i,12]-np.asarray(obs_var)[i,12])/np.asarray(obs_var)[i,12]*100)\n",
    "              #(np.asarray(Diff_obs_model_var[ens_memb])[i,12]/np.asarray(obs_var)[i,12])*100)\n",
    "        diff_perc.append((np.asarray(Diff_obs_model_var[ens_memb])[i,12]/np.asarray(obs_var)[i,12])*100)\n",
    "    print('Avg [perc]', np.nanmean(diff_perc))\n",
    "    avg_perc.append(np.nanmean(diff_perc))\n",
    "#print(np.nanmean(avg_perc))\n",
    "np.nanmean(model_diff)"
   ]
  },
  {
   "cell_type": "code",
   "execution_count": 25,
   "metadata": {},
   "outputs": [
    {
     "data": {
      "text/plain": [
       "[75.451239864383098]"
      ]
     },
     "execution_count": 25,
     "metadata": {},
     "output_type": "execute_result"
    }
   ],
   "source": [
    "avg_perc"
   ]
  },
  {
   "cell_type": "code",
   "execution_count": 26,
   "metadata": {},
   "outputs": [
    {
     "name": "stderr",
     "output_type": "stream",
     "text": [
      "/Volumes/SANDISK128/Applications/anaconda/envs/py36ECMWF/lib/python3.6/site-packages/ipykernel_launcher.py:1: RuntimeWarning: Mean of empty slice\n",
      "  \"\"\"Entry point for launching an IPython kernel.\n"
     ]
    },
    {
     "data": {
      "text/plain": [
       "nan"
      ]
     },
     "execution_count": 26,
     "metadata": {},
     "output_type": "execute_result"
    }
   ],
   "source": [
    "np.nanmean(np.asarray(avg_perc)[2:4])"
   ]
  },
  {
   "cell_type": "code",
   "execution_count": 27,
   "metadata": {},
   "outputs": [
    {
     "data": {
      "text/plain": [
       "[array([  3.23181534,   0.92182952,   3.71367002,   3.313591  ,\n",
       "          3.54245377,   2.86898899,   1.38112652,   0.7841332 ,\n",
       "          1.04731655,   3.35242248,   2.62047577,   2.38374996,\n",
       "          5.48539162,   5.65734529,   3.81020331,   1.97543585,\n",
       "          3.92267942,   3.67418814,   5.12262917,   5.14663792,\n",
       "          3.63407707,   4.9174428 ,   9.81883621,   9.97523689,\n",
       "         10.07511806,  10.63937092,  10.26501274,  10.38252354,\n",
       "          8.58603954,   9.65589046,  11.07098103,   8.86693573,\n",
       "         11.44164562,  12.86144543,  11.34171867,   9.67417908,\n",
       "          6.90273714,  10.35145283,  12.74576759,  12.61332893,\n",
       "          9.48497391,   8.89608765,  17.43875313,  15.1152544 ,\n",
       "         14.28781128,  14.70480156,  16.87607765,  13.62844372,\n",
       "         13.21843815,  11.24436951,  10.91003609,  11.8912344 ,\n",
       "         12.23930264,  13.01486683,  14.27849388,  14.54627609,\n",
       "         13.93540668,  14.23996735,  14.32502556,  14.55796242,\n",
       "         16.21046829,  16.08426285,  17.47950172,  15.34979534,\n",
       "         15.97233486,          nan,          nan], dtype=float32),\n",
       " array([  9.19449043,   9.5376215 ,  10.44340801,   9.41613007,\n",
       "          9.735672  ,   9.31432438,  10.80807686,  12.40165234,\n",
       "         11.45948219,  13.77197552,  11.01394653,  10.82049942,\n",
       "          9.18127728,  17.93027878,  14.48820782,  13.16094303,\n",
       "         12.58267689,  14.07442474,  11.88924313,  14.93178177,\n",
       "         11.46119118,  14.21309853,  14.26243496,  11.51227283,\n",
       "         13.00633144,  11.59497452,  11.02971745,  12.30733967,\n",
       "         12.48414803,  12.87432194,  14.20842838,  14.45806408,\n",
       "         15.00773048,  14.77471066,  12.62773132,  18.63083839,\n",
       "         12.88929272,  12.95681667,  18.81908417,  15.96134567,\n",
       "         15.97297955,  14.80616093,  15.98169899,  15.54303074,\n",
       "         14.00623703,  17.06394196,  15.25347805,  15.78545666,\n",
       "         15.83099747,  15.22494888,  14.88372231,  15.09822559,\n",
       "         14.51462936,  11.83098888,  12.65202618,  12.54970264,\n",
       "         11.18430328,   9.8088913 ,   9.47183514,   7.40760708,\n",
       "          7.65064526,   6.21000767,   9.56567669,  10.16175747,\n",
       "          9.96826935,  12.43429184,  10.16396618], dtype=float32),\n",
       " array([ 13.73124409,  11.58951378,  11.18128777,  13.78065681,\n",
       "         13.8325367 ,  14.45820332,  13.33490276,  13.27189445,\n",
       "         13.54548073,  13.46807289,  12.93969154,  14.4056263 ,\n",
       "         12.74195957,  17.28561401,  15.3519783 ,  16.48815727,\n",
       "         14.84250641,  14.14621067,  16.40169334,  15.14198875,\n",
       "         15.00350189,  15.14215851,  18.39083672,  15.07474899,\n",
       "         19.08577347,  17.308321  ,  15.53659534,  15.03677368,\n",
       "         15.6476717 ,  14.5062685 ,  14.44907665,  13.02974129,\n",
       "         11.00945759,  12.2776804 ,   9.78144932,  10.19393539,\n",
       "         10.0843935 ,   7.69281435,   9.98265362,  10.66180897,\n",
       "         12.42826366,   8.93837452,  10.9931469 ,  12.36009979,\n",
       "         11.3540411 ,   9.38939953,   8.91324711,  10.5120306 ,\n",
       "         13.81656075,  14.66158009,  16.18712044,  16.86484337,\n",
       "         19.42676353,  15.05398369,  20.26204681,  16.35860825,\n",
       "         19.24312019,  17.54560089,  20.26231956,  17.63752747,\n",
       "         20.99729156,  17.19557381,  18.60074997,  18.36155319,\n",
       "         17.65532684,  16.74373817,  18.491045  ], dtype=float32),\n",
       " array([ 14.13764668,  12.18963337,  15.21159458,  11.82859802,\n",
       "         14.45195675,  14.93753052,  11.97467327,  11.96513176,\n",
       "         12.41158199,  10.06118393,  10.3851862 ,   7.79594517,\n",
       "          8.89786434,   7.97218561,   7.30850744,   9.46844864,\n",
       "         10.41233444,   9.05107307,   8.91426086,  13.21953297,\n",
       "         12.20947838,   9.8594799 ,   8.15578938,  10.22941113,\n",
       "         15.90009403,  18.19336319,  19.47050476,  17.12495041,\n",
       "         16.33843994,  19.85733223,  17.70878601,  19.61501503,\n",
       "         16.84349442,  16.68650246,  17.1131382 ,  19.28539658,\n",
       "         15.41894054,  19.50107193,  17.23643494,  17.27396393,\n",
       "         19.70978165,  19.56199265,  20.27991867,  21.01452637,\n",
       "         19.66606331,  20.1032238 ,  17.84991264,  17.32368469,\n",
       "         15.16572475,  13.89080143,  14.42302322,  15.51532459,\n",
       "         17.80057335,  17.46194077,  18.10883331,  16.05496788,\n",
       "         12.8353138 ,  13.93724918,  14.36462021,  13.16160202,\n",
       "         14.15488243,  13.68248749,  11.32351494,  10.56768227,\n",
       "         12.50091267,  15.15458965,  16.18911171], dtype=float32),\n",
       " array([ 15.24305916,  14.35081768,  14.38851357,  15.43279362,\n",
       "         17.46223259,  16.60536957,  15.02611446,   9.78267193,\n",
       "         15.70482635,  14.64712143,  18.17494583,  13.85081005,\n",
       "         18.96806526,  18.35054207,  16.66328239,  15.53273106,\n",
       "         16.40993881,  18.68422127,  19.38999367,  19.10471153,\n",
       "         18.81993866,  18.87299728,  19.58266258,  18.82196808,\n",
       "         17.10331154,  16.21220589,  16.45247269,  16.64780235,\n",
       "         16.89450264,  17.78333092,  17.71790123,  16.80087662,\n",
       "         16.45241165,  16.67800522,  15.21274662,  14.13702583,\n",
       "         15.67828941,  13.47927761,  11.69797421,  11.507617  ,\n",
       "         11.77905083,  15.1710453 ,  15.49641609,  17.82644081,\n",
       "         15.15454006,  14.97436237,  15.50139236,  18.16114807,\n",
       "         11.65660477,  15.96493721,  14.96732044,  15.09618759,\n",
       "         19.71850586,  15.41409016,  14.66183186,  18.24791718,\n",
       "         20.20739937,  18.63551712,  19.22657967,  20.77585793,\n",
       "         21.71606636,  22.37531662,  20.54946518,  19.30749893,\n",
       "         20.81242943,  22.24197388,  24.36666107], dtype=float32),\n",
       " array([ 17.65033722,  15.25982285,  15.71811867,  17.22519875,\n",
       "         17.20699501,  16.92476654,  17.19946098,  14.37874222,\n",
       "         14.05071735,  14.48822689,  14.52616501,  16.25710869,\n",
       "         15.70917988,  13.512187  ,  11.38598347,  12.19218254,\n",
       "         14.61080551,  16.22911644,  16.66464043,  15.19623566,\n",
       "         15.81913567,  18.77462578,  18.87348175,  18.10119057,\n",
       "         18.70718384,  17.42082214,  16.68750572,  10.82751369,\n",
       "         13.02650833,  14.49861336,  18.45690536,  16.93141556,\n",
       "         17.92703629,  21.94479752,  19.73033333,  19.40898514,\n",
       "         19.92287254,  20.08167458,  18.94896889,  18.04336548,\n",
       "         18.81785774,  23.02730751,  23.84497833,  27.4861908 ,\n",
       "         25.33349037,  21.28063774,  18.41394043,  17.0470562 ,\n",
       "         20.61561394,  18.53165436,  17.17497826,  14.96778488,\n",
       "         12.85773373,  13.20582104,  14.06223011,  13.01180458,\n",
       "         12.53674793,  12.70927238,  11.39407635,  11.73200226,\n",
       "         12.11155224,  11.29711437,   9.64484978,   3.18198395,\n",
       "          2.59195185,   4.46333313,   4.55823326], dtype=float32),\n",
       " array([ 20.58923912,  16.96364975,  19.79860306,  17.51578331,\n",
       "         15.34347343,  14.15638161,  16.40223503,  10.41689205,\n",
       "         19.7666626 ,  20.56828499,  18.17368126,  16.06588745,\n",
       "         18.81810379,  19.38935661,  21.25927734,  18.38230515,\n",
       "         17.31574631,  18.5620842 ,  24.57503128,  22.29215431,\n",
       "         21.75304413,  18.48941231,  22.15442848,  14.98237514,\n",
       "         17.00666809,  15.62684345,  15.17973995,  14.68355751,\n",
       "         14.56127739,  14.03807735,  12.77796364,  11.38989162,\n",
       "         11.50448895,  10.07508087,  10.40549183,  10.26654243,\n",
       "         10.84367657,  10.19457722,   8.78572083,   6.81665468,\n",
       "          6.35360575,   6.4254508 ,   6.81668615,   6.36451721,\n",
       "          5.66058064,   4.0884285 ,   5.46122074,   7.43249607,\n",
       "          7.61179066,   9.04215622,  11.65322399,  10.80149078,\n",
       "         11.87554932,   8.71766186,   7.82688618,   7.59841871,\n",
       "          6.69367504,   6.0472827 ,   5.17970133,   7.04384708,\n",
       "          5.91589069,   4.42104101,   4.72120047,   4.82915163,\n",
       "          4.75079584,   3.99171829,   3.82689953], dtype=float32),\n",
       " array([ 17.01075745,  18.7096386 ,  17.26397133,  15.97238255,\n",
       "         15.64994907,  17.10947418,  15.0440979 ,  14.01776981,\n",
       "         12.0287714 ,  10.73181057,   8.82771683,   8.97713184,\n",
       "          6.88160896,   7.12045956,   7.66106319,   7.07425833,\n",
       "          7.92155075,   8.31733131,   9.27801514,   6.82409286,\n",
       "          5.97759056,   6.84211016,   7.71077633,   4.1376977 ,\n",
       "          8.24750614,   6.97394896,   6.20164061,   7.46756172,\n",
       "          7.15396404,   9.96560192,   9.14343357,   8.73972702,\n",
       "          9.72630692,   9.84262943,   6.68425655,   5.95921803,\n",
       "          6.25244379,   5.19034433,   4.21646881,   4.57148933,\n",
       "          4.98796606,   4.8821044 ,   4.932899  ,   5.34326315,\n",
       "          6.98392963,   7.22121859,   6.63227081,   6.4246397 ,\n",
       "          7.78079271,   8.57468605,   8.61199188,   8.16810513,\n",
       "          8.37242031,   8.75534153,   8.44055843,   8.18682384,\n",
       "          8.33838844,   8.18054867,   8.33409214,   7.02559805,\n",
       "          6.76042128,   6.48220301,   6.3055706 ,   5.14895535,\n",
       "          4.97346735,   4.75395632,   4.1142602 ], dtype=float32)]"
      ]
     },
     "execution_count": 27,
     "metadata": {},
     "output_type": "execute_result"
    }
   ],
   "source": [
    "model_var_all_day[0]"
   ]
  },
  {
   "cell_type": "code",
   "execution_count": 28,
   "metadata": {
    "collapsed": true
   },
   "outputs": [],
   "source": [
    "avg_perc = []"
   ]
  },
  {
   "cell_type": "code",
   "execution_count": 29,
   "metadata": {
    "collapsed": true
   },
   "outputs": [],
   "source": [
    "obs_var_10per = (np.asarray(obs_var)/90)*100"
   ]
  },
  {
   "cell_type": "code",
   "execution_count": 30,
   "metadata": {},
   "outputs": [
    {
     "name": "stdout",
     "output_type": "stream",
     "text": [
      "12.5555555556\n",
      "model 0 18.8181\n",
      "Diff [perc], with 10 49.8787027545\n",
      "model 1 21.4401\n",
      "Diff [perc], with 10 70.761764999\n",
      "model 2 18.3131\n",
      "Diff [perc], with 10 45.8563880583\n",
      "model 3 22.5621\n",
      "Diff [perc], with 10 79.6978486323\n",
      "model 4 20.611\n",
      "Diff [perc], with 10 64.158194888\n",
      "model 5 18.7265\n",
      "Diff [perc], with 10 49.1492938151\n",
      "model 6 19.0081\n",
      "Diff [perc], with 10 51.3918598141\n",
      "model 7 17.0366\n",
      "Diff [perc], with 10 35.6898873253\n",
      "model 8 20.9243\n",
      "Diff [perc], with 10 66.6536044231\n",
      "model 9 20.8201\n",
      "Diff [perc], with 10 65.8236140698\n",
      "Avg [perc] 57.9061158779\n"
     ]
    },
    {
     "data": {
      "text/plain": [
       "19.825989"
      ]
     },
     "execution_count": 30,
     "metadata": {},
     "output_type": "execute_result"
    }
   ],
   "source": [
    "model_diff = []\n",
    "diff_perc = []\n",
    "\n",
    "for i in range(6,7):\n",
    "    print(obs_var_10per[i,12])\n",
    "    for ens_memb in range(0,10):\n",
    "        print('model %s' %ens_memb,np.asarray(model_var_all_day[ens_memb])[i,12])\n",
    "        print('Diff [perc], with 10',\n",
    "              (np.asarray(model_var_all_day[ens_memb])[i,12] - obs_var_10per[i,12])/obs_var_10per[i,12] *100)\n",
    "        model_diff.append(np.asarray(model_var_all_day[ens_memb])[i,12])\n",
    " #       print('Diff [perc], %s' %ens_memb, \n",
    "  #            (np.asarray(model_var_all_day[ens_memb])[i,12]-np.asarray(obs_var)[i,12])/np.asarray(obs_var)[i,12]*100)\n",
    "   #           #(np.asarray(Diff_obs_model_var[ens_memb])[i,12]/np.asarray(obs_var)[i,12])*100)\n",
    "        diff_perc.append((np.asarray(model_var_all_day[ens_memb])[i,12] - obs_var_10per[i,12])/obs_var_10per[i,12] *100)\n",
    "    print('Avg [perc]', np.nanmean(diff_perc))\n",
    "    avg_perc.append(np.nanmean(diff_perc))\n",
    "#print(np.nanmean(avg_perc))\n",
    "np.nanmean(model_diff)"
   ]
  },
  {
   "cell_type": "code",
   "execution_count": 31,
   "metadata": {},
   "outputs": [
    {
     "data": {
      "text/plain": [
       "[57.906115877944806]"
      ]
     },
     "execution_count": 31,
     "metadata": {},
     "output_type": "execute_result"
    }
   ],
   "source": [
    "avg_perc"
   ]
  },
  {
   "cell_type": "code",
   "execution_count": 32,
   "metadata": {},
   "outputs": [
    {
     "name": "stderr",
     "output_type": "stream",
     "text": [
      "/Volumes/SANDISK128/Applications/anaconda/envs/py36ECMWF/lib/python3.6/site-packages/ipykernel_launcher.py:1: RuntimeWarning: Mean of empty slice\n",
      "  \"\"\"Entry point for launching an IPython kernel.\n"
     ]
    },
    {
     "data": {
      "text/plain": [
       "nan"
      ]
     },
     "execution_count": 32,
     "metadata": {},
     "output_type": "execute_result"
    }
   ],
   "source": [
    "np.nanmean(np.asarray(avg_perc)[2:4])"
   ]
  },
  {
   "cell_type": "code",
   "execution_count": 33,
   "metadata": {},
   "outputs": [
    {
     "data": {
      "text/html": [
       "<div>\n",
       "<style>\n",
       "    .dataframe thead tr:only-child th {\n",
       "        text-align: right;\n",
       "    }\n",
       "\n",
       "    .dataframe thead th {\n",
       "        text-align: left;\n",
       "    }\n",
       "\n",
       "    .dataframe tbody tr th {\n",
       "        vertical-align: top;\n",
       "    }\n",
       "</style>\n",
       "<table border=\"1\" class=\"dataframe\">\n",
       "  <thead>\n",
       "    <tr style=\"text-align: right;\">\n",
       "      <th></th>\n",
       "      <th>0</th>\n",
       "    </tr>\n",
       "  </thead>\n",
       "  <tbody>\n",
       "  </tbody>\n",
       "</table>\n",
       "</div>"
      ],
      "text/plain": [
       "Empty DataFrame\n",
       "Columns: [0]\n",
       "Index: []"
      ]
     },
     "execution_count": 33,
     "metadata": {},
     "output_type": "execute_result"
    }
   ],
   "source": [
    "pd.DataFrame(np.asarray(avg_perc)[1:7])"
   ]
  },
  {
   "cell_type": "code",
   "execution_count": null,
   "metadata": {
    "collapsed": true
   },
   "outputs": [],
   "source": []
  },
  {
   "cell_type": "code",
   "execution_count": 34,
   "metadata": {},
   "outputs": [
    {
     "name": "stdout",
     "output_type": "stream",
     "text": [
      "plot saved: ../../Figures/MEPS/scatter_MEPS_obs/wind_speed/diff_20161220_26_00.png\n",
      "plot saved: ../../Figures/MEPS/scatter_MEPS_obs/wind_speed/diff_20161220_23_00.png\n",
      "plot saved: ../../Figures/MEPS/scatter_MEPS_obs/wind_speed/diff_20161221_23_00.png\n",
      "plot saved: ../../Figures/MEPS/scatter_MEPS_obs/wind_speed/diff_20161224_26_00.png\n"
     ]
    }
   ],
   "source": [
    "lgd = plt_all_day_diff(Diff_obs_model_var,lead_time_var,Variable_obs,var,np.arange(0,len(Diff_obs_model_var[0])-1),\n",
    "                      in_day=initialisation_day, cal_mon=calendar_month,\n",
    "                              cal_year=calendar_year,in_hh=initialisation_hh)\n",
    "fig_name = 'diff_%s%s%s_%s_%s.png' %(calendar_year[0],month,initialisation_day[0],initialisation_day[len(obs_var)-2],hh)\n",
    "if savefig == 1:\n",
    "    plt.savefig('%s/%s' % (figdir_scatter, fig_name), format = form,bbox_extra_artists=(lgd,), bbox_inches='tight')\n",
    "    print('plot saved: %s/%s' %(figdir_scatter,fig_name))\n",
    "elif savefig == 0:\n",
    "    plt.show()\n",
    "plt.close()\n",
    "\n",
    "\n",
    "### 20.12. - 23.12. \n",
    "lgd = plt_all_day_diff(Diff_obs_model_var,lead_time_var,Variable_obs,var,np.arange(0,4),\n",
    "                      in_day=initialisation_day, cal_mon=calendar_month,\n",
    "                              cal_year=calendar_year,in_hh=initialisation_hh)\n",
    "fig_name = 'diff_%s%s%s_%s_%s.png' %(calendar_year[0],month,initialisation_day[0],initialisation_day[4-1],hh)\n",
    "if savefig == 1:\n",
    "    plt.savefig('%s/%s' % (figdir_scatter, fig_name), format = form,bbox_extra_artists=(lgd,), bbox_inches='tight')\n",
    "    print('plot saved: %s/%s' %(figdir_scatter,fig_name))\n",
    "elif savefig == 0:\n",
    "    plt.show()\n",
    "plt.close()\n",
    "\n",
    "### 21.12. - 23.12. \n",
    "lgd = plt_all_day_diff(Diff_obs_model_var,lead_time_var,Variable_obs,var,np.arange(1,4),\n",
    "                      in_day=initialisation_day, cal_mon=calendar_month,\n",
    "                              cal_year=calendar_year,in_hh=initialisation_hh)\n",
    "fig_name = 'diff_%s%s%s_%s_%s.png' %(calendar_year[1],month,initialisation_day[1],initialisation_day[4-1],hh)\n",
    "if savefig == 1:\n",
    "    plt.savefig('%s/%s' % (figdir_scatter, fig_name), format = form,bbox_extra_artists=(lgd,), bbox_inches='tight')\n",
    "    print('plot saved: %s/%s' %(figdir_scatter,fig_name))\n",
    "elif savefig == 0:\n",
    "    plt.show()\n",
    "plt.close()\n",
    "\n",
    "### 24.12. - 26.12.\n",
    "lgd = plt_all_day_diff(Diff_obs_model_var,lead_time_var,Variable_obs,var,np.arange(4,len(Diff_obs_model_var[0])-1),\n",
    "                      in_day=initialisation_day, cal_mon=calendar_month,\n",
    "                              cal_year=calendar_year,in_hh=initialisation_hh)\n",
    "fig_name = 'diff_%s%s%s_%s_%s.png' %(calendar_year[4],month,initialisation_day[4],initialisation_day[len(obs_var)-2],hh)\n",
    "if savefig == 1:\n",
    "    plt.savefig('%s/%s' % (figdir_scatter, fig_name), format = form,bbox_extra_artists=(lgd,), bbox_inches='tight')\n",
    "    print('plot saved: %s/%s' %(figdir_scatter,fig_name))\n",
    "elif savefig == 0:\n",
    "    plt.show()\n",
    "plt.close()"
   ]
  },
  {
   "cell_type": "code",
   "execution_count": 35,
   "metadata": {},
   "outputs": [
    {
     "name": "stderr",
     "output_type": "stream",
     "text": [
      "/Volumes/SANDISK128/Applications/anaconda/envs/py36ECMWF/lib/python3.6/site-packages/ipykernel_launcher.py:5: RuntimeWarning: Mean of empty slice\n",
      "  \"\"\"\n",
      "/Volumes/SANDISK128/Applications/anaconda/envs/py36ECMWF/lib/python3.6/site-packages/ipykernel_launcher.py:6: RuntimeWarning: invalid value encountered in absolute\n",
      "  \n",
      "/Volumes/SANDISK128/Applications/anaconda/envs/py36ECMWF/lib/python3.6/site-packages/ipykernel_launcher.py:6: RuntimeWarning: Mean of empty slice\n",
      "  \n"
     ]
    }
   ],
   "source": [
    "def mean_abs_error(Diff_obs_model_var,ens_memb,start_hour,end_hour):\n",
    "    MAE_0 = []\n",
    "    ME_0 = []\n",
    "    for day in range(0,len(Diff_obs_model_var[ens_memb])):\n",
    "        ME_0.append(np.nanmean((np.asarray(Diff_obs_model_var[ens_memb])[day,start_hour:end_hour])))\n",
    "        MAE_0.append( np.nanmean(np.abs(np.asarray(Diff_obs_model_var[ens_memb])[day,start_hour:end_hour])))\n",
    "    return(MAE_0, ME_0)\n",
    "MAE = dict()\n",
    "ME = dict()\n",
    "MAE_12 = dict()\n",
    "ME_12 = dict()\n",
    "MAE_12_24 = dict()\n",
    "ME_12_24 = dict()\n",
    "\n",
    "ME6_25 = dict()\n",
    "MAE0_24 = dict() \n",
    "ME0_24 = dict()\n",
    "MAE0_30 = dict() \n",
    "ME0_30 = dict()\n",
    "MAE0_36 = dict() \n",
    "ME0_36 = dict()\n",
    "MAE0_42 = dict() \n",
    "ME0_42 = dict()\n",
    "for ens_memb in range(0,10):\n",
    "    MAE[ens_memb], ME6_25[ens_memb] = mean_abs_error(Diff_obs_model_var,ens_memb,\n",
    "                                                 6,25)\n",
    "    MAE0_24[ens_memb], ME0_24[ens_memb] = mean_abs_error(Diff_obs_model_var,ens_memb,\n",
    "                                                 0,25)\n",
    "    MAE0_30[ens_memb], ME0_30[ens_memb] = mean_abs_error(Diff_obs_model_var,ens_memb,\n",
    "                                                 0,31)\n",
    "    MAE0_36[ens_memb], ME0_36[ens_memb] = mean_abs_error(Diff_obs_model_var,ens_memb,\n",
    "                                                 0,37)\n",
    "    MAE0_42[ens_memb], ME0_42[ens_memb] = mean_abs_error(Diff_obs_model_var,ens_memb,\n",
    "                                                 0,43)\n",
    "    \n",
    "    ME[ens_memb] = np.mean([ME0_24[ens_memb], ME0_30[ens_memb], ME0_36[ens_memb], ME0_42[ens_memb]],axis = 0)\n",
    "    \n",
    "    if var == 'PP':\n",
    "        MAE_12[ens_memb], ME_12[ens_memb] = mean_abs_error(Diff_obs_model_var,ens_memb,\n",
    "                                                 6,(6+13))\n",
    "        MAE_12_24[ens_memb], ME_12_24[ens_memb] = mean_abs_error(Diff_obs_model_var,ens_memb,\n",
    "                                                 6,25)"
   ]
  },
  {
   "cell_type": "code",
   "execution_count": 36,
   "metadata": {
    "collapsed": true
   },
   "outputs": [],
   "source": [
    "def plt_mean_abs_error(MAE,var):\n",
    "    \n",
    "    ### plot mean absolute error\n",
    "    fig = plt.figure(figsize=(20,5))\n",
    "    ax = fig.add_subplot(111)\n",
    "\n",
    "    ax.plot(MAE[0][1:7],'k', linewidth=4, label = 'deterministic')\n",
    "    ax.plot(MAE[1][1:7],color = spagh.memb_col, linestyle='-', label = 'ensemble member')\n",
    "    for ens_memb in range(2,10):\n",
    "        ax.plot(MAE[ens_memb][1:7],color = spagh.memb_col, linestyle='-', label = '_nolegend_')\n",
    "\n",
    "    ### fine tuning\n",
    "    lgd = ax.legend(loc='upper center', #bbox_to_anchor=(0.5, -0.37),\n",
    "              fancybox=True, shadow=True, ncol=3, fontsize=spagh.label_fs)\n",
    "    frame = lgd.get_frame()\n",
    "    frame.set_facecolor('white')\n",
    "\n",
    "    # xaxis\n",
    "    ax.set_xlim(-0.25,5.25)\n",
    "    ax.set_xlabel('Dec 2016', fontsize=spagh.label_fs)\n",
    "    ax.set_xticks(np.arange(0,6))\n",
    "    ax.set_xticklabels([ 21, 22, 23, 24, 25, 26], fontsize=spagh.tick_fs)\n",
    "\n",
    "    ax.axhline(0, color=spagh.vert_col, linewidth=3)\n",
    "    #ax.axvline(1, color=spagh.vert_col, linewidth=3)\n",
    "    #ax.axvline(2, color=spagh.vert_col, linewidth=3)\n",
    "    #ax.axvline(3, color=spagh.vert_col, linewidth=3)\n",
    "    #ax.axvline(4, color=spagh.vert_col, linewidth=3)\n",
    "    #ax.axvline(5, color=spagh.vert_col, linewidth=3)\n",
    "    #ax.axvline(6, color=spagh.vert_col, linewidth=3)\n",
    "\n",
    "\n",
    "\n",
    "    if var == 'PP':\n",
    "        # yaxis\n",
    "        ax.set_ylim(-0.25, 25)\n",
    "        ax.set_yticks(np.arange(0,27.5,2.5))\n",
    "        ax.set_yticklabels([0, '',  5,'',10,'',15,'',20,'',25], fontsize=spagh.tick_fs)\n",
    "        ax.set_title('12$\\,$h Precipiation acc.', fontsize=spagh.fontsize)\n",
    "        ax.set_ylabel('MAE [mm]', fontsize=spagh.label_fs)\n",
    "    elif var ==  'SP':\n",
    "        # yaxis\n",
    "        ax.set_ylim(-0.25, 4.5)\n",
    "        ax.set_yticks(np.arange(0,4.5,.25))\n",
    "        ax.set_yticklabels([0, '', 0.5 ,'',1.0,'',1.5,'',2.0,'',2.5,'',3,'',3.5,'',4], fontsize=spagh.tick_fs)\n",
    "        ax.set_title('Sea Level Pressure', fontsize=spagh.fontsize)\n",
    "        ax.set_ylabel('MAE [hPa]', fontsize=spagh.label_fs)\n",
    "    elif var == 'T2':\n",
    "        # yaxis\n",
    "        ax.set_ylim(-0.25, 2.5)\n",
    "        ax.set_yticks(np.arange(0,2.75,.25))\n",
    "        ax.set_yticklabels([0, '', 0.5 ,'',1.0,'',1.5,'',2.0,'',2.5,'',3,''], fontsize=spagh.tick_fs)\n",
    "        ax.set_title('2$\\,$m Air Temperature', fontsize=spagh.fontsize)\n",
    "        ax.set_ylabel('MAE [K]', fontsize=spagh.label_fs)\n",
    "    elif var == 'WD':\n",
    "        # yaxis \n",
    "        ax.set_ylim(-0.25,45)\n",
    "        ax.set_yticks(np.arange(0,50,5))\n",
    "        ax.set_yticklabels([0, '',10,'',20,'',30,'',40,'',50], fontsize=spagh.tick_fs)\n",
    "        ax.set_title('10$\\,$m Wind direction', fontsize=spagh.fontsize)\n",
    "        ax.set_ylabel('MAE [$^\\circ$]', fontsize=spagh.label_fs)\n",
    "    elif var == 'WS':\n",
    "        # yaxis\n",
    "        ax.set_ylim(-.25,12.5)\n",
    "        ax.set_yticks(np.arange(0,12.5,1))\n",
    "        ax.set_yticklabels([0, '',2,'',4,'',6,'',8,'',10,'',12,''], fontsize=spagh.tick_fs)\n",
    "        ax.set_title('10$\\,$m Wind speed', fontsize=spagh.fontsize) \n",
    "        ax.set_ylabel('MAE [m$\\,$s$^{-1}$]', fontsize=spagh.label_fs)\n",
    "\n",
    "    plt.tight_layout()"
   ]
  },
  {
   "cell_type": "code",
   "execution_count": 37,
   "metadata": {
    "scrolled": true
   },
   "outputs": [
    {
     "name": "stdout",
     "output_type": "stream",
     "text": [
      "plot saved: ../../Figures/MEPS/error/wind_speed/MAE_20161220_26_00.png\n"
     ]
    }
   ],
   "source": [
    "if var != 'PP':\n",
    "    plt_mean_abs_error(MAE,var)\n",
    "    fig_name = 'MAE_%s%s%s_%s_%s.png' %(calendar_year[0],month,initialisation_day[0],initialisation_day[len(obs_var)-2],hh)\n",
    "    if savefig == 1:\n",
    "        plt.savefig('%s/%s' % (figdir_error, fig_name), format = form,bbox_extra_artists=(lgd,), bbox_inches='tight')\n",
    "        print('plot saved: %s/%s' %(figdir_error,fig_name))\n",
    "    elif savefig == 0:\n",
    "        plt.show()\n",
    "    plt.close()"
   ]
  },
  {
   "cell_type": "code",
   "execution_count": 38,
   "metadata": {},
   "outputs": [],
   "source": [
    "if var == 'PP':\n",
    "    plt_mean_abs_error(MAE_12,var)\n",
    "    fig_name = 'MAE_%s%s%s_%s_%s.png' %(calendar_year[0],month,initialisation_day[0],initialisation_day[len(obs_var)-2],hh)\n",
    "    if savefig == 1:\n",
    "        plt.savefig('%s/%s' % (figdir_error, fig_name), format = form,bbox_extra_artists=(lgd,), bbox_inches='tight')\n",
    "        print('plot saved: %s/%s' %(figdir_error,fig_name))\n",
    "    elif savefig == 0:\n",
    "        plt.show()\n",
    "    plt.close()\n",
    "\n",
    "#    plt_mean_abs_error(MAE_12_24,var)\n",
    " #   fig_name = 'MAE12_24_%s%s%s_%s_%s.png' %(calendar_year[0],month,initialisation_day[0],initialisation_day[len(obs_var)-2],hh)\n",
    "  #  if savefig == 1:\n",
    "   #     plt.savefig('%s/%s' % (figdir_error, fig_name), format = form,bbox_extra_artists=(lgd,), bbox_inches='tight')\n",
    "    #    print('plot saved: %s/%s' %(figdir_error,fig_name))\n",
    "#    elif savefig == 0:\n",
    " #       plt.show()\n",
    "  #  plt.close()"
   ]
  },
  {
   "cell_type": "code",
   "execution_count": 39,
   "metadata": {},
   "outputs": [
    {
     "name": "stdout",
     "output_type": "stream",
     "text": [
      "20 Dec MAE: 0 2.49370684875\n",
      "20 Dec MAE: 1 3.4526453884\n",
      "20 Dec MAE: 2 2.6874261243\n",
      "20 Dec MAE: 3 4.51489309754\n",
      "20 Dec MAE: 4 2.00301260267\n",
      "20 Dec MAE: 5 2.08012643031\n",
      "20 Dec MAE: 6 3.83639478683\n",
      "20 Dec MAE: 7 3.2441944497\n",
      "20 Dec MAE: 8 2.73890141078\n",
      "20 Dec MAE: 9 2.24980391775\n"
     ]
    }
   ],
   "source": [
    "for day in range(0,1):\n",
    "    for ens_memb in range(0,10):\n",
    "        print('2%s Dec' %day,'MAE: %s' %ens_memb, MAE[ens_memb][day])"
   ]
  },
  {
   "cell_type": "code",
   "execution_count": 40,
   "metadata": {
    "collapsed": true
   },
   "outputs": [],
   "source": [
    "def plt_mean_error(ME,var):\n",
    "    ### plot mean error\n",
    "    fig = plt.figure(figsize=(20,5))\n",
    "    ax = fig.add_subplot(111)\n",
    "\n",
    "    ax.plot(ME[0][1:7],'k', linewidth=4, label = 'deterministic')\n",
    "    ax.plot(ME[1][1:7],color = spagh.memb_col, linestyle='-', label = 'ensemble member')\n",
    "    for ens_memb in range(2,10):\n",
    "        ax.plot(ME[ens_memb][1:7],color = spagh.memb_col, linestyle='-', label = '_nolegend_')\n",
    "\n",
    "    ### fine tuning\n",
    "    lgd = ax.legend(loc='upper center', #bbox_to_anchor=(0.5, -0.37),\n",
    "              fancybox=True, shadow=True, ncol=3, fontsize=spagh.label_fs)\n",
    "    frame = lgd.get_frame()\n",
    "    frame.set_facecolor('white')\n",
    "\n",
    "    # xaxis\n",
    "    ax.set_xlim(-0.25,5.25)\n",
    "    ax.set_xlabel('Dec 2016', fontsize=spagh.label_fs)\n",
    "    ax.set_xticks(np.arange(0,6))\n",
    "    ax.set_xticklabels([21, 22, 23, 24, 25, 26], fontsize=spagh.tick_fs)\n",
    "\n",
    "    ax.axhline(0, color=spagh.vert_col, linewidth=3)\n",
    "\n",
    "\n",
    "\n",
    "    if var == 'PP':\n",
    "        # yaxis\n",
    "        ax.set_ylim(0, 25)\n",
    "        ax.set_yticks(np.arange(-5,27.5,2.5))\n",
    "        ax.set_yticklabels([-5, '',0, '',  5,'',10,'',15,'',20,'',25], fontsize=spagh.tick_fs)\n",
    "        ax.set_title('12$\\,$h Precipitation acc. (00+24,+30,+36,+42$\\,$UTC)', fontsize=spagh.fontsize)\n",
    "        ax.set_ylabel('ME [mm]', fontsize=spagh.label_fs)\n",
    "    elif var ==  'SP':\n",
    "        # yaxis\n",
    "        ax.set_ylim(-0.25, 3)\n",
    "        ax.set_yticks(np.arange(0,3.5,.25))\n",
    "        ax.set_yticklabels([0, '', 0.5 ,'',1.0,'',1.5,'',2.0,'',2.5,'',3,''], fontsize=spagh.tick_fs)\n",
    "        ax.set_title('Sea Level Pressure (00+24,+30,+36,+42$\\,$UTC)', fontsize=spagh.fontsize)\n",
    "        ax.set_ylabel('ME [hPa]', fontsize=spagh.label_fs)\n",
    "    elif var == 'T2':\n",
    "        # yaxis\n",
    "        ax.set_ylim(-2., 1)\n",
    "        ax.set_yticks(np.arange(-2,1.75,.25))\n",
    "        ax.set_yticklabels([-2,'',-1.5,'',-1,'',-0.5 ,'',0, '', 0.5 ,'',1.0,'',1.5,'',2.0,'',2.5,'',3,''], fontsize=spagh.tick_fs)\n",
    "        ax.set_title('2$\\,$m Air Temperature (00+24,+30,+36,+42$\\,$UTC)', fontsize=spagh.fontsize)\n",
    "        ax.set_ylabel('ME [K]', fontsize=spagh.label_fs)\n",
    "    elif var == 'WD':\n",
    "        # yaxis \n",
    "        ax.set_ylim(-17.5,20)\n",
    "        ax.set_yticks(np.arange(-20,22.5,2.5))\n",
    "        ax.set_yticklabels([-20,'',-15,'',-10,'',-5 ,'',0, '', 5 ,'',10,'',15,'',20,'',25,'',30,''], fontsize=spagh.tick_fs)\n",
    "        ax.set_title('10$\\,$m Wind direction (00+24,+30,+36,+42$\\,$UTC)', fontsize=spagh.fontsize)\n",
    "        ax.set_ylabel('ME [$^\\circ$]', fontsize=spagh.label_fs)\n",
    "    elif var == 'WS':\n",
    "        # yaxis\n",
    "        ax.set_ylim(-.25,12.5)\n",
    "        ax.set_yticks(np.arange(0,12.5,1))\n",
    "        ax.set_yticklabels([0, '',2,'',4,'',6,'',8,'',10,'',12,''], fontsize=spagh.tick_fs)\n",
    "        ax.set_title('10$\\,$m Wind speed (00+24,+30,+36,+42$\\,$UTC)', fontsize=spagh.fontsize) \n",
    "        ax.set_ylabel('ME [m$\\,$s$^{-1}$]', fontsize=spagh.label_fs)\n",
    "\n",
    "    plt.tight_layout()"
   ]
  },
  {
   "cell_type": "code",
   "execution_count": 41,
   "metadata": {},
   "outputs": [
    {
     "name": "stdout",
     "output_type": "stream",
     "text": [
      "plot saved: ../../Figures/MEPS/error/wind_speed/ME_20161220_26_00.png\n"
     ]
    }
   ],
   "source": [
    "if var != 'PP':\n",
    "    plt_mean_error(ME,var)\n",
    "    fig_name = 'ME_%s%s%s_%s_%s.png' %(calendar_year[0],month,initialisation_day[0],initialisation_day[len(obs_var)-2],hh)\n",
    "    if savefig == 1:\n",
    "        plt.savefig('%s/%s' % (figdir_error, fig_name), format = form,bbox_extra_artists=(lgd,), bbox_inches='tight')\n",
    "        print('plot saved: %s/%s' %(figdir_error,fig_name))\n",
    "    elif savefig == 0:\n",
    "        plt.show()\n",
    "    plt.close()"
   ]
  },
  {
   "cell_type": "code",
   "execution_count": 42,
   "metadata": {},
   "outputs": [],
   "source": [
    "if var == 'PP':\n",
    "    plt_mean_error(ME_12,var)\n",
    "    fig_name = 'ME_%s%s%s_%s_%s.png' %(calendar_year[0],month,initialisation_day[0],initialisation_day[len(obs_var)-2],hh)\n",
    "    if savefig == 1:\n",
    "        plt.savefig('%s/%s' % (figdir_error, fig_name), format = form,bbox_extra_artists=(lgd,), bbox_inches='tight')\n",
    "        print('plot saved: %s/%s' %(figdir_error,fig_name))\n",
    "    elif savefig == 0:\n",
    "        plt.show()\n",
    "    plt.close()\n",
    "\n",
    "#    plt_mean_error(ME_12_24,var)\n",
    " #   fig_name = 'ME12_24_%s%s%s_%s_%s.png' %(calendar_year[0],month,initialisation_day[0],initialisation_day[len(obs_var)-2],hh)\n",
    "  #  if savefig == 1:\n",
    "   #     plt.savefig('%s/%s' % (figdir_error, fig_name), format = form,bbox_extra_artists=(lgd,), bbox_inches='tight')\n",
    "    #    print('plot saved: %s/%s' %(figdir_error,fig_name))\n",
    "#    elif savefig == 0:\n",
    " #       plt.show()\n",
    "  #  plt.close()"
   ]
  },
  {
   "cell_type": "code",
   "execution_count": 43,
   "metadata": {},
   "outputs": [
    {
     "ename": "KeyError",
     "evalue": "0",
     "output_type": "error",
     "traceback": [
      "\u001b[0;31m---------------------------------------------------------------------------\u001b[0m",
      "\u001b[0;31mKeyError\u001b[0m                                  Traceback (most recent call last)",
      "\u001b[0;32m<ipython-input-43-457bdaab9b65>\u001b[0m in \u001b[0;36m<module>\u001b[0;34m()\u001b[0m\n\u001b[1;32m      1\u001b[0m \u001b[0;32mfor\u001b[0m \u001b[0mens_memb\u001b[0m \u001b[0;32min\u001b[0m \u001b[0mrange\u001b[0m\u001b[0;34m(\u001b[0m\u001b[0;36m0\u001b[0m\u001b[0;34m,\u001b[0m\u001b[0;36m10\u001b[0m\u001b[0;34m)\u001b[0m\u001b[0;34m:\u001b[0m\u001b[0;34m\u001b[0m\u001b[0m\n\u001b[0;32m----> 2\u001b[0;31m     \u001b[0mprint\u001b[0m\u001b[0;34m(\u001b[0m\u001b[0;34m'%s'\u001b[0m \u001b[0;34m%\u001b[0m\u001b[0mens_memb\u001b[0m\u001b[0;34m,\u001b[0m \u001b[0mMAE_12\u001b[0m\u001b[0;34m[\u001b[0m\u001b[0mens_memb\u001b[0m\u001b[0;34m]\u001b[0m\u001b[0;34m[\u001b[0m\u001b[0;36m5\u001b[0m\u001b[0;34m]\u001b[0m\u001b[0;34m)\u001b[0m\u001b[0;34m\u001b[0m\u001b[0m\n\u001b[0m",
      "\u001b[0;31mKeyError\u001b[0m: 0"
     ]
    }
   ],
   "source": [
    "for ens_memb in range(0,10):\n",
    "    print('%s' %ens_memb, MAE_12[ens_memb][5])"
   ]
  },
  {
   "cell_type": "code",
   "execution_count": null,
   "metadata": {
    "collapsed": true
   },
   "outputs": [],
   "source": []
  },
  {
   "cell_type": "code",
   "execution_count": null,
   "metadata": {
    "collapsed": true
   },
   "outputs": [],
   "source": []
  }
 ],
 "metadata": {
  "kernelspec": {
   "display_name": "Python 3",
   "language": "python",
   "name": "python3"
  },
  "language_info": {
   "codemirror_mode": {
    "name": "ipython",
    "version": 3
   },
   "file_extension": ".py",
   "mimetype": "text/x-python",
   "name": "python",
   "nbconvert_exporter": "python",
   "pygments_lexer": "ipython3",
   "version": "3.6.1"
  }
 },
 "nbformat": 4,
 "nbformat_minor": 2
}

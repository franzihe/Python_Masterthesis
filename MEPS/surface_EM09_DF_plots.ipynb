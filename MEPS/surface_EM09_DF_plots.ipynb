{
 "cells": [
  {
   "cell_type": "code",
   "execution_count": null,
   "metadata": {
    "collapsed": true
   },
   "outputs": [],
   "source": [
    "#%matplotlib inline\n",
    "import sys\n",
    "sys.path.append('/Volumes/SANDISK128/Documents/Thesis/Python/')\n",
    "sys.path.append('/Volumes/SANDISK128/Documents/Thesis/Python/weather_mast/')\n",
    "import netCDF4\n",
    "import numpy as np\n",
    "import matplotlib.pyplot as plt\n",
    "import datetime\n",
    "\n",
    "import createFolder as cF\n",
    "import calc_date as cd\n",
    "import plot_sfc_spaghetti as spagh\n",
    "import save_fig as SF\n",
    "import get_Haukeli_obs_data as obsDat\n",
    "import calc_48h_acc as acc\n",
    "import fill_values as fv\n",
    "\n",
    "import os\n",
    "\n",
    "import pandas as pd"
   ]
  },
  {
   "cell_type": "code",
   "execution_count": null,
   "metadata": {
    "collapsed": true
   },
   "outputs": [],
   "source": [
    "year = 2016\n",
    "month = 12\n",
    "#tid = '00'\n",
    "tid = '18'\n",
    "station = 'Haukeliseter'\n",
    "savefig = 0  # 1 = yes, 0 = no\n",
    "\n",
    "### if plot with double fence data\n",
    "dofe = 1     # 1 = yes, 0 = no"
   ]
  },
  {
   "cell_type": "code",
   "execution_count": null,
   "metadata": {
    "collapsed": true
   },
   "outputs": [],
   "source": [
    "#### days \n",
    "t = []\n",
    "fi = np.arange(1,16)\n",
    "sec00 = np.arange(17,30)\n",
    "sec18 = np.arange(17,29)\n",
    "\n",
    "t = np.concatenate((t,fi))\n",
    "\n",
    "if tid == '00':    \n",
    "    t = np.concatenate((t,sec00))\n",
    "elif tid == '18':\n",
    "    t = np.concatenate((t,sec18))\n"
   ]
  },
  {
   "cell_type": "code",
   "execution_count": null,
   "metadata": {
    "collapsed": true
   },
   "outputs": [],
   "source": [
    "level = 'sfc'\n",
    "\n",
    "ncdir = '../../MEPS_data/%s/%s_%s' %(station,level,tid)\n",
    "txtdir = '../../eklima/'\n",
    "txt_filename = 'Observations-hour_minutes.txt'\n",
    "\n",
    "var_name = 'precipitation_amount_acc'\n",
    "unit = '[mm]'\n",
    "figdir = '../../MEPS_fig/%s' %(var_name)\n",
    "figdir2 = '../../MEPS_fig/%s/Morten' %(var_name)\n",
    "#var_name = 'liquid_water_content_of_surface_snow'\n",
    "# Folder where the figures are being saved    \n",
    "cF.createFolder('%s/' %(figdir))\n",
    "cF.createFolder('%s/' %(figdir2))\n",
    "form = 'png'\n"
   ]
  },
  {
   "cell_type": "code",
   "execution_count": null,
   "metadata": {
    "collapsed": true
   },
   "outputs": [],
   "source": [
    "# read in the Haukeliseter observation file, sorted by daily values\n",
    "Haukeli = pd.read_csv('%s/%s' %(txtdir, txt_filename),\\\n",
    "                    sep = ';',header=19, skipfooter = 11, engine= 'python')\n",
    "\n",
    "DateHour = Haukeli['Date-Hour(UTC)']\n",
    "\n",
    "RR_1 = Haukeli['RR_1'].astype(float)           # Precipitation (1 hour); [mm]\n",
    "\n",
    "if tid == '18':\n",
    "    precip, dt_precip, hour_precip, day_precip, month_precip, year_precip = obsDat.valid_values_18UTC(RR_1, DateHour)\n",
    "    dt, p, hour, dy, mm, yr = obsDat.arange_daily_18UTC(RR_1, DateHour)\n",
    "if tid == '00':\n",
    "    precip, dt_precip, hour_precip, day_precip, month_precip, year_precip = obsDat.valid_values(RR_1, DateHour)\n",
    "    dt, p, hour, dy, mm, yr = obsDat.arange_daily(RR_1, DateHour)\n",
    "\n",
    "   "
   ]
  },
  {
   "cell_type": "code",
   "execution_count": null,
   "metadata": {
    "collapsed": true
   },
   "outputs": [],
   "source": [
    "fn_sfc = dict()\n",
    "time_sfc = dict()\n",
    "ini_day = []\n",
    "#hh = []\n",
    "calday = []\n",
    "calmon = []\n",
    "precipitation_amount_acc = dict()\n",
    "lead_time_sfc = dict()\n",
    "title = dict()\n",
    "\n",
    "\n",
    "for day in t:\n",
    "    if day < 10:\n",
    "        day = '0%s' %(int(day))\n",
    "    else:\n",
    "        day = '%s' %(int(day))\n",
    "    var_name_sfc = '%s' %(var_name)\n",
    "    \n",
    "    for ens_memb in range(0,10):\n",
    "# read in the netcdf surface file\n",
    "#        fn_sfc[ens_memb] = netCDF4.Dataset('%s/%s%s%s_%s_%s.nc' %(ncdir,year,month,day,tid,ens_memb))\n",
    "        fn_sfc[ens_memb] = netCDF4.Dataset('%s/%s%s%s_%s_%s.nc' %(ncdir,year,month,day,tid,ens_memb))\n",
    "        time_sfc[ens_memb] = fn_sfc[ens_memb].variables['time']\n",
    "        time_sfc[ens_memb] = fv.fill_nan(time_sfc[ens_memb][:])\n",
    "# initialisation time for plotting\n",
    "        ini_day = (datetime.datetime.utcfromtimestamp(time_sfc[0][0]).day)   # day of initialisation\n",
    "        hh = (datetime.datetime.utcfromtimestamp(time_sfc[0][0]).hour)       # first hour of initialisation\n",
    "        calday, calmon = cd.get_dayname(year, month, ini_day)\n",
    "# Read in the variable name which should be plotted  \n",
    "        precipitation_amount_acc[ens_memb] = fn_sfc[ens_memb].variables[var_name]\n",
    "\n",
    "\n",
    "\n",
    "# lead time\n",
    "        lead_time_sfc[ens_memb] = np.arange(0,time_sfc[ens_memb].shape[0])\n",
    "# get only valuable values not nan\n",
    "        #substitute missing values with nan \n",
    "        precipitation_amount_acc[ens_memb] = fv.fill_nan(precipitation_amount_acc[ens_memb][:,:])\n",
    "# get only valuable values not nan\n",
    "        time_sfc[ens_memb] = time_sfc[ens_memb][~np.isnan(time_sfc[ens_memb])]\n",
    "        lead_time_sfc[ens_memb] = lead_time_sfc[ens_memb][~np.isnan(precipitation_amount_acc[ens_memb]).any(axis=1)]\n",
    "        precipitation_amount_acc[ens_memb] = precipitation_amount_acc[ens_memb][~np.isnan(precipitation_amount_acc[ens_memb]).any(axis=1),:]\n",
    "    \n",
    "#### calculate every 60 min the accumulation over 48 hours\n",
    "    tot = acc.accumulation_dt60_for48h(precip, ini_day)\n",
    "\n",
    "    \n",
    "\n",
    "# spaghetti plot with all ensemble member + control\n",
    "    if ini_day < 10:\n",
    "        ini_day = '0%s' %(ini_day)\n",
    "    else:\n",
    "        ini_day = '%s' %(ini_day)\n",
    "    \n",
    "    if hh < 10:\n",
    "        hh = '0%s' %(hh)\n",
    "    else:\n",
    "        hh = '%s' %(hh)\n",
    "        \n",
    "    fig_name = '%s%s%s_%s.png' %(year,month,ini_day,hh)\n",
    "    title = 'initalised: %s, %s %s %s %s UTC' %(calday,ini_day,calmon,year,hh)\n",
    "    var_name_sfc = var_name_sfc.split(\"_\")\n",
    "    \n",
    "    if len(tot) <= 3:\n",
    "        print('no double fence data')\n",
    "        dofe = 0\n",
    "        Xmax = 49\n",
    "    else:\n",
    "        dofe = 1\n",
    "        Xmax = np.asarray(tot).shape[0]\n",
    "    spagh.spaghetti_sfc_dofe(lead_time_sfc, precipitation_amount_acc, tot, Xmax, day, var_name_sfc,\n",
    "                        hour, mm, dy, yr, int(ini_day), unit, title, tid, dofe)\n",
    "#    Xmax = np.asarray(tot_60)[:,(int(day)-1)].shape[0]\n",
    "#    spagh.spaghetti_sfc_dofe(lead_time_sfc, precipitation_amount_acc, precip, time_sfc[0], Xmax, \n",
    " #                               day, var_name_sfc, unit, title, tid, dofe)\n",
    "    if savefig == 1:\n",
    "        SF.save_figure_landscape(figdir, fig_name, form)\n",
    "        print('plot saved: %s/%s' %(figdir,fig_name))\n",
    "    elif safefig == 0:\n",
    "        plt.show()\n",
    "    plt.close()\n",
    "    \n",
    "    if tid == '18':\n",
    "        Xmax = 31\n",
    "        title = 'Initialised %s%s%sT%sZ' %(year, month, ini_day,hh)\n",
    "        spagh.spaghetti_sfc_dofe_Morten(lead_time_sfc, precipitation_amount_acc, tot, Xmax, \n",
    "                                day, var_name_sfc, unit, title, tid)\n",
    "        if savefig == 1:\n",
    "            SF.save_figure_landscape(figdir2, fig_name, form)\n",
    "            print('plot saved: %s/%s' %(figdir2,fig_name))\n",
    "        elif savefig == 0:\n",
    "            plt.show()\n",
    "        plt.close()\n",
    "\n",
    "\n",
    "        \n",
    "    for ens_memb in range(0,10):\n",
    "        fn_sfc[ens_memb].close()\n",
    "    "
   ]
  },
  {
   "cell_type": "code",
   "execution_count": null,
   "metadata": {
    "collapsed": true
   },
   "outputs": [],
   "source": []
  }
 ],
 "metadata": {
  "kernelspec": {
   "display_name": "Python 3",
   "language": "python",
   "name": "python3"
  },
  "language_info": {
   "codemirror_mode": {
    "name": "ipython",
    "version": 3
   },
   "file_extension": ".py",
   "mimetype": "text/x-python",
   "name": "python",
   "nbconvert_exporter": "python",
   "pygments_lexer": "ipython3",
   "version": "3.6.1"
  }
 },
 "nbformat": 4,
 "nbformat_minor": 2
}

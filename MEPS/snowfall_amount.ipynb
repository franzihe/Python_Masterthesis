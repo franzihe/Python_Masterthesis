{
 "cells": [
  {
   "cell_type": "code",
   "execution_count": null,
   "metadata": {},
   "outputs": [],
   "source": [
    "%matplotlib inline\n",
    "import sys\n",
    "sys.path.append('/Volumes/SANDISK128/Documents/Thesis/Python/')\n",
    "import netCDF4\n",
    "import numpy as np\n",
    "import matplotlib.pyplot as plt\n",
    "import datetime\n",
    "from datetime import date\n",
    "import pandas as pd\n",
    "import calendar\n",
    "import numpy.ma as ma\n",
    "\n",
    "import createFolder as cF\n",
    "import plot_vertical as pvert\n",
    "import plot_sfc_spaghetti as spagh\n",
    "import fill_values as fv\n",
    "\n",
    "\n",
    "import os\n",
    "\n",
    "\n"
   ]
  },
  {
   "cell_type": "code",
   "execution_count": null,
   "metadata": {
    "collapsed": true
   },
   "outputs": [],
   "source": [
    "# 16th doesnt exist, 17-19 have different shapes\n",
    "t = [\n",
    "#    1, 2, 3, 4, 5, 6 , 7, 8, 9,10, \\\n",
    " #   11,12,13,14,15,    \n",
    "  #  17,18,19,20, \\\n",
    "    21#,22,  \n",
    "   # 23, \\\n",
    "#    24,25,26,27,28,29,30, \\\n",
    " #   31\n",
    "    ]\n",
    "year = 2016\n",
    "month = 12\n",
    "tid = '00'\n",
    "savefig = 1  # 1 = yes, 0 = no\n",
    "\n",
    "station = 'Haukeliseter'"
   ]
  },
  {
   "cell_type": "code",
   "execution_count": null,
   "metadata": {},
   "outputs": [],
   "source": [
    "var_name = 'snowfall_amount'\n",
    "#var_name = 'rainfall_amount'\n",
    "#var_name = 'graupelfall_amount'\n",
    "#var_name = 'atmosphere_cloud_condensed_water_content'\n",
    "#var_name = 'atmosphere_cloud_ice_content'\n",
    "#var_name = 'air_temperature'\n",
    "var_name_ml = '%s_ml' %(var_name)\n",
    "\n",
    "\n",
    "ncdir_ml = '../../MEPS_data/%s/ml/%s' %(station,var_name_ml)\n",
    "figdir = '../../MEPS_fig/%s' %(var_name_ml)\n",
    "form = 'png'\n",
    "cF.createFolder('%s' %(figdir))"
   ]
  },
  {
   "cell_type": "code",
   "execution_count": null,
   "metadata": {},
   "outputs": [],
   "source": [
    "for day in t:\n",
    "    if day < 10:\n",
    "        day = '0%s' %(str(day))\n",
    "\n",
    "\n",
    "## open netCDF \n",
    "    fn_ml = dict()\n",
    "    time_ml = dict()\n",
    "    lead_time = dict()\n",
    "    for ens_memb  in range(0,10):\n",
    "        fn_ml[ens_memb] = netCDF4.Dataset('%s/%s%s%s_%s_%s.nc' %(ncdir_ml,year,month,day,tid,ens_memb))\n",
    "# Read in time to know initialisation time (plotting)    \n",
    "        time_ml[ens_memb] = fn_ml[ens_memb].variables['time']\n",
    "\n",
    "    ini_day = datetime.datetime.utcfromtimestamp(time_ml[0][0]).day   # day of initialisation\n",
    "    hh = datetime.datetime.utcfromtimestamp(time_ml[0][0]).hour       # first hour of initialisation? \n",
    "    my_date = date(year,month,ini_day)\n",
    "    calday = calendar.day_name[my_date.weekday()]\n",
    "    calmon = calendar.month_abbr[int(month)]\n",
    "    \n",
    "    \n",
    "    \n",
    "    snow_amount_ml = dict()\n",
    "    thickness_ml = dict()\n",
    "    h = dict()\n",
    "    td = dict()\n",
    "    height = dict()\n",
    "    time = dict()\n",
    "    for ens_memb in range(0,10):\n",
    "# Read in the variable name which should be plotted  \n",
    "        snow_amount_ml[ens_memb] = fn_ml[ens_memb].variables[var_name_ml]\n",
    "# Read in the thickness of a layer\n",
    "        thickness_ml[ens_memb] = fn_ml[ens_memb].variables['layer_thickness']\n",
    "# create an array with time of the shape of the variable\n",
    "        lead_time = np.arange(0,time_ml[0].size)\n",
    "        model_level = np.arange(0,snow_amount_ml[ens_memb].shape[1])\n",
    "        td,Y = np.meshgrid(lead_time,model_level)\n",
    "\n",
    "# substitute missing values with nan       \n",
    "        snow_amount_ml[ens_memb] = fv.fill_nan(snow_amount_ml[ens_memb][:])\n",
    "        thickness_ml[ens_memb] = fv.fill_nan(thickness_ml[ens_memb][:])\n",
    "\n",
    "# calculate the height from the thickness\n",
    "        thickness = thickness_ml[ens_memb]\n",
    "        h_above = []\n",
    "        h_above.append(np.zeros(thickness[:,:].shape[0]))\n",
    "        \n",
    "        th_arr = np.nansum([ thickness[:,0], thickness[:,(0+1)]], axis = 0)\n",
    "        h_above.append(th_arr)\n",
    "        for i in range(2,thickness[:,:].shape[1]):\n",
    "            th_arr = np.nansum([h_above[i-1], thickness[:,i]], axis = 0)\n",
    "            h_above.append(th_arr)\n",
    "        h_above = np.transpose(h_above)\n",
    "# get only valuable values not nan    \n",
    "        time[ens_memb] =(td[:,~np.isnan(snow_amount_ml[ens_memb]).any(axis=1)])\n",
    "        height[ens_memb] = (h_above[~np.isnan(snow_amount_ml[ens_memb]).any(axis=1)])\n",
    "        thickness_ml[ens_memb] = (thickness_ml[ens_memb][~np.isnan(snow_amount_ml[ens_memb]).any(axis=1),:])\n",
    "        snow_amount_ml[ens_memb] = (snow_amount_ml[ens_memb][~np.isnan(snow_amount_ml[ens_memb]).any(axis=1)])\n",
    "# convert the snow amount from [kg/m^2] into [g/m^2] by multiply with 1000\n",
    "        snow_amount_ml[ens_memb] = (snow_amount_ml[ens_memb]*1000.)\n",
    "#        snow_amount_ml[ens_memb] = (snow_amount_ml[ens_memb]*1000.)/thickness_ml[ens_memb]"
   ]
  },
  {
   "cell_type": "code",
   "execution_count": null,
   "metadata": {},
   "outputs": [],
   "source": [
    "maxim = []\n",
    "for ens_memb in range(0,10):\n",
    "    maxi = snow_amount_ml[ens_memb].max()\n",
    "    maxim.append(maxi)\n",
    "maxim = np.asarray(maxim)\n",
    "np.nanmax(maxim)"
   ]
  },
  {
   "cell_type": "code",
   "execution_count": null,
   "metadata": {},
   "outputs": [],
   "source": [
    "var_name_ml = var_name_ml.split(\"_\")"
   ]
  },
  {
   "cell_type": "code",
   "execution_count": null,
   "metadata": {},
   "outputs": [],
   "source": [
    "\n",
    "unit = '[g/m$^3$]'\n",
    "fig_name = '%s%s%s_0%s.png' %(year,month,ini_day,hh)\n",
    "title = '%s, %s %s %s 0%s UTC' %( calday,ini_day,calmon,year,hh)\n",
    "\n",
    "pvert.plot_vertical_EM(time, height,snow_amount_ml,var_name_ml, unit, fig_name, title, savefig, figdir, fig_name, form)\n",
    "plt.close()"
   ]
  },
  {
   "cell_type": "code",
   "execution_count": null,
   "metadata": {},
   "outputs": [],
   "source": [
    "fig_name = '%s%s%s_0%s_48h.png' %(year,month,ini_day,hh)\n",
    "pvert.plot_vertical_EM_48h(time, height,snow_amount_ml,var_name_ml, unit, fig_name, title, savefig, figdir, fig_name, form)\n",
    "plt.close()"
   ]
  },
  {
   "cell_type": "code",
   "execution_count": null,
   "metadata": {},
   "outputs": [],
   "source": [
    "fn_ml.close()"
   ]
  },
  {
   "cell_type": "code",
   "execution_count": null,
   "metadata": {
    "collapsed": true
   },
   "outputs": [],
   "source": []
  }
 ],
 "metadata": {
  "kernelspec": {
   "display_name": "Python 3",
   "language": "python",
   "name": "python3"
  },
  "language_info": {
   "codemirror_mode": {
    "name": "ipython",
    "version": 3
   },
   "file_extension": ".py",
   "mimetype": "text/x-python",
   "name": "python",
   "nbconvert_exporter": "python",
   "pygments_lexer": "ipython3",
   "version": "3.6.1"
  }
 },
 "nbformat": 4,
 "nbformat_minor": 2
}

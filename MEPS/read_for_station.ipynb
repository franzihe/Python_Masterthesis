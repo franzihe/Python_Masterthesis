{
 "cells": [
  {
   "cell_type": "code",
   "execution_count": 1,
   "metadata": {
    "collapsed": true
   },
   "outputs": [],
   "source": [
    "%matplotlib inline\n",
    "import sys\n",
    "sys.path.append('/Volumes/SANDISK128/Documents/Thesis/Python/')\n",
    "import netCDF4\n",
    "import numpy as np\n",
    "from mpl_toolkits.basemap import Basemap\n",
    "import matplotlib.pyplot as plt\n",
    "import datetime\n",
    "import pandas as pd\n",
    "from scipy.integrate import simps\n",
    "\n",
    "\n",
    "import createFolder as cF\n"
   ]
  },
  {
   "cell_type": "code",
   "execution_count": 2,
   "metadata": {
    "collapsed": true
   },
   "outputs": [],
   "source": [
    "year = '2016'\n",
    "month = '12'\n",
    "day = '20'\n",
    "stn_lat = 59.8\n",
    "stn_lon = 7.2"
   ]
  },
  {
   "cell_type": "code",
   "execution_count": 3,
   "metadata": {
    "collapsed": true
   },
   "outputs": [],
   "source": [
    "def mask_array(variable,ens_memb,y,x):\n",
    "    if np.ma.is_masked(variable[:,:,ens_memb,y[0],x[0]]):\n",
    "        mask = np.ma.getmaskarray(variable[:,:,ens_memb,y[0],x[0]])  \n",
    "        fill_value = np.nan\n",
    "        marr = np.ma.array(variable[:,:,ens_memb,y[0],x[0]], mask = mask, fill_value = fill_value)\n",
    "        dtype = marr.filled().dtype\n",
    "    else:\n",
    "        fill_value = np.nan\n",
    "        marr = variable[:,:,ens_memb,y[0],x[0]]\n",
    "        dtype = marr.dtype\n",
    "    return(marr.filled())"
   ]
  },
  {
   "cell_type": "code",
   "execution_count": 4,
   "metadata": {
    "collapsed": true
   },
   "outputs": [],
   "source": [
    "def get_value_at_station(val):\n",
    "    array = pd.DataFrame.from_dict(val[:,:])\n",
    "#    val_ml = pd.DataFrame.from_dict(val_ml[:,:,ens_memb,y[0],x[0]])\n",
    "    return(array)"
   ]
  },
  {
   "cell_type": "code",
   "execution_count": null,
   "metadata": {
    "collapsed": true
   },
   "outputs": [],
   "source": [
    "def get_microphy_val(var_ml,ens_memb):\n",
    "    var_ml = fn.variables[var_ml]\n",
    "    var_ml = mask_array(var_ml,ens_memb,y,x)\n",
    "    var_ml = get_value_at_station(var_ml)\n",
    "    var_ml = np.fliplr(var_ml)\n",
    "    return(var_ml);"
   ]
  },
  {
   "cell_type": "code",
   "execution_count": 5,
   "metadata": {
    "collapsed": true
   },
   "outputs": [],
   "source": [
    "thredds  = 'http://thredds.met.no/thredds/dodsC/meps25epsarchive'\n",
    "time = '00'\n",
    "fn = netCDF4.Dataset('%s/%s/%s/%s/meps_full_2_5km_%s%s%sT%sZ.nc' %(thredds,year,month,day,year,month,day,time),'r')\n",
    "\n",
    "\n",
    "## Latitudes\n",
    "## [y = 949][x = 739]\n",
    "latitude = fn.variables['latitude']\n",
    "\n",
    "## Longitudes \n",
    "## [y = 949][x = 739]\n",
    "longitude = fn.variables['longitude']\n",
    "\n"
   ]
  },
  {
   "cell_type": "code",
   "execution_count": 6,
   "metadata": {
    "collapsed": true
   },
   "outputs": [],
   "source": [
    "# Now find the absolute value of the difference between the  station's lat/lon with every point in the grid. \n",
    "# This tells us how close a point is to the particular latitude and longitude.\n",
    "abslat = np.abs(latitude[:,:]-stn_lat)\n",
    "abslon= np.abs(longitude[:,:]-stn_lon)\n",
    "\n",
    "# Now we need to combine these two results. We will use numpy.maximum, which takes two arrays and finds the local \n",
    "# maximum.\n",
    "c = np.maximum(abslon, abslat)\n",
    "\n",
    "# If you don't like flattened arrays, you can also get the row/column index like this\n",
    "y, x = np.where(c == np.min(c))"
   ]
  },
  {
   "cell_type": "code",
   "execution_count": 7,
   "metadata": {},
   "outputs": [],
   "source": [
    "######## with Vertical Levels ( height0 ) #################################\n",
    "air_temperature_0m = fn.variables['air_temperature_0m']\n",
    "surface_air_pressure = fn.variables['surface_air_pressure']\n"
   ]
  },
  {
   "cell_type": "code",
   "execution_count": 8,
   "metadata": {},
   "outputs": [],
   "source": [
    "######## with Vertical Levels ( hybrid )#################################\n",
    "## hybrid levels atmosphere_hybrid_sigma_pressure_coordinate\n",
    "# formula: p(n,k,j,i) = ap(k) + b(k)*ps(n,j,i)\n",
    "# positive: down\n",
    "air_temperature_ml= fn.variables['air_temperature_ml']\n",
    "### variables to calculate pressure\n",
    "p0 = fn.variables['p0']    ## p0: p0\n",
    "ap = fn.variables['ap']    ## ap: ap\n",
    "b = fn.variables['b']      ## b: b"
   ]
  },
  {
   "cell_type": "code",
   "execution_count": 9,
   "metadata": {},
   "outputs": [],
   "source": [
    "ens_memb = 2"
   ]
  },
  {
   "cell_type": "code",
   "execution_count": 10,
   "metadata": {},
   "outputs": [],
   "source": [
    "### Connect model levels and surface values\n",
    "# this is only done for pressure and temperature\n",
    "# !!!! DO NOT DO THAT FOR THE OTHER VALUES, SINCE in model levels it is the mixing ration and at the surface [kg/m^2]\n",
    "\n",
    "### Pressure\n",
    "# transform hybrid sigma pressure coordinate in model levels to actual pressure\n",
    "surface_air_pressure = mask_array(surface_air_pressure,ens_memb,y,x)\n",
    "p_sfc = get_value_at_station(surface_air_pressure) \n",
    "p_ml = pd.DataFrame.from_dict((ap[:] + b[:]*surface_air_pressure[:,:]))\n",
    "pressure = np.asarray(pd.concat([p_ml, p_sfc],axis = 1))\n"
   ]
  },
  {
   "cell_type": "code",
   "execution_count": 11,
   "metadata": {},
   "outputs": [],
   "source": [
    "### Temperature\n",
    "air_temperature_0m = mask_array(air_temperature_0m,ens_memb,y,x)\n",
    "air_temperature_ml = mask_array(air_temperature_ml,ens_memb,y,x)\n",
    "t_sfc = get_value_at_station(air_temperature_0m)\n",
    "t_ml = get_value_at_station(air_temperature_ml)\n",
    "temperature = np.asarray(pd.concat([t_ml,t_sfc],axis = 1))\n",
    "\n",
    "### Snowfall_amount\n",
    "#    snowfall_amount_0m = get_value_at_station(snowfall_amount_0m)\n",
    " #   snowfall_amount_ml = get_value_at_station(snowfall_amount_ml)"
   ]
  },
  {
   "cell_type": "code",
   "execution_count": 12,
   "metadata": {},
   "outputs": [
    {
     "name": "stderr",
     "output_type": "stream",
     "text": [
      "/Volumes/SANDISK128/Applications/anaconda/envs/py36ECMWF/lib/python3.6/site-packages/ipykernel_launcher.py:14: RuntimeWarning: invalid value encountered in true_divide\n",
      "  \n"
     ]
    }
   ],
   "source": [
    "##### to convert pressure-levels into actual heights use the hypsometric equation --> Temperature and pressure\n",
    "# are needed. After J. E. Martin: Mid-Latitude Atmospheric Dynamics Eq. 3.6\n",
    "Rd = 287.    # gas constant for dry air [J kg^-1 K^-1]\n",
    "g = 9.81     # Standard gravity [m s^-2]\n",
    "\n",
    "### calculate the pressure-weighted, column averaged temperature as from J. E. Martin: Mid-Latitude Atmospheric \n",
    "# Dynamics Book, Eq. below Eq. 3.6\n",
    "temp_mean = []\n",
    "for i in range(0, temperature.shape[1]):\n",
    " ##       t = np.asarray(t_sfc[0])\n",
    "   #     numT = simps(y=t[:,i:(i+2)], x=pressure[:,i:(i+2)], dx = np.log(pressure[:,i:(i+2)]))\n",
    "    numT = simps(y=temperature[:,i:(i+2)], x=pressure[:,i:(i+2)], dx = np.log(pressure[:,i:(i+2)]))\n",
    "    denomT = simps(y=np.ones(temperature[:,i:(i+2)].shape), x = pressure[:,i:(i+2)], dx = np.log(pressure[:,i:(i+2)]))\n",
    "    t_mean = numT/denomT\n",
    "    temp_mean.append(t_mean)"
   ]
  },
  {
   "cell_type": "code",
   "execution_count": 13,
   "metadata": {
    "scrolled": false
   },
   "outputs": [],
   "source": [
    "# get temperature and pressure, and value so that array zero contains low levels (transpose or flip)\n",
    "temp_mean = pd.DataFrame.from_dict(np.transpose((temp_mean)))\n",
    "temp_mean = np.fliplr(temp_mean)\n",
    "pres = np.fliplr(pressure)\n",
    "temperature = np.fliplr(temperature)\n",
    "#snowfall_amount_0m = np.fliplr(snowfall_amount_0m)\n",
    "#snowfall_amount_ml = np.fliplr(snowfall_amount_ml)"
   ]
  },
  {
   "cell_type": "code",
   "execution_count": 14,
   "metadata": {},
   "outputs": [],
   "source": [
    "thickness = []\n",
    "geop_th = []\n",
    "for i in range(0, pres.shape[1]):\n",
    "    if (i+1) == pres.shape[1]:\n",
    "        continue\n",
    "    p1 = pres[:,i]\n",
    "    p2 = pres[:,(i+1)]   \n",
    "    dz = (Rd * temp_mean[:,i])/g * np.log((p1/p2))    # thickness in [m]\n",
    "    dgeop = (Rd * temp_mean[:,i])* np.log((p1/p2))    # thickness in [J/kg]\n",
    "    thickness.append(dz)\n",
    "    geop_th.append(dgeop)\n",
    "    \n",
    "\n"
   ]
  },
  {
   "cell_type": "code",
   "execution_count": 15,
   "metadata": {},
   "outputs": [],
   "source": [
    "# transpose array, so that array starts at lower levels\n",
    "thickness = pd.DataFrame.from_dict(np.transpose((thickness)))\n",
    "geop_th = pd.DataFrame.from_dict(np.transpose((geop_th)))"
   ]
  },
  {
   "cell_type": "code",
   "execution_count": null,
   "metadata": {
    "collapsed": true
   },
   "outputs": [],
   "source": [
    "# Read in all other values\n",
    "## Time\n",
    "time = fn.variables['time']\n",
    "## heights\n",
    "height0 = fn.variables['height0']\n",
    "height1 = fn.variables['height1']\n",
    "hybrid = fn.variables['hybrid']\n"
   ]
  },
  {
   "cell_type": "code",
   "execution_count": null,
   "metadata": {
    "collapsed": true
   },
   "outputs": [],
   "source": [
    "######## with Vertical Levels ( height0 ) #################################\n",
    "air_temperature_0m = get_microphy_val('air_temperature_0m',ens_memb)\n",
    "graupelfall_amount = get_microphy_val('graupelfall_amount',ens_memb)\n",
    "liquid_water_content_of_surface_snow = get_microphy_val('liquid_water_content_of_surface_snow',ens_memb)\n",
    "precipitation_amount_acc = get_microphy_val('precipitation_amount_acc',ens_memb)\n",
    "rainfall_amount = get_microphy_val('rainfall_amount',ens_memb)\n",
    "snowfall_amount = get_microphy_val('snowfall_amount',ens_memb)\n",
    "surface_air_pressure = get_microphy_val('surface_air_pressure',ens_memb)\n",
    "\n",
    "\n",
    "#surface = [\n",
    " #         air_temperature_0m,                      ## surface temperature\n",
    "  #        graupelfall_amount,                      ## graupelfall amount\n",
    "   #       liquid_water_content_of_surface_snow,    ## Snow water equivalent\n",
    "    #      precipitation_amount_acc,                ## accumulated  total precipitation\n",
    "     #     rainfall_amount,                         ## instantanous rainfall at surface\n",
    "      #    snowfall_amount,                         ## instantaneous snowfall amount at surface\n",
    "       #   surface_air_pressure                     ## ps: surface_air_pressure\n",
    "        #       ]\n",
    "\n"
   ]
  },
  {
   "cell_type": "code",
   "execution_count": null,
   "metadata": {
    "collapsed": true
   },
   "outputs": [],
   "source": [
    "######## with Vertical Levels ( height1 )#################################\n",
    "air_temperature_2m = get_microphy_val('air_temperature_2m',ens_memb)\n",
    "specific_humidity_2m = get_microphy_val('specific_humidity_2m',ens_memb)\n",
    "#two_meter = [\n",
    " #            air_temperature_2m,                   ## screen level temperature\n",
    "  #           specific_humidity_2m                  ## screen level specific humidity\n",
    "   #         ]"
   ]
  },
  {
   "cell_type": "code",
   "execution_count": null,
   "metadata": {
    "collapsed": true
   },
   "outputs": [],
   "source": [
    "######## with Vertical Levels ( hybrid )#################################\n",
    "## hybrid levels atmosphere_hybrid_sigma_pressure_coordinate\n",
    "# formula: p(n,k,j,i) = ap(k) + b(k)*ps(n,j,i)\n",
    "# positive: down\n",
    "air_temperature_ml= get_microphy_val('air_temperature_ml',ens_memb)\n",
    "atmosphere_cloud_condensed_water_content_ml = get_microphy_val('atmosphere_cloud_condensed_water_content_ml',ens_memb)\n",
    "atmosphere_cloud_ice_content_ml = get_microphy_val('atmosphere_cloud_ice_content_ml',ens_memb)\n",
    "graupelfall_amount_ml = get_microphy_val('graupelfall_amount_ml',ens_memb)\n",
    "pressure_departure = get_microphy_val('pressure_departure',ens_memb)\n",
    "rainfall_amount_ml = get_microphy_val('rainfall_amount_ml',ens_memb)\n",
    "snowfall_amount_ml = get_microphy_val('snowfall_amount_ml',ens_memb)\n",
    "specific_humidity_ml = get_microphy_val('specific_humidity_ml',ens_memb)\n",
    "            \n",
    "            \n",
    "#model_levels = [\n",
    " #              air_temperature_ml,                            ## air temperature model levels\n",
    "  #             atmosphere_cloud_condensed_water_content_ml,   ## atmospheric cloud condensed water\n",
    "   #            atmosphere_cloud_ice_content_ml,               ## cloud ice in model levels\n",
    "    #           graupelfall_amount_ml,                         ## instantaneous graupel in model levels\n",
    "     #          pressure_departure,                            ## nonhydrostatic departure from hydrostatic pressure\n",
    "      #         rainfall_amount_ml,                            ## instantaneous rain in model levels\n",
    "       #        snowfall_amount_ml,                            ## instantaneous snow in model levels\n",
    "        #       specific_humidity_ml                           ## specific humidity model levels\n",
    "         #      ]\n",
    "\n"
   ]
  },
  {
   "cell_type": "code",
   "execution_count": null,
   "metadata": {
    "collapsed": true
   },
   "outputs": [],
   "source": [
    "### write netCDF file\n",
    "dirnc = '../../MEPS_data'\n",
    "f = netCDF4.Dataset('%s/%s%s%s_%s.nc' %(dirnc, year, month, day, time), 'w')\n",
    "\n",
    "### create dimensions\n",
    "f.createDimension('time', )"
   ]
  }
 ],
 "metadata": {
  "kernelspec": {
   "display_name": "Python 3",
   "language": "python",
   "name": "python3"
  },
  "language_info": {
   "codemirror_mode": {
    "name": "ipython",
    "version": 3
   },
   "file_extension": ".py",
   "mimetype": "text/x-python",
   "name": "python",
   "nbconvert_exporter": "python",
   "pygments_lexer": "ipython3",
   "version": "3.6.1"
  }
 },
 "nbformat": 4,
 "nbformat_minor": 2
}

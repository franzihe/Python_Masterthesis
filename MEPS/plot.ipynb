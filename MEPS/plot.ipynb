{
 "cells": [
  {
   "cell_type": "code",
   "execution_count": null,
   "metadata": {},
   "outputs": [],
   "source": [
    "import sys\n",
    "sys.path.append('/Volumes/SANDISK128/Documents/Thesis/Python/')\n",
    "import fill_values as fv"
   ]
  },
  {
   "cell_type": "code",
   "execution_count": null,
   "metadata": {},
   "outputs": [],
   "source": [
    "snowfall_amount_0m = []\n",
    "for ml in range(0,1):\n",
    "    for ens_memb in range(0,9):\n",
    "        snowfall_amount_0m = fv.fill_values(snowfall_amount_0m, ml, ens_memb)\n"
   ]
  },
  {
   "cell_type": "code",
   "execution_count": null,
   "metadata": {
    "collapsed": true
   },
   "outputs": [],
   "source": [
    "snowfall_amount_ml = []\n",
    "for ml in range(0,66):\n",
    "    for ens_memb in range(0,9):\n",
    "        snowfall_amount_ml = fv.fill_values(snowfall_amount_ml, ml,ens_memb)\n",
    "        \n",
    "pd.DataFrame(np.transpose(snowfall_amount_ml))"
   ]
  }
 ],
 "metadata": {
  "kernelspec": {
   "display_name": "Python 3",
   "language": "python",
   "name": "python3"
  },
  "language_info": {
   "codemirror_mode": {
    "name": "ipython",
    "version": 3
   },
   "file_extension": ".py",
   "mimetype": "text/x-python",
   "name": "python",
   "nbconvert_exporter": "python",
   "pygments_lexer": "ipython3",
   "version": "3.6.1"
  }
 },
 "nbformat": 4,
 "nbformat_minor": 2
}

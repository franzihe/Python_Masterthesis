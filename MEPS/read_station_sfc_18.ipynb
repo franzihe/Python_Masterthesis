{
 "cells": [
  {
   "cell_type": "code",
   "execution_count": null,
   "metadata": {
    "collapsed": true
   },
   "outputs": [],
   "source": [
    "%matplotlib inline\n",
    "import sys\n",
    "sys.path.append('/Volumes/SANDISK128/Documents/Thesis/Python/')\n",
    "import netCDF4\n",
    "import numpy as np\n",
    "import matplotlib.pyplot as plt\n",
    "import datetime\n",
    "import pandas as pd\n",
    "import fill_values as fv\n",
    "import calc_station_properties as cs\n",
    "\n",
    "import createFolder as cF"
   ]
  },
  {
   "cell_type": "code",
   "execution_count": null,
   "metadata": {
    "collapsed": true,
    "scrolled": true
   },
   "outputs": [],
   "source": [
    "def create_netCDF_for_station(thredds,year,month,day,t,stn_lon,stn_lat,ens_memb):\n",
    "    fn = netCDF4.Dataset('%s/%s/%s/%s/meps_extracted_2_5km_%s%s%sT%sZ.nc' %(thredds,year,month,day,year,month,day,t),'r')\n",
    "\n",
    "## Latitudes\n",
    "## [y = 949][x = 739]\n",
    "    latitude = fn.variables['latitude']\n",
    "\n",
    "## Longitudes \n",
    "## [y = 949][x = 739]\n",
    "    longitude = fn.variables['longitude']\n",
    "\n",
    "# Now find the absolute value of the difference between the  station's lat/lon with every point in the grid. \n",
    "    x,y = cs.find_station_yx(latitude, longitude, stn_lat, stn_lon)\n",
    "\n",
    "    time = fn.variables['time']\n",
    "    height0 = fn.variables['height0']\n",
    "    \n",
    "    air_temperature_0m = cs.get_value_at_station(fn, 'air_temperature_0m',ens_memb,x,y)\n",
    "\n",
    "    graupelfall_amount = cs.get_value_at_station(fn, 'graupelfall_amount',ens_memb,x,y)\n",
    "    liquid_water_content_of_surface_snow = cs.get_value_at_station(fn, 'liquid_water_content_of_surface_snow',\n",
    "                                                                       ens_memb,x,y)\n",
    "    precipitation_amount_acc = cs.get_value_at_station(fn, 'precipitation_amount_acc',ens_memb,x,y)\n",
    "    rainfall_amount = cs.get_value_at_station(fn, 'rainfall_amount',ens_memb,x,y)\n",
    "    snowfall_amount = cs.get_value_at_station(fn, 'snowfall_amount',ens_memb,x,y)\n",
    "    surface_air_pressure = cs.get_value_at_station(fn, 'surface_air_pressure',ens_memb,x,y)\n",
    "    surface_geopotential = cs.get_value_at_station(fn, 'surface_geopotential',ens_memb,x,y)\n",
    "\n",
    "    surface = [\n",
    "                  air_temperature_0m,                      ## surface temperature\n",
    "                  graupelfall_amount,                      ## graupelfall amount\n",
    "                  liquid_water_content_of_surface_snow,    ## Snow water equivalent\n",
    "                  precipitation_amount_acc,                ## accumulated  total precipitation\n",
    "                  rainfall_amount,                         ## instantanous rainfall at surface\n",
    "                  snowfall_amount,                         ## instantaneous snowfall amount at surface\n",
    "                  surface_air_pressure,                     ## ps: surface_air_pressure\n",
    "                  surface_geopotential                     ## Surface geopotential (fis) \n",
    "                       ]\n",
    "    sfc = [\n",
    "                  'air_temperature_0m',                      ## surface temperature\n",
    "                  'graupelfall_amount',                      ## graupelfall amount\n",
    "                  'liquid_water_content_of_surface_snow',    ## Snow water equivalent\n",
    "                  'precipitation_amount_acc',                ## accumulated  total precipitation\n",
    "                  'rainfall_amount',                         ## instantanous rainfall at surface\n",
    "                  'snowfall_amount',                         ## instantaneous snowfall amount at surface\n",
    "                  'surface_air_pressure',                    ## ps: surface_air_pressure\n",
    "                  'surface_geopotential'\n",
    "               ]\n",
    "\n",
    "### write netCDF file\n",
    "    f = netCDF4.Dataset('%s/%s/sfc_%s/%s%s%s_%s_%s.nc' %(dirnc,stn_name,t,year,month,day,t,ens_memb), 'w')\n",
    "\n",
    "### create dimensions\n",
    "    f.createDimension('time', time.shape[0])\n",
    "    f.createDimension('height0', height0.shape[0])\n",
    "\n",
    "    t = f.createVariable('time', time.dtype,'time',zlib = True)\n",
    "    h = f.createVariable('height0', height0.dtype, 'height0', zlib=True)\n",
    "    dim = ('time', 'height0')\n",
    "#    at_0m = f.createVariable(varname='air_temperature_0m', datatype=air_temperature_0m.dtype, dimensions=dim,\n",
    " #                                     fill_value = air_temperature_0m.fill_value, zlib=True)\n",
    "\n",
    "\n",
    "    t[:] = time[:]\n",
    "    h[:] = height0[:]\n",
    "######## with Vertical Levels ( height0 ) #################################\n",
    "\n",
    "    dim = ('time', 'height0')\n",
    "    at_0m = cs.get_netCDF_variable(f,'air_temperature_0m', air_temperature_0m,dim)\n",
    "    ga_0m = cs.get_netCDF_variable(f,'graupelfall_amount', graupelfall_amount,dim)\n",
    "    lwc_0m = cs.get_netCDF_variable(f,'liquid_water_content_of_surface_snow', liquid_water_content_of_surface_snow,dim)\n",
    "    pr_0m = cs.get_netCDF_variable(f,'precipitation_amount_acc',precipitation_amount_acc,dim)\n",
    "    ra_0m = cs.get_netCDF_variable(f,'rainfall_amount',rainfall_amount,dim)\n",
    "    sa_0m = cs.get_netCDF_variable(f,'snowfall_amount',snowfall_amount,dim)\n",
    "    ps = cs.get_netCDF_variable(f,'surface_air_pressure',surface_air_pressure,dim)\n",
    "    geop = cs.get_netCDF_variable(f,'surface_geopotential',surface_geopotential,dim)\n",
    "\n",
    "    \n",
    "    f.close()\n",
    "    fn.close()\n",
    " #   ens_memb = '%s' %(ens_memb)\n",
    "#    print('File written: %s%s%s_%s_%s.nc' %(year, month, day, time, ens_memb))"
   ]
  },
  {
   "cell_type": "code",
   "execution_count": null,
   "metadata": {
    "collapsed": true
   },
   "outputs": [],
   "source": [
    "year = '2016'\n",
    "month = '12'\n",
    "#day = '20'\n",
    "time = '18'\n",
    "#time = '00'\n",
    "stn_lat = 59.8\n",
    "stn_lon = 7.2\n",
    "stn_name = 'Haukeliseter'\n",
    "dirnc = '../../MEPS_data'\n",
    "cF.createFolder('%s/%s/sfc_%s/' %(dirnc,stn_name,time))\n",
    "thredds  = 'http://thredds.met.no/thredds/dodsC/meps25epsarchive'"
   ]
  },
  {
   "cell_type": "code",
   "execution_count": null,
   "metadata": {
    "collapsed": true
   },
   "outputs": [],
   "source": [
    "t = [\n",
    "    1, 2, 3, \n",
    "    4, 5, 6 , \n",
    "    7, 8, 9,10, 11,\n",
    "    12,13,14,15,    \n",
    "    17,18,19,20, \n",
    "    21,22,23,\n",
    "    24,25,26,\n",
    "    27,28,29,30, \n",
    "    31\n",
    "    ]"
   ]
  },
  {
   "cell_type": "code",
   "execution_count": null,
   "metadata": {
    "collapsed": true
   },
   "outputs": [],
   "source": [
    "for day in t:\n",
    "    if day < 10:\n",
    "        day = '0%s' %(day)\n",
    "    else:\n",
    "        day = '%s' %day\n",
    "    for ens_memb in range(0,10):\n",
    "        create_netCDF_for_station(thredds,year,month,day,time,stn_lon,stn_lat,ens_memb)\n",
    "        print('file written: %s%s%s_%s.nc' %(year,month,day,ens_memb))"
   ]
  },
  {
   "cell_type": "code",
   "execution_count": null,
   "metadata": {
    "collapsed": true
   },
   "outputs": [],
   "source": []
  }
 ],
 "metadata": {
  "kernelspec": {
   "display_name": "Python 3",
   "language": "python",
   "name": "python3"
  },
  "language_info": {
   "codemirror_mode": {
    "name": "ipython",
    "version": 3
   },
   "file_extension": ".py",
   "mimetype": "text/x-python",
   "name": "python",
   "nbconvert_exporter": "python",
   "pygments_lexer": "ipython3",
   "version": "3.6.1"
  }
 },
 "nbformat": 4,
 "nbformat_minor": 2
}

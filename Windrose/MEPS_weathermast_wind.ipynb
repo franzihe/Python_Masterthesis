{
 "cells": [
  {
   "cell_type": "markdown",
   "metadata": {},
   "source": [
    "https://pypi.python.org/pypi/windrose/\n",
    "\n",
    "https://github.com/python-windrose/windrose\n",
    "\n",
    "http://nbviewer.jupyter.org/github/python-windrose/windrose/blob/master/windrose_sample_random.ipynb"
   ]
  },
  {
   "cell_type": "code",
   "execution_count": null,
   "metadata": {
    "collapsed": true
   },
   "outputs": [],
   "source": [
    "import sys\n",
    "sys.path.append('/Volumes/SANDISK128/Documents/Thesis/Python/')\n",
    "sys.path.append('/Volumes/SANDISK128/Documents/Thesis/Python/weather_mast/')\n",
    "\n",
    "\n",
    "import pandas as pd\n",
    "import numpy as np\n",
    "from matplotlib import pyplot as plt\n",
    "import matplotlib as mpl\n",
    "import createFolder as cF\n",
    "import datetime\n",
    "\n",
    "import get_Haukeli_obs_data as obsDat\n",
    "import calc_date as cd\n",
    "import netCDF4\n",
    "import fill_values as fv\n",
    "import save_fig as sF\n",
    "\n",
    "from windrose_edit import WindroseAxes"
   ]
  },
  {
   "cell_type": "code",
   "execution_count": null,
   "metadata": {
    "collapsed": true
   },
   "outputs": [],
   "source": [
    "savefig = 0\n",
    "\n",
    "stn = 'Haukeliseter' #\n",
    "year= '2016'\n",
    "month = '12'\n",
    "\n",
    "hh = '00'\n",
    "\n",
    "#cF.createFolder('../../Data/Soundings/%s_txt/' %(stn))      # for text files\n",
    "figdir = '../../Figures/Windrose/%s/MEPS_weathermast' %(stn)\n",
    "form = 'png'\n",
    "cF.createFolder(figdir)      # for figure files\n",
    "t = ['17', '18','19', '20', '21', '22', '23', '24', '25', '26', '27']\n",
    "#t = ['20']"
   ]
  },
  {
   "cell_type": "code",
   "execution_count": null,
   "metadata": {
    "collapsed": true
   },
   "outputs": [],
   "source": [
    "level = '10m'\n",
    "### MEPS\n",
    "ncdir_10m = '../../Data/MEPS/%s/%s_%s' %(stn,level,hh)\n",
    "\n",
    "### Haukeli obs\n",
    "txtdir = '../../Data/eklima/'\n",
    "txt_filename = 'Observations-hour_minutes.txt'"
   ]
  },
  {
   "cell_type": "code",
   "execution_count": null,
   "metadata": {
    "collapsed": true
   },
   "outputs": [],
   "source": [
    "# read in the Haukeliseter observation file, sorted by daily values\n",
    "Haukeli = pd.read_csv('%s/%s' %(txtdir, txt_filename),\\\n",
    "                    sep = ';',header=19, skipfooter = 11, engine= 'python')\n",
    "\n",
    "DateHour = Haukeli['Date-Hour(UTC)']\n",
    "\n",
    "DD   = Haukeli['DD'].astype(float)             # Wind direction (FF); [degrees]\n",
    "FF   = Haukeli['FF'].astype(float)             # Wind speed (10 meters above ground);m/s"
   ]
  },
  {
   "cell_type": "code",
   "execution_count": null,
   "metadata": {
    "collapsed": true
   },
   "outputs": [],
   "source": [
    "idxFF = np.where(FF[:] == -9999)\n",
    "idxDD = np.where(DD[:] == -9999)\n",
    "\n",
    "FF[idxFF[0][:]] = np.nan\n",
    "DD[idxDD[0][:]] = np.nan\n"
   ]
  },
  {
   "cell_type": "code",
   "execution_count": null,
   "metadata": {
    "collapsed": true
   },
   "outputs": [],
   "source": [
    "ws_WM, wd_WM, dt_wind, hour_wind, day_wind, month_wind, year_wind = obsDat.valid_values_wind(FF, DD, DateHour)"
   ]
  },
  {
   "cell_type": "code",
   "execution_count": null,
   "metadata": {
    "collapsed": true
   },
   "outputs": [],
   "source": [
    "champ = 255.\n",
    "date_blue = np.array([1,74,159])/255.\n",
    "no1 = np.array([79,94,26])/champ\n",
    "no2 = np.array([131,156,45])/champ\n",
    "no3 = np.array([71,153,112])/champ\n",
    "no4 = np.array([77,111,157])/champ\n",
    "no5 = np.array([157,58,55])/champ\n",
    "no6 = np.array([211,120,50])/champ\n",
    "no7 = np.array([218,181,70])/champ\n",
    "\n",
    "memb_col = np.array([99,99,99])/champ       # ensemble member color\n",
    "dofe = np.array([64,180,233])/champ         # color for double fence measurement"
   ]
  },
  {
   "cell_type": "code",
   "execution_count": null,
   "metadata": {
    "collapsed": true
   },
   "outputs": [],
   "source": [
    "fn_10m = dict()\n",
    "\n",
    "time_10m   = dict()\n",
    "x_wind_10m = dict()\n",
    "y_wind_10m = dict()\n",
    "\n",
    "wd_MEPS    = dict()\n",
    "ws_MEPS    = dict()"
   ]
  },
  {
   "cell_type": "code",
   "execution_count": null,
   "metadata": {},
   "outputs": [],
   "source": [
    "for day in t:\n",
    "    for ens_memb in range(0,10):\n",
    "# read in the netcdf 10m file\n",
    "        fn_10m[ens_memb] = netCDF4.Dataset('%s/%s%s%s_%s_%s.nc' %(ncdir_10m,year,month,day,hh,ens_memb))\n",
    "        time_10m[ens_memb] = fn_10m[ens_memb].variables['time']\n",
    "        time_10m[ens_memb] = fv.fill_nan(time_10m[ens_memb][:])\n",
    "        \n",
    "        ini_day = (datetime.datetime.utcfromtimestamp(time_10m[0][0]).day)   # day of initialisation\n",
    "        hour = (datetime.datetime.utcfromtimestamp(time_10m[0][0]).hour)       # first hour of initialisation\n",
    "        calday, calmon = cd.get_dayname(year, month, ini_day)\n",
    "\n",
    "# Read in the variable name which should be plotted  \n",
    "        x_wind_10m[ens_memb] = fn_10m[ens_memb].variables['x_wind_10m'][:]\n",
    "        y_wind_10m[ens_memb] = fn_10m[ens_memb].variables['y_wind_10m'][:]\n",
    "        \n",
    "        x_wind_10m[ens_memb] = fv.fill_nan(x_wind_10m[ens_memb])\n",
    "        y_wind_10m[ens_memb] = fv.fill_nan(y_wind_10m[ens_memb])\n",
    "    \n",
    "# Create wind speed and direction variables\n",
    "        wd_MEPS[ens_memb] = np.arctan2(y_wind_10m[ens_memb][:,0], x_wind_10m[ens_memb][:,0])\n",
    "        ws_MEPS[ens_memb] = np.sqrt((x_wind_10m[ens_memb][:,0])**2 + (y_wind_10m[ens_memb][:,0])**2) \n",
    "\n",
    "        wd_MEPS[ens_memb] = 270-np.rad2deg(wd_MEPS[ens_memb])  # convert from math to meteo direction and to degrees\n",
    "\n",
    "        ws_MEPS[ens_memb] = ws_MEPS[ens_memb][~np.isnan(wd_MEPS[ens_memb])]\n",
    "        wd_MEPS[ens_memb] = wd_MEPS[ens_memb][~np.isnan(wd_MEPS[ens_memb])]\n",
    "\n",
    "        \n",
    "#### plot figure\n",
    "    figname = '%s%s%s.%s' %(year,month,day,form)\n",
    "    \n",
    "    levels = np.arange(0,28,4)\n",
    "    cmap = mpl.colors.ListedColormap([no1, no2, no3, no4, no5, no6, no7])\n",
    "    norm = mpl.colors.BoundaryNorm(boundaries = levels, ncolors=cmap.N)\n",
    "    plt.hist([0,1])\n",
    "    plt.close()\n",
    "    \n",
    "    fig = plt.figure(figsize=(20,10))\n",
    "    ax0 = fig.add_subplot(121, projection='windrose')\n",
    "    ax0.bar(wd_MEPS[0][:24], ws_MEPS[0][:24], normed=True, opening=1.0, edgecolor='white',nsector=45, \n",
    "                 cmap=cmap,bins=np.arange(0, 28, 4))\n",
    "    ax0._info['bins']\n",
    "    ax0.set_legend()\n",
    "    ax0.legend(title ='Wind$_{10m}$ [m s$^{-1}$]',fontsize=14)\n",
    "    ax0.get_legend().get_title().set_fontsize('18')\n",
    "    ax0.tick_params(labelsize = 20)\n",
    "    ax0.set_title('MEPS', fontsize=20,y=1.08, color=memb_col, fontweight='bold')\n",
    "    \n",
    "    ax1 = fig.add_subplot(122, projection='windrose')\n",
    "    bar = ax1.bar(wd_WM[int(day)-1][:], ws_WM[int(day)-1][:], normed=True, opening=1.0, edgecolor='white',nsector=45, \n",
    "                 cmap=cmap,bins=np.arange(0, 28, 4))\n",
    "    ax1._info['bins']\n",
    "    ax1.set_title('Weather Mast', fontsize=20,y=1.08, color=dofe, fontweight='bold')\n",
    "    fig.suptitle('%s, %s %s %s %s UTC' %(calday,ini_day,calmon,year,hh), color = date_blue,fontsize = 24)\n",
    "    ax1.tick_params(labelsize = 20)\n",
    "    \n",
    "    if savefig == 1:\n",
    "        sF.save_figure_portrait(figdir,figname,form)\n",
    "        print('saved: %s/%s' %(figdir,figname) )\n",
    "    else:\n",
    "        plt.show()\n",
    "    plt.close()\n",
    "    \n",
    "    for ens_memb in range(0,10):\n",
    "        fn_10m[ens_memb].close()"
   ]
  },
  {
   "cell_type": "code",
   "execution_count": null,
   "metadata": {
    "collapsed": true
   },
   "outputs": [],
   "source": []
  }
 ],
 "metadata": {
  "kernelspec": {
   "display_name": "Python 3",
   "language": "python",
   "name": "python3"
  },
  "language_info": {
   "codemirror_mode": {
    "name": "ipython",
    "version": 3
   },
   "file_extension": ".py",
   "mimetype": "text/x-python",
   "name": "python",
   "nbconvert_exporter": "python",
   "pygments_lexer": "ipython3",
   "version": "3.6.1"
  }
 },
 "nbformat": 4,
 "nbformat_minor": 2
}

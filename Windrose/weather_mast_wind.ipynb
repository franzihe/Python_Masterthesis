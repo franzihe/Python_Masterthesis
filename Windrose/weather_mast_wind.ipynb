{
 "cells": [
  {
   "cell_type": "markdown",
   "metadata": {},
   "source": [
    "https://pypi.python.org/pypi/windrose/\n",
    "\n",
    "https://github.com/python-windrose/windrose\n",
    "\n",
    "http://nbviewer.jupyter.org/github/python-windrose/windrose/blob/master/windrose_sample_random.ipynb"
   ]
  },
  {
   "cell_type": "code",
   "execution_count": null,
   "metadata": {
    "collapsed": true
   },
   "outputs": [],
   "source": [
    "import sys\n",
    "sys.path.append('/Volumes/SANDISK128/Documents/Thesis/Python/')\n",
    "sys.path.append('/Volumes/SANDISK128/Documents/Thesis/Python/weather_mast/')\n",
    "\n",
    "import numpy as np\n",
    "from matplotlib import pyplot as plt\n",
    "import matplotlib as mpl\n",
    "import createFolder as cF\n",
    "import pandas as pd\n",
    "import get_Haukeli_obs_data as obsDat\n",
    "\n",
    "import calc_date as cd\n",
    "import save_fig as sF\n",
    "\n",
    "from windrose_edit import WindroseAxes"
   ]
  },
  {
   "cell_type": "code",
   "execution_count": null,
   "metadata": {
    "collapsed": true
   },
   "outputs": [],
   "source": [
    "year = 2016\n",
    "month = 12\n",
    "tid = '00'\n",
    "station = 'Haukeliseter'\n",
    "savefig = 0  # 1 = yes, 0 = no\n",
    "\n"
   ]
  },
  {
   "cell_type": "code",
   "execution_count": null,
   "metadata": {
    "collapsed": true
   },
   "outputs": [],
   "source": [
    "#### days \n",
    "t = ['17', '18','19', '20', '21', '22', '23', '24', '25', '26', '27']\n",
    "#t = ['26']"
   ]
  },
  {
   "cell_type": "code",
   "execution_count": null,
   "metadata": {
    "collapsed": true
   },
   "outputs": [],
   "source": [
    "figdir = '../../Figures/Windrose/%s/weather_mast' %(station)\n",
    "# Folder where the figures are being saved    \n",
    "cF.createFolder('%s/' %(figdir))\n",
    "form = 'png'"
   ]
  },
  {
   "cell_type": "code",
   "execution_count": null,
   "metadata": {
    "collapsed": true
   },
   "outputs": [],
   "source": [
    "### Haukeli obs.\n",
    "txtdir = '../../Data/eklima/'\n",
    "txt_filename = 'Observations-hour_minutes.txt'\n",
    "\n"
   ]
  },
  {
   "cell_type": "code",
   "execution_count": null,
   "metadata": {
    "collapsed": true
   },
   "outputs": [],
   "source": [
    "# read in the Haukeliseter observation file, sorted by daily values\n",
    "Haukeli = pd.read_csv('%s/%s' %(txtdir, txt_filename),\\\n",
    "                    sep = ';',header=19, skipfooter = 11, engine= 'python')\n",
    "\n",
    "DateHour = Haukeli['Date-Hour(UTC)']\n",
    "\n",
    "DD   = Haukeli['DD'].astype(float)             # Wind direction (FF); [degrees]\n",
    "FF   = Haukeli['FF'].astype(float)             # Wind speed (10 meters above ground);m/s\n",
    "\n",
    "\n"
   ]
  },
  {
   "cell_type": "code",
   "execution_count": null,
   "metadata": {
    "collapsed": true
   },
   "outputs": [],
   "source": [
    "idxFF = np.where(FF[:] == -9999)\n",
    "idxDD = np.where(DD[:] == -9999)\n",
    "\n",
    "FF[idxFF[0][:]] = np.nan\n",
    "DD[idxDD[0][:]] = np.nan\n"
   ]
  },
  {
   "cell_type": "code",
   "execution_count": null,
   "metadata": {
    "collapsed": true
   },
   "outputs": [],
   "source": [
    "ws, wd, dt_wind, hour_wind, day_wind, month_wind, year_wind = obsDat.valid_values_wind(FF, DD, DateHour)"
   ]
  },
  {
   "cell_type": "code",
   "execution_count": null,
   "metadata": {
    "collapsed": true
   },
   "outputs": [],
   "source": [
    "champ = 255.\n",
    "date_blue = np.array([1,74,159])/255.\n",
    "no1 = np.array([79,94,26])/champ\n",
    "no2 = np.array([131,156,45])/champ\n",
    "no3 = np.array([71,153,112])/champ\n",
    "no4 = np.array([77,111,157])/champ\n",
    "no5 = np.array([157,58,55])/champ\n",
    "no6 = np.array([211,120,50])/champ\n",
    "no7 = np.array([218,181,70])/champ"
   ]
  },
  {
   "cell_type": "code",
   "execution_count": null,
   "metadata": {},
   "outputs": [],
   "source": [
    "for day in t:\n",
    "    calday, calmon = cd.get_dayname(year_wind[int(day)-1][0], month_wind[int(day)-1][0], day_wind[int(day)-1][0])\n",
    "    #### plot figure\n",
    "    figname = '%s%s%s.%s' %(year,month,day,form)\n",
    "    \n",
    "    levels = np.arange(0,28,4)\n",
    "    cmap = mpl.colors.ListedColormap([no1, no2, no3, no4, no5, no6, no7])\n",
    "    norm = mpl.colors.BoundaryNorm(boundaries = levels, ncolors=cmap.N)\n",
    "    plt.hist([0,1])\n",
    "    plt.close()\n",
    "    \n",
    "    fig = plt.figure(figsize=(12,10))\n",
    "    ax0 = fig.add_subplot(111, projection='windrose')\n",
    "    ax0.bar(wd[int(day)-1][:], ws[int(day)-1][:], normed=True, opening=1.0, edgecolor='white',nsector=45, \n",
    "                 cmap=cmap,bins=np.arange(0, 28, 4))\n",
    "    ax0._info['bins']\n",
    "    ax0.set_legend()\n",
    "    ax0.legend(title ='Wind$_{10m}$ [m s$^{-1}$]',fontsize=14)\n",
    "    ax0.get_legend().get_title().set_fontsize('18')\n",
    "    ax0.tick_params(labelsize = 20)\n",
    "    ax0.set_title('%s, %s %s %s' %(calday,day_wind[int(day)-1][0],calmon,year_wind[int(day)-1][0]), color = date_blue,fontsize = 20, y=1.08)\n",
    "\n",
    "    \n",
    "    if savefig == 1:\n",
    "        sF.save_figure_portrait(figdir,figname,form)\n",
    "        print('saved: %s/%s' %(figdir,figname) )\n",
    "    else:\n",
    "        plt.show()\n",
    "    plt.close()\n",
    "    \n",
    " "
   ]
  },
  {
   "cell_type": "code",
   "execution_count": null,
   "metadata": {
    "collapsed": true
   },
   "outputs": [],
   "source": []
  },
  {
   "cell_type": "code",
   "execution_count": null,
   "metadata": {
    "collapsed": true
   },
   "outputs": [],
   "source": []
  }
 ],
 "metadata": {
  "kernelspec": {
   "display_name": "Python 3",
   "language": "python",
   "name": "python3"
  },
  "language_info": {
   "codemirror_mode": {
    "name": "ipython",
    "version": 3
   },
   "file_extension": ".py",
   "mimetype": "text/x-python",
   "name": "python",
   "nbconvert_exporter": "python",
   "pygments_lexer": "ipython3",
   "version": "3.6.1"
  }
 },
 "nbformat": 4,
 "nbformat_minor": 2
}

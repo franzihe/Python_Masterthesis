{
 "cells": [
  {
   "cell_type": "markdown",
   "metadata": {},
   "source": [
    "# Air temperature, PT100 [deg C] TA"
   ]
  },
  {
   "cell_type": "code",
   "execution_count": 25,
   "metadata": {
    "collapsed": true
   },
   "outputs": [],
   "source": [
    "import sys\n",
    "sys.path.append('/Volumes/SANDISK128/Documents/Thesis/Python/')\n",
    "import numpy as np\n",
    "import pandas as pd\n",
    "import matplotlib.pyplot as plt\n",
    "import calc_date as cd\n",
    "import save_fig as SF\n",
    "import createFolder as cF\n",
    "\n",
    "\n",
    "\n"
   ]
  },
  {
   "cell_type": "code",
   "execution_count": 26,
   "metadata": {
    "collapsed": true
   },
   "outputs": [],
   "source": [
    "txt_dir = '../../Retrieval/new_20180102_copy/snowret'\n",
    "fig_dir = '../../retrieval_fig/sfc_temp'\n",
    "cF.createFolder(fig_dir)\n",
    "form = 'png'\n",
    "\n",
    "sfig = 1\n",
    "\n",
    "t = ['20','21', '22', '23', '24', '25', '26', '27', '28', '29']\n",
    "fs = 30\n",
    "\n",
    "year = '2016'\n",
    "mon = '12'"
   ]
  },
  {
   "cell_type": "code",
   "execution_count": 27,
   "metadata": {
    "collapsed": true
   },
   "outputs": [],
   "source": [
    "date_blue = np.array([1,74,159])/255.           # for the date"
   ]
  },
  {
   "cell_type": "code",
   "execution_count": 28,
   "metadata": {},
   "outputs": [],
   "source": [
    "sfc_temp = []\n",
    "\n",
    "for day in t:\n",
    "    Haukeli = pd.read_csv('%s/Haukeli_surftemp_%s%s%s.dat' %(txt_dir,year,mon,day),\\\n",
    "                    header=None, names = ['time','sfc_temp'], sep = '\\s+', engine= 'python')\n",
    "\n",
    "    calday, calmon = cd.get_dayname(year,mon,day)\n",
    "    \n",
    "    sfc_temp = (Haukeli['sfc_temp'])\n",
    "    time = (Haukeli['time'])\n",
    "    sfc_temp = np.asarray(sfc_temp)\n",
    "    time = np.asarray(time)\n",
    "    \n",
    "    T = np.arange(-6, 6)\n",
    "    time_tick =np.arange(time.min(),time.max()+6*10000,3*10000)\n",
    " #   time_tick = np.arange(0,250000,3*10000)\n",
    "    yfont = fs\n",
    "    tickfont = fs-2\n",
    "    legenfont = fs+2\n",
    "\n",
    "    fig = plt.figure(figsize=(20,7))\n",
    "    ax1 = fig.add_subplot(111)\n",
    "# Temperature\n",
    "    line = ax1.plot(time, sfc_temp, color = 'r', label = 'Temp', linewidth = 4)\n",
    "    ax1.axhline(y = 0., c ='darkgray', linewidth = 2.5, zorder = 0, linestyle = '--')\n",
    "    ax1.axhline(y = -6., c ='darkgreen', linewidth = 2, zorder = 0, linestyle = '--')\n",
    "\n",
    "# label axis\n",
    "    times = [0, 3, 6, 9,12, 15, 18, 21, 24]\n",
    "    ax1.set_xticks(time_tick)\n",
    "    ax1.set_xticklabels(times,fontsize=tickfont)\n",
    "    ax1.set_xlim([time.min(),240000])\n",
    "    ax1.set_xlabel('time [hours]',fontsize = yfont)\n",
    "\n",
    "    ax1.set_yticks(T)\n",
    "    ax1.set_ylabel('Temperature [$^\\circ$C]',fontsize = yfont)\n",
    "    ax1.set_ylim([-5.5, 5.5])\n",
    "    ax1.tick_params(axis='both', which= 'major', labelsize=tickfont)\n",
    "    ax1.legend(loc='upper right', fontsize = legenfont )\n",
    "    ax1.tick_params(axis='both', which= 'major', labelsize=tickfont)\n",
    "    ax1.grid()\n",
    "\n",
    "# textbox\n",
    "    ax1.text(0.02,0.89, '%s, %s %s %s' %(calday, day, calmon, year), verticalalignment = 'bottom',  \n",
    "         horizontalalignment='left',\n",
    "             transform = ax1.transAxes,\n",
    "            color =date_blue, fontsize=fs,\n",
    "           bbox={'facecolor':'white','alpha':1., 'pad':10})\n",
    "    \n",
    "    plt.tight_layout()\n",
    "    if sfig == 1:\n",
    "        fig_name = 'sfc_temp_%s%s%s.%s' %(year,mon,day,form)\n",
    "        SF.save_figure_landscape(fig_dir, fig_name, form)\n",
    "    else:\n",
    "        plt.show()\n",
    "    plt.close()"
   ]
  },
  {
   "cell_type": "code",
   "execution_count": null,
   "metadata": {
    "collapsed": true
   },
   "outputs": [],
   "source": []
  }
 ],
 "metadata": {
  "kernelspec": {
   "display_name": "Python 3",
   "language": "python",
   "name": "python3"
  },
  "language_info": {
   "codemirror_mode": {
    "name": "ipython",
    "version": 3
   },
   "file_extension": ".py",
   "mimetype": "text/x-python",
   "name": "python",
   "nbconvert_exporter": "python",
   "pygments_lexer": "ipython3",
   "version": "3.6.1"
  }
 },
 "nbformat": 4,
 "nbformat_minor": 2
}

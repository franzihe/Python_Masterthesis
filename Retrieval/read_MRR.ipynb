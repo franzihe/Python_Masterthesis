{
 "cells": [
  {
   "cell_type": "code",
   "execution_count": null,
   "metadata": {
    "collapsed": true
   },
   "outputs": [],
   "source": [
    "import sys\n",
    "sys.path.append('/Volumes/SANDISK128/Documents/Thesis/Python/')\n",
    "sys.path.append('/Volumes/SANDISK128/Documents/Thesis/Python/MEPS')\n",
    "import netCDF4\n",
    "import numpy as np\n",
    "import math\n",
    "import matplotlib.pyplot as plt\n",
    "import pandas as pd\n",
    "import colormaps as cmaps\n",
    "import calc_date as cd\n",
    "import save_fig as SF\n",
    "import createFolder as cF\n",
    "import calc_station_properties as cs\n",
    "from matplotlib import gridspec\n",
    "\n"
   ]
  },
  {
   "cell_type": "code",
   "execution_count": null,
   "metadata": {
    "collapsed": true
   },
   "outputs": [],
   "source": [
    "nc_dir = '../../Data/MRR/original_data/'\n",
    "\n",
    "s_nc = 0\n",
    "nc_save_dir = '../../Data/MRR/processed_MRR/'\n",
    "cF.createFolder(nc_save_dir)\n",
    "\n",
    "sfig = 0\n",
    "fig_dir = '../../Figures/MRR_ref/'\n",
    "cF.createFolder(fig_dir)\n",
    "form = 'png'\n",
    "\n",
    "\n",
    "\n",
    "year = '2016'\n",
    "mon = '12'\n",
    "t = ['20', '21', '22', '23', '24', '25', '26', '27', '28', '29', '30']\n",
    "#t = ['25']\n",
    "\n",
    "fs = 22\n",
    "#file_out = 'VMRR_data_%s%s%s.txt' %(year,mon,day)"
   ]
  },
  {
   "cell_type": "code",
   "execution_count": null,
   "metadata": {
    "collapsed": true
   },
   "outputs": [],
   "source": [
    "date_blue = np.array([1,74,159])/255.           # for the date\n",
    "\n",
    "def plt_refl(tid, h_mid, avgref, calday, day, calmon, year):\n",
    "### plot reflectivity\n",
    "    levels = np.arange(-10,30,0.2)\n",
    "\n",
    "    fig = plt.figure(figsize=(20,7))\n",
    "    gs = gridspec.GridSpec(7,1)\n",
    "\n",
    "    ax0 = fig.add_subplot(gs[:6,:])\n",
    "    CS = ax0.contourf(np.asarray(tid), np.asarray(h_mid) , np.asarray(avgref), \n",
    "                  levels, cmap='jet')\n",
    "# add colorbar\n",
    "    cbaxes = fig.add_axes([0.14, 0.1, .75, .02] )   #[left, bottom, width, height] \n",
    "    cbar = plt.colorbar(CS, orientation = 'horizontal', cax=cbaxes)\n",
    "    cbar.ax.set_xlabel('MRR reflectivity [dBz]', fontsize = 22)\n",
    "    cbar.ax.tick_params(labelsize = 20)\n",
    "\n",
    "# labels\n",
    "    times = [0, 3, 6, 9,12, 15, 18, 21, 24]\n",
    "    ax0.set_xticks(np.arange(0,60*60*25,3*60*60))\n",
    "    ax0.set_xticklabels(times, fontsize = 20)\n",
    "    ax0.set_xlabel('time [hours]', fontsize = 22)\n",
    "\n",
    "    ax0.set_ylabel('height [km]', fontsize = 22)\n",
    "    ax0.set_ylim(0,3.5)\n",
    "    ax0.set_yticks(np.arange(0,3500.,500.))\n",
    "    yl = [0., '' , 1.0, '' , 2., '' , 3.]\n",
    "    ax0.set_yticklabels(yl, fontsize = 20)\n",
    "    \n",
    "    \n",
    "# textbox\n",
    "    ax0.text(0.02,0.96, '%s, %s %s %s' %(calday, day, calmon, year), verticalalignment = 'top',  \n",
    "         horizontalalignment='left',\n",
    "             transform = ax0.transAxes,\n",
    "            color =date_blue, fontsize=fs,\n",
    "           bbox={'facecolor':'white','alpha':1., 'pad':10})\n",
    "\n"
   ]
  },
  {
   "cell_type": "code",
   "execution_count": null,
   "metadata": {
    "collapsed": true
   },
   "outputs": [],
   "source": [
    "def read_and_mask(fn,var_name, fill_value):\n",
    "    #### Read in variable 'Ze' (time = 1440,range = 31)\n",
    "    var = fn.variables[var_name]\n",
    "# fill value, where Ze = -9999, fill_value = -50.\n",
    "    mask = np.ma.getmaskarray(var[:,:])\n",
    "    var = np.ma.array(var[:,:], mask = mask, fill_value = fill_value)\n",
    "    var = var.filled()\n",
    "    return(var);"
   ]
  },
  {
   "cell_type": "code",
   "execution_count": null,
   "metadata": {},
   "outputs": [],
   "source": [
    "for day in t:\n",
    "    fn = netCDF4.Dataset('%s/MRR_HKL_%s%s%s_maahn_r01.nc' %(nc_dir,year,mon,day) ,'r')\n",
    "\n",
    "\n",
    "    calday, calmon = cd.get_dayname(year,mon,day)\n",
    "    \n",
    "# Read in varaibel 'time' (time=1440)\n",
    "    time = fn.variables['time']\n",
    "\n",
    "\n",
    "    netCDF4.num2date(time[:],time.units)\n",
    "\n",
    "#### Read in variable 'Ze' (time = 1440,range = 31)\n",
    "    Ze = read_and_mask(fn,'Ze', -50.)\n",
    "    Z = 10**(Ze / 10.)\n",
    "    \n",
    "#### Read in variable 'W' (time = 1440, range= 31)\n",
    "    W = read_and_mask(fn,'W', -9999)\n",
    "    \n",
    "#### Read in variable 'spectralWidth' (time = 1440, range= 31)\n",
    "    spec_width = read_and_mask(fn,'spectralWidth', -9999)\n",
    "    \n",
    "################## calculate mean of variable, use values above 300m ####################\n",
    "# no. of layers\n",
    "    nlay = 14\n",
    "\n",
    "# bottom of the layer(start of valid MRR measurements at 300) \n",
    "    bot = []\n",
    "# top of the layer (layer thickness will be 200)\n",
    "    top = []\n",
    "    for k in range(0, nlay):\n",
    "        bot.append(300.+ k*200)\n",
    "        top.append(bot[k]+200)\n",
    "\n",
    "# Read in variable 'height' (time =1440,range = 31)\n",
    "    height = fn.variables['height']\n",
    "\n",
    "\n",
    "    avg_ref = []\n",
    "    avg_DoV = []\n",
    "    avg_SW = []\n",
    "    h_mid = []\n",
    "    tid = []\n",
    "    for i in range(0, height.shape[0]):\n",
    "        for k in range(0, nlay):\n",
    "            idx = np.where(np.logical_and(height[i,:] >= bot[k], height[i,:] < top[k]))\n",
    "        # mean in layer\n",
    "            res_Ze = np.mean(Z[i,idx])\n",
    "            res_DoV = np.mean(W[i,idx])\n",
    "            res_SW = np.mean(spec_width[i,idx])\n",
    "        \n",
    "        # average in layer \n",
    "            avg_ref.append(10*math.log10(res_Ze))     # in [dBz]\n",
    "            avg_DoV.append((res_DoV))\n",
    "            avg_SW.append((res_SW))\n",
    "            \n",
    "            \n",
    "            h_mid.append((bot[k]+top[k])/2)\n",
    "            tid.append(time[i]-time[0])\n",
    "\n",
    "\n",
    "    avg_ref = np.split(np.asarray(avg_ref),height.shape[0])\n",
    "    avg_DoV = np.split(np.asarray(avg_DoV), height.shape[0])\n",
    "    avg_SW = np.split(np.asarray(avg_SW), height.shape[0])\n",
    "    h_mid = np.split(np.asarray(h_mid),height.shape[0])\n",
    "\n",
    "    tid = np.split(np.asarray(tid),height.shape[0])\n",
    " #   print(np.asarray(tid).shape)\n",
    "    \n",
    "\n",
    "### mask avg before netcdf saving\n",
    "    avg_ref_masked = np.ma.masked_where(np.asarray(avg_ref) <= -50.0, np.asarray(avg_ref))\n",
    "    avg_ref_masked = np.ma.array(avg_ref_masked, mask = np.ma.getmaskarray(avg_ref_masked), fill_value = -50.0)\n",
    "    \n",
    "    avg_DoV_masked = np.ma.masked_where(np.asarray(avg_DoV) <= -4000., np.asarray(avg_DoV))\n",
    "    avg_DoV_masked = np.ma.array(avg_DoV_masked, mask = np.ma.getmaskarray(avg_DoV_masked), fill_value = -9999)\n",
    "\n",
    "    avg_SW_masked = np.ma.masked_where(np.asarray(avg_SW) <= -4000., np.asarray(avg_SW))\n",
    "    avg_SW_masked = np.ma.array(avg_SW_masked, mask = np.ma.getmaskarray(avg_SW_masked), fill_value = -9999)\n",
    "\n",
    "\n",
    "\n",
    "    if s_nc == 1:\n",
    "        \n",
    "### write netCDF file including tid, h_mid, avgref\n",
    "        f = netCDF4.Dataset('%s/VMRR_%s%s%s.nc' %(nc_save_dir,year,mon,day), 'w')\n",
    "\n",
    "### create dimensions\n",
    "        f.createDimension('time', np.asarray(tid)[:,0].shape[0])\n",
    "        f.createDimension('height', np.asarray(h_mid)[0,:].shape[0])\n",
    "\n",
    "        tt = f.createVariable('time', np.asarray(tid).dtype,'time',zlib = True)\n",
    "        tt[:] = np.asarray(tid)[:,0]\n",
    "\n",
    "        h = f.createVariable('height', np.asarray(h_mid).dtype, 'height', zlib=True)\n",
    "        h[:] = np.asarray(h_mid)[0,:]\n",
    "\n",
    "        dim = ('time', 'height')\n",
    "        avg_Ze = cs.get_netCDF_variable(f,'Ze', avg_ref_masked,dim)\n",
    "        avg_dopp_vel = cs.get_netCDF_variable(f,'mean_doppler_velocity', avg_DoV_masked,dim)\n",
    "        avg_specWidth = cs.get_netCDF_variable(f, 'spectral_width', avg_SW_masked, dim)\n",
    "        f.close()\n",
    "    \n",
    "    ### save figure of reflectivity\n",
    "    \n",
    "    if sfig == 1:\n",
    "        fig_name = 'MRR_%s%s%s.%s' %(year,mon,day,form)\n",
    "        plt_refl(tid, h_mid, avg_ref, calday, day, calmon, year)\n",
    "        SF.save_figure_landscape(fig_dir, fig_name, form)\n",
    "        print('saved: %s/%s' %(fig_dir, fig_name))\n",
    "    else:\n",
    "        plt_refl(tid, h_mid, avg_ref, calday, day, calmon, year)\n",
    "        plt.show()\n",
    "    plt.close()\n",
    "    \n",
    "    \n",
    "    fn.close()"
   ]
  },
  {
   "cell_type": "code",
   "execution_count": null,
   "metadata": {
    "collapsed": true
   },
   "outputs": [],
   "source": []
  },
  {
   "cell_type": "code",
   "execution_count": null,
   "metadata": {
    "collapsed": true
   },
   "outputs": [],
   "source": []
  },
  {
   "cell_type": "code",
   "execution_count": null,
   "metadata": {
    "collapsed": true
   },
   "outputs": [],
   "source": []
  },
  {
   "cell_type": "code",
   "execution_count": null,
   "metadata": {
    "collapsed": true
   },
   "outputs": [],
   "source": []
  },
  {
   "cell_type": "code",
   "execution_count": null,
   "metadata": {
    "collapsed": true
   },
   "outputs": [],
   "source": []
  },
  {
   "cell_type": "code",
   "execution_count": null,
   "metadata": {
    "collapsed": true
   },
   "outputs": [],
   "source": []
  }
 ],
 "metadata": {
  "kernelspec": {
   "display_name": "Python 3",
   "language": "python",
   "name": "python3"
  },
  "language_info": {
   "codemirror_mode": {
    "name": "ipython",
    "version": 3
   },
   "file_extension": ".py",
   "mimetype": "text/x-python",
   "name": "python",
   "nbconvert_exporter": "python",
   "pygments_lexer": "ipython3",
   "version": "3.6.1"
  }
 },
 "nbformat": 4,
 "nbformat_minor": 2
}

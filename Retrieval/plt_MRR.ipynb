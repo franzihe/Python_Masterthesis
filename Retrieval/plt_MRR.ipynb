{
 "cells": [
  {
   "cell_type": "code",
   "execution_count": 1,
   "metadata": {},
   "outputs": [],
   "source": [
    "import sys\n",
    "sys.path.append('/Volumes/SANDISK128/Documents/Thesis/Python/')\n",
    "import netCDF4\n",
    "import numpy as np\n",
    "import math\n",
    "import matplotlib.pyplot as plt\n",
    "import pandas as pd\n",
    "import colormaps as cmaps\n",
    "import calc_date as cd\n",
    "import save_fig as SF\n",
    "import createFolder as cF\n",
    "\n"
   ]
  },
  {
   "cell_type": "code",
   "execution_count": 2,
   "metadata": {},
   "outputs": [],
   "source": [
    "nc_dir = '../../Retrieval/MRR/MRR_data'\n",
    "fig_dir = '../../retrieval_fig/MRR_ref'\n",
    "cF.createFolder(fig_dir)\n",
    "form = 'png'\n",
    "\n",
    "sfig = 1\n",
    "\n",
    "year = '2016'\n",
    "mon = '12'\n",
    "t = ['20', '21', '22', '23', '24', '25', '26', '27', '28', '29', '30']\n",
    "#t = ['25']\n",
    "\n",
    "fs = 22\n",
    "#file_out = 'VMRR_data_%s%s%s.txt' %(year,mon,day)"
   ]
  },
  {
   "cell_type": "code",
   "execution_count": 3,
   "metadata": {
    "collapsed": true
   },
   "outputs": [],
   "source": [
    "date_blue = np.array([1,74,159])/255.           # for the date"
   ]
  },
  {
   "cell_type": "code",
   "execution_count": 4,
   "metadata": {},
   "outputs": [
    {
     "name": "stderr",
     "output_type": "stream",
     "text": [
      "/Volumes/SANDISK128/Applications/anaconda/envs/py36ECMWF/lib/python3.6/site-packages/ipykernel_launcher.py:45: RuntimeWarning: invalid value encountered in less\n",
      "/Volumes/SANDISK128/Applications/anaconda/envs/py36ECMWF/lib/python3.6/site-packages/ipykernel_launcher.py:45: RuntimeWarning: invalid value encountered in greater_equal\n",
      "/Volumes/SANDISK128/Applications/anaconda/envs/py36ECMWF/lib/python3.6/site-packages/numpy/core/fromnumeric.py:2889: RuntimeWarning: Mean of empty slice.\n",
      "  out=out, **kwargs)\n",
      "/Volumes/SANDISK128/Applications/anaconda/envs/py36ECMWF/lib/python3.6/site-packages/numpy/core/_methods.py:80: RuntimeWarning: invalid value encountered in true_divide\n",
      "  ret = ret.dtype.type(ret / rcount)\n"
     ]
    }
   ],
   "source": [
    "for day in t:\n",
    "    fn = netCDF4.Dataset('%s/MRR_HKL_%s%s%s_maahn_r01.nc' %(nc_dir,year,mon,day) ,'r')\n",
    "\n",
    "    fn\n",
    "\n",
    "    calday, calmon = cd.get_dayname(year,mon,day)\n",
    "    \n",
    "# Read in varaibel 'time' (time=1440)\n",
    "    time = fn.variables['time']\n",
    "\n",
    "\n",
    "    netCDF4.num2date(time[:],time.units)\n",
    "\n",
    "# Read in variable 'Ze' (time = 1440,range = 31)\n",
    "    Ze = fn.variables['Ze']\n",
    "\n",
    "# fill value, where Ze = -9999, fill_value = -50.\n",
    "    mask = np.ma.getmaskarray(Ze[:,:])\n",
    "    Ze = np.ma.array(Ze[:,:], mask = mask, fill_value = -50.)\n",
    "    Ze = Ze.filled()\n",
    "\n",
    "    Z = 10**(Ze / 10.)\n",
    "\n",
    "# no. of layers\n",
    "    nlay = 14\n",
    "\n",
    "# bottom of the layer(start of valid MRR measurements at 300) \n",
    "    bot = []\n",
    "# top of the layer (layer thickness will be 200)\n",
    "    top = []\n",
    "\n",
    "    for k in range(0, nlay):\n",
    "        bot.append(300.+ k*200)\n",
    "        top.append(bot[k]+200)\n",
    "\n",
    "# Read in variable 'height' (time =1440,range = 31)\n",
    "    height = fn.variables['height']\n",
    "\n",
    "\n",
    "    avgref = []\n",
    "    h_mid = []\n",
    "    tid = []\n",
    "    for i in range(0, height.shape[0]):\n",
    "        for k in range(0, nlay):\n",
    "            idx = np.where(np.logical_and(height[i,:] >= bot[k], height[i,:] < top[k]))\n",
    "        # mean reflection in layer\n",
    "            res = np.mean(Z[i,idx])\n",
    "        # average reflection in layer transformed in dBz\n",
    "            avgref.append(10*math.log10(res))\n",
    "            h_mid.append((bot[k]+top[k])/2)\n",
    "            tid.append(time[i]-time[0])\n",
    "\n",
    "\n",
    "    avgref = np.split(np.asarray(avgref),height.shape[0])\n",
    "    h_mid = np.split(np.asarray(h_mid),height.shape[0])\n",
    "\n",
    "    tid = np.split(np.asarray(tid),height.shape[0])\n",
    "\n",
    "    levels = np.arange(-10,30,0.2)\n",
    "    fig = plt.figure(figsize=(20.,12))\n",
    "    ax0 = fig.add_subplot(111)\n",
    "    CS = ax0.contourf(np.asarray(tid), np.asarray(h_mid) , np.asarray(avgref), \n",
    "                  levels, cmap='jet')\n",
    "# add colorbar\n",
    "    cbaxes = fig.add_axes([0.14, 0.03, .75, .02] )   #[left, bottom, width, height] \n",
    "    cbar = plt.colorbar(CS, orientation = 'horizontal', cax=cbaxes)\n",
    "    cbar.ax.set_xlabel('MRR reflectivity [dBz]', fontsize = 22)\n",
    "    cbar.ax.tick_params(labelsize = 20)\n",
    "\n",
    "# labels\n",
    "    times = [0, 3, 6, 9,12, 15, 18, 21, 24]\n",
    "    ax0.set_xticks(np.arange(0,60*60*25,3*60*60))\n",
    "    ax0.set_xticklabels(times, fontsize = 20)\n",
    "    ax0.set_xlabel('time [hours]', fontsize = 22)\n",
    "\n",
    "    ax0.set_ylabel('height [km]', fontsize = 22)\n",
    "    ax0.set_ylim(0,3.5)\n",
    "    ax0.set_yticks(np.arange(0,3500.,500.))\n",
    "    yl = [0., '' , 1.0, '' , 2., '' , 3.]\n",
    "    ax0.set_yticklabels(yl, fontsize = 20)\n",
    "    \n",
    "    \n",
    "# textbox\n",
    "    ax0.text(0.02,0.98, '%s, %s %s %s' %(calday, day, calmon, year), verticalalignment = 'top',  \n",
    "         horizontalalignment='left',\n",
    "             transform = ax0.transAxes,\n",
    "            color =date_blue, fontsize=fs,\n",
    "           bbox={'facecolor':'white','alpha':1., 'pad':10})\n",
    "    if sfig == 1:\n",
    "        fig_name = 'MRR_%s%s%s.%s' %(year,mon,day,form)\n",
    "        SF.save_figure_landscape(fig_dir, fig_name, form)\n",
    "    else:\n",
    "        plt.show()\n",
    "    plt.close()\n",
    "    fn.close()"
   ]
  },
  {
   "cell_type": "code",
   "execution_count": 5,
   "metadata": {
    "collapsed": true
   },
   "outputs": [],
   "source": [
    "# write netCDF file including tid, h_mid, avgref"
   ]
  },
  {
   "cell_type": "raw",
   "metadata": {},
   "source": [
    "t = []\n",
    "for i in range(0,height.shape[0]):\n",
    "    t.append(time[i]-time[0])\n",
    "\n",
    "t = np.repeat(t,height.shape[1])\n",
    "t = np.split(np.asarray(t),height.shape[0])\n",
    "h2 = np.repeat(np.arange(100,3200,100),height.shape[0])\n",
    "h2 = np.split(np.asarray(h2),height.shape[1])\n",
    "h2 = np.transpose(h2)"
   ]
  },
  {
   "cell_type": "raw",
   "metadata": {},
   "source": [
    "levels = np.arange(-10,30,0.2)\n",
    "\n",
    "fig = plt.figure(figsize=(20.,10))\n",
    "ax0 = fig.add_subplot(111)\n",
    "\n",
    "CS = ax0.contourf(t, h2, Ze, \n",
    "                  levels, cmap='jet')\n",
    "# add colorbar\n",
    "cbaxes = fig.add_axes([0.14, 0.03, .75, .02] )   #[left, bottom, width, height] \n",
    "cbar = plt.colorbar(CS, orientation = 'horizontal', cax=cbaxes)\n",
    "cbar.ax.set_xlabel('MRR reflectivity [dBz]', fontsize = 22)\n",
    "cbar.ax.tick_params(labelsize = 20)\n",
    "\n",
    "# labels\n",
    "times = [0, 3, 6, 9,12, 15, 18, 21, 24]\n",
    "ax0.set_xticks(np.arange(0,60*60*25,3*60*60))\n",
    "ax0.set_xticklabels(times, fontsize = 20)\n",
    "ax0.set_xlabel('time [hours]', fontsize = 22)\n",
    "\n",
    "ax0.set_ylabel('height [km]', fontsize = 22)\n",
    "ax0.set_ylim(0,3.5)\n",
    "ax0.set_yticks(np.arange(0,3500.,500.))\n",
    "yl = [0., '' , 1.0, '' , 2., '' , 3.]\n",
    "ax0.set_yticklabels(yl, fontsize = 20)\n",
    "plt.show()"
   ]
  },
  {
   "cell_type": "code",
   "execution_count": null,
   "metadata": {
    "collapsed": true
   },
   "outputs": [],
   "source": []
  }
 ],
 "metadata": {
  "kernelspec": {
   "display_name": "Python 3",
   "language": "python",
   "name": "python3"
  },
  "language_info": {
   "codemirror_mode": {
    "name": "ipython",
    "version": 3
   },
   "file_extension": ".py",
   "mimetype": "text/x-python",
   "name": "python",
   "nbconvert_exporter": "python",
   "pygments_lexer": "ipython3",
   "version": "3.6.1"
  }
 },
 "nbformat": 4,
 "nbformat_minor": 2
}

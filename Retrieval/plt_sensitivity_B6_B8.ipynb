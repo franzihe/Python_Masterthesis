{
 "cells": [
  {
   "cell_type": "code",
   "execution_count": null,
   "metadata": {},
   "outputs": [],
   "source": [
    "#%matplotlib inline\n",
    "import sys\n",
    "sys.path.append('/Volumes/SANDISK128/Documents/Thesis/Python/')\n",
    "sys.path.append('/Volumes/SANDISK128/Documents/Thesis/Python/weather_mast/')\n",
    "sys.path.append('/Volumes/SANDISK128/Documents/Thesis/Python/MEPS/')\n",
    "sys.path.append('/Volumes/SANDISK128/Documents/Thesis/Python/Retrieval_MEPS//')\n",
    "import netCDF4\n",
    "import numpy as np\n",
    "import matplotlib.pyplot as plt\n",
    "import datetime\n",
    "import math\n",
    "\n",
    "import createFolder as cF\n",
    "import calc_date as cd\n",
    "import plot_sfc_spaghetti_ret as spagh\n",
    "import save_fig as SF\n",
    "import get_Haukeli_obs_data as obsDat\n",
    "import calc_48h_acc as acc\n",
    "import fill_values as fv\n",
    "import plot_vertical as pvert\n",
    "from matplotlib.gridspec import GridSpec\n",
    "\n",
    "import os\n",
    "\n",
    "import pandas as pd\n",
    "import matplotlib as mpl\n",
    "mpl.style.use('ggplot')"
   ]
  },
  {
   "cell_type": "code",
   "execution_count": null,
   "metadata": {
    "collapsed": true
   },
   "outputs": [],
   "source": [
    "savefig = 0  # 1 = yes, 0 = no\n",
    "figdir = '../../Figures/Retrieval/ret_sensitivity'\n",
    "form = 'png'\n",
    "if savefig == 1:\n",
    "    cF.createFolder('%s' %figdir)"
   ]
  },
  {
   "cell_type": "code",
   "execution_count": null,
   "metadata": {
    "collapsed": true
   },
   "outputs": [],
   "source": [
    "################################################################\n",
    "### Haukeli obs.\n",
    "txtdir = '../../Data/eklima/'\n",
    "txt_filename = 'Observations-hour_minutes'\n",
    "\n",
    "################################################################\n",
    "### Retrieval \n",
    "txt_retrieval = '../../Data/Retrieved_SWC'\n",
    "\n",
    "################################################################"
   ]
  },
  {
   "cell_type": "code",
   "execution_count": null,
   "metadata": {
    "collapsed": true
   },
   "outputs": [],
   "source": [
    "# read in the Haukeliseter observation file, sorted by daily values\n",
    "Haukeli = pd.read_csv('%s/%s.txt' %(txtdir, txt_filename),\\\n",
    "                    sep = ';',header=19, skipfooter = 11, engine= 'python')\n",
    "\n",
    "DateHour = Haukeli['Date-Hour(UTC)']\n",
    "\n",
    "RR_1 = Haukeli['RR_1'].astype(float)           # Precipitation (1 hour); [mm]\n",
    "precip, dt_precip, hour_precip, day_precip, month_precip, year_precip = obsDat.valid_values(RR_1, DateHour)"
   ]
  },
  {
   "cell_type": "code",
   "execution_count": null,
   "metadata": {},
   "outputs": [],
   "source": [
    "acc_dofe = []\n",
    "acc_dofe.append(0.0)\n",
    "for i in range(0,np.asarray(precip[21]).shape[0]):\n",
    "    di = np.nansum([acc_dofe[i], precip[21][i]], axis=0)\n",
    "    acc_dofe.append(di)"
   ]
  },
  {
   "cell_type": "code",
   "execution_count": null,
   "metadata": {},
   "outputs": [],
   "source": [
    "# read in the retrieval B8 observation file, for 22 Dec\n",
    "Retrieval_B8 = pd.read_csv('%s/20161222_B8_Agg2.txt' %txt_retrieval, sep=';', header = 0)"
   ]
  },
  {
   "cell_type": "code",
   "execution_count": null,
   "metadata": {
    "scrolled": true
   },
   "outputs": [],
   "source": [
    "acc_B8 = Retrieval_B8['acc_day'].astype(float)"
   ]
  },
  {
   "cell_type": "code",
   "execution_count": null,
   "metadata": {
    "collapsed": true
   },
   "outputs": [],
   "source": [
    "# read in the retrieval B6 observation file, for 22 Dec\n",
    "Retrieval_B6 = pd.read_csv('%s/20161222_B6_Agg2.txt' %txt_retrieval, sep=';', header = 0)"
   ]
  },
  {
   "cell_type": "code",
   "execution_count": null,
   "metadata": {
    "scrolled": true
   },
   "outputs": [],
   "source": [
    "acc_B6 = Retrieval_B6['acc_day'].astype(float)"
   ]
  },
  {
   "cell_type": "code",
   "execution_count": null,
   "metadata": {
    "collapsed": true
   },
   "outputs": [],
   "source": [
    "year, month,ini_day = 2016,12,22"
   ]
  },
  {
   "cell_type": "code",
   "execution_count": null,
   "metadata": {
    "collapsed": true
   },
   "outputs": [],
   "source": [
    "no2 = np.array([131,156,45])/255."
   ]
  },
  {
   "cell_type": "code",
   "execution_count": null,
   "metadata": {},
   "outputs": [],
   "source": [
    "fig = plt.figure(figsize=(12,7))\n",
    "ax = plt.axes()\n",
    "# Vertical line to show end of day\n",
    "ax.axvline(0,color = spagh.vert_col, linewidth = 3)\n",
    "ax.axvline(24,color = spagh.vert_col, linewidth = 3)\n",
    "ax.axvline(48,color = spagh.vert_col, linewidth = 3)\n",
    "\n",
    "### DOUBLE FENCE ####\n",
    "ax.plot(np.arange(0,len(acc_dofe)), acc_dofe, marker = 'H', markersize = 20,\n",
    "         linestyle = 'None', label = 'double fence')\n",
    "### B6 ACCUMULATION ####\n",
    "ax.plot(np.arange(0,len(acc_B6)/60,1/60), acc_B6, color = no2,\n",
    "         linestyle = (0, (3, 1, 1, 1)), label = 'retrieval_B6', linewidth=6)\n",
    "\n",
    "### B6 ACCUMULATION ####\n",
    "ax.plot(np.arange(0,len(acc_B8)/60,1/60), acc_B8,\n",
    "         linestyle = (0, (3, 1, 1, 1)), label = 'retrieval_B8', linewidth=6)\n",
    "\n",
    "#############\n",
    "### fine tuning\n",
    "lgd = ax.legend(loc='upper left', #bbox_to_anchor=(0.5, -0.37),\n",
    "          fancybox=True, shadow=True, #ncol=3, \n",
    "                fontsize=spagh.label_fs)\n",
    "frame = lgd.get_frame()\n",
    "frame.set_facecolor('white')\n",
    "\n",
    "# yaxis\n",
    "ax.set_ylabel('precipitation amount [mm]', fontsize=spagh.label_fs)\n",
    "ax.set_ylim(-0.5,80)\n",
    "T = np.arange(0,90,10)\n",
    "ax.set_yticks(T)\n",
    "ax.set_yticklabels(T,fontsize = spagh.tick_fs)\n",
    "\n",
    "# xaxis\n",
    "#a = lead_time_sfc[0][0:48]\n",
    "ax.set_xlim(-0.5,len(acc_dofe))\n",
    "ax.set_xlabel('time', fontsize=spagh.label_fs)\n",
    "ax.set_xticks(np.arange(0,len(acc_dofe),3))\n",
    "    \n",
    "xdays = ['%s-%s-%s' %(year,month,ini_day), '',\n",
    "        6,'',12,'', 18,'',\n",
    "        '%s-%s-%s' %(year,month,ini_day+1), '',\n",
    "        6,'', 12,'', 18,'',\n",
    "        '%s-%s-%s' %(year,month,ini_day+2)]\n",
    "ax.set_xticklabels(xdays, rotation = 25, fontsize = spagh.tick_fs)\n",
    "\n",
    "plt.tight_layout()\n",
    "\n",
    "fig_name = '%s%s%s.png' %(year,month,ini_day)\n",
    "if savefig == 1:\n",
    "    plt.savefig('%s/%s' % (figdir, fig_name), format = form,bbox_extra_artists=(lgd,), bbox_inches='tight')\n",
    "    print('plot saved: %s/%s' %(figdir,fig_name))\n",
    "elif savefig == 0:\n",
    "    plt.show()\n",
    "plt.close()"
   ]
  },
  {
   "cell_type": "code",
   "execution_count": null,
   "metadata": {},
   "outputs": [],
   "source": [
    "per_diff_B6 = (acc_B6[12*60]-acc_dofe[12])/acc_dofe[12]*100\n",
    "per_diff_B8 = (acc_B8[12*60]-acc_dofe[12])/acc_dofe[12]*100"
   ]
  },
  {
   "cell_type": "code",
   "execution_count": null,
   "metadata": {},
   "outputs": [],
   "source": [
    "print('double fence acc: 12h',acc_dofe[12])\n",
    "print('retrieval B6 acc: 12h',acc_B6[12*60])\n",
    "print('retrieval B8 acc: 12h',acc_B8[12*60])"
   ]
  },
  {
   "cell_type": "code",
   "execution_count": null,
   "metadata": {},
   "outputs": [],
   "source": [
    "print('percent Diff B6: 12h',np.asarray(per_diff_B6))\n",
    "print('percent Diff B8: 12h',np.asarray(per_diff_B8))"
   ]
  },
  {
   "cell_type": "code",
   "execution_count": null,
   "metadata": {},
   "outputs": [],
   "source": [
    "per_diff_B6 = (acc_B6[24*60-1]-acc_dofe[24])/acc_dofe[24]*100\n",
    "per_diff_B8 = (acc_B8[24*60-1]-acc_dofe[24])/acc_dofe[24]*100"
   ]
  },
  {
   "cell_type": "code",
   "execution_count": null,
   "metadata": {},
   "outputs": [],
   "source": [
    "print('double fence acc: 24h',acc_dofe[23])\n",
    "print('retrieval B6 acc: 24h',acc_B6[24*60-1])\n",
    "print('retrieval B8 acc: 24h',acc_B8[24*60-1])"
   ]
  },
  {
   "cell_type": "code",
   "execution_count": null,
   "metadata": {},
   "outputs": [],
   "source": [
    "print('percent Diff B6: 24h',np.asarray(per_diff_B6))\n",
    "print('percent Diff B8: 24h',np.asarray(per_diff_B8))"
   ]
  },
  {
   "cell_type": "code",
   "execution_count": null,
   "metadata": {
    "collapsed": true
   },
   "outputs": [],
   "source": []
  }
 ],
 "metadata": {
  "kernelspec": {
   "display_name": "Python 3",
   "language": "python",
   "name": "python3"
  },
  "language_info": {
   "codemirror_mode": {
    "name": "ipython",
    "version": 3
   },
   "file_extension": ".py",
   "mimetype": "text/x-python",
   "name": "python",
   "nbconvert_exporter": "python",
   "pygments_lexer": "ipython3",
   "version": "3.6.1"
  }
 },
 "nbformat": 4,
 "nbformat_minor": 2
}

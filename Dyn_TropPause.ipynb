{
 "cells": [
  {
   "cell_type": "markdown",
   "metadata": {},
   "source": [
    "# Dynamic Tropopause Map\n",
    "\n",
    " http://www.met.nps.edu/~hmarcham/2012.html#DT\n",
    " The dynamic tropopause map contains\n",
    " DT (1.5-PVU surface)\n",
    "    - potential temperature (shaded, K)\n",
    "    - wind barbs (knots)\n",
    "    - 925-850hPa layer-averaged cyclonic relative vorticity (black contours, every 0.5 x 10^-4 s^-1)\n",
    "\n",
    "\n",
    "\n",
    " http://apps.ecmwf.int/codes/grib/param-db\n",
    " #### Parameters from ECMWF\n",
    "    - name = 'Potential temperature',      shortName = 'pt',     [K]\n",
    "    - name = 'U component of wind',        shortName = 'u',      [m s^-1]\n",
    "    - name = 'V component of wind',        shortName = 'v',      [m s^-1]\n",
    "    - name = 'Vorticity (relative)',       shortName = 'vo',     [s^-1]\n",
    "\n"
   ]
  },
  {
   "cell_type": "markdown",
   "metadata": {},
   "source": [
    "https://software.ecmwf.int/wiki/display/CKB/How+to+plot+GRIB+files+with+Python+and+matplotlib"
   ]
  },
  {
   "cell_type": "code",
   "execution_count": 1,
   "metadata": {
    "collapsed": true
   },
   "outputs": [],
   "source": [
    "import pygrib\n",
    "import matplotlib.pyplot as plt\n",
    "import matplotlib.colors as colors\n",
    "from mpl_toolkits.basemap import Basemap, shiftgrid\n",
    "import numpy as np\n",
    "from scipy import ndimage, signal, stats\n",
    "%matplotlib inline     "
   ]
  },
  {
   "cell_type": "code",
   "execution_count": 2,
   "metadata": {
    "collapsed": true
   },
   "outputs": [],
   "source": [
    "### set the file name of your input GRIB file\n",
    "#grib = 'DT_var.grib'\n",
    "year = '2016'\n",
    "mon  = '12'\n",
    "date = '10' \n",
    "time = '0000'\n",
    "\n",
    "gribPT = '../test_data/pv2000/param_pt_%s%s%s_%s.grib' % (year, mon, date, time)    #20161210_0000.grib'\n",
    "gribUV = '../test_data/pv2000/param_uv_%s%s%s_%s.grib' % (year, mon, date, time)    #20161210_0000.grib'\n",
    "gribVO = '../test_data/pl/param_vo_%s%s%s_%s.grib'     % (year, mon, date, time)    #20161210_0000.grib'\n",
    "\n",
    "#grib = '../DT_var.grib'\n",
    "\n",
    "### open GRIB file\n",
    "grbsPT = pygrib.open(gribPT)         # potential temperature\n",
    "grbsUV = pygrib.open(gribUV)         # U, V component of wind\n",
    "grbsVO = pygrib.open(gribVO)         # Vorticity (relative)\n",
    "\n",
    "#grbs = pygrib.open(grib)\n"
   ]
  },
  {
   "cell_type": "code",
   "execution_count": 3,
   "metadata": {
    "collapsed": true
   },
   "outputs": [],
   "source": [
    "grbPT = grbsPT.select()[0]           # finds the first grib message, if grbs.select(name='Maximum temperature') \n",
    "                                     # then first with matching name\n",
    "grbUV = grbsUV.select()[0]\n",
    "grbVO = grbsVO.select()[0]\n",
    "\n",
    "#grb = grbs.select()[0]"
   ]
  },
  {
   "cell_type": "code",
   "execution_count": 4,
   "metadata": {},
   "outputs": [
    {
     "name": "stdout",
     "output_type": "stream",
     "text": [
      "pot. temp.: 20161210 0\n",
      "U, V component of wind: 20161210 0\n",
      "Vorticity (relative): 20161210 0\n"
     ]
    }
   ],
   "source": [
    "print('pot. temp.:', grbPT.dataDate,grbPT.dataTime)                 # gives the date and forecast time\n",
    "print('U, V component of wind:', grbUV.dataDate,grbUV.dataTime)\n",
    "print('Vorticity (relative):', grbVO.dataDate,grbVO.dataTime)"
   ]
  },
  {
   "cell_type": "code",
   "execution_count": 5,
   "metadata": {},
   "outputs": [],
   "source": [
    "### get the values into python\n",
    "# find the first grib message with a matching name: \n",
    "\n",
    "## Potential temperature\n",
    "PT = grbsPT.select()[0]\n",
    "PT = grbsPT.select(shortName = 'pt',typeOfLevel = 'potentialVorticity',level = 2000)[0]\n",
    "PT = PT.values\n",
    "\n",
    "#PT.shape\n",
    "#print(PT.max(),PT.min())"
   ]
  },
  {
   "cell_type": "code",
   "execution_count": 6,
   "metadata": {
    "collapsed": true
   },
   "outputs": [],
   "source": [
    "#PT = grbs.select()[0]\n",
    "#PT = grbs.select(shortName = 'pt',typeOfLevel = 'potentialVorticity',level = 2000)[0]\n",
    "#PT = PT.values"
   ]
  },
  {
   "cell_type": "code",
   "execution_count": 7,
   "metadata": {
    "collapsed": true
   },
   "outputs": [],
   "source": [
    "## Wind \n",
    "# U component of wind\n",
    "wind_u = grbsUV.select()[0]\n",
    "wind_u = grbsUV.select(shortName = 'u',typeOfLevel = 'potentialVorticity',level = 2000)[0]\n",
    "wind_u = wind_u.values\n",
    "#print(wind_u.max(),wind_u.min())\n",
    "\n",
    "# V component of wind\n",
    "wind_v = grbsUV.select()[0]\n",
    "wind_v = grbsUV.select(shortName = 'v',typeOfLevel = 'potentialVorticity',level = 2000)[0]\n",
    "wind_v = wind_v.values\n",
    "#print(wind_v.max(),wind_v.min())"
   ]
  },
  {
   "cell_type": "code",
   "execution_count": 8,
   "metadata": {
    "collapsed": true
   },
   "outputs": [],
   "source": [
    "#wind_u = grbs.select()[0]\n",
    "#wind_u = grbs.select(shortName = 'u',typeOfLevel = 'potentialVorticity',level = 2000)[0]\n",
    "#wind_u = wind_u.values\n",
    "\n",
    "#wind_v = grbs.select()[0]\n",
    "#wind_v = grbs.select(shortName = 'v',typeOfLevel = 'potentialVorticity',level = 2000)[0]\n",
    "#wind_v = wind_v.values"
   ]
  },
  {
   "cell_type": "code",
   "execution_count": 9,
   "metadata": {
    "collapsed": true
   },
   "outputs": [],
   "source": [
    "## Vorticity (relative)\n",
    "# 925 hPa\n",
    "RV925 = grbsVO.select()[0]\n",
    "RV925 = grbsVO.select(shortName = 'vo',typeOfLevel = 'isobaricInhPa', level = 925)[0]\n",
    "RV925 = RV925.values\n",
    "#print(RV925.max(),RV925.min())\n",
    "\n",
    "# 900 hPa\n",
    "RV900 = grbsVO.select()[0]\n",
    "RV900 = grbsVO.select(shortName = 'vo',typeOfLevel = 'isobaricInhPa', level = 900)[0]\n",
    "RV900 = RV900.values\n",
    "#print(RV900.max(),RV900.min())\n",
    "\n",
    "# 850 hPa\n",
    "RV850 = grbsVO.select()[0]\n",
    "RV850 = grbsVO.select(shortName = 'vo',typeOfLevel = 'isobaricInhPa', level = 850)[0]\n",
    "RV850 = RV850.values\n",
    "#print(RV850.max(),RV850.min())"
   ]
  },
  {
   "cell_type": "code",
   "execution_count": 10,
   "metadata": {
    "collapsed": true
   },
   "outputs": [],
   "source": [
    "#RV925 = grbs.select()[0]\n",
    "#RV925 = grbs.select(shortName = 'vo',typeOfLevel = 'isobaricInhPa', level = 925)[0]\n",
    "#RV925 = RV925.values\n",
    "\n",
    "#RV900 = grbs.select()[0]\n",
    "#RV900 = grbs.select(shortName = 'vo',typeOfLevel = 'isobaricInhPa', level = 900)[0]\n",
    "#RV900 = RV900.values\n",
    "\n",
    "#RV850 = grbs.select()[0]\n",
    "#RV850 = grbs.select(shortName = 'vo',typeOfLevel = 'isobaricInhPa', level = 850)[0]\n",
    "#RV850 = RV850.values"
   ]
  },
  {
   "cell_type": "code",
   "execution_count": 11,
   "metadata": {},
   "outputs": [
    {
     "name": "stdout",
     "output_type": "stream",
     "text": [
      "(0.8308833837509155, 0.0)\n"
     ]
    },
    {
     "name": "stderr",
     "output_type": "stream",
     "text": [
      "/Volumes/SANDISK128/Applications/anaconda/envs/py36ECMWF/lib/python3.6/site-packages/scipy/stats/morestats.py:1326: UserWarning: p-value may not be accurate for N > 5000.\n",
      "  warnings.warn(\"p-value may not be accurate for N > 5000.\")\n"
     ]
    }
   ],
   "source": [
    "### calculating 925-850 hPa layer-averaged cyclonic relative vorticity (every 0.5 x10^-4 s-1)\n",
    "# all three layers divided by number of layers\n",
    "rel_vort = (RV925+RV900+RV850)/3\n",
    "\n",
    "\n",
    "data = stats.shapiro(rel_vort)      # Perform the Shapiro-Wilk test for normality. The Shapiro-Wilk test tests the \n",
    "                                    # null hypothesis that the data was drawn from a normal distribution.\n",
    "                                    # (W,p-value): W: The test statistic, p-value for hypothesis test\n",
    "                                    # if p-value is < W than null hypothesis is rejected --> not normally distributed\n",
    "print(data)"
   ]
  },
  {
   "cell_type": "code",
   "execution_count": 12,
   "metadata": {
    "collapsed": true
   },
   "outputs": [],
   "source": [
    "### Latitudes, Longitudes and shiftgrid\n",
    "# get the latitudes and longitudes of the grid\n",
    "latPT,lonPT = grbPT.latlons()           # Set the names of the latitude and longitude variables in your input GRIB \n",
    "                                        # file \n",
    "latUV,lonUV = grbUV.latlons()\n",
    "latVO,lonVO = grbVO.latlons()\n",
    "\n",
    "#print(latUV.max(),latUV.min(), lonUV.max(), lonUV.min())\n",
    "#print(latUV.shape, lonUV.shape)"
   ]
  },
  {
   "cell_type": "code",
   "execution_count": 13,
   "metadata": {
    "collapsed": true
   },
   "outputs": [],
   "source": [
    "#lat,lon = grb.latlons()"
   ]
  },
  {
   "cell_type": "code",
   "execution_count": 14,
   "metadata": {
    "scrolled": true
   },
   "outputs": [],
   "source": [
    "lonsPT = lonPT[0,:]                     #use only one row\n",
    "lonsUV = lonUV[0,:]\n",
    "lonsVO = lonVO[0,:]\n",
    "\n",
    "PT,lonsPT = shiftgrid(180.,PT,lonsPT,start=False)          #shift all values from >180 deg\n",
    "wind_u,lonsUV = shiftgrid(180.,wind_u,lonsUV,start=False)\n",
    "rel_vort,lonsVO = shiftgrid(180.,rel_vort,lonsVO,start=False)    #shift all values from >180 deg\n",
    "\n",
    "\n",
    "latsPT = latPT[:,0]                   # use only first column\n",
    "latsUV = latUV[:,0]\n",
    "latsVO = latVO[:,0]\n",
    "\n",
    "\n",
    "#print(lonsPT.shape,latsPT.shape,PT.shape)\n",
    "#print(lonsUV.shape,latsUV.shape,wind_u.shape)\n",
    "#print(lonsUV.shape,latsUV.shape,wind_v.shape)\n",
    "#print(lonsVO.shape,latsVO.shape,rel_vort.shape)"
   ]
  },
  {
   "cell_type": "code",
   "execution_count": 15,
   "metadata": {
    "collapsed": true
   },
   "outputs": [],
   "source": [
    "#lons = lon[0,:]\n",
    "#PT,lons = shiftgrid(180.,PT,lons,start=False)\n",
    "#lats = lat[:,0]\n"
   ]
  },
  {
   "cell_type": "code",
   "execution_count": 16,
   "metadata": {},
   "outputs": [],
   "source": [
    "### Wind\n",
    "# use only every 20, 35 value from the wind\n",
    "UVlats = np.zeros((64,),dtype =float)\n",
    "UVlons = np.zeros((74,),dtype =float)\n",
    "u_wind = np.zeros((64,2560), dtype = float)\n",
    "v_wind = np.zeros((64,2560), dtype = float)\n",
    "u_wind2 = np.zeros((64,74),dtype = float)\n",
    "v_wind2 = np.zeros((64,74),dtype = float)\n",
    "\n",
    "    \n",
    "#numrows = len(wind_u)    \n",
    "#numcols = len(wind_u[0]) \n",
    "#print(numrows,numcols)\n",
    "\n",
    "for i in range(0,64):\n",
    "    UVlats[i] = latsUV[i*20]\n",
    "    u_wind[i,:] = wind_u[i*20,:]\n",
    "    v_wind[i,:] = wind_v[i*20,:]\n",
    "\n",
    "for k in range(0,74):\n",
    "    UVlons[k] = lonsUV[k*35]   \n",
    "    u_wind2[:,k] = u_wind[:,k*35]\n",
    "    v_wind2[:,k] = v_wind[:,k*35]\n",
    "\n",
    "\n",
    "#print(UVlats.shape,UVlons.shape,u_wind2.shape,v_wind2.shape)\n"
   ]
  },
  {
   "cell_type": "markdown",
   "metadata": {},
   "source": [
    "### Plotting data on a map (Example Gallery) https://matplotlib.org/basemap/users/examples.html\n",
    "\n"
   ]
  },
  {
   "cell_type": "code",
   "execution_count": 17,
   "metadata": {},
   "outputs": [],
   "source": [
    "# Plotting data on a map (Example Gallery) https://matplotlib.org/basemap/users/examples.html\n",
    "m = Basemap(projection='merc', \\\n",
    "            llcrnrlon=-60., urcrnrlon=50., \\\n",
    "            llcrnrlat=30.,urcrnrlat=75., \\\n",
    "            resolution='f')\n",
    "\n",
    "#m = Basemap(projection='merc', \\\n",
    "#            llcrnrlon=-160., urcrnrlon=-60., \\\n",
    "#            llcrnrlat=20.,urcrnrlat=60., \\\n",
    "#            resolution='c')\n",
    "\n",
    "#m = Basemap(projection='cyl', \\\n",
    "#            llcrnrlon=-180., urcrnrlon=180., \\\n",
    "#            llcrnrlat=latsPT.min(),urcrnrlat=latsPT.max(), \\\n",
    "#            resolution='c')\n",
    "\n",
    "\n",
    "lonsPT,latsPT = np.meshgrid(lonsPT,latsPT)            #creates a grid with values of the size of PT\n",
    "lonsVO,latsVO = np.meshgrid(lonsVO,latsVO)\n",
    "UVlons,UVlats = np.meshgrid(UVlons,UVlats)\n",
    "\n",
    "\n",
    "plonsPT, platsPT = m(lonsPT,latsPT)\n",
    "plonsVO, platsVO = m(lonsVO,latsVO)\n",
    "plonsUV, platsUV = m(UVlons,UVlats)\n",
    "\n",
    "#print(plonsPT.shape,platsPT.shape,PT.shape)\n",
    "#print(plonsVO.shape,platsVO.shape,rel_vort.shape)\n",
    "#print(plonsUV.shape,platsUV.shape,u_wind2.shape)\n"
   ]
  },
  {
   "cell_type": "code",
   "execution_count": 18,
   "metadata": {
    "collapsed": true
   },
   "outputs": [],
   "source": [
    "#lons,lats = np.meshgrid(lons,lats)\n",
    "#plons, plats = m(lons,lats)\n"
   ]
  },
  {
   "cell_type": "code",
   "execution_count": 19,
   "metadata": {},
   "outputs": [],
   "source": [
    "### define colors for colorbar\n",
    "champ = 255\n",
    "no1 = np.array([231,231,231])/champ\n",
    "no2 = np.array([201,201,201])/champ\n",
    "no3 = np.array([171,171,171])/champ\n",
    "no4 = np.array([140,140,140])/champ\n",
    "no5 = np.array([110,110,110])/champ\n",
    "no6 = np.array([102,81,224])/champ\n",
    "no7 = np.array([105,115,224])/champ\n",
    "no8 = np.array([103,134,255])/champ\n",
    "no9 = np.array([132,159,254])/champ\n",
    "no10= np.array([178,202,255])/champ\n",
    "no11= np.array([217,241,255])/champ\n",
    "no12= np.array([255,209,177])/champ\n",
    "no13= np.array([255,165,133])/champ\n",
    "no14= np.array([255,118,86])/champ\n",
    "no15= np.array([255,62,12])/champ\n",
    "no16= np.array([255,0,0])/champ\n",
    "no17= np.array([244,0,146])/champ\n",
    "no18= np.array([171,171,171])/champ\n",
    "no19= np.array([201,201,201])/champ\n",
    "no20= np.array([231,231,231])/champ\n",
    "no21= np.array([255,255,255])/champ\n",
    "\n"
   ]
  },
  {
   "cell_type": "code",
   "execution_count": null,
   "metadata": {
    "collapsed": true
   },
   "outputs": [],
   "source": []
  },
  {
   "cell_type": "markdown",
   "metadata": {},
   "source": [
    "### PLOT FIGURE\n",
    "fig = plt.figure(figsize=(15,12.5))\n",
    "ax = fig.add_subplot(1,1,1)\n",
    "\n",
    "\n",
    "\n",
    "### Draw Latitude Lines\n",
    "m.drawparallels(np.arange(-90.,120.,20.),labels=[1,0,0,0],fontsize=10,linewidth=0.2)\n",
    "\n",
    "\n",
    "### Draw Longitude Lines\n",
    "m.drawmeridians(np.arange(-180.,180.,20.),labels=[0,0,0,1],fontsize=10,linewidth=0.2)\n",
    "\n",
    "\n",
    "### Draw Map\n",
    "m.drawcoastlines()\n",
    "m.drawmapboundary()\n",
    "m.drawcountries()\n",
    "\n",
    "\n",
    "### Plot contour lines for pot. temp and fill\n",
    "levels = np.arange(258,390,6)\n",
    "cmap = colors.ListedColormap([no1, no2, no3, no4, no5, no6, no7, no8, no9, no10, \\\n",
    "                              no11, no12, no13, no14, no15, no16, no17, no18, no19, no20, \\\n",
    "                             no21])\n",
    "norm = colors.BoundaryNorm(boundaries = levels, ncolors=cmap.N)\n",
    "cs = m.contourf(plonsPT,platsPT,PT,levels,norm=norm,cmap=cmap)\n",
    "#cs = m.contourf(plons,plats,PT,levels,norm=norm,cmap=cmap)\n",
    "#cs = m.contourf(plonsUV,platsUV,wind_u,shading='flat',cmap = plt.cm.hot, norm=colors.LogNorm())\n",
    "#cs = m.contourf(plonsUV,platsUV,wind_v,shading='flat',cmap = plt.cm.hot, norm=colors.LogNorm())\n",
    "#cs = m.contourf(plonsVO,platsVO,rel_vort,shading='flat',cmap = plt.cm.hot)#, norm=colors.LogNorm())\n",
    "#cs = m.contourf(plons,plats,rel_vort,shading='flat',cmap = plt.cm.hot)#, norm=colors.LogNorm())\n",
    "\n",
    "\n",
    "\n",
    "### Plot contour lines for layer averaged rel. vort 925-850 hPa\n",
    "thickness = np.arange(0.5*10**(-4),3.*10**(-4),.5*10**(-4))\n",
    "#\n",
    "CVO = m.contour(plonsVO,platsVO,rel_vort,thickness,colors='k')\n",
    "#CVO = m.contour(plons,plats,data)#,thickness)#,colors='k')\n",
    "plt.clabel(CVO, fontsize = 10, inline = 1, fmt = '%1.4f')\n",
    "\n",
    "### plot wind barbs\n",
    "plt.barbs(plonsUV,platsUV,u_wind2,v_wind2,barbcolor='darkslategray')\n",
    "\n",
    "\n",
    "### Add Colorbar\n",
    "cbaxes = fig.add_axes([0.14, 0.05, 0.75, 0.03]) \n",
    "cbar = plt.colorbar(cs,orientation='horizontal',cax = cbaxes)#, cax = cbaxes)#, shrink=0.5)\n",
    "cbar.ax.set_xlabel('potential vorticity')\n",
    "\n",
    "### Title\n",
    "#fig.suptitle('%s%s%s/%s' % (year, mon, date, time), fontsize=14, fontweight='bold') \n",
    "#ax.set_title('Dynamic Tropopause Map at 2 PVU, \\n \\\n",
    "#wind barbs (m s$^{-1}$), \\n \\\n",
    "#potential temperature (K, shaded according to colorbar), \\n \\\n",
    "#925-850-hPa layer-averaged cyclonic relative vorticity (black contours, every 0.5 x 10$^{-4}$ s$^{-1}$), \\n')\n",
    "\n",
    "### Save\n",
    "#plt.savefig('../synoptic_figs/DynTropo_%s%s%s_%s.png' % (year, mon, date,time))\n",
    "#plt.savefig('dyn_tropo.png')     # Set the output file name\n",
    "\n",
    "plt.show()"
   ]
  },
  {
   "cell_type": "code",
   "execution_count": null,
   "metadata": {
    "collapsed": true
   },
   "outputs": [],
   "source": []
  }
 ],
 "metadata": {
  "kernelspec": {
   "display_name": "Python 3",
   "language": "python",
   "name": "python3"
  },
  "language_info": {
   "codemirror_mode": {
    "name": "ipython",
    "version": 3
   },
   "file_extension": ".py",
   "mimetype": "text/x-python",
   "name": "python",
   "nbconvert_exporter": "python",
   "pygments_lexer": "ipython3",
   "version": "3.6.1"
  }
 },
 "nbformat": 4,
 "nbformat_minor": 2
}

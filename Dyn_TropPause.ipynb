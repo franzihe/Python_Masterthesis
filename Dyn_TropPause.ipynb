{
 "cells": [
  {
   "cell_type": "markdown",
   "metadata": {},
   "source": [
    "# Dynamic Tropopause Map\n",
    "\n",
    " http://www.met.nps.edu/~hmarcham/2012.html#DT\n",
    " The dynamic tropopause map contains\n",
    " DT (2-PVU surface)\n",
    "    - potential temperature (shaded, K)\n",
    "    - wind barbs (knots)\n",
    "    - 925-850hPa layer-averaged cyclonic relative vorticity (black contours, every 0.5 x 10^-4 s^-1)\n",
    "\n",
    "\n",
    "\n",
    " http://apps.ecmwf.int/codes/grib/param-db\n",
    " #### Parameters from ECMWF\n",
    "    - name = 'Potential temperature',      shortName = 'pt',     [K]\n",
    "    - name = 'U component of wind',        shortName = 'u',      [m s^-1]\n",
    "    - name = 'V component of wind',        shortName = 'v',      [m s^-1]\n",
    "    - name = 'Vorticity (relative)',       shortName = 'vo',     [s^-1]\n",
    "\n"
   ]
  },
  {
   "cell_type": "markdown",
   "metadata": {},
   "source": [
    "https://software.ecmwf.int/wiki/display/CKB/How+to+plot+GRIB+files+with+Python+and+matplotlib"
   ]
  },
  {
   "cell_type": "code",
   "execution_count": 27,
   "metadata": {
    "collapsed": true
   },
   "outputs": [],
   "source": [
    "import pygrib\n",
    "import matplotlib.pyplot as plt\n",
    "import matplotlib.colors as colors\n",
    "from mpl_toolkits.basemap import Basemap, shiftgrid\n",
    "import numpy as np\n",
    "from scipy import ndimage\n",
    "from datetime import date\n",
    "import calendar\n",
    "\n"
   ]
  },
  {
   "cell_type": "code",
   "execution_count": 28,
   "metadata": {
    "collapsed": true
   },
   "outputs": [],
   "source": [
    "year = '2016'\n",
    "mon = '12'\n",
    "day = '25'\n",
    "time = '18'"
   ]
  },
  {
   "cell_type": "code",
   "execution_count": 29,
   "metadata": {
    "collapsed": true
   },
   "outputs": [],
   "source": [
    "### define colors for colorbar\n",
    "champ = 255\n",
    "blue = np.array([1,74,159])/champ           # for the date\n",
    "\n",
    "\n",
    "no1 = np.array([231,231,231])/champ\n",
    "no2 = np.array([201,201,201])/champ\n",
    "no3 = np.array([171,171,171])/champ\n",
    "no4 = np.array([140,140,140])/champ\n",
    "no5 = np.array([110,110,110])/champ\n",
    "no6 = np.array([102,81,224])/champ\n",
    "no7 = np.array([105,115,224])/champ\n",
    "no8 = np.array([103,134,255])/champ\n",
    "no9 = np.array([132,159,254])/champ\n",
    "no10= np.array([178,202,255])/champ\n",
    "no11= np.array([217,241,255])/champ\n",
    "no12= np.array([255,209,177])/champ\n",
    "no13= np.array([255,165,133])/champ\n",
    "no14= np.array([255,118,86])/champ\n",
    "no15= np.array([255,62,12])/champ\n",
    "no16= np.array([255,0,0])/champ\n",
    "no17= np.array([244,0,146])/champ\n",
    "no18= np.array([171,171,171])/champ\n",
    "no19= np.array([201,201,201])/champ\n",
    "no20= np.array([231,231,231])/champ\n",
    "no21= np.array([255,255,255])/champ\n",
    "\n",
    "no22 = np.array([80,80,81])/champ"
   ]
  },
  {
   "cell_type": "code",
   "execution_count": 30,
   "metadata": {
    "collapsed": true
   },
   "outputs": [],
   "source": [
    "def opengrib(yyyy, mm, dd, tt, pm, path):\n",
    "    grib = '%s/%s/param_%s_%s%s%s_%s00.grib' % (path,pm,pm,yyyy,mm,dd,tt)\n",
    "    grbs = pygrib.open(grib)\n",
    "    return(grbs);"
   ]
  },
  {
   "cell_type": "code",
   "execution_count": 31,
   "metadata": {
    "collapsed": true
   },
   "outputs": [],
   "source": [
    "def selectgrb(grbs, sN, tOL, lv):\n",
    "    val = grbs.select()[0]\n",
    "    val = grbs.select(shortName = sN, typeOfLevel = tOL, level = lv)[0]\n",
    "    val = val.values\n",
    "    return(val);"
   ]
  },
  {
   "cell_type": "code",
   "execution_count": 32,
   "metadata": {
    "collapsed": true
   },
   "outputs": [],
   "source": [
    "def shiftgrb(grb,val):\n",
    "    lat,lon = grb.latlons()\n",
    "    lons = lon[0,:]\n",
    "    val,lons = shiftgrid(180., val, lons, start = False)\n",
    "    lats = lat[:,0]\n",
    "    \n",
    "    lons,lats = np.meshgrid(lons,lats)\n",
    "    plons,plats = m(lons,lats)\n",
    "    return(plons,plats,val);"
   ]
  },
  {
   "cell_type": "code",
   "execution_count": 33,
   "metadata": {
    "collapsed": true
   },
   "outputs": [],
   "source": [
    "### OPEN FILES\n",
    "path = '../test_dataECMWF/SCA/PV2000'\n",
    "\n",
    "### PT\n",
    "parameter = 'pt'\n",
    "grbsPT = opengrib(yyyy = year, mm = mon, dd = day, tt = time, pm = parameter, path = path)\n",
    "\n",
    "### Wind\n",
    "parameter = 'uv'\n",
    "grbsUV = opengrib(yyyy = year, mm = mon, dd = day, tt = time, pm = parameter, path = path)\n",
    "\n",
    "### Vorticity (relative)\n",
    "path = '../test_dataECMWF/SCA/pl'\n",
    "parameter = 'vo'\n",
    "grbsVO = opengrib(yyyy = year, mm = mon, dd = day, tt = time, pm = parameter, path = path)\n",
    "#"
   ]
  },
  {
   "cell_type": "code",
   "execution_count": 34,
   "metadata": {
    "collapsed": true
   },
   "outputs": [],
   "source": [
    "### GET FILE DATA\n",
    "tOL = 'potentialVorticity'\n",
    "lv = 2000\n",
    "### PT\n",
    "sN = 'pt'\n",
    "grbPT = grbsPT.select()[0]\n",
    "PT = selectgrb(grbsPT, sN, tOL, lv)\n",
    "\n",
    "### Wind \n",
    "# U component of wind\n",
    "sN = 'u'\n",
    "grbUV = grbsUV.select()[0]\n",
    "wind_u = selectgrb(grbsUV, sN, tOL, lv)\n",
    "# V component of wind\n",
    "sN = 'v'\n",
    "wind_v = selectgrb(grbsUV, sN, tOL, lv)\n",
    "\n",
    "### Vorticity (relative)\n",
    "# 925 hPa\n",
    "sN = 'vo'\n",
    "tOL = 'isobaricInhPa'\n",
    "grbVO = grbsVO.select()[0]\n",
    "lv = [850, 900, 925]\n",
    "\n",
    "RV = dict()\n",
    "for i in lv:\n",
    "    RV[i] = selectgrb(grbsVO, sN, tOL, i)"
   ]
  },
  {
   "cell_type": "code",
   "execution_count": 35,
   "metadata": {
    "collapsed": true
   },
   "outputs": [],
   "source": [
    "### calculating 925-850 hPa layer-averaged cyclonic relative vorticity (every 0.5 x10^-4 s-1)\n",
    "# all three layers divided by number of layers\n",
    "rel_vort = (RV[850]+RV[900]+RV[925])/3          # arithmetric mean\n",
    "rel_vort = ndimage.filters.gaussian_filter(rel_vort, sigma = 2)"
   ]
  },
  {
   "cell_type": "code",
   "execution_count": 36,
   "metadata": {
    "collapsed": true
   },
   "outputs": [],
   "source": [
    "# Plotting data on a map (Example Gallery) https://matplotlib.org/basemap/users/examples.html\n",
    "m = Basemap(projection='merc', \\\n",
    "            llcrnrlon=-80., urcrnrlon=50., \\\n",
    "            llcrnrlat=15.,urcrnrlat=75., \\\n",
    "            resolution='l')"
   ]
  },
  {
   "cell_type": "code",
   "execution_count": 37,
   "metadata": {
    "collapsed": true
   },
   "outputs": [],
   "source": [
    "### Latitudes, Longitudes and shiftgrid\n",
    "\n",
    "\n",
    "plonsPT,platsPT, PT = shiftgrb(grbPT,PT)\n",
    "plonsVO,platsVO, rel_vort = shiftgrb(grbVO,rel_vort)\n",
    "plonsU,platsU, wind_u = shiftgrb(grbUV,wind_u)\n",
    "plonsV,platsV, wind_v = shiftgrb(grbUV,wind_v)\n",
    "\n",
    "\n"
   ]
  },
  {
   "cell_type": "code",
   "execution_count": 38,
   "metadata": {
    "collapsed": true
   },
   "outputs": [],
   "source": [
    "### Dates for plotting\n",
    "yr = int(year)\n",
    "mo = int(mon)\n",
    "dy = int(day)\n",
    "my_date = date(yr,mo,dy)\n",
    "calday = calendar.day_name[my_date.weekday()]\n",
    "calmon = calendar.month_abbr[mo]\n"
   ]
  },
  {
   "cell_type": "markdown",
   "metadata": {},
   "source": [
    "### Plotting data on a map (Example Gallery) https://matplotlib.org/basemap/users/examples.html\n",
    "\n",
    "\n"
   ]
  },
  {
   "cell_type": "code",
   "execution_count": 39,
   "metadata": {},
   "outputs": [
    {
     "ename": "TypeError",
     "evalue": "val must be a float or nonzero sequence of floats",
     "output_type": "error",
     "traceback": [
      "\u001b[0;31m---------------------------------------------------------------------------\u001b[0m",
      "\u001b[0;31mTypeError\u001b[0m                                 Traceback (most recent call last)",
      "\u001b[0;32m<ipython-input-39-7062c1ac80de>\u001b[0m in \u001b[0;36m<module>\u001b[0;34m()\u001b[0m\n\u001b[1;32m     45\u001b[0m \u001b[0mcbar\u001b[0m\u001b[0;34m.\u001b[0m\u001b[0max\u001b[0m\u001b[0;34m.\u001b[0m\u001b[0mtick_params\u001b[0m\u001b[0;34m(\u001b[0m\u001b[0mlabelsize\u001b[0m\u001b[0;34m=\u001b[0m\u001b[0;36m20\u001b[0m\u001b[0;34m)\u001b[0m\u001b[0;34m\u001b[0m\u001b[0m\n\u001b[1;32m     46\u001b[0m \u001b[0;31m#cbar.ax.set_aspect(50)\u001b[0m\u001b[0;34m\u001b[0m\u001b[0;34m\u001b[0m\u001b[0m\n\u001b[0;32m---> 47\u001b[0;31m \u001b[0mcbar\u001b[0m\u001b[0;34m.\u001b[0m\u001b[0madd_lines\u001b[0m\u001b[0;34m(\u001b[0m\u001b[0mCVO\u001b[0m\u001b[0;34m)\u001b[0m\u001b[0;34m\u001b[0m\u001b[0m\n\u001b[0m\u001b[1;32m     48\u001b[0m \u001b[0;34m\u001b[0m\u001b[0m\n\u001b[1;32m     49\u001b[0m \u001b[0;34m\u001b[0m\u001b[0m\n",
      "\u001b[0;32m/Volumes/SANDISK128/Applications/anaconda/envs/py36colormap/lib/python3.6/site-packages/matplotlib/colorbar.py\u001b[0m in \u001b[0;36madd_lines\u001b[0;34m(self, CS, erase)\u001b[0m\n\u001b[1;32m    959\u001b[0m         \u001b[0;31m#print 'tlinewidths:', tlinewidths\u001b[0m\u001b[0;34m\u001b[0m\u001b[0;34m\u001b[0m\u001b[0m\n\u001b[1;32m    960\u001b[0m         ColorbarBase.add_lines(self, CS.levels, tcolors, tlinewidths,\n\u001b[0;32m--> 961\u001b[0;31m                                erase=erase)\n\u001b[0m\u001b[1;32m    962\u001b[0m \u001b[0;34m\u001b[0m\u001b[0m\n\u001b[1;32m    963\u001b[0m     \u001b[0;32mdef\u001b[0m \u001b[0mupdate_normal\u001b[0m\u001b[0;34m(\u001b[0m\u001b[0mself\u001b[0m\u001b[0;34m,\u001b[0m \u001b[0mmappable\u001b[0m\u001b[0;34m)\u001b[0m\u001b[0;34m:\u001b[0m\u001b[0;34m\u001b[0m\u001b[0m\n",
      "\u001b[0;32m/Volumes/SANDISK128/Applications/anaconda/envs/py36colormap/lib/python3.6/site-packages/matplotlib/colorbar.py\u001b[0m in \u001b[0;36madd_lines\u001b[0;34m(self, levels, colors, linewidths, erase)\u001b[0m\n\u001b[1;32m    550\u001b[0m         \u001b[0;32melse\u001b[0m\u001b[0;34m:\u001b[0m\u001b[0;34m\u001b[0m\u001b[0m\n\u001b[1;32m    551\u001b[0m             \u001b[0mxy\u001b[0m \u001b[0;34m=\u001b[0m \u001b[0;34m[\u001b[0m\u001b[0mlist\u001b[0m\u001b[0;34m(\u001b[0m\u001b[0mzip\u001b[0m\u001b[0;34m(\u001b[0m\u001b[0mY\u001b[0m\u001b[0;34m[\u001b[0m\u001b[0mi\u001b[0m\u001b[0;34m]\u001b[0m\u001b[0;34m,\u001b[0m \u001b[0mX\u001b[0m\u001b[0;34m[\u001b[0m\u001b[0mi\u001b[0m\u001b[0;34m]\u001b[0m\u001b[0;34m)\u001b[0m\u001b[0;34m)\u001b[0m \u001b[0;32mfor\u001b[0m \u001b[0mi\u001b[0m \u001b[0;32min\u001b[0m \u001b[0mxrange\u001b[0m\u001b[0;34m(\u001b[0m\u001b[0mN\u001b[0m\u001b[0;34m)\u001b[0m\u001b[0;34m]\u001b[0m\u001b[0;34m\u001b[0m\u001b[0m\n\u001b[0;32m--> 552\u001b[0;31m         \u001b[0mcol\u001b[0m \u001b[0;34m=\u001b[0m \u001b[0mcollections\u001b[0m\u001b[0;34m.\u001b[0m\u001b[0mLineCollection\u001b[0m\u001b[0;34m(\u001b[0m\u001b[0mxy\u001b[0m\u001b[0;34m,\u001b[0m \u001b[0mlinewidths\u001b[0m\u001b[0;34m=\u001b[0m\u001b[0mlinewidths\u001b[0m\u001b[0;34m)\u001b[0m\u001b[0;34m\u001b[0m\u001b[0m\n\u001b[0m\u001b[1;32m    553\u001b[0m \u001b[0;34m\u001b[0m\u001b[0m\n\u001b[1;32m    554\u001b[0m         \u001b[0;32mif\u001b[0m \u001b[0merase\u001b[0m \u001b[0;32mand\u001b[0m \u001b[0mself\u001b[0m\u001b[0;34m.\u001b[0m\u001b[0mlines\u001b[0m\u001b[0;34m:\u001b[0m\u001b[0;34m\u001b[0m\u001b[0m\n",
      "\u001b[0;32m/Volumes/SANDISK128/Applications/anaconda/envs/py36colormap/lib/python3.6/site-packages/matplotlib/collections.py\u001b[0m in \u001b[0;36m__init__\u001b[0;34m(self, segments, linewidths, colors, antialiaseds, linestyles, offsets, transOffset, norm, cmap, pickradius, zorder, facecolors, **kwargs)\u001b[0m\n\u001b[1;32m   1218\u001b[0m             \u001b[0mpickradius\u001b[0m\u001b[0;34m=\u001b[0m\u001b[0mpickradius\u001b[0m\u001b[0;34m,\u001b[0m\u001b[0;34m\u001b[0m\u001b[0m\n\u001b[1;32m   1219\u001b[0m             \u001b[0mzorder\u001b[0m\u001b[0;34m=\u001b[0m\u001b[0mzorder\u001b[0m\u001b[0;34m,\u001b[0m\u001b[0;34m\u001b[0m\u001b[0m\n\u001b[0;32m-> 1220\u001b[0;31m             **kwargs)\n\u001b[0m\u001b[1;32m   1221\u001b[0m \u001b[0;34m\u001b[0m\u001b[0m\n\u001b[1;32m   1222\u001b[0m         \u001b[0mself\u001b[0m\u001b[0;34m.\u001b[0m\u001b[0mset_segments\u001b[0m\u001b[0;34m(\u001b[0m\u001b[0msegments\u001b[0m\u001b[0;34m)\u001b[0m\u001b[0;34m\u001b[0m\u001b[0m\n",
      "\u001b[0;32m/Volumes/SANDISK128/Applications/anaconda/envs/py36colormap/lib/python3.6/site-packages/matplotlib/collections.py\u001b[0m in \u001b[0;36m__init__\u001b[0;34m(self, edgecolors, facecolors, linewidths, linestyles, antialiaseds, offsets, transOffset, norm, cmap, pickradius, hatch, urls, offset_position, zorder, **kwargs)\u001b[0m\n\u001b[1;32m    140\u001b[0m         \u001b[0mself\u001b[0m\u001b[0;34m.\u001b[0m\u001b[0mset_facecolor\u001b[0m\u001b[0;34m(\u001b[0m\u001b[0mfacecolors\u001b[0m\u001b[0;34m)\u001b[0m\u001b[0;34m\u001b[0m\u001b[0m\n\u001b[1;32m    141\u001b[0m         \u001b[0mself\u001b[0m\u001b[0;34m.\u001b[0m\u001b[0mset_edgecolor\u001b[0m\u001b[0;34m(\u001b[0m\u001b[0medgecolors\u001b[0m\u001b[0;34m)\u001b[0m\u001b[0;34m\u001b[0m\u001b[0m\n\u001b[0;32m--> 142\u001b[0;31m         \u001b[0mself\u001b[0m\u001b[0;34m.\u001b[0m\u001b[0mset_linewidth\u001b[0m\u001b[0;34m(\u001b[0m\u001b[0mlinewidths\u001b[0m\u001b[0;34m)\u001b[0m\u001b[0;34m\u001b[0m\u001b[0m\n\u001b[0m\u001b[1;32m    143\u001b[0m         \u001b[0mself\u001b[0m\u001b[0;34m.\u001b[0m\u001b[0mset_linestyle\u001b[0m\u001b[0;34m(\u001b[0m\u001b[0mlinestyles\u001b[0m\u001b[0;34m)\u001b[0m\u001b[0;34m\u001b[0m\u001b[0m\n\u001b[1;32m    144\u001b[0m         \u001b[0mself\u001b[0m\u001b[0;34m.\u001b[0m\u001b[0mset_antialiased\u001b[0m\u001b[0;34m(\u001b[0m\u001b[0mantialiaseds\u001b[0m\u001b[0;34m)\u001b[0m\u001b[0;34m\u001b[0m\u001b[0m\n",
      "\u001b[0;32m/Volumes/SANDISK128/Applications/anaconda/envs/py36colormap/lib/python3.6/site-packages/matplotlib/collections.py\u001b[0m in \u001b[0;36mset_linewidth\u001b[0;34m(self, lw)\u001b[0m\n\u001b[1;32m    511\u001b[0m                 \u001b[0mlw\u001b[0m \u001b[0;34m=\u001b[0m \u001b[0mmpl\u001b[0m\u001b[0;34m.\u001b[0m\u001b[0mrcParams\u001b[0m\u001b[0;34m[\u001b[0m\u001b[0;34m'lines.linewidth'\u001b[0m\u001b[0;34m]\u001b[0m\u001b[0;34m\u001b[0m\u001b[0m\n\u001b[1;32m    512\u001b[0m         \u001b[0;31m# get the un-scaled/broadcast lw\u001b[0m\u001b[0;34m\u001b[0m\u001b[0;34m\u001b[0m\u001b[0m\n\u001b[0;32m--> 513\u001b[0;31m         \u001b[0mself\u001b[0m\u001b[0;34m.\u001b[0m\u001b[0m_us_lw\u001b[0m \u001b[0;34m=\u001b[0m \u001b[0mself\u001b[0m\u001b[0;34m.\u001b[0m\u001b[0m_get_value\u001b[0m\u001b[0;34m(\u001b[0m\u001b[0mlw\u001b[0m\u001b[0;34m)\u001b[0m\u001b[0;34m\u001b[0m\u001b[0m\n\u001b[0m\u001b[1;32m    514\u001b[0m \u001b[0;34m\u001b[0m\u001b[0m\n\u001b[1;32m    515\u001b[0m         \u001b[0;31m# scale all of the dash patterns.\u001b[0m\u001b[0;34m\u001b[0m\u001b[0;34m\u001b[0m\u001b[0m\n",
      "\u001b[0;32m/Volumes/SANDISK128/Applications/anaconda/envs/py36colormap/lib/python3.6/site-packages/matplotlib/collections.py\u001b[0m in \u001b[0;36m_get_value\u001b[0;34m(val)\u001b[0m\n\u001b[1;32m    177\u001b[0m                     \u001b[0;32mreturn\u001b[0m \u001b[0mval\u001b[0m\u001b[0;34m\u001b[0m\u001b[0m\n\u001b[1;32m    178\u001b[0m \u001b[0;34m\u001b[0m\u001b[0m\n\u001b[0;32m--> 179\u001b[0;31m         \u001b[0;32mraise\u001b[0m \u001b[0mTypeError\u001b[0m\u001b[0;34m(\u001b[0m\u001b[0;34m'val must be a float or nonzero sequence of floats'\u001b[0m\u001b[0;34m)\u001b[0m\u001b[0;34m\u001b[0m\u001b[0m\n\u001b[0m\u001b[1;32m    180\u001b[0m \u001b[0;34m\u001b[0m\u001b[0m\n\u001b[1;32m    181\u001b[0m     \u001b[0;34m@\u001b[0m\u001b[0mstaticmethod\u001b[0m\u001b[0;34m\u001b[0m\u001b[0m\n",
      "\u001b[0;31mTypeError\u001b[0m: val must be a float or nonzero sequence of floats"
     ]
    }
   ],
   "source": [
    "### PLOT FIGURE\n",
    "fig = plt.figure(figsize = (20,14.15))\n",
    "ax = fig.add_subplot(1,1,1)\n",
    "\n",
    "\n",
    "\n",
    "### Draw Latitude Lines\n",
    "m.drawparallels(np.arange(-90.,120.,10.),labels=[1,0,0,0],fontsize=20,linewidth=0.2)\n",
    "\n",
    "\n",
    "### Draw Longitude Lines\n",
    "m.drawmeridians(np.arange(-180.,180.,10.),labels=[0,0,0,1],fontsize=20,linewidth=0.2)\n",
    "\n",
    "\n",
    "### Draw Map\n",
    "m.drawcoastlines()\n",
    "m.drawmapboundary()\n",
    "m.drawcountries()\n",
    "\n",
    "\n",
    "### Plot contour lines for pot. temp and fill\n",
    "levels = np.arange(258,390,6)\n",
    "cmap = colors.ListedColormap([no1, no2, no3, no4, no5, no6, no7, no8, no9, no10, \\\n",
    "                              no11, no12, no13, no14, no15, no16, no17, no18, no19, no20, \\\n",
    "                             no21])\n",
    "norm = colors.BoundaryNorm(boundaries = levels, ncolors=cmap.N)\n",
    "cs = m.contourf(plonsPT,platsPT,PT,levels,norm=norm,cmap=cmap)\n",
    "\n",
    "\n",
    "\n",
    "\n",
    "### Plot contour lines for layer averaged rel. vort 925-850 hPa\n",
    "thickness = np.arange(.5*10**(-4), 6*10**(-4),.5*10**(-4))\n",
    "CVO = m.contour(plonsVO,platsVO,rel_vort,thickness,colors='k')\n",
    "\n",
    "### plot wind barbs\n",
    "#m.barbs(plonsUV,platsUV,u_wind,v_wind,barbcolor=[no22]) #darkslategray\n",
    "# use only every 20, 35 value from the wind\n",
    "m.barbs(plonsU[::20,::35],platsU[::20,::35],wind_u[::20,::35],wind_v[::20,::35],barbcolor=[no22])\n",
    "\n",
    "### Add Colorbar\n",
    "cbaxes = fig.add_axes([0.14, 0.05, .75, .045] )   #[left, bottom, width, height] \n",
    "cbar = plt.colorbar(cs,orientation='horizontal',cax = cbaxes)#, cax = cbaxes)#, shrink=0.5)\n",
    "cbar.ax.set_xlabel('Potential temperature [K]',fontsize=22)\n",
    "cbar.ax.set_xticklabels(['','276', '294', '312', '330', '348', '366', ''])  # horizontal colorbar\n",
    "\n",
    "cbar.ax.tick_params(labelsize=20) \n",
    "#cbar.ax.set_aspect(50)\n",
    "\n",
    "\n",
    "### Add Textbox\n",
    "ax.text(0.98,0.94, '%s, %s %s %s   %s$\\,$UTC' %(calday, day, calmon, year, time),\n",
    "       verticalalignment = 'bottom',  horizontalalignment='right',\n",
    "       transform = ax.transAxes,\n",
    "       color =blue, fontsize=26,\n",
    "       bbox={'facecolor':'white','alpha':1., 'pad':10})\n",
    "\n",
    "\n",
    "### Title\n",
    "#fig.suptitle('Dynamic Tropopause Map at 2 PVU', fontsize=16, fontweight='bold') \n",
    "#ax.set_title('wind barbs (m$\\,$s$^{-1}$), \\n \\\n",
    "#potential temperature (K, shaded according to colorbar), \\n \\\n",
    "#925-850$\\,$hPa layer-averaged cyclonic relative vorticity (black contours, every 0.5 x 10$^{-4}$$\\,$s$^{-1}$) \\n', \\\n",
    "#            fontsize=13)\n",
    "\n",
    "\n",
    "\n",
    "### Save\n",
    "#plt.savefig('../synoptic_figs/DynTropo/%s%s%s_%s.png' % (year, mon, day,time),orientation = 'landscape',\n",
    " #          papertype = 'a4' )\n",
    "## with header\n",
    "#plt.savefig('../synoptic_figs/DynTropo/%s%s%s_%s_header.png' % (year, mon, day,time))\n",
    "#plt.savefig('dyn_tropo.png')     # Set the output file name\n",
    "\n",
    "plt.show()\n",
    "plt.close()"
   ]
  },
  {
   "cell_type": "code",
   "execution_count": null,
   "metadata": {
    "collapsed": true
   },
   "outputs": [],
   "source": []
  }
 ],
 "metadata": {
  "kernelspec": {
   "display_name": "Python 3",
   "language": "python",
   "name": "python3"
  },
  "language_info": {
   "codemirror_mode": {
    "name": "ipython",
    "version": 3
   },
   "file_extension": ".py",
   "mimetype": "text/x-python",
   "name": "python",
   "nbconvert_exporter": "python",
   "pygments_lexer": "ipython3",
   "version": "3.6.1"
  }
 },
 "nbformat": 4,
 "nbformat_minor": 2
}

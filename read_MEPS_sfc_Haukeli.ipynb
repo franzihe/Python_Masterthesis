{
 "cells": [
  {
   "cell_type": "code",
   "execution_count": 5,
   "metadata": {
    "collapsed": true
   },
   "outputs": [],
   "source": [
    "%matplotlib inline\n",
    "import netCDF4\n",
    "import numpy as np\n",
    "from mpl_toolkits.basemap import Basemap\n",
    "import matplotlib.pyplot as plt\n",
    "import datetime\n",
    "\n",
    "import os"
   ]
  },
  {
   "cell_type": "code",
   "execution_count": 6,
   "metadata": {
    "collapsed": true
   },
   "outputs": [],
   "source": [
    "def createFolder(directory):\n",
    "    try:\n",
    "        if not os.path.exists(directory):\n",
    "            os.makedirs(directory)\n",
    "    except OSError:\n",
    "        print ('Error: Creating directory. ' +  directory)"
   ]
  },
  {
   "cell_type": "code",
   "execution_count": 7,
   "metadata": {},
   "outputs": [],
   "source": [
    "def create_netCDF_Haukeli(year,month,day,stn_lat,stn_lon,var_name):\n",
    "    thredds  = 'http://thredds.met.no/thredds/dodsC/meps25epsarchive'\n",
    "    time = '00'\n",
    "    fn = netCDF4.Dataset('%s/%s/%s/%s/meps_full_2_5km_%s%s%sT%sZ.nc' %(thredds,year,month,day,year,month,day,time),'r')\n",
    "\n",
    "\n",
    "## Latitudes\n",
    "## [y = 949][x = 739]\n",
    "    latitude = fn.variables['latitude']\n",
    "\n",
    "## Longitudes \n",
    "## [y = 949][x = 739]\n",
    "    longitude = fn.variables['longitude']\n",
    "\n",
    "### From the with Vertical Levels ( height0 ) : 0.0 m\n",
    "\n",
    "## 1. air_temperature_0m = Surface temperature (T0M)\n",
    "## [time = 56][height0 = 1][ensemble_member = 10][y = 949][x = 739]\n",
    "#var_name = 'air_temperature_0m'\n",
    "    temp_sfc = fn.variables[var_name]    # [K]\n",
    "\n",
    "\n",
    "# Stations latitude longitude, the nearest gridpoint we are looking for\n",
    "#stn_lat = 59.8\n",
    "#stn_lon = 7.2\n",
    "\n",
    "# Now find the absolute value of the difference between the  station's lat/lon with every point in the grid. \n",
    "# This tells us how close a point is to the particular latitude and longitude.\n",
    "\n",
    "    abslat = np.abs(latitude[:,:]-stn_lat)\n",
    "    abslon= np.abs(longitude[:,:]-stn_lon)\n",
    "\n",
    "# Now we need to combine these two results. We will use numpy.maximum, which takes two arrays and finds the local \n",
    "# maximum.\n",
    "    c = np.maximum(abslon, abslat)\n",
    "\n",
    "# If you don't like flattened arrays, you can also get the row/column index like this\n",
    "    y, x = np.where(c == np.min(c))\n",
    "\n",
    "### fill values of missing data\n",
    "    mask = temp_sfc[:,:,:,y[0],x[0]].mask\n",
    "    fill_value = temp_sfc[:,:,:,y[0],x[0]].fill_value\n",
    "\n",
    "    marr = np.ma.array(temp_sfc[:,:,:,y[0],x[0]], mask = mask, fill_value = fill_value)\n",
    "    dt = marr.filled().dtype\n",
    "\n",
    "\n",
    "    \n",
    "    \n",
    "### write netCDF file \n",
    "    f_sfc = netCDF4.Dataset('../dataMEPS/%s/%s%s%s.nc' %(var_name,year,month,day), 'w')\n",
    "    f_sfc.createDimension('time', 67)            # [time = 67]\n",
    "    f_sfc.createDimension('height0', 1)          # [height0 = 1]\n",
    "    f_sfc.createDimension('hybrid', 65)          # [hybrid = 65]\n",
    "    f_sfc.createDimension('height_above_msl', 1) # [height_above_msl = 1]\n",
    "    f_sfc.createDimension('ensemble_member', 10)  # [ensemble_member = 10]\n",
    "    f_sfc.createDimension('y', 1)                # [y = 1]\n",
    "    f_sfc.createDimension('x', 1)                # [x = 1]\n",
    "\n",
    "    grid_temp_sfc = f_sfc.createVariable('%s' %(var_name), dt, ('time','height0','ensemble_member','y','x'),fill_value = fill_value,zlib=True)\n",
    "\n",
    "\n",
    "\n",
    "    grid_temp_sfc[:] = marr.filled()\n",
    "\n",
    "    f_sfc.close()"
   ]
  },
  {
   "cell_type": "code",
   "execution_count": 8,
   "metadata": {},
   "outputs": [
    {
     "ename": "ValueError",
     "evalue": "cannot reshape array of size 600 into shape (67,1,10,1,1)",
     "output_type": "error",
     "traceback": [
      "\u001b[0;31m---------------------------------------------------------------------------\u001b[0m",
      "\u001b[0;31mValueError\u001b[0m                                Traceback (most recent call last)",
      "\u001b[0;32m<ipython-input-8-64d9cf60f431>\u001b[0m in \u001b[0;36m<module>\u001b[0;34m()\u001b[0m\n\u001b[1;32m     36\u001b[0m     \u001b[0;31m# Date\u001b[0m\u001b[0;34m\u001b[0m\u001b[0;34m\u001b[0m\u001b[0m\n\u001b[1;32m     37\u001b[0m     \u001b[0;32mfor\u001b[0m \u001b[0mday\u001b[0m \u001b[0;32min\u001b[0m \u001b[0mrange\u001b[0m\u001b[0;34m(\u001b[0m\u001b[0;36m17\u001b[0m\u001b[0;34m,\u001b[0m\u001b[0;36m31\u001b[0m\u001b[0;34m)\u001b[0m\u001b[0;34m:\u001b[0m\u001b[0;34m\u001b[0m\u001b[0m\n\u001b[0;32m---> 38\u001b[0;31m         \u001b[0mcreate_netCDF_Haukeli\u001b[0m\u001b[0;34m(\u001b[0m\u001b[0myear\u001b[0m\u001b[0;34m,\u001b[0m\u001b[0mmonth\u001b[0m\u001b[0;34m,\u001b[0m\u001b[0mday\u001b[0m\u001b[0;34m,\u001b[0m\u001b[0mstn_lat\u001b[0m\u001b[0;34m,\u001b[0m\u001b[0mstn_lon\u001b[0m\u001b[0;34m,\u001b[0m\u001b[0mname\u001b[0m\u001b[0;34m)\u001b[0m\u001b[0;34m\u001b[0m\u001b[0m\n\u001b[0m",
      "\u001b[0;32m<ipython-input-7-6f90835f060b>\u001b[0m in \u001b[0;36mcreate_netCDF_Haukeli\u001b[0;34m(year, month, day, stn_lat, stn_lon, var_name)\u001b[0m\n\u001b[1;32m     62\u001b[0m \u001b[0;34m\u001b[0m\u001b[0m\n\u001b[1;32m     63\u001b[0m \u001b[0;34m\u001b[0m\u001b[0m\n\u001b[0;32m---> 64\u001b[0;31m     \u001b[0mgrid_temp_sfc\u001b[0m\u001b[0;34m[\u001b[0m\u001b[0;34m:\u001b[0m\u001b[0;34m]\u001b[0m \u001b[0;34m=\u001b[0m \u001b[0mmarr\u001b[0m\u001b[0;34m.\u001b[0m\u001b[0mfilled\u001b[0m\u001b[0;34m(\u001b[0m\u001b[0;34m)\u001b[0m\u001b[0;34m\u001b[0m\u001b[0m\n\u001b[0m\u001b[1;32m     65\u001b[0m \u001b[0;34m\u001b[0m\u001b[0m\n\u001b[1;32m     66\u001b[0m     \u001b[0mf_sfc\u001b[0m\u001b[0;34m.\u001b[0m\u001b[0mclose\u001b[0m\u001b[0;34m(\u001b[0m\u001b[0;34m)\u001b[0m\u001b[0;34m\u001b[0m\u001b[0m\n",
      "\u001b[0;32mnetCDF4/_netCDF4.pyx\u001b[0m in \u001b[0;36mnetCDF4._netCDF4.Variable.__setitem__\u001b[0;34m()\u001b[0m\n",
      "\u001b[0;31mValueError\u001b[0m: cannot reshape array of size 600 into shape (67,1,10,1,1)"
     ]
    }
   ],
   "source": [
    "# Stations latitude longitude, the nearest gridpoint we are looking for\n",
    "stn_lat = 59.8\n",
    "stn_lon = 7.2\n",
    "\n",
    "year = '2016'\n",
    "month = '12'\n",
    "\n",
    "# Variable\n",
    "var_name = [ \\\n",
    "    ### From the with Vertical Levels ( height0 ) : 0.0 m\n",
    "            'air_temperature_0m',                           # [K]\n",
    "            'graupelfall_amount',                           # [kg/m^2]\n",
    "            'liquid_water_content_of_surface_snow',         # [kg/m^2]\n",
    "            'precipitation_amount_acc',                     # [kg/m^2] \n",
    "            'rainfall_amount',                              # [kg/m^2]\n",
    "            'snowfall_amount',                              # [kg/m^2]\n",
    "    ### with Vertical Levels ( height_above_msl ) : 0.0 m\n",
    "            'air_pressure_at_sea_level',                    # [Pa]  \n",
    "    ### From with Vertical Levels ( hybrid )\n",
    " #           'air_temperature_ml',                           # [K]                   \n",
    "  #          'atmosphere_cloud_condensed_water_content_ml',  # [kg/m^2]\n",
    "   #         'atmosphere_cloud_ice_content_ml',              # [kg/m^2]\n",
    "    #        'graupelfall_amount_ml',                        # [kg/m^2]\n",
    "     #       'pressure_departure',                           # [Pa]\n",
    "      #      'rainfall_amount_ml',                           # [kg/m^2]\n",
    "       #     'snowfall_amount_ml',                           # [kg/m^2]\n",
    "        #    'specific_humidity_ml'                          # [kg/kg]\n",
    "           ]                         \n",
    "\n",
    "\n",
    "    \n",
    "\n",
    "\n",
    "\n",
    "for name in var_name:\n",
    "    createFolder('../dataMEPS/%s/' %(name))\n",
    "    # Date\n",
    "    for day in range(17,31):\n",
    "        create_netCDF_Haukeli(year,month,day,stn_lat,stn_lon,name)"
   ]
  },
  {
   "cell_type": "code",
   "execution_count": null,
   "metadata": {
    "collapsed": true
   },
   "outputs": [],
   "source": []
  }
 ],
 "metadata": {
  "kernelspec": {
   "display_name": "Python 3",
   "language": "python",
   "name": "python3"
  },
  "language_info": {
   "codemirror_mode": {
    "name": "ipython",
    "version": 3
   },
   "file_extension": ".py",
   "mimetype": "text/x-python",
   "name": "python",
   "nbconvert_exporter": "python",
   "pygments_lexer": "ipython3",
   "version": "3.6.1"
  }
 },
 "nbformat": 4,
 "nbformat_minor": 2
}
